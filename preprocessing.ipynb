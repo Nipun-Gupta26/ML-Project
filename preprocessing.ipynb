{
 "cells": [
  {
   "cell_type": "code",
   "execution_count": null,
   "metadata": {},
   "outputs": [],
   "source": [
    "import pandas as pd\n",
    "import numpy as np\n",
    "import matplotlib.pyplot as plt\n",
    "import seaborn as sns\n",
    "import plotly.graph_objects as go\n",
    "import plotly.express as px\n",
    "from sklearn.preprocessing import StandardScaler, MinMaxScaler, LabelEncoder\n",
    "from category_encoders import TargetEncoder\n",
    "from sklearn.model_selection import train_test_split\n",
    "from category_encoders.wrapper import PolynomialWrapper"
   ]
  },
  {
   "cell_type": "markdown",
   "metadata": {},
   "source": [
    "#### Reading dataset.csv"
   ]
  },
  {
   "cell_type": "code",
   "execution_count": null,
   "metadata": {},
   "outputs": [],
   "source": [
    "df = pd.read_csv('./data/dataset.csv', low_memory=False)\n",
    "df.rename(columns={'Unnamed: 0': 'index'}, inplace=True)\n",
    "df.rename(columns = {'country': 'circuit_country'}, inplace = True)\n",
    "df.drop(columns=['index'], inplace=True)\n",
    "df.columns"
   ]
  },
  {
   "cell_type": "markdown",
   "metadata": {},
   "source": [
    "#### Dropping the columns"
   ]
  },
  {
   "cell_type": "code",
   "execution_count": null,
   "metadata": {},
   "outputs": [],
   "source": [
    "cols_to_be_dropped = ['round', 'name', 'time', 'circuit_id', 'car_number', 'resultId', 'driverRef', 'results_points', 'laps', 'fastestLap', 'fastestLapTime', 'fastestLapSpeed', 'first_5_avg_time', 'last_10_avg_time', 'lap_position_after_5', 'lap_position_before_last_10', 'circuit_location', 'constructorStandingsId', 'constructorRef', 'constructor_points', 'driverRef', 'driver_number', 'driver_code', 'forename', 'driverStandingsId', 'driver_points', 'number', 'status', 'qualifying_position', 'q1_time', 'q2_time', 'q3_time', 'ms_avg', 'no_of_stops', 'driver_position', 'qualifyId']\n",
    "df_after_dropping = df.drop(columns = cols_to_be_dropped)"
   ]
  },
  {
   "cell_type": "markdown",
   "metadata": {},
   "source": [
    "#### Getting age from date & dob"
   ]
  },
  {
   "cell_type": "code",
   "execution_count": null,
   "metadata": {},
   "outputs": [],
   "source": [
    "from datetime import datetime\n",
    "from dateutil import relativedelta\n",
    "\n",
    "# get two dates\n",
    "race_date = df_after_dropping['date']\n",
    "driver_dob = df_after_dropping['dob']\n",
    "\n",
    "ages = []\n",
    "\n",
    "for i in range(len(race_date)):\n",
    "    start_date = datetime.strptime(race_date[i],\"%Y-%m-%d\")\n",
    "    end_date = datetime.strptime(driver_dob[i], \"%Y-%m-%d\")\n",
    "    delta = relativedelta.relativedelta(start_date, end_date)\n",
    "    ages.append(delta.years)\n",
    "\n",
    "df_after_dropping['driver_age'] = ages\n",
    "df_after_dropping.drop(columns = ['date', 'dob'], inplace = True)\n",
    "df_after_dropping"
   ]
  },
  {
   "cell_type": "markdown",
   "metadata": {},
   "source": [
    "#### Changing status IDs to 0s and 1s"
   ]
  },
  {
   "cell_type": "code",
   "execution_count": null,
   "metadata": {},
   "outputs": [],
   "source": [
    "df_after_dropping['statusId'][df_after_dropping['statusId'] > 1] = 0"
   ]
  },
  {
   "cell_type": "markdown",
   "metadata": {},
   "source": [
    "#### Replace Nan in Constructor_position by max Value = 21 & Replace Nan in Constructor_wins by 0"
   ]
  },
  {
   "cell_type": "code",
   "execution_count": null,
   "metadata": {},
   "outputs": [],
   "source": [
    "df_after_dropping['constructor_position'] = df_after_dropping['constructor_position'].fillna(21)\n",
    "df_after_dropping['constructor_wins'] = df_after_dropping['driver_wins'].fillna(0)"
   ]
  },
  {
   "cell_type": "markdown",
   "metadata": {},
   "source": [
    "## Analysis Graphs"
   ]
  },
  {
   "cell_type": "code",
   "execution_count": null,
   "metadata": {},
   "outputs": [],
   "source": [
    "# Drivers by nationality\n",
    "nationality_driver = df_after_dropping.groupby(['driver_nationality'])['driver_nationality'].count().sort_values(ascending = False).reset_index(name = 'number_of_drivers')\n",
    "nationality_driver['driver_nationality'][nationality_driver['number_of_drivers'] < 200] = 'Other'\n",
    "nationality_driver = nationality_driver.groupby(['driver_nationality']).sum().reset_index()\n",
    "\n",
    "fig = go.Figure(data=go.Pie(labels = nationality_driver['driver_nationality'], values=nationality_driver.number_of_drivers))\n",
    "fig.update_layout(title = 'Drivers by Nationality')\n",
    "fig.show()\n"
   ]
  },
  {
   "cell_type": "code",
   "execution_count": null,
   "metadata": {},
   "outputs": [],
   "source": [
    "# Champions by nationality\n",
    "champions = df_after_dropping[df_after_dropping['results_positionOrder'] == 1]\n",
    "champions = champions.groupby(['driver_nationality'])['driver_nationality'].count().sort_values(ascending = False).reset_index(name = 'number_of_drivers')\n",
    "\n",
    "fig = go.Figure(data=go.Pie(labels = champions['driver_nationality'], values=champions.number_of_drivers))\n",
    "fig.update_layout(title = 'Champions by Driver Nationality')\n",
    "fig.show()"
   ]
  },
  {
   "cell_type": "code",
   "execution_count": null,
   "metadata": {},
   "outputs": [],
   "source": [
    "# Completion rate by circuit\n",
    "status_on_circuits = df_after_dropping[['circuitId', 'statusId']].groupby(['circuitId']).mean()\n",
    "fig = px.bar(status_on_circuits, y = 'statusId')\n",
    "fig.update_layout(title = 'Completion rate by circuit')\n",
    "fig.show()"
   ]
  },
  {
   "cell_type": "code",
   "execution_count": null,
   "metadata": {},
   "outputs": [],
   "source": [
    "len(df_after_dropping.columns)"
   ]
  },
  {
   "cell_type": "code",
   "execution_count": null,
   "metadata": {},
   "outputs": [],
   "source": [
    "winners = df_after_dropping[['driverId', 'results_positionOrder', 'driver_age']][df_after_dropping['results_positionOrder'] == 1]\n",
    "winners.drop(columns = ['driverId'], inplace=True)\n",
    "winners_by_age = winners.groupby(['driver_age']).sum()\n",
    "fig = px.bar(winners_by_age)\n",
    "fig.update_layout(title = 'No. of races won by age')\n",
    "fig.show()"
   ]
  },
  {
   "cell_type": "code",
   "execution_count": null,
   "metadata": {},
   "outputs": [],
   "source": [
    "wins = df_after_dropping[['grid', 'results_positionOrder']][df_after_dropping['results_positionOrder'] == 1]\n",
    "wins = wins.groupby(['grid']).count()\n",
    "\n",
    "fig = px.bar(wins)\n",
    "fig.update_layout(title = 'No. of races won by grid position')\n",
    "fig.show()"
   ]
  },
  {
   "cell_type": "code",
   "execution_count": null,
   "metadata": {},
   "outputs": [],
   "source": [
    "df_after_dropping.columns"
   ]
  },
  {
   "cell_type": "code",
   "execution_count": null,
   "metadata": {},
   "outputs": [],
   "source": [
    "temp = df_after_dropping['milliseconds']"
   ]
  },
  {
   "cell_type": "code",
   "execution_count": null,
   "metadata": {},
   "outputs": [],
   "source": [
    "temp.isnull().sum()"
   ]
  },
  {
   "cell_type": "code",
   "execution_count": null,
   "metadata": {},
   "outputs": [],
   "source": [
    "temp.value_counts()"
   ]
  },
  {
   "cell_type": "code",
   "execution_count": null,
   "metadata": {},
   "outputs": [],
   "source": [
    "df_after_dropping[df_after_dropping['milliseconds'] == '\\\\N'][df_after_dropping['statusId'] == 1].index"
   ]
  },
  {
   "cell_type": "code",
   "execution_count": null,
   "metadata": {},
   "outputs": [],
   "source": [
    "df_after_dropping.drop(df_after_dropping[df_after_dropping['milliseconds'] == '\\\\N'][df_after_dropping['statusId'] == 1].index, inplace=True)"
   ]
  },
  {
   "cell_type": "code",
   "execution_count": null,
   "metadata": {},
   "outputs": [],
   "source": [
    "df_after_dropping['weather_warm'] = df_after_dropping['weather_warm'].fillna(0)\n",
    "df_after_dropping['weather_cold'] = df_after_dropping['weather_cold'].fillna(0)\n",
    "df_after_dropping['weather_dry'] = df_after_dropping['weather_dry'].fillna(0)\n",
    "df_after_dropping['weather_wet'] = df_after_dropping['weather_wet'].fillna(0)\n",
    "df_after_dropping['weather_cloudy'] = df_after_dropping['weather_cloudy'].fillna(0)\n",
    "df_after_dropping['driver_wins'] = df_after_dropping['driver_wins'].fillna(0)\n",
    "df_after_dropping.isnull().sum()"
   ]
  },
  {
   "cell_type": "code",
   "execution_count": null,
   "metadata": {},
   "outputs": [],
   "source": [
    "df_after_dropping['milliseconds'] = df_after_dropping['milliseconds'].replace('\\\\N', 0)"
   ]
  },
  {
   "cell_type": "code",
   "execution_count": null,
   "metadata": {},
   "outputs": [],
   "source": [
    "df_after_dropping['milliseconds'] = df_after_dropping['milliseconds'].astype('int64')"
   ]
  },
  {
   "cell_type": "code",
   "execution_count": null,
   "metadata": {},
   "outputs": [],
   "source": [
    "df_after_dropping['milliseconds'] = df_after_dropping['milliseconds'].replace(0, df_after_dropping['milliseconds'].max() * 2)"
   ]
  },
  {
   "cell_type": "code",
   "execution_count": null,
   "metadata": {},
   "outputs": [],
   "source": [
    "df_after_dropping['milliseconds'].describe()"
   ]
  },
  {
   "cell_type": "code",
   "execution_count": null,
   "metadata": {},
   "outputs": [],
   "source": [
    "df_after_dropping.info()"
   ]
  },
  {
   "cell_type": "code",
   "execution_count": null,
   "metadata": {},
   "outputs": [],
   "source": [
    "for i in df_after_dropping.columns: \n",
    "    sns.histplot(df_after_dropping[i])\n",
    "    plt.show()"
   ]
  },
  {
   "cell_type": "code",
   "execution_count": null,
   "metadata": {},
   "outputs": [],
   "source": [
    "df_num = df_after_dropping.select_dtypes(include=[np.number])\n",
    "for i in df_num.columns:\n",
    "    sns.boxplot(df_num[i])\n",
    "    plt.title(i)\n",
    "    plt.show()"
   ]
  },
  {
   "cell_type": "code",
   "execution_count": null,
   "metadata": {},
   "outputs": [],
   "source": [
    "upper_limit = df_after_dropping[\"driver_age\"].quantile(0.97)\n",
    "df_after_dropping['driver_age'] = np.where(df_after_dropping['driver_age'] > upper_limit, upper_limit, df_after_dropping['driver_age'])"
   ]
  },
  {
   "cell_type": "code",
   "execution_count": null,
   "metadata": {},
   "outputs": [],
   "source": [
    "dictDriverCountry={'Argentine':1,'Australian':2,'Austrian':3,'Belgian':6,'Brazilian':7,'Canadian':8,'Chinese':9,\n",
    "'French':10,'German':11,'Hungarian':12,'Indian':13,'Italian':14,'Japanese':15,'Malaysian':17,\n",
    "'Mexican':18,'Monegasque':19,'Portuguese':22,'Russian':24,'South African':27,'Spanish':28,\n",
    "'Swedish':29,'Swiss':30,'British':33,'American':34,'American-Italian':14,'Argentine-Italian':1,\n",
    "'Chilean':35,'Colombian':36,'Czech':37,'Danish':38,'Dutch':39,'East German':11,'Finnish':40,'Indonesian':41,'Irish':42,\n",
    "'Liechtensteiner':43,'New Zealander':44,'Polish':45,'Rhodesian':46,'Thai':47,'Uruguayan':48,'Venezuelan':49\n",
    "}"
   ]
  },
  {
   "cell_type": "code",
   "execution_count": null,
   "metadata": {},
   "outputs": [],
   "source": [
    "dictCircuitCountry = {'Argentina': 1, 'Australia': 2, 'Austria': 3, 'Azerbaijan': 4, 'Bahrain': 5, 'Belgium': 6, \n",
    "'Brazil': 7, 'Canada': 8, 'China': 9, 'France': 10, 'Germany': 11, 'Hungary': 12, 'India': 13, 'Italy': 14, 'Japan': 15, \n",
    "'Korea': 16, 'Malaysia': 17, 'Mexico': 18, 'Monaco': 19, 'Morocco': 20, 'Netherlands': 21, 'Portugal': 22, 'Qatar': 23, \n",
    "'Russia': 24, 'Saudi Arabia': 25, 'Singapore': 26, 'South Africa': 27, 'Spain': 28, 'Sweden': 29, 'Switzerland': 30, \n",
    "'Turkey': 31, 'UAE': 32, 'UK': 33, 'USA': 34}"
   ]
  },
  {
   "cell_type": "code",
   "execution_count": null,
   "metadata": {},
   "outputs": [],
   "source": [
    "df_after_dropping['circuit_country'] = df_after_dropping['circuit_country'].map(dictCircuitCountry)"
   ]
  },
  {
   "cell_type": "code",
   "execution_count": null,
   "metadata": {},
   "outputs": [],
   "source": [
    "df_after_dropping['driver_nationality'] = df_after_dropping['driver_nationality'].map(dictDriverCountry)"
   ]
  },
  {
   "cell_type": "code",
   "execution_count": null,
   "metadata": {},
   "outputs": [],
   "source": [
    "plt.figure(figsize=(20,10))\n",
    "sns.heatmap(df_after_dropping.corr(), annot=True, cmap='coolwarm')"
   ]
  },
  {
   "cell_type": "code",
   "execution_count": null,
   "metadata": {},
   "outputs": [],
   "source": [
    "import random\n",
    "# x_train, x_test, y_train, y_test = train_test_split(df_after_dropping.drop(columns = ['results_positionOrder']), df_after_dropping['results_positionOrder'], test_size = 0.15, random_state = 42, stratify=df_after_dropping['results_positionOrder'])\n",
    "testing_years = []\n",
    "for i in range(3):\n",
    "    testing_years.append(random.randrange(2010,2021))\n",
    "    testing_years.append(random.randrange(1950, 1990))\n",
    "\n",
    "df_test = pd.DataFrame()\n",
    "for i in testing_years:\n",
    "    df_temp = df_after_dropping[df_after_dropping['year'] == i]\n",
    "    df_test = pd.concat([df_test, df_temp])\n",
    "\n",
    "df_train = pd.concat([df_after_dropping, df_test, df_test]).drop_duplicates(keep=False)\n",
    "\n",
    "x_train, x_test, y_train, y_test = df_train.drop(columns = ['results_positionOrder']), df_test.drop(columns = ['results_positionOrder']), df_train['results_positionOrder'], df_test['results_positionOrder']"
   ]
  },
  {
   "cell_type": "code",
   "execution_count": null,
   "metadata": {},
   "outputs": [],
   "source": [
    "standard_scaler = StandardScaler()\n",
    "min_max_scaler = MinMaxScaler()"
   ]
  },
  {
   "cell_type": "code",
   "execution_count": null,
   "metadata": {},
   "outputs": [],
   "source": [
    "x_train['milliseconds'] = min_max_scaler.fit_transform(x_train[['milliseconds']])\n",
    "x_test['milliseconds'] = min_max_scaler.transform(x_test[['milliseconds']])"
   ]
  },
  {
   "cell_type": "code",
   "execution_count": null,
   "metadata": {},
   "outputs": [],
   "source": [
    "x_train['driver_age'] = min_max_scaler.fit_transform(x_train[['driver_age']])\n",
    "x_test['driver_age'] = min_max_scaler.transform(x_test[['driver_age']])"
   ]
  },
  {
   "cell_type": "code",
   "execution_count": null,
   "metadata": {},
   "outputs": [],
   "source": [
    "x_train['driver_wins'] = standard_scaler.fit_transform(x_train[['driver_wins']])\n",
    "x_test['driver_wins'] = standard_scaler.transform(x_test[['driver_wins']])"
   ]
  },
  {
   "cell_type": "code",
   "execution_count": null,
   "metadata": {},
   "outputs": [],
   "source": [
    "x_train['constructor_wins'] = standard_scaler.fit_transform(x_train[['constructor_wins']])\n",
    "x_test['constructor_wins'] = standard_scaler.transform(x_test[['constructor_wins']])"
   ]
  },
  {
   "cell_type": "code",
   "execution_count": null,
   "metadata": {},
   "outputs": [],
   "source": [
    "encoder = TargetEncoder(cols = ['constructor_nationality', 'driverId', 'constructorId', 'circuitId'], smoothing = 10, min_samples_leaf = 20)\n",
    "# encoder = PolynomialWrapper(encoder_target)\n",
    "x_train = encoder.fit_transform(x_train, y_train)\n",
    "x_test = encoder.transform(x_test)"
   ]
  },
  {
   "cell_type": "code",
   "execution_count": null,
   "metadata": {},
   "outputs": [],
   "source": [
    "x_train"
   ]
  },
  {
   "cell_type": "code",
   "execution_count": null,
   "metadata": {},
   "outputs": [],
   "source": [
    "x_train['constructor_nationality'] = standard_scaler.fit_transform(x_train[['constructor_nationality']])\n",
    "x_test['constructor_nationality'] = standard_scaler.transform(x_test[['constructor_nationality']])"
   ]
  },
  {
   "cell_type": "code",
   "execution_count": null,
   "metadata": {},
   "outputs": [],
   "source": [
    "x_train['driverId'] = standard_scaler.fit_transform(x_train[['driverId']])\n",
    "x_test['driverId'] = standard_scaler.transform(x_test[['driverId']])"
   ]
  },
  {
   "cell_type": "code",
   "execution_count": null,
   "metadata": {},
   "outputs": [],
   "source": [
    "x_train['constructorId'] = standard_scaler.fit_transform(x_train[['constructorId']])\n",
    "x_test['constructorId'] = standard_scaler.transform(x_test[['constructorId']])"
   ]
  },
  {
   "cell_type": "code",
   "execution_count": null,
   "metadata": {},
   "outputs": [],
   "source": [
    "x_train['circuitId'] = standard_scaler.fit_transform(x_train[['circuitId']])\n",
    "x_test['circuitId'] = standard_scaler.transform(x_test[['circuitId']])"
   ]
  },
  {
   "cell_type": "code",
   "execution_count": null,
   "metadata": {},
   "outputs": [],
   "source": [
    "pd.concat([x_train, y_train], axis = 1).to_csv('./data/train.csv', index = False)\n",
    "pd.concat([x_test, y_test], axis = 1).to_csv('./data/test.csv', index = False)"
   ]
  },
  {
   "cell_type": "markdown",
   "metadata": {},
   "source": [
    "#### Final EDA"
   ]
  },
  {
   "cell_type": "code",
   "execution_count": null,
   "metadata": {},
   "outputs": [],
   "source": [
    "data = pd.read_csv('./data/train.csv')"
   ]
  },
  {
   "cell_type": "code",
   "execution_count": null,
   "metadata": {},
   "outputs": [],
   "source": [
    "for i in data.columns: \n",
    "    sns.histplot(data[i])\n",
    "    plt.show()"
   ]
  },
  {
   "cell_type": "code",
   "execution_count": null,
   "metadata": {},
   "outputs": [],
   "source": [
    "df_num = data.select_dtypes(include=[np.number])\n",
    "for i in df_num.columns:\n",
    "    sns.boxplot(df_num[i])\n",
    "    plt.title(i)\n",
    "    plt.show()"
   ]
  },
  {
   "cell_type": "code",
   "execution_count": null,
   "metadata": {},
   "outputs": [],
   "source": [
    "plt.figure(figsize=(20,20))\n",
    "sns.heatmap(data.corr(), annot = True, cmap = 'coolwarm')"
   ]
  },
  {
   "cell_type": "code",
   "execution_count": null,
   "metadata": {},
   "outputs": [],
   "source": [
    "sns.countplot(x = 'results_positionOrder', data = data)"
   ]
  },
  {
   "cell_type": "code",
   "execution_count": null,
   "metadata": {},
   "outputs": [],
   "source": []
  }
 ],
 "metadata": {
  "kernelspec": {
   "display_name": "Python 3.9.13 ('base')",
   "language": "python",
   "name": "python3"
  },
  "language_info": {
   "codemirror_mode": {
    "name": "ipython",
    "version": 3
   },
   "file_extension": ".py",
   "mimetype": "text/x-python",
   "name": "python",
   "nbconvert_exporter": "python",
   "pygments_lexer": "ipython3",
   "version": "3.9.13"
  },
  "orig_nbformat": 4,
  "vscode": {
   "interpreter": {
    "hash": "3b922597e2054cfa14dd8877f548ff69eb507afc0eeca1bbf1d7dff443dd395e"
   }
  }
 },
 "nbformat": 4,
 "nbformat_minor": 2
}
