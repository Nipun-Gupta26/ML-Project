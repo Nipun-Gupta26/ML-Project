{
 "cells": [
  {
   "cell_type": "code",
   "execution_count": 1,
   "metadata": {},
   "outputs": [],
   "source": [
    "import pandas as pd\n",
    "import numpy as np\n",
    "import matplotlib.pyplot as plt\n",
    "from sklearn.preprocessing import StandardScaler, MinMaxScaler, LabelEncoder\n",
    "from category_encoders import TargetEncoder\n",
    "from sklearn.model_selection import train_test_split\n",
    "from category_encoders.wrapper import PolynomialWrapper\n",
    "from sklearn.decomposition import PCA"
   ]
  },
  {
   "cell_type": "code",
   "execution_count": 2,
   "metadata": {},
   "outputs": [
    {
     "data": {
      "text/plain": [
       "Index(['raceId', 'year', 'round', 'circuitId', 'name', 'date', 'time',\n",
       "       'circuit_id', 'weather_warm', 'weather_cold', 'weather_dry',\n",
       "       'weather_wet', 'weather_cloudy', 'resultId', 'driverId',\n",
       "       'constructorId', 'car_number', 'grid', 'results_positionOrder',\n",
       "       'results_points', 'laps', 'milliseconds', 'fastestLap',\n",
       "       'fastestLapTime', 'fastestLapSpeed', 'statusId', 'status',\n",
       "       'circuit_location', 'circuit_country', 'constructorStandingsId',\n",
       "       'constructor_points', 'constructor_position', 'constructor_wins',\n",
       "       'constructorRef', 'constructor_nationality', 'driverRef',\n",
       "       'driver_number', 'driver_code', 'forename', 'dob', 'driver_nationality',\n",
       "       'driverStandingsId', 'driver_points', 'driver_position', 'driver_wins',\n",
       "       'qualifyId', 'number', 'qualifying_position', 'q1_time', 'q2_time',\n",
       "       'q3_time', 'no_of_stops', 'ms_avg', 'first_5_avg_time',\n",
       "       'last_10_avg_time', 'lap_position_after_5',\n",
       "       'lap_position_before_last_10'],\n",
       "      dtype='object')"
      ]
     },
     "execution_count": 2,
     "metadata": {},
     "output_type": "execute_result"
    }
   ],
   "source": [
    "df = pd.read_csv('../data/dataset.csv', low_memory=False)\n",
    "df.rename(columns={'Unnamed: 0': 'index'}, inplace=True)\n",
    "df.rename(columns = {'country': 'circuit_country'}, inplace = True)\n",
    "df.drop(columns=['index'], inplace=True)\n",
    "df.columns"
   ]
  },
  {
   "cell_type": "code",
   "execution_count": 3,
   "metadata": {},
   "outputs": [],
   "source": [
    "cols_to_be_dropped = ['round', 'name', 'time', 'car_number', 'resultId', 'laps', 'fastestLap', 'fastestLapTime', 'fastestLapSpeed', 'first_5_avg_time', 'last_10_avg_time', 'lap_position_after_5', 'lap_position_before_last_10', 'circuit_location', 'constructorStandingsId', 'constructorRef', 'driver_number', 'driver_code', 'forename', 'driverStandingsId', 'number', 'status', 'qualifying_position', 'q1_time', 'q2_time', 'q3_time', 'ms_avg', 'no_of_stops', 'driver_position', 'qualifyId']\n",
    "df_after_dropping = df.drop(columns = cols_to_be_dropped)"
   ]
  },
  {
   "cell_type": "markdown",
   "metadata": {},
   "source": [
    "#### Getting age from date & dob"
   ]
  },
  {
   "cell_type": "code",
   "execution_count": 4,
   "metadata": {},
   "outputs": [
    {
     "data": {
      "text/html": [
       "<div>\n",
       "<style scoped>\n",
       "    .dataframe tbody tr th:only-of-type {\n",
       "        vertical-align: middle;\n",
       "    }\n",
       "\n",
       "    .dataframe tbody tr th {\n",
       "        vertical-align: top;\n",
       "    }\n",
       "\n",
       "    .dataframe thead th {\n",
       "        text-align: right;\n",
       "    }\n",
       "</style>\n",
       "<table border=\"1\" class=\"dataframe\">\n",
       "  <thead>\n",
       "    <tr style=\"text-align: right;\">\n",
       "      <th></th>\n",
       "      <th>raceId</th>\n",
       "      <th>year</th>\n",
       "      <th>circuitId</th>\n",
       "      <th>circuit_id</th>\n",
       "      <th>weather_warm</th>\n",
       "      <th>weather_cold</th>\n",
       "      <th>weather_dry</th>\n",
       "      <th>weather_wet</th>\n",
       "      <th>weather_cloudy</th>\n",
       "      <th>driverId</th>\n",
       "      <th>...</th>\n",
       "      <th>circuit_country</th>\n",
       "      <th>constructor_points</th>\n",
       "      <th>constructor_position</th>\n",
       "      <th>constructor_wins</th>\n",
       "      <th>constructor_nationality</th>\n",
       "      <th>driverRef</th>\n",
       "      <th>driver_nationality</th>\n",
       "      <th>driver_points</th>\n",
       "      <th>driver_wins</th>\n",
       "      <th>driver_age</th>\n",
       "    </tr>\n",
       "  </thead>\n",
       "  <tbody>\n",
       "    <tr>\n",
       "      <th>0</th>\n",
       "      <td>1</td>\n",
       "      <td>2009</td>\n",
       "      <td>1</td>\n",
       "      <td>albert_park</td>\n",
       "      <td>1.0</td>\n",
       "      <td>0.0</td>\n",
       "      <td>0.0</td>\n",
       "      <td>0.0</td>\n",
       "      <td>0.0</td>\n",
       "      <td>18</td>\n",
       "      <td>...</td>\n",
       "      <td>Australia</td>\n",
       "      <td>18.0</td>\n",
       "      <td>1.0</td>\n",
       "      <td>1.0</td>\n",
       "      <td>British</td>\n",
       "      <td>button</td>\n",
       "      <td>British</td>\n",
       "      <td>10.0</td>\n",
       "      <td>1.0</td>\n",
       "      <td>29</td>\n",
       "    </tr>\n",
       "    <tr>\n",
       "      <th>1</th>\n",
       "      <td>90</td>\n",
       "      <td>2004</td>\n",
       "      <td>1</td>\n",
       "      <td>albert_park</td>\n",
       "      <td>0.0</td>\n",
       "      <td>0.0</td>\n",
       "      <td>1.0</td>\n",
       "      <td>0.0</td>\n",
       "      <td>0.0</td>\n",
       "      <td>18</td>\n",
       "      <td>...</td>\n",
       "      <td>Australia</td>\n",
       "      <td>3.0</td>\n",
       "      <td>4.0</td>\n",
       "      <td>0.0</td>\n",
       "      <td>British</td>\n",
       "      <td>button</td>\n",
       "      <td>British</td>\n",
       "      <td>3.0</td>\n",
       "      <td>0.0</td>\n",
       "      <td>24</td>\n",
       "    </tr>\n",
       "    <tr>\n",
       "      <th>2</th>\n",
       "      <td>108</td>\n",
       "      <td>2003</td>\n",
       "      <td>1</td>\n",
       "      <td>albert_park</td>\n",
       "      <td>1.0</td>\n",
       "      <td>0.0</td>\n",
       "      <td>1.0</td>\n",
       "      <td>1.0</td>\n",
       "      <td>0.0</td>\n",
       "      <td>18</td>\n",
       "      <td>...</td>\n",
       "      <td>Australia</td>\n",
       "      <td>0.0</td>\n",
       "      <td>6.0</td>\n",
       "      <td>0.0</td>\n",
       "      <td>British</td>\n",
       "      <td>button</td>\n",
       "      <td>British</td>\n",
       "      <td>0.0</td>\n",
       "      <td>0.0</td>\n",
       "      <td>23</td>\n",
       "    </tr>\n",
       "    <tr>\n",
       "      <th>3</th>\n",
       "      <td>338</td>\n",
       "      <td>2010</td>\n",
       "      <td>1</td>\n",
       "      <td>albert_park</td>\n",
       "      <td>0.0</td>\n",
       "      <td>0.0</td>\n",
       "      <td>0.0</td>\n",
       "      <td>1.0</td>\n",
       "      <td>1.0</td>\n",
       "      <td>18</td>\n",
       "      <td>...</td>\n",
       "      <td>Australia</td>\n",
       "      <td>54.0</td>\n",
       "      <td>2.0</td>\n",
       "      <td>1.0</td>\n",
       "      <td>British</td>\n",
       "      <td>button</td>\n",
       "      <td>British</td>\n",
       "      <td>31.0</td>\n",
       "      <td>1.0</td>\n",
       "      <td>30</td>\n",
       "    </tr>\n",
       "    <tr>\n",
       "      <th>4</th>\n",
       "      <td>841</td>\n",
       "      <td>2011</td>\n",
       "      <td>1</td>\n",
       "      <td>albert_park</td>\n",
       "      <td>0.0</td>\n",
       "      <td>0.0</td>\n",
       "      <td>0.0</td>\n",
       "      <td>0.0</td>\n",
       "      <td>0.0</td>\n",
       "      <td>18</td>\n",
       "      <td>...</td>\n",
       "      <td>Australia</td>\n",
       "      <td>26.0</td>\n",
       "      <td>2.0</td>\n",
       "      <td>0.0</td>\n",
       "      <td>British</td>\n",
       "      <td>button</td>\n",
       "      <td>British</td>\n",
       "      <td>8.0</td>\n",
       "      <td>0.0</td>\n",
       "      <td>31</td>\n",
       "    </tr>\n",
       "    <tr>\n",
       "      <th>...</th>\n",
       "      <td>...</td>\n",
       "      <td>...</td>\n",
       "      <td>...</td>\n",
       "      <td>...</td>\n",
       "      <td>...</td>\n",
       "      <td>...</td>\n",
       "      <td>...</td>\n",
       "      <td>...</td>\n",
       "      <td>...</td>\n",
       "      <td>...</td>\n",
       "      <td>...</td>\n",
       "      <td>...</td>\n",
       "      <td>...</td>\n",
       "      <td>...</td>\n",
       "      <td>...</td>\n",
       "      <td>...</td>\n",
       "      <td>...</td>\n",
       "      <td>...</td>\n",
       "      <td>...</td>\n",
       "      <td>...</td>\n",
       "      <td>...</td>\n",
       "    </tr>\n",
       "    <tr>\n",
       "      <th>25655</th>\n",
       "      <td>815</td>\n",
       "      <td>1953</td>\n",
       "      <td>66</td>\n",
       "      <td>bremgarten</td>\n",
       "      <td>0.0</td>\n",
       "      <td>0.0</td>\n",
       "      <td>1.0</td>\n",
       "      <td>0.0</td>\n",
       "      <td>0.0</td>\n",
       "      <td>720</td>\n",
       "      <td>...</td>\n",
       "      <td>Switzerland</td>\n",
       "      <td>NaN</td>\n",
       "      <td>NaN</td>\n",
       "      <td>NaN</td>\n",
       "      <td>Italian</td>\n",
       "      <td>terra</td>\n",
       "      <td>Swiss</td>\n",
       "      <td>0.0</td>\n",
       "      <td>0.0</td>\n",
       "      <td>34</td>\n",
       "    </tr>\n",
       "    <tr>\n",
       "      <th>25656</th>\n",
       "      <td>817</td>\n",
       "      <td>1952</td>\n",
       "      <td>66</td>\n",
       "      <td>bremgarten</td>\n",
       "      <td>1.0</td>\n",
       "      <td>0.0</td>\n",
       "      <td>0.0</td>\n",
       "      <td>0.0</td>\n",
       "      <td>0.0</td>\n",
       "      <td>720</td>\n",
       "      <td>...</td>\n",
       "      <td>Switzerland</td>\n",
       "      <td>NaN</td>\n",
       "      <td>NaN</td>\n",
       "      <td>NaN</td>\n",
       "      <td>French</td>\n",
       "      <td>terra</td>\n",
       "      <td>Swiss</td>\n",
       "      <td>0.0</td>\n",
       "      <td>0.0</td>\n",
       "      <td>33</td>\n",
       "    </tr>\n",
       "    <tr>\n",
       "      <th>25657</th>\n",
       "      <td>815</td>\n",
       "      <td>1953</td>\n",
       "      <td>66</td>\n",
       "      <td>bremgarten</td>\n",
       "      <td>0.0</td>\n",
       "      <td>0.0</td>\n",
       "      <td>1.0</td>\n",
       "      <td>0.0</td>\n",
       "      <td>0.0</td>\n",
       "      <td>719</td>\n",
       "      <td>...</td>\n",
       "      <td>Switzerland</td>\n",
       "      <td>NaN</td>\n",
       "      <td>NaN</td>\n",
       "      <td>NaN</td>\n",
       "      <td>British</td>\n",
       "      <td>scherrer</td>\n",
       "      <td>Swiss</td>\n",
       "      <td>0.0</td>\n",
       "      <td>0.0</td>\n",
       "      <td>45</td>\n",
       "    </tr>\n",
       "    <tr>\n",
       "      <th>25658</th>\n",
       "      <td>832</td>\n",
       "      <td>1951</td>\n",
       "      <td>67</td>\n",
       "      <td>pedralbes</td>\n",
       "      <td>0.0</td>\n",
       "      <td>0.0</td>\n",
       "      <td>1.0</td>\n",
       "      <td>0.0</td>\n",
       "      <td>0.0</td>\n",
       "      <td>783</td>\n",
       "      <td>...</td>\n",
       "      <td>Spain</td>\n",
       "      <td>NaN</td>\n",
       "      <td>NaN</td>\n",
       "      <td>NaN</td>\n",
       "      <td>French</td>\n",
       "      <td>grignard</td>\n",
       "      <td>French</td>\n",
       "      <td>0.0</td>\n",
       "      <td>0.0</td>\n",
       "      <td>46</td>\n",
       "    </tr>\n",
       "    <tr>\n",
       "      <th>25659</th>\n",
       "      <td>832</td>\n",
       "      <td>1951</td>\n",
       "      <td>67</td>\n",
       "      <td>pedralbes</td>\n",
       "      <td>0.0</td>\n",
       "      <td>0.0</td>\n",
       "      <td>1.0</td>\n",
       "      <td>0.0</td>\n",
       "      <td>0.0</td>\n",
       "      <td>782</td>\n",
       "      <td>...</td>\n",
       "      <td>Spain</td>\n",
       "      <td>NaN</td>\n",
       "      <td>NaN</td>\n",
       "      <td>NaN</td>\n",
       "      <td>Italian</td>\n",
       "      <td>jover</td>\n",
       "      <td>Spanish</td>\n",
       "      <td>0.0</td>\n",
       "      <td>0.0</td>\n",
       "      <td>47</td>\n",
       "    </tr>\n",
       "  </tbody>\n",
       "</table>\n",
       "<p>25660 rows × 26 columns</p>\n",
       "</div>"
      ],
      "text/plain": [
       "       raceId  year  circuitId   circuit_id  weather_warm  weather_cold  \\\n",
       "0           1  2009          1  albert_park           1.0           0.0   \n",
       "1          90  2004          1  albert_park           0.0           0.0   \n",
       "2         108  2003          1  albert_park           1.0           0.0   \n",
       "3         338  2010          1  albert_park           0.0           0.0   \n",
       "4         841  2011          1  albert_park           0.0           0.0   \n",
       "...       ...   ...        ...          ...           ...           ...   \n",
       "25655     815  1953         66   bremgarten           0.0           0.0   \n",
       "25656     817  1952         66   bremgarten           1.0           0.0   \n",
       "25657     815  1953         66   bremgarten           0.0           0.0   \n",
       "25658     832  1951         67    pedralbes           0.0           0.0   \n",
       "25659     832  1951         67    pedralbes           0.0           0.0   \n",
       "\n",
       "       weather_dry  weather_wet  weather_cloudy  driverId  ...  \\\n",
       "0              0.0          0.0             0.0        18  ...   \n",
       "1              1.0          0.0             0.0        18  ...   \n",
       "2              1.0          1.0             0.0        18  ...   \n",
       "3              0.0          1.0             1.0        18  ...   \n",
       "4              0.0          0.0             0.0        18  ...   \n",
       "...            ...          ...             ...       ...  ...   \n",
       "25655          1.0          0.0             0.0       720  ...   \n",
       "25656          0.0          0.0             0.0       720  ...   \n",
       "25657          1.0          0.0             0.0       719  ...   \n",
       "25658          1.0          0.0             0.0       783  ...   \n",
       "25659          1.0          0.0             0.0       782  ...   \n",
       "\n",
       "       circuit_country  constructor_points  constructor_position  \\\n",
       "0            Australia                18.0                   1.0   \n",
       "1            Australia                 3.0                   4.0   \n",
       "2            Australia                 0.0                   6.0   \n",
       "3            Australia                54.0                   2.0   \n",
       "4            Australia                26.0                   2.0   \n",
       "...                ...                 ...                   ...   \n",
       "25655      Switzerland                 NaN                   NaN   \n",
       "25656      Switzerland                 NaN                   NaN   \n",
       "25657      Switzerland                 NaN                   NaN   \n",
       "25658            Spain                 NaN                   NaN   \n",
       "25659            Spain                 NaN                   NaN   \n",
       "\n",
       "       constructor_wins constructor_nationality  driverRef driver_nationality  \\\n",
       "0                   1.0                 British     button            British   \n",
       "1                   0.0                 British     button            British   \n",
       "2                   0.0                 British     button            British   \n",
       "3                   1.0                 British     button            British   \n",
       "4                   0.0                 British     button            British   \n",
       "...                 ...                     ...        ...                ...   \n",
       "25655               NaN                 Italian      terra              Swiss   \n",
       "25656               NaN                  French      terra              Swiss   \n",
       "25657               NaN                 British   scherrer              Swiss   \n",
       "25658               NaN                  French   grignard             French   \n",
       "25659               NaN                 Italian      jover            Spanish   \n",
       "\n",
       "       driver_points  driver_wins  driver_age  \n",
       "0               10.0          1.0          29  \n",
       "1                3.0          0.0          24  \n",
       "2                0.0          0.0          23  \n",
       "3               31.0          1.0          30  \n",
       "4                8.0          0.0          31  \n",
       "...              ...          ...         ...  \n",
       "25655            0.0          0.0          34  \n",
       "25656            0.0          0.0          33  \n",
       "25657            0.0          0.0          45  \n",
       "25658            0.0          0.0          46  \n",
       "25659            0.0          0.0          47  \n",
       "\n",
       "[25660 rows x 26 columns]"
      ]
     },
     "execution_count": 4,
     "metadata": {},
     "output_type": "execute_result"
    }
   ],
   "source": [
    "from datetime import datetime\n",
    "from dateutil import relativedelta\n",
    "\n",
    "# get two dates\n",
    "race_date = df_after_dropping['date']\n",
    "driver_dob = df_after_dropping['dob']\n",
    "\n",
    "ages = []\n",
    "\n",
    "for i in range(len(race_date)):\n",
    "    start_date = datetime.strptime(race_date[i],\"%Y-%m-%d\")\n",
    "    end_date = datetime.strptime(driver_dob[i], \"%Y-%m-%d\")\n",
    "    delta = relativedelta.relativedelta(start_date, end_date)\n",
    "    ages.append(delta.years)\n",
    "\n",
    "df_after_dropping['driver_age'] = ages\n",
    "df_after_dropping.drop(columns = ['date', 'dob'], inplace = True)\n",
    "df_after_dropping"
   ]
  },
  {
   "cell_type": "markdown",
   "metadata": {},
   "source": [
    "#### Changing status IDs to 0s and 1s"
   ]
  },
  {
   "cell_type": "code",
   "execution_count": 5,
   "metadata": {},
   "outputs": [
    {
     "name": "stderr",
     "output_type": "stream",
     "text": [
      "/var/folders/jz/4h4qzpcj1f793lsytmhhycfw0000gn/T/ipykernel_9839/639805009.py:1: SettingWithCopyWarning: \n",
      "A value is trying to be set on a copy of a slice from a DataFrame\n",
      "\n",
      "See the caveats in the documentation: https://pandas.pydata.org/pandas-docs/stable/user_guide/indexing.html#returning-a-view-versus-a-copy\n",
      "  df_after_dropping['statusId'][df_after_dropping['statusId'] > 1] = 0\n"
     ]
    }
   ],
   "source": [
    "df_after_dropping['statusId'][df_after_dropping['statusId'] > 1] = 0"
   ]
  },
  {
   "cell_type": "markdown",
   "metadata": {},
   "source": [
    "#### Replace Nan in Constructor_position by max Value = 21 & Replace Nan in Constructor_wins by 0"
   ]
  },
  {
   "cell_type": "code",
   "execution_count": 6,
   "metadata": {},
   "outputs": [],
   "source": [
    "df_after_dropping['constructor_position'] = df_after_dropping['constructor_position'].fillna(21)\n",
    "df_after_dropping['constructor_wins'] = df_after_dropping['driver_wins'].fillna(0)"
   ]
  },
  {
   "cell_type": "code",
   "execution_count": 7,
   "metadata": {},
   "outputs": [
    {
     "name": "stderr",
     "output_type": "stream",
     "text": [
      "/var/folders/jz/4h4qzpcj1f793lsytmhhycfw0000gn/T/ipykernel_9839/2860193466.py:1: UserWarning: Boolean Series key will be reindexed to match DataFrame index.\n",
      "  df_after_dropping[df_after_dropping['milliseconds'] == '\\\\N'][df_after_dropping['statusId'] == 1].index\n"
     ]
    },
    {
     "data": {
      "text/plain": [
       "Int64Index([19871, 21594], dtype='int64')"
      ]
     },
     "execution_count": 7,
     "metadata": {},
     "output_type": "execute_result"
    }
   ],
   "source": [
    "df_after_dropping[df_after_dropping['milliseconds'] == '\\\\N'][df_after_dropping['statusId'] == 1].index"
   ]
  },
  {
   "cell_type": "code",
   "execution_count": 8,
   "metadata": {},
   "outputs": [
    {
     "name": "stderr",
     "output_type": "stream",
     "text": [
      "/var/folders/jz/4h4qzpcj1f793lsytmhhycfw0000gn/T/ipykernel_9839/1646513684.py:1: UserWarning: Boolean Series key will be reindexed to match DataFrame index.\n",
      "  df_after_dropping.drop(df_after_dropping[df_after_dropping['milliseconds'] == '\\\\N'][df_after_dropping['statusId'] == 1].index, inplace=True)\n"
     ]
    }
   ],
   "source": [
    "df_after_dropping.drop(df_after_dropping[df_after_dropping['milliseconds'] == '\\\\N'][df_after_dropping['statusId'] == 1].index, inplace=True)"
   ]
  },
  {
   "cell_type": "code",
   "execution_count": 9,
   "metadata": {},
   "outputs": [],
   "source": [
    "index = df_after_dropping[df_after_dropping['results_points'] > 26].index\n",
    "df_after_dropping.drop(index, inplace=True)"
   ]
  },
  {
   "cell_type": "code",
   "execution_count": 10,
   "metadata": {},
   "outputs": [
    {
     "data": {
      "text/plain": [
       "raceId                        0\n",
       "year                          0\n",
       "circuitId                     0\n",
       "circuit_id                 1040\n",
       "weather_warm                  0\n",
       "weather_cold                  0\n",
       "weather_dry                   0\n",
       "weather_wet                   0\n",
       "weather_cloudy                0\n",
       "driverId                      0\n",
       "constructorId                 0\n",
       "grid                          0\n",
       "results_positionOrder         0\n",
       "results_points                0\n",
       "milliseconds                  0\n",
       "statusId                      0\n",
       "circuit_country               0\n",
       "constructor_points         1865\n",
       "constructor_position          0\n",
       "constructor_wins              0\n",
       "constructor_nationality       0\n",
       "driverRef                     0\n",
       "driver_nationality            0\n",
       "driver_points               469\n",
       "driver_wins                   0\n",
       "driver_age                    0\n",
       "dtype: int64"
      ]
     },
     "execution_count": 10,
     "metadata": {},
     "output_type": "execute_result"
    }
   ],
   "source": [
    "df_after_dropping['weather_warm'] = df_after_dropping['weather_warm'].fillna(0)\n",
    "df_after_dropping['weather_cold'] = df_after_dropping['weather_cold'].fillna(0)\n",
    "df_after_dropping['weather_dry'] = df_after_dropping['weather_dry'].fillna(0)\n",
    "df_after_dropping['weather_wet'] = df_after_dropping['weather_wet'].fillna(0)\n",
    "df_after_dropping['weather_cloudy'] = df_after_dropping['weather_cloudy'].fillna(0)\n",
    "df_after_dropping['driver_wins'] = df_after_dropping['driver_wins'].fillna(0)\n",
    "df_after_dropping.isnull().sum()"
   ]
  },
  {
   "cell_type": "code",
   "execution_count": 11,
   "metadata": {},
   "outputs": [],
   "source": [
    "df_after_dropping['milliseconds'] = df_after_dropping['milliseconds'].replace('\\\\N', 0)"
   ]
  },
  {
   "cell_type": "code",
   "execution_count": 12,
   "metadata": {},
   "outputs": [],
   "source": [
    "df_after_dropping['milliseconds'] = df_after_dropping['milliseconds'].astype('int64')"
   ]
  },
  {
   "cell_type": "code",
   "execution_count": 13,
   "metadata": {},
   "outputs": [],
   "source": [
    "df_after_dropping['milliseconds'] = df_after_dropping['milliseconds'].replace(0, df_after_dropping['milliseconds'].max() * 2)"
   ]
  },
  {
   "cell_type": "code",
   "execution_count": 14,
   "metadata": {},
   "outputs": [
    {
     "data": {
      "text/plain": [
       "count    2.565500e+04\n",
       "mean     2.368220e+07\n",
       "std      1.068698e+07\n",
       "min      2.070710e+05\n",
       "25%      8.109250e+06\n",
       "50%      3.018108e+07\n",
       "75%      3.018108e+07\n",
       "max      3.018108e+07\n",
       "Name: milliseconds, dtype: float64"
      ]
     },
     "execution_count": 14,
     "metadata": {},
     "output_type": "execute_result"
    }
   ],
   "source": [
    "df_after_dropping['milliseconds'].describe()"
   ]
  },
  {
   "cell_type": "code",
   "execution_count": 15,
   "metadata": {},
   "outputs": [],
   "source": [
    "upper_limit = df_after_dropping[\"driver_age\"].quantile(0.97)\n",
    "df_after_dropping['driver_age'] = np.where(df_after_dropping['driver_age'] > upper_limit, upper_limit, df_after_dropping['driver_age'])"
   ]
  },
  {
   "cell_type": "code",
   "execution_count": 16,
   "metadata": {},
   "outputs": [],
   "source": [
    "df_after_dropping['results_positionOrder'] = np.where(df_after_dropping['results_positionOrder'] > 20, 20, df_after_dropping['results_positionOrder'])"
   ]
  },
  {
   "cell_type": "code",
   "execution_count": 17,
   "metadata": {},
   "outputs": [],
   "source": [
    "dictDriverCountry={'Argentine':1,'Australian':2,'Austrian':3,'Belgian':6,'Brazilian':7,'Canadian':8,'Chinese':9,\n",
    "'French':10,'German':11,'Hungarian':12,'Indian':13,'Italian':14,'Japanese':15,'Malaysian':17,\n",
    "'Mexican':18,'Monegasque':19,'Portuguese':22,'Russian':24,'South African':27,'Spanish':28,\n",
    "'Swedish':29,'Swiss':30,'British':33,'American':34,'American-Italian':14,'Argentine-Italian':1,\n",
    "'Chilean':35,'Colombian':36,'Czech':37,'Danish':38,'Dutch':39,'East German':11,'Finnish':40,'Indonesian':41,'Irish':42,\n",
    "'Liechtensteiner':43,'New Zealander':44,'Polish':45,'Rhodesian':46,'Thai':47,'Uruguayan':48,'Venezuelan':49\n",
    "}"
   ]
  },
  {
   "cell_type": "code",
   "execution_count": 18,
   "metadata": {},
   "outputs": [],
   "source": [
    "dictCircuitCountry = {'Argentina': 1, 'Australia': 2, 'Austria': 3, 'Azerbaijan': 4, 'Bahrain': 5, 'Belgium': 6, \n",
    "'Brazil': 7, 'Canada': 8, 'China': 9, 'France': 10, 'Germany': 11, 'Hungary': 12, 'India': 13, 'Italy': 14, 'Japan': 15, \n",
    "'Korea': 16, 'Malaysia': 17, 'Mexico': 18, 'Monaco': 19, 'Morocco': 20, 'Netherlands': 21, 'Portugal': 22, 'Qatar': 23, \n",
    "'Russia': 24, 'Saudi Arabia': 25, 'Singapore': 26, 'South Africa': 27, 'Spain': 28, 'Sweden': 29, 'Switzerland': 30, \n",
    "'Turkey': 31, 'UAE': 32, 'UK': 33, 'USA': 34}"
   ]
  },
  {
   "cell_type": "code",
   "execution_count": 19,
   "metadata": {},
   "outputs": [],
   "source": [
    "df_after_dropping['circuit_country'] = df_after_dropping['circuit_country'].map(dictCircuitCountry)"
   ]
  },
  {
   "cell_type": "code",
   "execution_count": 20,
   "metadata": {},
   "outputs": [],
   "source": [
    "df_after_dropping['driver_nationality'] = df_after_dropping['driver_nationality'].map(dictDriverCountry)"
   ]
  },
  {
   "cell_type": "code",
   "execution_count": 21,
   "metadata": {},
   "outputs": [],
   "source": [
    "# import random\n",
    "# # x_train, x_test, y_train, y_test = train_test_split(df_after_dropping.drop(columns = ['results_positionOrder']), df_after_dropping['results_positionOrder'], test_size = 0.15, random_state = 42, stratify=df_after_dropping['results_positionOrder'])\n",
    "# testing_years = [1965]\n",
    "# # r1 = random.sample(range(2010, 2021), 3)    \n",
    "# # r2 = random.sample(range(1950, 1990), 3)\n",
    "# # testing_years.extend(r1)\n",
    "# # testing_years.extend(r2)\n",
    "# # # print(testing_years)\n",
    "\n",
    "\n",
    "# df_test = pd.DataFrame()\n",
    "# for i in testing_years:\n",
    "#     df_temp = df_after_dropping[df_after_dropping['year'] == i]\n",
    "#     df_test = pd.concat([df_test, df_temp])\n",
    "\n",
    "# df_train = pd.concat([df_after_dropping, df_test, df_test]).drop_duplicates(keep=False)\n",
    "\n",
    "# x_train, x_test, y_train, y_test = df_train.drop(columns = ['results_points']), df_test.drop(columns = ['results_points']), df_train['results_points'], df_test['results_points']\n",
    "# print(x_train.shape, x_test.shape, y_train.shape, y_test.shape)"
   ]
  },
  {
   "cell_type": "code",
   "execution_count": 22,
   "metadata": {},
   "outputs": [],
   "source": [
    "testing_year = 2019\n",
    "training_years = range(1950, testing_year)\n",
    "\n",
    "df_test = df_after_dropping[df_after_dropping['year'] == testing_year]\n",
    "\n",
    "df_train = pd.DataFrame()\n",
    "for i in training_years:\n",
    "    df_temp = df_after_dropping[df_after_dropping['year'] == i]\n",
    "    df_train = pd.concat([df_temp, df_train])\n",
    "\n",
    "x_train, x_test, y_train, y_test = df_train.drop(columns = ['results_points']), df_test.drop(columns = ['results_points']), df_train['results_points'], df_test['results_points']\n",
    "\n"
   ]
  },
  {
   "cell_type": "code",
   "execution_count": null,
   "metadata": {},
   "outputs": [],
   "source": [
    "standard_scaler = StandardScaler()\n",
    "min_max_scaler = MinMaxScaler()"
   ]
  },
  {
   "cell_type": "code",
   "execution_count": null,
   "metadata": {},
   "outputs": [],
   "source": [
    "x_train['milliseconds'] = min_max_scaler.fit_transform(x_train[['milliseconds']])\n",
    "x_test['milliseconds'] = min_max_scaler.transform(x_test[['milliseconds']])"
   ]
  },
  {
   "cell_type": "code",
   "execution_count": null,
   "metadata": {},
   "outputs": [],
   "source": [
    "x_train['driver_age'] = min_max_scaler.fit_transform(x_train[['driver_age']])\n",
    "x_test['driver_age'] = min_max_scaler.transform(x_test[['driver_age']])"
   ]
  },
  {
   "cell_type": "code",
   "execution_count": null,
   "metadata": {},
   "outputs": [],
   "source": [
    "x_train['driver_wins'] = standard_scaler.fit_transform(x_train[['driver_wins']])\n",
    "x_test['driver_wins'] = standard_scaler.transform(x_test[['driver_wins']])"
   ]
  },
  {
   "cell_type": "code",
   "execution_count": null,
   "metadata": {},
   "outputs": [],
   "source": [
    "x_train['constructor_wins'] = standard_scaler.fit_transform(x_train[['constructor_wins']])\n",
    "x_test['constructor_wins'] = standard_scaler.transform(x_test[['constructor_wins']])"
   ]
  },
  {
   "cell_type": "code",
   "execution_count": null,
   "metadata": {},
   "outputs": [],
   "source": [
    "encoder = TargetEncoder(cols = ['constructor_nationality', 'driverId', 'constructorId', 'circuitId'], smoothing = 10, min_samples_leaf = 20)\n",
    "# encoder = PolynomialWrapper(encoder_target)\n",
    "x_train = encoder.fit_transform(x_train, y_train)\n",
    "x_test = encoder.transform(x_test)"
   ]
  },
  {
   "cell_type": "code",
   "execution_count": null,
   "metadata": {},
   "outputs": [],
   "source": [
    "x_train['constructor_nationality'] = standard_scaler.fit_transform(x_train[['constructor_nationality']])\n",
    "x_test['constructor_nationality'] = standard_scaler.transform(x_test[['constructor_nationality']])"
   ]
  },
  {
   "cell_type": "code",
   "execution_count": null,
   "metadata": {},
   "outputs": [],
   "source": [
    "x_train['driverId'] = standard_scaler.fit_transform(x_train[['driverId']])\n",
    "x_test['driverId'] = standard_scaler.transform(x_test[['driverId']])"
   ]
  },
  {
   "cell_type": "code",
   "execution_count": null,
   "metadata": {},
   "outputs": [],
   "source": [
    "x_train['constructorId'] = standard_scaler.fit_transform(x_train[['constructorId']])\n",
    "x_test['constructorId'] = standard_scaler.transform(x_test[['constructorId']])"
   ]
  },
  {
   "cell_type": "code",
   "execution_count": null,
   "metadata": {},
   "outputs": [],
   "source": [
    "x_train['circuitId'] = standard_scaler.fit_transform(x_train[['circuitId']])\n",
    "x_test['circuitId'] = standard_scaler.transform(x_test[['circuitId']])"
   ]
  },
  {
   "cell_type": "code",
   "execution_count": null,
   "metadata": {},
   "outputs": [],
   "source": [
    "x_train['constructor_points'].fillna(0, inplace = True)\n",
    "x_test['constructor_points'].fillna(0, inplace = True)"
   ]
  },
  {
   "cell_type": "code",
   "execution_count": null,
   "metadata": {},
   "outputs": [],
   "source": [
    "x_train['constructor_points'] = standard_scaler.fit_transform(x_train[['constructor_points']])\n",
    "x_test['constructor_points'] = standard_scaler.transform(x_test[['constructor_points']])"
   ]
  },
  {
   "cell_type": "code",
   "execution_count": null,
   "metadata": {},
   "outputs": [],
   "source": [
    "x_train['driver_points'].fillna(0, inplace = True)\n",
    "x_test['driver_points'].fillna(0, inplace = True)"
   ]
  },
  {
   "cell_type": "code",
   "execution_count": null,
   "metadata": {},
   "outputs": [],
   "source": [
    "x_train['driver_points'] = standard_scaler.fit_transform(x_train[['driver_points']])\n",
    "x_test['driver_points'] = standard_scaler.transform(x_test[['driver_points']])"
   ]
  },
  {
   "cell_type": "code",
   "execution_count": null,
   "metadata": {},
   "outputs": [],
   "source": [
    "train_driver_mapping = pd.DataFrame(x_train[['driverId', 'driverRef']])\n",
    "train_driver_mapping.set_index('driverId')\n",
    "train_driver_mapping.drop_duplicates()\n",
    "\n",
    "test_driver_mapping = pd.DataFrame(x_test[['driverId', 'driverRef']])\n",
    "test_driver_mapping.set_index('driverId')\n",
    "test_driver_mapping.drop_duplicates()\n",
    "\n",
    "driver_mapping = pd.concat([train_driver_mapping, test_driver_mapping]).drop_duplicates()\n",
    "driver_mapping.to_csv('data/driver_mapping.csv')\n",
    "\n",
    "\n",
    "x_train.drop(columns = ['driverRef'], inplace = True)\n",
    "x_test.drop(columns = ['driverRef'], inplace = True)"
   ]
  },
  {
   "cell_type": "code",
   "execution_count": null,
   "metadata": {},
   "outputs": [],
   "source": [
    "train_circuit_mapping = pd.DataFrame(x_train[['circuitId', 'circuit_id']])\n",
    "train_circuit_mapping.set_index('circuitId')\n",
    "train_circuit_mapping.drop_duplicates()\n",
    "\n",
    "test_circuit_mapping = pd.DataFrame(x_test[['circuitId', 'circuit_id']])\n",
    "test_circuit_mapping.set_index('circuitId')\n",
    "test_circuit_mapping.drop_duplicates()\n",
    "\n",
    "driver_mapping = pd.concat([train_circuit_mapping, test_circuit_mapping]).drop_duplicates()\n",
    "driver_mapping.to_csv('data/circuit_mapping.csv')\n",
    "\n",
    "x_train.drop(columns = ['circuit_id'], inplace = True)\n",
    "x_test.drop(columns = ['circuit_id'], inplace = True)\n"
   ]
  },
  {
   "cell_type": "code",
   "execution_count": null,
   "metadata": {},
   "outputs": [],
   "source": [
    "pd.concat([x_train, y_train], axis = 1).to_csv('./data/train.csv', index = False)\n",
    "pd.concat([x_test, y_test], axis = 1).to_csv('./data/test.csv', index = False)"
   ]
  },
  {
   "cell_type": "code",
   "execution_count": null,
   "metadata": {},
   "outputs": [],
   "source": [
    "x_train_pre = x_train.drop(columns = ['driver_points', 'constructor_points', 'milliseconds', 'constructor_position', 'statusId'])\n",
    "x_test_pre = x_test.drop(columns = ['driver_points', 'constructor_points', 'milliseconds', 'constructor_position', 'statusId'])\n",
    "\n",
    "pd.concat([x_train_pre, y_train], axis = 1).to_csv('./data/train_pre.csv', index = False)\n",
    "pd.concat([x_test_pre, y_test], axis = 1).to_csv('./data/test_pre.csv', index = False)"
   ]
  }
 ],
 "metadata": {
  "kernelspec": {
   "display_name": "Python 3.9.0 64-bit",
   "language": "python",
   "name": "python3"
  },
  "language_info": {
   "codemirror_mode": {
    "name": "ipython",
    "version": 3
   },
   "file_extension": ".py",
   "mimetype": "text/x-python",
   "name": "python",
   "nbconvert_exporter": "python",
   "pygments_lexer": "ipython3",
   "version": "3.9.0"
  },
  "orig_nbformat": 4,
  "vscode": {
   "interpreter": {
    "hash": "aee8b7b246df8f9039afb4144a1f6fd8d2ca17a180786b69acc140d282b71a49"
   }
  }
 },
 "nbformat": 4,
 "nbformat_minor": 2
}
