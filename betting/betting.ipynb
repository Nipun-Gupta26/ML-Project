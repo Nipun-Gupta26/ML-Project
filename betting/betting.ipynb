{
 "cells": [
  {
   "cell_type": "code",
   "execution_count": 56,
   "metadata": {},
   "outputs": [],
   "source": [
    "import pandas as pd\n",
    "import numpy as np\n",
    "from sklearn.metrics import accuracy_score, precision_score, recall_score, f1_score\n",
    "from sklearn.linear_model import LinearRegression, LogisticRegression\n",
    "from sklearn.tree import DecisionTreeRegressor, DecisionTreeClassifier\n",
    "from sklearn.ensemble import RandomForestRegressor, RandomForestClassifier\n",
    "from sklearn.naive_bayes import GaussianNB\n",
    "from sklearn.svm import SVC, SVR\n",
    "from sklearn.neural_network import MLPRegressor, MLPClassifier\n",
    "from sklearn.ensemble import BaggingRegressor, BaggingClassifier, GradientBoostingClassifier, GradientBoostingRegressor"
   ]
  },
  {
   "cell_type": "code",
   "execution_count": 57,
   "metadata": {},
   "outputs": [
    {
     "data": {
      "text/plain": [
       "Index(['raceId', 'year', 'circuitId', 'weather_warm', 'weather_cold',\n",
       "       'weather_dry', 'weather_wet', 'weather_cloudy', 'driverId',\n",
       "       'constructorId', 'grid', 'results_positionOrder', 'circuit_country',\n",
       "       'constructor_wins', 'constructor_nationality', 'driver_nationality',\n",
       "       'driver_wins', 'driver_age', 'results_points'],\n",
       "      dtype='object')"
      ]
     },
     "execution_count": 57,
     "metadata": {},
     "output_type": "execute_result"
    }
   ],
   "source": [
    "df_train = pd.read_csv('./data/train_pre.csv').drop_duplicates()\n",
    "df_test = pd.read_csv('./data/test_pre.csv').drop_duplicates()\n",
    "\n",
    "df_train.columns"
   ]
  },
  {
   "cell_type": "code",
   "execution_count": 58,
   "metadata": {},
   "outputs": [],
   "source": [
    "def RF_classifier(X_train, Y_train):\n",
    "    model = RandomForestClassifier()\n",
    "    model.fit(X_train, Y_train)\n",
    "\n",
    "    return model"
   ]
  },
  {
   "cell_type": "code",
   "execution_count": 59,
   "metadata": {},
   "outputs": [],
   "source": [
    "def get_score(pred, actual, margin):\n",
    "    score = 0\n",
    "    for i in range(len(pred)):\n",
    "        if pred[i] == actual[i]:\n",
    "            score += 1\n",
    "        elif abs(pred[i] - actual[i]) <= margin:\n",
    "            score += 1\n",
    "    return score/len(pred)"
   ]
  },
  {
   "cell_type": "code",
   "execution_count": 71,
   "metadata": {},
   "outputs": [],
   "source": [
    "def get_RF_classifier_Score():\n",
    "    X_train = df_train\n",
    "    Y_train = df_train['results_positionOrder']\n",
    "    model = RF_classifier(X_train.drop(columns = ['results_positionOrder']), Y_train)\n",
    "\n",
    "    score = 0\n",
    "    for i in df_test['raceId'].unique():\n",
    "        X_test = df_test[df_test['raceId'] == i]\n",
    "        Y_test = df_test[df_test['raceId'] == i]['results_positionOrder']\n",
    "\n",
    "        prediction = model.predict(X_test.drop(columns = ['results_positionOrder']))        \n",
    "        actual = Y_test.to_numpy()        \n",
    "        # print('Race # ' + str(i) + ': prediction:' + str(np.argmin(prediction)) + ' actual: ' + str(np.argmin(actual)))\n",
    "        predicted_winner = np.argmin(prediction)\n",
    "        actual_winner = np.argmin(actual)\n",
    "        print(str(prediction) + \" \" + str(actual))\n",
    "        # print(\"Race No: \" + str(i))\n",
    "        # print(\"Predicted: \" + str(predicted_winner) + ' ' + str(X_test['driverId'].iloc[predicted_winner]))\n",
    "        # print(\"Actual: \" + str(actual_winner))\n",
    "        # print()\n",
    "        score += get_score(prediction, actual, 0)\n",
    "\n",
    "    # return precision/len(df_test['raceId'].unique()), accuracy/len(df_test['raceId'].unique()), recall/len(df_test['raceId'].unique()), f1/len(df_test['raceId'].unique())\n",
    "    return score/len(df_test['raceId'].unique())"
   ]
  },
  {
   "cell_type": "code",
   "execution_count": 72,
   "metadata": {},
   "outputs": [
    {
     "name": "stdout",
     "output_type": "stream",
     "text": [
      "[ 2  8 18  4 11 11 16  5  1  7 10 13  3  5  9 15 13 20 11 13] [ 2  8 17  4 13 19 18  6  1  7 10 20  3  5  9 16 12 11 14 15]\n",
      "[ 1  9 14  3  8  7 11 13  2 12 17 12  4  5 13 11 15  6 10 17] [ 1  9 17  3  8  7 11 13  2 20 19 14  4  5 12 16 18  6 10 15]\n",
      "[ 1  7 17  5 10 12 17 17  2 19 12 11  4  3 14 14  6  8  9 16] [ 1  7 16  5 10 18 20 13  2 17 12 19  4  3 14 15  6  8  9 11]\n",
      "[ 1 14 17  4 20 11 10  7  2 20  9  8  3  5 14 17 13  6 20 16] [ 1 14 18  4 15 12 10  7  2 13  9  8  3  5 19 17 20  6 11 16]\n",
      "[ 1 11 18  2 12  9 10 11  3 20  7  6  4 18 12 14 12  5  8 15] [ 1 17 18  2 12  9 10 14  3 13  7  6  4 20 16 15 11  5  8 19]\n",
      "[ 1  8 18 12 20  7 16 15  2 10  9  6  5  3 12 12 19  4 13 14] [ 1  8 15 16 17  7 19 20  2 10  9  6  5  3 13 14 11  4 12 18]\n",
      "[ 1  7 18  3 14 14 16 20  8 17 11  5  2  4 14 18  9  6 10 17] [ 1  7 19  3 11 14 20 13  8 12 15  5  2  4 17 16  9  6 10 18]\n",
      "[ 2 17 20  4  6 19 11 13  3  8  7 12 19  1 10 19 16  9  5 14] [ 2 16 17  4  6 14 13 12  3  8  7 19 20  1 10 15 11  9  5 18]\n",
      "[ 3 20 14 20  7  4 16 16  2  5 12 20  8  1 18 16 10 14  6  9] [ 3 15 17 13  7  4 16 18  2  5 19 20  8  1 12 14 10 11  6  9]\n",
      "[ 3 15 18  1 18 11 19 20  5  9 19 13  3  2 20 17  7  8  6 10] [ 4 18 16  1 19 14 11 17  5  9 15 12  3  2 13 20  7  8  6 10]\n",
      "[ 3 11 20  2  8 11 16 17  1 19 10  5 19  6  9 17 13  7  4 20] [ 3 12 17  2  8 19 13 15  1 20 10  5 18  6  9 16 11  7  4 14]\n",
      "[ 3  4 17 19  9  6 16 20 17 19 10  3  1 19 19 15  8  6 13  6] [ 7  4 16 17  9  6 13 11 20 15 10  3  1 18 19 12  8  2 14  5]\n",
      "[ 1 12 18  5  7 11 11 13  4 20  9 10  2  3 20 15  8 13  6 16] [ 1 13 19  5  7 11 15 14  4 12  9 10  2  3 20 17  8 18  6 16]\n",
      "[ 1 12 14  2 18  6 16 20  4  7 10 20  5  3  9 15 13  8 13 14] [ 1 15 18  2 12  6 14 17  4  7 10 11  5  3  9 16 20  8 19 13]\n",
      "[ 7 17 10  2 12 19  7  8 17 19  4  5  1 20  3 20 14 20  6 11] [ 9 12 10  2 20 19  7  8 15 16  3  5  1 17  4 11 18 14  6 13]\n",
      "[ 5  9 14  4 18 19 16 13  3 19 12  8  1  2 18 16  5  7 15 10] [ 5  9 20  4 11 12 16 19  3 13 17  8  1  2 14 18  6  7 15 10]\n",
      "[ 1 11 18  2  7  8 16 15  3 10 11 20  6  4 12 12 13  9  5 14] [ 1 19 18  2  7  8 17 15  3 10 11 13  6  4 12 16 20  9  5 14]\n",
      "[ 1  7 18  5 18 19 12 13  2  8 18  6  4  3 17 14  9 10 14 13] [ 1  7 18  5 12 11 20 17  2  8 14  6  4  3 13 19  9 10 15 16]\n",
      "[ 2 14 18 19 10  6 17 20  1  9 11  8  3  4 14 18  7 12  5 11] [ 2 11 19 20 10  6 15 18  1  9 12  8  3  4 13 17  7 16  5 14]\n",
      "[ 1 14 14 19  7 12 11  9  2 10 19  6  4  3 20 18  8 19  5 12] [ 1 13 16 18  7 19 20  9  2 10 12  6  4  3 11 17  8 14  5 15]\n",
      "[ 2 10 20  3  6 12 13 20  1 19 19  7  4  5  9 15  8 20 19 11] [ 2 10 16  3  6 20 18 13  1 14 19  7  4  5  9 15  8 17 11 12]\n"
     ]
    },
    {
     "data": {
      "text/plain": [
       "0.5428571428571429"
      ]
     },
     "execution_count": 72,
     "metadata": {},
     "output_type": "execute_result"
    }
   ],
   "source": [
    "get_RF_classifier_Score()"
   ]
  },
  {
   "cell_type": "code",
   "execution_count": 73,
   "metadata": {},
   "outputs": [],
   "source": [
    "def logisticRegression(X_train, Y_train):\n",
    "    model = LogisticRegression(max_iter=2500, multi_class = 'ovr')\n",
    "    model.fit(X_train, Y_train)\n",
    "\n",
    "    return model"
   ]
  },
  {
   "cell_type": "code",
   "execution_count": 74,
   "metadata": {},
   "outputs": [],
   "source": [
    "def get_Logistic_Regression_Score():\n",
    "    X_train = df_train\n",
    "    Y_train = df_train['results_positionOrder']\n",
    "    model = logisticRegression(X_train.drop(columns = ['results_positionOrder']), Y_train)\n",
    "\n",
    "    score = 0\n",
    "    for i in df_test['raceId'].unique():\n",
    "        X_test = df_test[df_test['raceId'] == i]\n",
    "        Y_test = df_test[df_test['raceId'] == i]['results_positionOrder']\n",
    "\n",
    "        prediction = model.predict(X_test.drop(columns = ['results_positionOrder']))\n",
    "        actual = Y_test.to_numpy()\n",
    "\n",
    "        predicted_winner = np.argmin(prediction)\n",
    "        actual_winner = np.argmin(actual)\n",
    "\n",
    "        print(\"Race No: \" + str(i))\n",
    "        print(\"Predicted: \" + str(predicted_winner) + ' ' + str(X_test['driverId'].iloc[predicted_winner]))\n",
    "        print(\"Actual: \" + str(actual_winner))\n",
    "        print()\n",
    "        \n",
    "        score += get_score(prediction, actual, 3)\n",
    "\n",
    "    # return precision/len(df_test['raceId'].unique()), accuracy/len(df_test['raceId'].unique()), recall/len(df_test['raceId'].unique()), f1/len(df_test['raceId'].unique())\n",
    "    return score/len(df_test['raceId'].unique())"
   ]
  },
  {
   "cell_type": "code",
   "execution_count": 75,
   "metadata": {},
   "outputs": [
    {
     "name": "stdout",
     "output_type": "stream",
     "text": [
      "Race No: 1010\n",
      "Predicted: 8 2.7150975121010124\n",
      "Actual: 8\n",
      "\n",
      "Race No: 1012\n",
      "Predicted: 0 5.030494044842969\n",
      "Actual: 0\n",
      "\n",
      "Race No: 1011\n",
      "Predicted: 0 5.030494044842969\n",
      "Actual: 0\n",
      "\n",
      "Race No: 1014\n",
      "Predicted: 0 5.030494044842969\n",
      "Actual: 0\n",
      "\n",
      "Race No: 1015\n",
      "Predicted: 0 5.030494044842969\n",
      "Actual: 0\n",
      "\n",
      "Race No: 1019\n",
      "Predicted: 0 5.030494044842969\n",
      "Actual: 0\n",
      "\n",
      "Race No: 1021\n",
      "Predicted: 0 5.030494044842969\n",
      "Actual: 0\n",
      "\n",
      "Race No: 1022\n",
      "Predicted: 0 5.030494044842969\n",
      "Actual: 13\n",
      "\n",
      "Race No: 1023\n",
      "Predicted: 0 5.030494044842969\n",
      "Actual: 13\n",
      "\n",
      "Race No: 1024\n",
      "Predicted: 3 3.6352554824694607\n",
      "Actual: 3\n",
      "\n",
      "Race No: 1026\n",
      "Predicted: 0 5.030494044842969\n",
      "Actual: 8\n",
      "\n",
      "Race No: 1029\n",
      "Predicted: 12 4.0099426190107215\n",
      "Actual: 12\n",
      "\n",
      "Race No: 1030\n",
      "Predicted: 0 5.030494044842969\n",
      "Actual: 0\n",
      "\n",
      "Race No: 1016\n",
      "Predicted: 0 5.030494044842969\n",
      "Actual: 0\n",
      "\n",
      "Race No: 1020\n",
      "Predicted: 10 -0.06787930668749181\n",
      "Actual: 12\n",
      "\n",
      "Race No: 1018\n",
      "Predicted: 12 4.0099426190107215\n",
      "Actual: 12\n",
      "\n",
      "Race No: 1027\n",
      "Predicted: 0 5.030494044842969\n",
      "Actual: 0\n",
      "\n",
      "Race No: 1017\n",
      "Predicted: 0 5.030494044842969\n",
      "Actual: 0\n",
      "\n",
      "Race No: 1028\n",
      "Predicted: 8 2.7150975121010124\n",
      "Actual: 8\n",
      "\n",
      "Race No: 1025\n",
      "Predicted: 0 5.030494044842969\n",
      "Actual: 0\n",
      "\n",
      "Race No: 1013\n",
      "Predicted: 8 2.7150975121010124\n",
      "Actual: 8\n",
      "\n"
     ]
    },
    {
     "data": {
      "text/plain": [
       "0.7190476190476189"
      ]
     },
     "execution_count": 75,
     "metadata": {},
     "output_type": "execute_result"
    }
   ],
   "source": [
    "get_Logistic_Regression_Score()"
   ]
  }
 ],
 "metadata": {
  "kernelspec": {
   "display_name": "Python 3.8.5",
   "language": "python",
   "name": "python3"
  },
  "language_info": {
   "codemirror_mode": {
    "name": "ipython",
    "version": 3
   },
   "file_extension": ".py",
   "mimetype": "text/x-python",
   "name": "python",
   "nbconvert_exporter": "python",
   "pygments_lexer": "ipython3",
   "version": "3.8.5"
  },
  "orig_nbformat": 4,
  "vscode": {
   "interpreter": {
    "hash": "9e8b769b579f7e1184bbdd06a00965f39c9a67b211c1b493659b6ecaa58eba9c"
   }
  }
 },
 "nbformat": 4,
 "nbformat_minor": 2
}
