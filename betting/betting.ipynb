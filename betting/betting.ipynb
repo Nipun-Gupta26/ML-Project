{
 "cells": [
  {
   "cell_type": "code",
   "execution_count": 210,
   "metadata": {},
   "outputs": [],
   "source": [
    "import pandas as pd\n",
    "import numpy as np\n",
    "from sklearn.metrics import accuracy_score, precision_score, recall_score, f1_score\n",
    "from sklearn.linear_model import LinearRegression, LogisticRegression\n",
    "from sklearn.tree import DecisionTreeRegressor, DecisionTreeClassifier\n",
    "from sklearn.ensemble import RandomForestRegressor, RandomForestClassifier\n",
    "from sklearn.naive_bayes import GaussianNB\n",
    "from sklearn.svm import SVC, SVR\n",
    "from sklearn.neural_network import MLPRegressor, MLPClassifier\n",
    "from sklearn.ensemble import BaggingRegressor, BaggingClassifier, GradientBoostingClassifier, GradientBoostingRegressor"
   ]
  },
  {
   "cell_type": "code",
   "execution_count": 211,
   "metadata": {},
   "outputs": [],
   "source": [
    "df_train = pd.read_csv('./data/train_pre.csv').drop_duplicates()\n",
    "df_test = pd.read_csv('./data/test_pre.csv').drop_duplicates()\n",
    "drivers = pd.read_csv('./data/driver_mapping.csv')\n",
    "\n",
    "drivers.drop(columns=['Unnamed: 0'], inplace=True)"
   ]
  },
  {
   "cell_type": "code",
   "execution_count": 212,
   "metadata": {},
   "outputs": [],
   "source": [
    "def get_score(pred, actual, margin):\n",
    "    score = 0\n",
    "    for i in range(len(pred)):\n",
    "        if pred[i] == actual[i]:\n",
    "            score += 1\n",
    "        elif abs(pred[i] - actual[i]) <= margin:\n",
    "            score += 1\n",
    "    return score/len(pred)"
   ]
  },
  {
   "cell_type": "markdown",
   "metadata": {},
   "source": [
    "#### RF CLASSIFIER"
   ]
  },
  {
   "cell_type": "code",
   "execution_count": 213,
   "metadata": {},
   "outputs": [],
   "source": [
    "def RF_classifier(X_train, Y_train):\n",
    "    model = RandomForestClassifier()\n",
    "    model.fit(X_train, Y_train)\n",
    "\n",
    "    return model"
   ]
  },
  {
   "cell_type": "code",
   "execution_count": 214,
   "metadata": {},
   "outputs": [],
   "source": [
    "def get_RF_classifier_Score():\n",
    "    X_train = df_train\n",
    "    Y_train = df_train['results_positionOrder']\n",
    "    model = RF_classifier(X_train.drop(columns = ['results_positionOrder']), Y_train)\n",
    "    race_nos = []\n",
    "    predicted_winners = []\n",
    "    actual_winners = []\n",
    "    predicted_driver_ids = []\n",
    "    actual_driver_ids = []\n",
    "    predicted_winner_name = []\n",
    "    actual_winner_name = []\n",
    "\n",
    "    score = 0\n",
    "    for i in df_test['raceId'].unique():\n",
    "        X_test = df_test[df_test['raceId'] == i]\n",
    "        Y_test = df_test[df_test['raceId'] == i]['results_positionOrder']\n",
    "\n",
    "        prediction = model.predict(X_test.drop(columns = ['results_positionOrder']))        \n",
    "        actual = Y_test.to_numpy()        \n",
    "        \n",
    "        predicted_winner = np.argmin(prediction)\n",
    "        actual_winner = np.argmin(actual)        \n",
    "                \n",
    "        race_nos.append(str(i))\n",
    "        predicted_winners.append(str(predicted_winner))\n",
    "        actual_winners.append(str(actual_winner))\n",
    "        predicted_driver_ids.append(X_test['driverId'].iloc[predicted_winner])\n",
    "        actual_driver_ids.append(X_test['driverId'].iloc[actual_winner])\n",
    "\n",
    "        \n",
    "        predicted_winner_name.append(drivers[np.isclose(drivers['driverId'], X_test['driverId'].iloc[predicted_winner])].driverRef.values[0])\n",
    "        actual_winner_name.append(drivers[np.isclose(drivers['driverId'], X_test['driverId'].iloc[actual_winner])].driverRef.values[0])\n",
    "\n",
    "        score += get_score(prediction, actual, 0)\n",
    "\n",
    "    d = {'Predicted_winner': predicted_winners, 'Predicted Driver' : predicted_winner_name, 'Actual_winner': actual_winners, 'Actual Driver': actual_winner_name}\n",
    "    return(pd.DataFrame(d, index=race_nos))"
   ]
  },
  {
   "cell_type": "code",
   "execution_count": 216,
   "metadata": {},
   "outputs": [
    {
     "name": "stdout",
     "output_type": "stream",
     "text": [
      "1951\n"
     ]
    },
    {
     "data": {
      "text/html": [
       "<div>\n",
       "<style scoped>\n",
       "    .dataframe tbody tr th:only-of-type {\n",
       "        vertical-align: middle;\n",
       "    }\n",
       "\n",
       "    .dataframe tbody tr th {\n",
       "        vertical-align: top;\n",
       "    }\n",
       "\n",
       "    .dataframe thead th {\n",
       "        text-align: right;\n",
       "    }\n",
       "</style>\n",
       "<table border=\"1\" class=\"dataframe\">\n",
       "  <thead>\n",
       "    <tr style=\"text-align: right;\">\n",
       "      <th></th>\n",
       "      <th>Predicted_winner</th>\n",
       "      <th>Predicted Driver</th>\n",
       "      <th>Actual_winner</th>\n",
       "      <th>Actual Driver</th>\n",
       "    </tr>\n",
       "  </thead>\n",
       "  <tbody>\n",
       "    <tr>\n",
       "      <th>825</th>\n",
       "      <td>1</td>\n",
       "      <td>fangio</td>\n",
       "      <td>1</td>\n",
       "      <td>fangio</td>\n",
       "    </tr>\n",
       "    <tr>\n",
       "      <th>830</th>\n",
       "      <td>1</td>\n",
       "      <td>fangio</td>\n",
       "      <td>4</td>\n",
       "      <td>ascari</td>\n",
       "    </tr>\n",
       "    <tr>\n",
       "      <th>831</th>\n",
       "      <td>2</td>\n",
       "      <td>farina</td>\n",
       "      <td>5</td>\n",
       "      <td>ascari</td>\n",
       "    </tr>\n",
       "    <tr>\n",
       "      <th>828</th>\n",
       "      <td>1</td>\n",
       "      <td>fangio</td>\n",
       "      <td>1</td>\n",
       "      <td>fangio</td>\n",
       "    </tr>\n",
       "    <tr>\n",
       "      <th>832</th>\n",
       "      <td>1</td>\n",
       "      <td>fangio</td>\n",
       "      <td>1</td>\n",
       "      <td>fangio</td>\n",
       "    </tr>\n",
       "    <tr>\n",
       "      <th>829</th>\n",
       "      <td>0</td>\n",
       "      <td>fangio</td>\n",
       "      <td>4</td>\n",
       "      <td>trintignant</td>\n",
       "    </tr>\n",
       "    <tr>\n",
       "      <th>827</th>\n",
       "      <td>0</td>\n",
       "      <td>fangio</td>\n",
       "      <td>1</td>\n",
       "      <td>farina</td>\n",
       "    </tr>\n",
       "    <tr>\n",
       "      <th>826</th>\n",
       "      <td>17</td>\n",
       "      <td>pian</td>\n",
       "      <td>17</td>\n",
       "      <td>pian</td>\n",
       "    </tr>\n",
       "  </tbody>\n",
       "</table>\n",
       "</div>"
      ],
      "text/plain": [
       "    Predicted_winner Predicted Driver Actual_winner Actual Driver\n",
       "825                1           fangio             1        fangio\n",
       "830                1           fangio             4        ascari\n",
       "831                2           farina             5        ascari\n",
       "828                1           fangio             1        fangio\n",
       "832                1           fangio             1        fangio\n",
       "829                0           fangio             4   trintignant\n",
       "827                0           fangio             1        farina\n",
       "826               17             pian            17          pian"
      ]
     },
     "execution_count": 216,
     "metadata": {},
     "output_type": "execute_result"
    }
   ],
   "source": [
    "print('1951')\n",
    "get_RF_classifier_Score()"
   ]
  }
 ],
 "metadata": {
  "kernelspec": {
   "display_name": "Python 3.9.6 64-bit",
   "language": "python",
   "name": "python3"
  },
  "language_info": {
   "codemirror_mode": {
    "name": "ipython",
    "version": 3
   },
   "file_extension": ".py",
   "mimetype": "text/x-python",
   "name": "python",
   "nbconvert_exporter": "python",
   "pygments_lexer": "ipython3",
   "version": "3.9.6"
  },
  "orig_nbformat": 4,
  "vscode": {
   "interpreter": {
    "hash": "31f2aee4e71d21fbe5cf8b01ff0e069b9275f58929596ceb00d14d90e3e16cd6"
   }
  }
 },
 "nbformat": 4,
 "nbformat_minor": 2
}
