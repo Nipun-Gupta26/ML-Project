{
 "cells": [
  {
   "cell_type": "code",
   "execution_count": 135,
   "metadata": {},
   "outputs": [],
   "source": [
    "import pandas as pd\n",
    "import numpy as np\n",
    "import matplotlib.pyplot as plt\n",
    "# import seaborn as sns\n",
    "# import plotly.graph_objects as go\n",
    "# import plotly.express as px\n",
    "from sklearn.preprocessing import StandardScaler, MinMaxScaler, LabelEncoder\n",
    "from category_encoders import TargetEncoder\n",
    "from sklearn.model_selection import train_test_split\n",
    "from category_encoders.wrapper import PolynomialWrapper\n",
    "from sklearn.decomposition import PCA"
   ]
  },
  {
   "cell_type": "code",
   "execution_count": 136,
   "metadata": {},
   "outputs": [
    {
     "data": {
      "text/plain": [
       "Index(['raceId', 'year', 'round', 'circuitId', 'name', 'date', 'time',\n",
       "       'circuit_id', 'weather_warm', 'weather_cold', 'weather_dry',\n",
       "       'weather_wet', 'weather_cloudy', 'resultId', 'driverId',\n",
       "       'constructorId', 'car_number', 'grid', 'results_positionOrder',\n",
       "       'results_points', 'laps', 'milliseconds', 'fastestLap',\n",
       "       'fastestLapTime', 'fastestLapSpeed', 'statusId', 'status',\n",
       "       'circuit_location', 'circuit_country', 'constructorStandingsId',\n",
       "       'constructor_points', 'constructor_position', 'constructor_wins',\n",
       "       'constructorRef', 'constructor_nationality', 'driverRef',\n",
       "       'driver_number', 'driver_code', 'forename', 'dob', 'driver_nationality',\n",
       "       'driverStandingsId', 'driver_points', 'driver_position', 'driver_wins',\n",
       "       'qualifyId', 'number', 'qualifying_position', 'q1_time', 'q2_time',\n",
       "       'q3_time', 'no_of_stops', 'ms_avg', 'first_5_avg_time',\n",
       "       'last_10_avg_time', 'lap_position_after_5',\n",
       "       'lap_position_before_last_10'],\n",
       "      dtype='object')"
      ]
     },
     "execution_count": 136,
     "metadata": {},
     "output_type": "execute_result"
    }
   ],
   "source": [
    "df = pd.read_csv('../data/dataset.csv', low_memory=False)\n",
    "df.rename(columns={'Unnamed: 0': 'index'}, inplace=True)\n",
    "df.rename(columns = {'country': 'circuit_country'}, inplace = True)\n",
    "df.drop(columns=['index'], inplace=True)\n",
    "df.columns"
   ]
  },
  {
   "cell_type": "code",
   "execution_count": 137,
   "metadata": {},
   "outputs": [],
   "source": [
    "cols_to_be_dropped = ['round', 'name', 'time', 'car_number', 'resultId', 'laps', 'fastestLap', 'fastestLapTime', 'fastestLapSpeed', 'first_5_avg_time', 'last_10_avg_time', 'lap_position_after_5', 'lap_position_before_last_10', 'circuit_location', 'constructorStandingsId', 'constructorRef', 'driver_number', 'driver_code', 'forename', 'driverStandingsId', 'number', 'status', 'qualifying_position', 'q1_time', 'q2_time', 'q3_time', 'ms_avg', 'no_of_stops', 'driver_position', 'qualifyId']\n",
    "df_after_dropping = df.drop(columns = cols_to_be_dropped)"
   ]
  },
  {
   "cell_type": "markdown",
   "metadata": {},
   "source": [
    "#### Merging with qualifier"
   ]
  },
  {
   "cell_type": "code",
   "execution_count": 138,
   "metadata": {},
   "outputs": [],
   "source": [
    "qualifiers = pd.read_csv('../qualifier_data/qualify.csv')"
   ]
  },
  {
   "cell_type": "code",
   "execution_count": 139,
   "metadata": {},
   "outputs": [
    {
     "data": {
      "text/plain": [
       "(9385, 32)"
      ]
     },
     "execution_count": 139,
     "metadata": {},
     "output_type": "execute_result"
    }
   ],
   "source": [
    "temp = pd.merge(df_after_dropping, qualifiers, how = 'inner')\n",
    "temp.shape"
   ]
  },
  {
   "cell_type": "markdown",
   "metadata": {},
   "source": [
    "#### Getting age from date & dob"
   ]
  },
  {
   "cell_type": "code",
   "execution_count": 140,
   "metadata": {},
   "outputs": [],
   "source": [
    "from datetime import datetime\n",
    "from dateutil import relativedelta\n",
    "\n",
    "# get two dates\n",
    "race_date = df_after_dropping['date']\n",
    "driver_dob = df_after_dropping['dob']\n",
    "\n",
    "ages = []\n",
    "\n",
    "for i in range(len(race_date)):\n",
    "    start_date = datetime.strptime(race_date[i],\"%Y-%m-%d\")\n",
    "    end_date = datetime.strptime(driver_dob[i], \"%Y-%m-%d\")\n",
    "    delta = relativedelta.relativedelta(start_date, end_date)\n",
    "    ages.append(delta.years)\n",
    "\n",
    "df_after_dropping['driver_age'] = ages\n",
    "df_after_dropping.drop(columns = ['date', 'dob'], inplace = True)"
   ]
  },
  {
   "cell_type": "markdown",
   "metadata": {},
   "source": [
    "### Merging qualifier data"
   ]
  },
  {
   "cell_type": "code",
   "execution_count": 141,
   "metadata": {},
   "outputs": [],
   "source": [
    "qualify_df = pd.read_csv('../qualifier_data/qualify.csv')"
   ]
  },
  {
   "cell_type": "code",
   "execution_count": 142,
   "metadata": {},
   "outputs": [],
   "source": [
    "df_after_dropping = pd.merge(df_after_dropping, qualify_df, how = 'inner', on = ['raceId', 'year', 'circuitId', 'driverId', 'constructorId'])"
   ]
  },
  {
   "cell_type": "markdown",
   "metadata": {},
   "source": [
    "#### Changing status IDs to 0s and 1s"
   ]
  },
  {
   "cell_type": "code",
   "execution_count": 143,
   "metadata": {},
   "outputs": [
    {
     "name": "stderr",
     "output_type": "stream",
     "text": [
      "/var/folders/jz/4h4qzpcj1f793lsytmhhycfw0000gn/T/ipykernel_9462/639805009.py:1: SettingWithCopyWarning: \n",
      "A value is trying to be set on a copy of a slice from a DataFrame\n",
      "\n",
      "See the caveats in the documentation: https://pandas.pydata.org/pandas-docs/stable/user_guide/indexing.html#returning-a-view-versus-a-copy\n",
      "  df_after_dropping['statusId'][df_after_dropping['statusId'] > 1] = 0\n"
     ]
    }
   ],
   "source": [
    "df_after_dropping['statusId'][df_after_dropping['statusId'] > 1] = 0"
   ]
  },
  {
   "cell_type": "markdown",
   "metadata": {},
   "source": [
    "#### Replace Nan in Constructor_position by max Value = 21 & Replace Nan in Constructor_wins by 0"
   ]
  },
  {
   "cell_type": "code",
   "execution_count": 144,
   "metadata": {},
   "outputs": [],
   "source": [
    "df_after_dropping['constructor_position'] = df_after_dropping['constructor_position'].fillna(21)\n",
    "df_after_dropping['constructor_wins'] = df_after_dropping['driver_wins'].fillna(0)"
   ]
  },
  {
   "cell_type": "code",
   "execution_count": 145,
   "metadata": {},
   "outputs": [
    {
     "name": "stderr",
     "output_type": "stream",
     "text": [
      "/var/folders/jz/4h4qzpcj1f793lsytmhhycfw0000gn/T/ipykernel_9462/2860193466.py:1: UserWarning: Boolean Series key will be reindexed to match DataFrame index.\n",
      "  df_after_dropping[df_after_dropping['milliseconds'] == '\\\\N'][df_after_dropping['statusId'] == 1].index\n"
     ]
    },
    {
     "data": {
      "text/plain": [
       "Int64Index([], dtype='int64')"
      ]
     },
     "execution_count": 145,
     "metadata": {},
     "output_type": "execute_result"
    }
   ],
   "source": [
    "df_after_dropping[df_after_dropping['milliseconds'] == '\\\\N'][df_after_dropping['statusId'] == 1].index"
   ]
  },
  {
   "cell_type": "code",
   "execution_count": 146,
   "metadata": {},
   "outputs": [
    {
     "name": "stderr",
     "output_type": "stream",
     "text": [
      "/var/folders/jz/4h4qzpcj1f793lsytmhhycfw0000gn/T/ipykernel_9462/1646513684.py:1: UserWarning: Boolean Series key will be reindexed to match DataFrame index.\n",
      "  df_after_dropping.drop(df_after_dropping[df_after_dropping['milliseconds'] == '\\\\N'][df_after_dropping['statusId'] == 1].index, inplace=True)\n"
     ]
    }
   ],
   "source": [
    "df_after_dropping.drop(df_after_dropping[df_after_dropping['milliseconds'] == '\\\\N'][df_after_dropping['statusId'] == 1].index, inplace=True)"
   ]
  },
  {
   "cell_type": "code",
   "execution_count": 147,
   "metadata": {},
   "outputs": [],
   "source": [
    "index = df_after_dropping[df_after_dropping['results_points'] > 26].index\n",
    "df_after_dropping.drop(index, inplace=True)"
   ]
  },
  {
   "cell_type": "code",
   "execution_count": 148,
   "metadata": {},
   "outputs": [
    {
     "data": {
      "text/plain": [
       "raceId                        0\n",
       "year                          0\n",
       "circuitId                     0\n",
       "circuit_id                 1039\n",
       "weather_warm                  0\n",
       "weather_cold                  0\n",
       "weather_dry                   0\n",
       "weather_wet                   0\n",
       "weather_cloudy                0\n",
       "driverId                      0\n",
       "constructorId                 0\n",
       "grid                          0\n",
       "results_positionOrder         0\n",
       "results_points                0\n",
       "milliseconds                  0\n",
       "statusId                      0\n",
       "circuit_country               0\n",
       "constructor_points           95\n",
       "constructor_position          0\n",
       "constructor_wins              0\n",
       "constructor_nationality       0\n",
       "driverRef                     0\n",
       "driver_nationality            0\n",
       "driver_points               241\n",
       "driver_wins                   0\n",
       "driver_age                    0\n",
       "Unnamed: 0                    0\n",
       "qualifying_position           0\n",
       "q1_time_ms                    0\n",
       "q2_time_ms                    0\n",
       "q3_time_ms                    0\n",
       "dtype: int64"
      ]
     },
     "execution_count": 148,
     "metadata": {},
     "output_type": "execute_result"
    }
   ],
   "source": [
    "df_after_dropping['weather_warm'] = df_after_dropping['weather_warm'].fillna(0)\n",
    "df_after_dropping['weather_cold'] = df_after_dropping['weather_cold'].fillna(0)\n",
    "df_after_dropping['weather_dry'] = df_after_dropping['weather_dry'].fillna(0)\n",
    "df_after_dropping['weather_wet'] = df_after_dropping['weather_wet'].fillna(0)\n",
    "df_after_dropping['weather_cloudy'] = df_after_dropping['weather_cloudy'].fillna(0)\n",
    "df_after_dropping['driver_wins'] = df_after_dropping['driver_wins'].fillna(0)\n",
    "df_after_dropping.isnull().sum()"
   ]
  },
  {
   "cell_type": "code",
   "execution_count": 149,
   "metadata": {},
   "outputs": [],
   "source": [
    "df_after_dropping['milliseconds'] = df_after_dropping['milliseconds'].replace('\\\\N', 0)"
   ]
  },
  {
   "cell_type": "code",
   "execution_count": 150,
   "metadata": {},
   "outputs": [],
   "source": [
    "df_after_dropping['milliseconds'] = df_after_dropping['milliseconds'].astype('int64')"
   ]
  },
  {
   "cell_type": "code",
   "execution_count": 151,
   "metadata": {},
   "outputs": [],
   "source": [
    "df_after_dropping['milliseconds'] = df_after_dropping['milliseconds'].replace(0, df_after_dropping['milliseconds'].max() * 2)"
   ]
  },
  {
   "cell_type": "code",
   "execution_count": 152,
   "metadata": {},
   "outputs": [
    {
     "data": {
      "text/plain": [
       "count    9.382000e+03\n",
       "mean     1.941755e+07\n",
       "std      1.171622e+07\n",
       "min      2.070710e+05\n",
       "25%      5.781706e+06\n",
       "50%      2.948629e+07\n",
       "75%      2.948629e+07\n",
       "max      2.948629e+07\n",
       "Name: milliseconds, dtype: float64"
      ]
     },
     "execution_count": 152,
     "metadata": {},
     "output_type": "execute_result"
    }
   ],
   "source": [
    "df_after_dropping['milliseconds'].describe()"
   ]
  },
  {
   "cell_type": "code",
   "execution_count": 153,
   "metadata": {},
   "outputs": [],
   "source": [
    "upper_limit = df_after_dropping[\"driver_age\"].quantile(0.97)\n",
    "df_after_dropping['driver_age'] = np.where(df_after_dropping['driver_age'] > upper_limit, upper_limit, df_after_dropping['driver_age'])"
   ]
  },
  {
   "cell_type": "code",
   "execution_count": 154,
   "metadata": {},
   "outputs": [],
   "source": [
    "df_after_dropping['results_positionOrder'] = np.where(df_after_dropping['results_positionOrder'] > 20, 20, df_after_dropping['results_positionOrder'])"
   ]
  },
  {
   "cell_type": "code",
   "execution_count": 155,
   "metadata": {},
   "outputs": [],
   "source": [
    "dictDriverCountry={'Argentine':1,'Australian':2,'Austrian':3,'Belgian':6,'Brazilian':7,'Canadian':8,'Chinese':9,\n",
    "'French':10,'German':11,'Hungarian':12,'Indian':13,'Italian':14,'Japanese':15,'Malaysian':17,\n",
    "'Mexican':18,'Monegasque':19,'Portuguese':22,'Russian':24,'South African':27,'Spanish':28,\n",
    "'Swedish':29,'Swiss':30,'British':33,'American':34,'American-Italian':14,'Argentine-Italian':1,\n",
    "'Chilean':35,'Colombian':36,'Czech':37,'Danish':38,'Dutch':39,'East German':11,'Finnish':40,'Indonesian':41,'Irish':42,\n",
    "'Liechtensteiner':43,'New Zealander':44,'Polish':45,'Rhodesian':46,'Thai':47,'Uruguayan':48,'Venezuelan':49\n",
    "}"
   ]
  },
  {
   "cell_type": "code",
   "execution_count": 156,
   "metadata": {},
   "outputs": [],
   "source": [
    "dictCircuitCountry = {'Argentina': 1, 'Australia': 2, 'Austria': 3, 'Azerbaijan': 4, 'Bahrain': 5, 'Belgium': 6, \n",
    "'Brazil': 7, 'Canada': 8, 'China': 9, 'France': 10, 'Germany': 11, 'Hungary': 12, 'India': 13, 'Italy': 14, 'Japan': 15, \n",
    "'Korea': 16, 'Malaysia': 17, 'Mexico': 18, 'Monaco': 19, 'Morocco': 20, 'Netherlands': 21, 'Portugal': 22, 'Qatar': 23, \n",
    "'Russia': 24, 'Saudi Arabia': 25, 'Singapore': 26, 'South Africa': 27, 'Spain': 28, 'Sweden': 29, 'Switzerland': 30, \n",
    "'Turkey': 31, 'UAE': 32, 'UK': 33, 'USA': 34}"
   ]
  },
  {
   "cell_type": "code",
   "execution_count": 157,
   "metadata": {},
   "outputs": [],
   "source": [
    "df_after_dropping['circuit_country'] = df_after_dropping['circuit_country'].map(dictCircuitCountry)"
   ]
  },
  {
   "cell_type": "code",
   "execution_count": 158,
   "metadata": {},
   "outputs": [],
   "source": [
    "df_after_dropping['driver_nationality'] = df_after_dropping['driver_nationality'].map(dictDriverCountry)"
   ]
  },
  {
   "cell_type": "code",
   "execution_count": 159,
   "metadata": {},
   "outputs": [],
   "source": [
    "# import random\n",
    "# # x_train, x_test, y_train, y_test = train_test_split(df_after_dropping.drop(columns = ['results_positionOrder']), df_after_dropping['results_positionOrder'], test_size = 0.15, random_state = 42, stratify=df_after_dropping['results_positionOrder'])\n",
    "# testing_years = []\n",
    "# r1 = random.sample(range(2010, 2021), 3)    \n",
    "# r2 = random.sample(range(1950, 1990), 3)\n",
    "# testing_years.extend(r1)\n",
    "# testing_years.extend(r2)\n",
    "\n",
    "# df_test = pd.DataFrame()\n",
    "# for i in testing_years:\n",
    "#     df_temp = df_after_dropping[df_after_dropping['year'] == i]\n",
    "#     df_test = pd.concat([df_test, df_temp])\n",
    "\n",
    "# df_train = pd.concat([df_after_dropping, df_test, df_test]).drop_duplicates(keep=False)\n",
    "\n",
    "# x_train, x_test, y_train, y_test = df_train.drop(columns = ['results_points']), df_test.drop(columns = ['results_points']), df_train['results_points'], df_test['results_points']\n",
    "# print(x_train.shape, x_test.shape, y_train.shape, y_test.shape)"
   ]
  },
  {
   "cell_type": "code",
   "execution_count": 160,
   "metadata": {},
   "outputs": [],
   "source": [
    "testing_year = 2019\n",
    "training_years = range(1950, testing_year)\n",
    "\n",
    "df_test = df_after_dropping[df_after_dropping['year'] == testing_year]\n",
    "\n",
    "df_train = pd.DataFrame()\n",
    "for i in training_years:\n",
    "    df_temp = df_after_dropping[df_after_dropping['year'] == i]\n",
    "    df_train = pd.concat([df_temp, df_train])\n",
    "\n",
    "x_train, x_test, y_train, y_test = df_train.drop(columns = ['results_points']), df_test.drop(columns = ['results_points']), df_train['results_points'], df_test['results_points']\n",
    "\n"
   ]
  },
  {
   "cell_type": "code",
   "execution_count": 161,
   "metadata": {},
   "outputs": [],
   "source": [
    "standard_scaler = StandardScaler()\n",
    "min_max_scaler = MinMaxScaler()"
   ]
  },
  {
   "cell_type": "code",
   "execution_count": 162,
   "metadata": {},
   "outputs": [],
   "source": [
    "x_train['milliseconds'] = min_max_scaler.fit_transform(x_train[['milliseconds']])\n",
    "x_test['milliseconds'] = min_max_scaler.transform(x_test[['milliseconds']])"
   ]
  },
  {
   "cell_type": "code",
   "execution_count": 163,
   "metadata": {},
   "outputs": [],
   "source": [
    "x_train['driver_age'] = min_max_scaler.fit_transform(x_train[['driver_age']])\n",
    "x_test['driver_age'] = min_max_scaler.transform(x_test[['driver_age']])"
   ]
  },
  {
   "cell_type": "code",
   "execution_count": 164,
   "metadata": {},
   "outputs": [],
   "source": [
    "x_train['driver_wins'] = standard_scaler.fit_transform(x_train[['driver_wins']])\n",
    "x_test['driver_wins'] = standard_scaler.transform(x_test[['driver_wins']])"
   ]
  },
  {
   "cell_type": "code",
   "execution_count": 165,
   "metadata": {},
   "outputs": [],
   "source": [
    "x_train['constructor_wins'] = standard_scaler.fit_transform(x_train[['constructor_wins']])\n",
    "x_test['constructor_wins'] = standard_scaler.transform(x_test[['constructor_wins']])"
   ]
  },
  {
   "cell_type": "code",
   "execution_count": 166,
   "metadata": {},
   "outputs": [],
   "source": [
    "encoder = TargetEncoder(cols = ['constructor_nationality', 'driverId', 'constructorId', 'circuitId'], smoothing = 10, min_samples_leaf = 20)\n",
    "# encoder = PolynomialWrapper(encoder_target)\n",
    "x_train = encoder.fit_transform(x_train, y_train)\n",
    "x_test = encoder.transform(x_test)"
   ]
  },
  {
   "cell_type": "code",
   "execution_count": 167,
   "metadata": {},
   "outputs": [],
   "source": [
    "x_train['constructor_nationality'] = standard_scaler.fit_transform(x_train[['constructor_nationality']])\n",
    "x_test['constructor_nationality'] = standard_scaler.transform(x_test[['constructor_nationality']])"
   ]
  },
  {
   "cell_type": "code",
   "execution_count": 168,
   "metadata": {},
   "outputs": [],
   "source": [
    "x_train['driverId'] = standard_scaler.fit_transform(x_train[['driverId']])\n",
    "x_test['driverId'] = standard_scaler.transform(x_test[['driverId']])"
   ]
  },
  {
   "cell_type": "code",
   "execution_count": 169,
   "metadata": {},
   "outputs": [],
   "source": [
    "x_train['constructorId'] = standard_scaler.fit_transform(x_train[['constructorId']])\n",
    "x_test['constructorId'] = standard_scaler.transform(x_test[['constructorId']])"
   ]
  },
  {
   "cell_type": "code",
   "execution_count": 170,
   "metadata": {},
   "outputs": [],
   "source": [
    "x_train['circuitId'] = standard_scaler.fit_transform(x_train[['circuitId']])\n",
    "x_test['circuitId'] = standard_scaler.transform(x_test[['circuitId']])"
   ]
  },
  {
   "cell_type": "code",
   "execution_count": 171,
   "metadata": {},
   "outputs": [],
   "source": [
    "x_train['constructor_points'].fillna(0, inplace = True)\n",
    "x_test['constructor_points'].fillna(0, inplace = True)"
   ]
  },
  {
   "cell_type": "code",
   "execution_count": 172,
   "metadata": {},
   "outputs": [],
   "source": [
    "x_train['constructor_points'] = standard_scaler.fit_transform(x_train[['constructor_points']])\n",
    "x_test['constructor_points'] = standard_scaler.transform(x_test[['constructor_points']])"
   ]
  },
  {
   "cell_type": "code",
   "execution_count": 173,
   "metadata": {},
   "outputs": [],
   "source": [
    "x_train['driver_points'].fillna(0, inplace = True)\n",
    "x_test['driver_points'].fillna(0, inplace = True)"
   ]
  },
  {
   "cell_type": "code",
   "execution_count": 174,
   "metadata": {},
   "outputs": [],
   "source": [
    "x_train['driver_points'] = standard_scaler.fit_transform(x_train[['driver_points']])\n",
    "x_test['driver_points'] = standard_scaler.transform(x_test[['driver_points']])"
   ]
  },
  {
   "cell_type": "code",
   "execution_count": 175,
   "metadata": {},
   "outputs": [],
   "source": [
    "train_driver_mapping = pd.DataFrame(x_train[['driverId', 'driverRef']])\n",
    "train_driver_mapping.set_index('driverId')\n",
    "train_driver_mapping.drop_duplicates()\n",
    "\n",
    "test_driver_mapping = pd.DataFrame(x_test[['driverId', 'driverRef']])\n",
    "test_driver_mapping.set_index('driverId')\n",
    "test_driver_mapping.drop_duplicates()\n",
    "\n",
    "driver_mapping = pd.concat([train_driver_mapping, test_driver_mapping]).drop_duplicates()\n",
    "driver_mapping.to_csv('data/driver_mapping.csv')\n",
    "\n",
    "\n",
    "x_train.drop(columns = ['driverRef'], inplace = True)\n",
    "x_test.drop(columns = ['driverRef'], inplace = True)"
   ]
  },
  {
   "cell_type": "code",
   "execution_count": 176,
   "metadata": {},
   "outputs": [],
   "source": [
    "train_circuit_mapping = pd.DataFrame(x_train[['circuitId', 'circuit_id']])\n",
    "train_circuit_mapping.set_index('circuitId')\n",
    "train_circuit_mapping.drop_duplicates()\n",
    "\n",
    "test_circuit_mapping = pd.DataFrame(x_test[['circuitId', 'circuit_id']])\n",
    "test_circuit_mapping.set_index('circuitId')\n",
    "test_circuit_mapping.drop_duplicates()\n",
    "\n",
    "driver_mapping = pd.concat([train_circuit_mapping, test_circuit_mapping]).drop_duplicates()\n",
    "driver_mapping.to_csv('data/circuit_mapping.csv')\n",
    "\n",
    "x_train.drop(columns = ['circuit_id'], inplace = True)\n",
    "x_test.drop(columns = ['circuit_id'], inplace = True)\n"
   ]
  },
  {
   "cell_type": "code",
   "execution_count": 177,
   "metadata": {},
   "outputs": [],
   "source": [
    "pd.concat([x_train, y_train], axis = 1).to_csv('./data/qualifying_train.csv', index = False)\n",
    "pd.concat([x_test, y_test], axis = 1).to_csv('./data/qualifying_test.csv', index = False)"
   ]
  },
  {
   "cell_type": "code",
   "execution_count": null,
   "metadata": {},
   "outputs": [],
   "source": [
    "x_train_pre = x_train.drop(columns = ['driver_points', 'constructor_points', 'milliseconds', 'constructor_position', 'statusId'])\n",
    "x_test_pre = x_test.drop(columns = ['driver_points', 'constructor_points', 'milliseconds', 'constructor_position', 'statusId'])\n",
    "\n",
    "pd.concat([x_train_pre, y_train], axis = 1).to_csv('./data/qualifying_train_pre.csv', index = False)\n",
    "pd.concat([x_test_pre, y_test], axis = 1).to_csv('./data/qualifying_test_pre.csv', index = False)"
   ]
  },
  {
   "cell_type": "code",
   "execution_count": null,
   "metadata": {},
   "outputs": [],
   "source": []
  }
 ],
 "metadata": {
  "kernelspec": {
   "display_name": "Python 3.9.0 64-bit",
   "language": "python",
   "name": "python3"
  },
  "language_info": {
   "codemirror_mode": {
    "name": "ipython",
    "version": 3
   },
   "file_extension": ".py",
   "mimetype": "text/x-python",
   "name": "python",
   "nbconvert_exporter": "python",
   "pygments_lexer": "ipython3",
   "version": "3.9.0"
  },
  "orig_nbformat": 4,
  "vscode": {
   "interpreter": {
    "hash": "aee8b7b246df8f9039afb4144a1f6fd8d2ca17a180786b69acc140d282b71a49"
   }
  }
 },
 "nbformat": 4,
 "nbformat_minor": 2
}
