{
 "cells": [
  {
   "cell_type": "code",
   "execution_count": 463,
   "metadata": {},
   "outputs": [],
   "source": [
    "import pandas as pd\n",
    "import numpy as np\n",
    "from sklearn.metrics import accuracy_score, precision_score, recall_score, f1_score\n",
    "from sklearn.linear_model import LinearRegression, LogisticRegression\n",
    "from sklearn.tree import DecisionTreeRegressor, DecisionTreeClassifier\n",
    "from sklearn.ensemble import RandomForestRegressor, RandomForestClassifier\n",
    "from sklearn.naive_bayes import GaussianNB\n",
    "from sklearn.svm import SVC, SVR"
   ]
  },
  {
   "cell_type": "code",
   "execution_count": 464,
   "metadata": {},
   "outputs": [],
   "source": [
    "df_train = pd.read_csv('./data_new/train.csv').drop_duplicates()\n",
    "df_test = pd.read_csv('./data_new/test.csv').drop_duplicates()"
   ]
  },
  {
   "cell_type": "code",
   "execution_count": 465,
   "metadata": {},
   "outputs": [
    {
     "data": {
      "text/plain": [
       "Index(['raceId', 'year', 'circuitId', 'weather_warm', 'weather_cold',\n",
       "       'weather_dry', 'weather_wet', 'weather_cloudy', 'driverId',\n",
       "       'constructorId', 'grid', 'results_positionOrder', 'milliseconds',\n",
       "       'statusId', 'circuit_country', 'constructor_points',\n",
       "       'constructor_position', 'constructor_wins', 'constructor_nationality',\n",
       "       'driver_nationality', 'driver_points', 'driver_wins', 'driver_age',\n",
       "       'results_points'],\n",
       "      dtype='object')"
      ]
     },
     "execution_count": 465,
     "metadata": {},
     "output_type": "execute_result"
    }
   ],
   "source": [
    "df_train.columns"
   ]
  },
  {
   "cell_type": "code",
   "execution_count": 466,
   "metadata": {},
   "outputs": [
    {
     "data": {
      "text/plain": [
       "20    4976\n",
       "4      980\n",
       "3      978\n",
       "11     978\n",
       "8      977\n",
       "5      977\n",
       "7      977\n",
       "6      977\n",
       "9      976\n",
       "2      976\n",
       "12     975\n",
       "10     975\n",
       "1      972\n",
       "13     971\n",
       "14     967\n",
       "15     965\n",
       "16     953\n",
       "17     946\n",
       "18     932\n",
       "19     910\n",
       "Name: results_positionOrder, dtype: int64"
      ]
     },
     "execution_count": 466,
     "metadata": {},
     "output_type": "execute_result"
    }
   ],
   "source": [
    "df_train['results_positionOrder'].value_counts()"
   ]
  },
  {
   "cell_type": "markdown",
   "metadata": {},
   "source": [
    "## Regression"
   ]
  },
  {
   "cell_type": "markdown",
   "metadata": {},
   "source": [
    "### Linear Regression"
   ]
  },
  {
   "cell_type": "code",
   "execution_count": 467,
   "metadata": {},
   "outputs": [],
   "source": [
    "def linearRegression(X_train, Y_train):\n",
    "    model = LinearRegression()\n",
    "    model.fit(X_train, Y_train)        \n",
    "\n",
    "    return model"
   ]
  },
  {
   "cell_type": "code",
   "execution_count": 468,
   "metadata": {},
   "outputs": [],
   "source": [
    "def get_Linear_Regression_Score():\n",
    "    X_train = df_train.drop(columns = ['results_points'])\n",
    "    Y_train = df_train['results_points']\n",
    "    model = linearRegression(X_train.drop(columns = ['results_positionOrder']), Y_train)\n",
    "\n",
    "    precision = 0\n",
    "    accuracy = 0\n",
    "    recall = 0\n",
    "    f1 = 0\n",
    "    for i in df_test['raceId'].unique():\n",
    "        X_test = df_test[df_test['raceId'] == i].drop(columns = ['results_points'])\n",
    "        Y_test = df_test[df_test['raceId'] == i]['results_points'].to_numpy()\n",
    "\n",
    "        predicted_scores = model.predict(X_test.drop(columns = ['results_positionOrder']))\n",
    "        predicted_podium = np.argsort(predicted_scores)[::-1]\n",
    "        actual_podium = X_test['results_positionOrder'].to_numpy()\n",
    "        actual_podium = np.argsort(actual_podium)\n",
    "        # print(predicted_scores)\n",
    "\n",
    "        predictions = np.zeros(len(Y_test))\n",
    "        # predictions[predicted_podium] = 1\n",
    "        actual = np.zeros(len(Y_test))\n",
    "        # actual[actual_podium] = 1\n",
    "\n",
    "        for i in range(3):\n",
    "            predictions[predicted_podium[i]] = 1\n",
    "            actual[actual_podium[i]] = 1\n",
    "\n",
    "        precision += precision_score(actual, predictions)\n",
    "        accuracy += accuracy_score(actual, predictions)\n",
    "        recall += recall_score(actual, predictions)\n",
    "        f1 += f1_score(actual, predictions)   \n",
    "\n",
    "\n",
    "    return precision/len(df_test['raceId'].unique()), accuracy/len(df_test['raceId'].unique()), recall/len(df_test['raceId'].unique()), f1/len(df_test['raceId'].unique())\n"
   ]
  },
  {
   "cell_type": "markdown",
   "metadata": {},
   "source": [
    "### Decision Tree regressor"
   ]
  },
  {
   "cell_type": "code",
   "execution_count": 469,
   "metadata": {},
   "outputs": [],
   "source": [
    "def DTregressor(X_train, Y_train):\n",
    "    model = DecisionTreeRegressor()\n",
    "    model.fit(X_train, Y_train)\n",
    "\n",
    "    return model"
   ]
  },
  {
   "cell_type": "code",
   "execution_count": 470,
   "metadata": {},
   "outputs": [],
   "source": [
    "from sklearn.metrics import precision_score\n",
    "\n",
    "def get_DT_Regression_Score():\n",
    "    X_train = df_train.drop(columns = ['results_points'])\n",
    "    Y_train = df_train['results_points']\n",
    "    model = DTregressor(X_train.drop(columns = ['results_positionOrder']), Y_train)\n",
    "\n",
    "    precision = 0\n",
    "    accuracy = 0\n",
    "    recall = 0\n",
    "    f1 = 0\n",
    "    for i in df_test['raceId'].unique():\n",
    "        X_test = df_test[df_test['raceId'] == i].drop(columns = ['results_points'])\n",
    "        Y_test = df_test[df_test['raceId'] == i]['results_points'].to_numpy()\n",
    "\n",
    "        predicted_scores = model.predict(X_test.drop(columns = ['results_positionOrder']))\n",
    "        predicted_podium = np.argsort(predicted_scores)[::-1]\n",
    "        actual_podium = X_test['results_positionOrder'].to_numpy()\n",
    "        actual_podium = np.argsort(actual_podium)\n",
    "        # print(predicted_scores)\n",
    "\n",
    "        predictions = np.zeros(len(Y_test))\n",
    "        # predictions[predicted_podium] = 1\n",
    "        actual = np.zeros(len(Y_test))\n",
    "        # actual[actual_podium] = 1\n",
    "\n",
    "        for i in range(3):\n",
    "            predictions[predicted_podium[i]] = 1\n",
    "            actual[actual_podium[i]] = 1\n",
    "\n",
    "        precision += precision_score(actual, predictions)\n",
    "        accuracy += accuracy_score(actual, predictions)\n",
    "        recall += recall_score(actual, predictions)\n",
    "        f1 += f1_score(actual, predictions)   \n",
    "        # print(confusion_matrix(actual, predictions))\n",
    "\n",
    "    return precision/len(df_test['raceId'].unique()), accuracy/len(df_test['raceId'].unique()), recall/len(df_test['raceId'].unique()), f1/len(df_test['raceId'].unique())"
   ]
  },
  {
   "cell_type": "markdown",
   "metadata": {},
   "source": [
    "### Random Forest regressor"
   ]
  },
  {
   "cell_type": "code",
   "execution_count": 471,
   "metadata": {},
   "outputs": [],
   "source": [
    "def RFregressor(X_train, Y_train):\n",
    "    model = RandomForestRegressor()\n",
    "    model.fit(X_train, Y_train)\n",
    "\n",
    "    return model"
   ]
  },
  {
   "cell_type": "code",
   "execution_count": 472,
   "metadata": {},
   "outputs": [],
   "source": [
    "from sklearn.metrics import precision_score\n",
    "\n",
    "def get_RF_Regression_Score():\n",
    "    X_train = df_train.drop(columns = ['results_points'])\n",
    "    Y_train = df_train['results_points']\n",
    "    model = RFregressor(X_train.drop(columns = ['results_positionOrder']), Y_train)\n",
    "\n",
    "    precision = 0\n",
    "    accuracy = 0\n",
    "    recall = 0\n",
    "    f1 = 0\n",
    "    for i in df_test['raceId'].unique():\n",
    "        X_test = df_test[df_test['raceId'] == i].drop(columns = ['results_points'])\n",
    "        Y_test = df_test[df_test['raceId'] == i]['results_points'].to_numpy()\n",
    "\n",
    "        predicted_scores = model.predict(X_test.drop(columns = ['results_positionOrder']))\n",
    "        predicted_podium = np.argsort(predicted_scores)[::-1]\n",
    "        actual_podium = X_test['results_positionOrder'].to_numpy()\n",
    "        actual_podium = np.argsort(actual_podium)\n",
    "        # print(predicted_scores)\n",
    "\n",
    "        predictions = np.zeros(len(Y_test))\n",
    "        # predictions[predicted_podium] = 1\n",
    "        actual = np.zeros(len(Y_test))\n",
    "        # actual[actual_podium] = 1\n",
    "\n",
    "        for i in range(3):\n",
    "            predictions[predicted_podium[i]] = 1\n",
    "            actual[actual_podium[i]] = 1\n",
    "\n",
    "        precision += precision_score(actual, predictions)\n",
    "        accuracy += accuracy_score(actual, predictions)\n",
    "        recall += recall_score(actual, predictions)\n",
    "        f1 += f1_score(actual, predictions)   \n",
    "\n",
    "    return precision/len(df_test['raceId'].unique()), accuracy/len(df_test['raceId'].unique()), recall/len(df_test['raceId'].unique()), f1/len(df_test['raceId'].unique())"
   ]
  },
  {
   "cell_type": "markdown",
   "metadata": {},
   "source": [
    "## Compiling all regressions"
   ]
  },
  {
   "cell_type": "code",
   "execution_count": 473,
   "metadata": {},
   "outputs": [],
   "source": [
    "regression_scores = {}\n",
    "regression_scores['Linear Regression'] = get_Linear_Regression_Score()\n",
    "regression_scores['DT Regression'] = get_DT_Regression_Score()\n",
    "regression_scores['RF Regression'] = get_RF_Regression_Score()"
   ]
  },
  {
   "cell_type": "code",
   "execution_count": 474,
   "metadata": {},
   "outputs": [
    {
     "data": {
      "text/html": [
       "<div>\n",
       "<style scoped>\n",
       "    .dataframe tbody tr th:only-of-type {\n",
       "        vertical-align: middle;\n",
       "    }\n",
       "\n",
       "    .dataframe tbody tr th {\n",
       "        vertical-align: top;\n",
       "    }\n",
       "\n",
       "    .dataframe thead th {\n",
       "        text-align: right;\n",
       "    }\n",
       "</style>\n",
       "<table border=\"1\" class=\"dataframe\">\n",
       "  <thead>\n",
       "    <tr style=\"text-align: right;\">\n",
       "      <th></th>\n",
       "      <th>Linear Regression</th>\n",
       "      <th>DT Regression</th>\n",
       "      <th>RF Regression</th>\n",
       "    </tr>\n",
       "  </thead>\n",
       "  <tbody>\n",
       "    <tr>\n",
       "      <th>Precision</th>\n",
       "      <td>0.733333</td>\n",
       "      <td>0.656667</td>\n",
       "      <td>0.776667</td>\n",
       "    </tr>\n",
       "    <tr>\n",
       "      <th>Accuracy</th>\n",
       "      <td>0.929237</td>\n",
       "      <td>0.911477</td>\n",
       "      <td>0.941004</td>\n",
       "    </tr>\n",
       "    <tr>\n",
       "      <th>Recall</th>\n",
       "      <td>0.733333</td>\n",
       "      <td>0.656667</td>\n",
       "      <td>0.776667</td>\n",
       "    </tr>\n",
       "    <tr>\n",
       "      <th>F1</th>\n",
       "      <td>0.733333</td>\n",
       "      <td>0.656667</td>\n",
       "      <td>0.776667</td>\n",
       "    </tr>\n",
       "  </tbody>\n",
       "</table>\n",
       "</div>"
      ],
      "text/plain": [
       "           Linear Regression  DT Regression  RF Regression\n",
       "Precision           0.733333       0.656667       0.776667\n",
       "Accuracy            0.929237       0.911477       0.941004\n",
       "Recall              0.733333       0.656667       0.776667\n",
       "F1                  0.733333       0.656667       0.776667"
      ]
     },
     "execution_count": 474,
     "metadata": {},
     "output_type": "execute_result"
    }
   ],
   "source": [
    "pd.DataFrame(regression_scores, index = ['Precision', 'Accuracy', 'Recall', 'F1'])"
   ]
  },
  {
   "cell_type": "markdown",
   "metadata": {},
   "source": [
    "## Classification"
   ]
  },
  {
   "cell_type": "code",
   "execution_count": 497,
   "metadata": {},
   "outputs": [],
   "source": [
    "def get_score(pred, actual, margin):\n",
    "    score = 0\n",
    "    for i in range(len(pred)):\n",
    "        if pred[i] == actual[i]:\n",
    "            score += 1\n",
    "        elif abs(pred[i] - actual[i]) <= margin:\n",
    "            score += 1\n",
    "    return score/len(pred)"
   ]
  },
  {
   "cell_type": "markdown",
   "metadata": {},
   "source": [
    "### Logistic Regression"
   ]
  },
  {
   "cell_type": "code",
   "execution_count": 498,
   "metadata": {},
   "outputs": [],
   "source": [
    "def logisticRegression(X_train, Y_train):\n",
    "    model = LogisticRegression(max_iter=2500, multi_class = 'ovr')\n",
    "    model.fit(X_train, Y_train)\n",
    "\n",
    "    return model"
   ]
  },
  {
   "cell_type": "code",
   "execution_count": 499,
   "metadata": {},
   "outputs": [],
   "source": [
    "def get_Logistic_Regression_Score():\n",
    "    X_train = df_train\n",
    "    Y_train = df_train['results_positionOrder']\n",
    "    model = logisticRegression(X_train.drop(columns = ['results_positionOrder']), Y_train)\n",
    "\n",
    "    score = 0\n",
    "    for i in df_test['raceId'].unique():\n",
    "        X_test = df_test[df_test['raceId'] == i]\n",
    "        Y_test = df_test[df_test['raceId'] == i]['results_positionOrder']\n",
    "\n",
    "        prediction = model.predict(X_test.drop(columns = ['results_positionOrder']))\n",
    "        actual = Y_test.to_numpy()\n",
    "        score += get_score(prediction, actual, 3)\n",
    "\n",
    "    # return precision/len(df_test['raceId'].unique()), accuracy/len(df_test['raceId'].unique()), recall/len(df_test['raceId'].unique()), f1/len(df_test['raceId'].unique())\n",
    "    return score/len(df_test['raceId'].unique())"
   ]
  },
  {
   "cell_type": "markdown",
   "metadata": {},
   "source": [
    "### Naive Bayes Classifier"
   ]
  },
  {
   "cell_type": "code",
   "execution_count": 500,
   "metadata": {},
   "outputs": [],
   "source": [
    "def gaussianNB(X_train, Y_train):\n",
    "    model = GaussianNB()\n",
    "    model.fit(X_train, Y_train)\n",
    "\n",
    "    return model"
   ]
  },
  {
   "cell_type": "code",
   "execution_count": 501,
   "metadata": {},
   "outputs": [],
   "source": [
    "def get_Gaussian_NB_Score():\n",
    "    X_train = df_train\n",
    "    Y_train = df_train['results_positionOrder']\n",
    "    model = gaussianNB(X_train.drop(columns = ['results_positionOrder']), Y_train)\n",
    "\n",
    "    score = 0\n",
    "    for i in df_test['raceId'].unique():\n",
    "        X_test = df_test[df_test['raceId'] == i]\n",
    "        Y_test = df_test[df_test['raceId'] == i]['results_positionOrder']\n",
    "\n",
    "        prediction = model.predict(X_test.drop(columns = ['results_positionOrder']))\n",
    "        actual = Y_test.to_numpy()\n",
    "        score += get_score(prediction, actual, 3)\n",
    "\n",
    "    # return precision/len(df_test['raceId'].unique()), accuracy/len(df_test['raceId'].unique()), recall/len(df_test['raceId'].unique()), f1/len(df_test['raceId'].unique())\n",
    "    return score/len(df_test['raceId'].unique())"
   ]
  },
  {
   "cell_type": "markdown",
   "metadata": {},
   "source": [
    "### Decision Tree Classifier"
   ]
  },
  {
   "cell_type": "code",
   "execution_count": 502,
   "metadata": {},
   "outputs": [],
   "source": [
    "def DT_classifier(X_train, Y_train):\n",
    "    model = DecisionTreeClassifier()\n",
    "    model.fit(X_train, Y_train)\n",
    "\n",
    "    return model"
   ]
  },
  {
   "cell_type": "code",
   "execution_count": 503,
   "metadata": {},
   "outputs": [],
   "source": [
    "def get_DT_classifier_Score():\n",
    "    X_train = df_train\n",
    "    Y_train = df_train['results_positionOrder']\n",
    "    model = DT_classifier(X_train.drop(columns = ['results_positionOrder']), Y_train)\n",
    "\n",
    "    score = 0\n",
    "    for i in df_test['raceId'].unique():\n",
    "        X_test = df_test[df_test['raceId'] == i]\n",
    "        Y_test = df_test[df_test['raceId'] == i]['results_positionOrder']\n",
    "\n",
    "        prediction = model.predict(X_test.drop(columns = ['results_positionOrder']))\n",
    "        actual = Y_test.to_numpy()\n",
    "        score += get_score(prediction, actual, 3)\n",
    "\n",
    "    # return precision/len(df_test['raceId'].unique()), accuracy/len(df_test['raceId'].unique()), recall/len(df_test['raceId'].unique()), f1/len(df_test['raceId'].unique())\n",
    "    return score/len(df_test['raceId'].unique())"
   ]
  },
  {
   "cell_type": "markdown",
   "metadata": {},
   "source": [
    "### Random Forest Classifier"
   ]
  },
  {
   "cell_type": "code",
   "execution_count": 504,
   "metadata": {},
   "outputs": [],
   "source": [
    "def RF_classifier(X_train, Y_train):\n",
    "    model = RandomForestClassifier()\n",
    "    model.fit(X_train, Y_train)\n",
    "\n",
    "    return model"
   ]
  },
  {
   "cell_type": "code",
   "execution_count": 505,
   "metadata": {},
   "outputs": [],
   "source": [
    "def get_RF_classifier_Score():\n",
    "    X_train = df_train\n",
    "    Y_train = df_train['results_positionOrder']\n",
    "    model = RF_classifier(X_train.drop(columns = ['results_positionOrder']), Y_train)\n",
    "\n",
    "    score = 0\n",
    "    for i in df_test['raceId'].unique():\n",
    "        X_test = df_test[df_test['raceId'] == i]\n",
    "        Y_test = df_test[df_test['raceId'] == i]['results_positionOrder']\n",
    "\n",
    "        prediction = model.predict(X_test.drop(columns = ['results_positionOrder']))\n",
    "        actual = Y_test.to_numpy()\n",
    "        score += get_score(prediction, actual, 3)\n",
    "\n",
    "    # return precision/len(df_test['raceId'].unique()), accuracy/len(df_test['raceId'].unique()), recall/len(df_test['raceId'].unique()), f1/len(df_test['raceId'].unique())\n",
    "    return score/len(df_test['raceId'].unique())"
   ]
  },
  {
   "cell_type": "markdown",
   "metadata": {},
   "source": [
    "## Compiling all classifications"
   ]
  },
  {
   "cell_type": "code",
   "execution_count": 506,
   "metadata": {},
   "outputs": [
    {
     "name": "stderr",
     "output_type": "stream",
     "text": [
      "c:\\Users\\nipun\\AppData\\Local\\Programs\\Python\\Python38\\lib\\site-packages\\sklearn\\linear_model\\_logistic.py:444: ConvergenceWarning: lbfgs failed to converge (status=1):\n",
      "STOP: TOTAL NO. of ITERATIONS REACHED LIMIT.\n",
      "\n",
      "Increase the number of iterations (max_iter) or scale the data as shown in:\n",
      "    https://scikit-learn.org/stable/modules/preprocessing.html\n",
      "Please also refer to the documentation for alternative solver options:\n",
      "    https://scikit-learn.org/stable/modules/linear_model.html#logistic-regression\n",
      "  n_iter_i = _check_optimize_result(\n"
     ]
    }
   ],
   "source": [
    "classification_scores = {}\n",
    "classification_scores['Logistic Regression'] = get_Logistic_Regression_Score()\n",
    "classification_scores['NB classification'] = get_Gaussian_NB_Score()\n",
    "classification_scores['DT classification'] = get_DT_classifier_Score()\n",
    "classification_scores['RF classification'] = get_RF_classifier_Score()"
   ]
  },
  {
   "cell_type": "code",
   "execution_count": 507,
   "metadata": {},
   "outputs": [
    {
     "data": {
      "text/html": [
       "<div>\n",
       "<style scoped>\n",
       "    .dataframe tbody tr th:only-of-type {\n",
       "        vertical-align: middle;\n",
       "    }\n",
       "\n",
       "    .dataframe tbody tr th {\n",
       "        vertical-align: top;\n",
       "    }\n",
       "\n",
       "    .dataframe thead th {\n",
       "        text-align: right;\n",
       "    }\n",
       "</style>\n",
       "<table border=\"1\" class=\"dataframe\">\n",
       "  <thead>\n",
       "    <tr style=\"text-align: right;\">\n",
       "      <th></th>\n",
       "      <th>Logistic Regression</th>\n",
       "      <th>NB classification</th>\n",
       "      <th>DT classification</th>\n",
       "      <th>RF classification</th>\n",
       "    </tr>\n",
       "  </thead>\n",
       "  <tbody>\n",
       "    <tr>\n",
       "      <th>score</th>\n",
       "      <td>0.692951</td>\n",
       "      <td>0.628397</td>\n",
       "      <td>0.727267</td>\n",
       "      <td>0.722302</td>\n",
       "    </tr>\n",
       "  </tbody>\n",
       "</table>\n",
       "</div>"
      ],
      "text/plain": [
       "       Logistic Regression  NB classification  DT classification  \\\n",
       "score             0.692951           0.628397           0.727267   \n",
       "\n",
       "       RF classification  \n",
       "score           0.722302  "
      ]
     },
     "execution_count": 507,
     "metadata": {},
     "output_type": "execute_result"
    }
   ],
   "source": [
    "pd.DataFrame(classification_scores, index = ['score'])"
   ]
  },
  {
   "cell_type": "code",
   "execution_count": null,
   "metadata": {},
   "outputs": [],
   "source": []
  }
 ],
 "metadata": {
  "kernelspec": {
   "display_name": "Python 3.8.7 64-bit",
   "language": "python",
   "name": "python3"
  },
  "language_info": {
   "codemirror_mode": {
    "name": "ipython",
    "version": 3
   },
   "file_extension": ".py",
   "mimetype": "text/x-python",
   "name": "python",
   "nbconvert_exporter": "python",
   "pygments_lexer": "ipython3",
   "version": "3.8.7"
  },
  "orig_nbformat": 4,
  "vscode": {
   "interpreter": {
    "hash": "affa1e01f2d63dc644a5d836267b8cc21782c0351696aa19b5d442d7e4c7d376"
   }
  }
 },
 "nbformat": 4,
 "nbformat_minor": 2
}
