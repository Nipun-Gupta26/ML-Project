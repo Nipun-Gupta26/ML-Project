{
 "cells": [
  {
   "cell_type": "code",
   "execution_count": 11,
   "metadata": {},
   "outputs": [
    {
     "name": "stdout",
     "output_type": "stream",
     "text": [
      "{'Argentina': 1, 'Australia': 2, 'Austria': 3, 'Azerbaijan': 4, 'Bahrain': 5, 'Belgium': 6, 'Brazil': 7, 'Canada': 8, 'China': 9, 'France': 10, 'Germany': 11, 'Hungary': 12, 'India': 13, 'Italy': 14, 'Japan': 15, 'Korea': 16, 'Malaysia': 17, 'Mexico': 18, 'Monaco': 19, 'Morocco': 20, 'Netherlands': 21, 'Portugal': 22, 'Qatar': 23, 'Russia': 24, 'Saudi Arabia': 25, 'Singapore': 26, 'South Africa': 27, 'Spain': 28, 'Sweden': 29, 'Switzerland': 30, 'Turkey': 31, 'UAE': 32, 'UK': 33, 'USA': 34}\n",
      "/n\n"
     ]
    }
   ],
   "source": [
    "dictDriverCountry={}\n",
    "Circuit_country=['Australia', 'Malaysia', 'China', 'Bahrain', 'Spain', 'Monaco',\n",
    "'Turkey', 'UK', 'Germany', 'Hungary', 'Belgium', 'Italy',\n",
    "'Singapore', 'Japan', 'Brazil', 'UAE', 'Canada', 'France', 'USA',\n",
    "'Austria', 'Mexico', 'Korea', 'India', 'Russia', 'Azerbaijan',\n",
    "'Argentina', 'Portugal', 'South Africa', 'Netherlands', 'Qatar',\n",
    "'Saudi Arabia', 'Sweden', 'Morocco', 'Switzerland']\n",
    "Circuit_country.sort()\n",
    "for i in range(len(Circuit_country)):\n",
    "    dictDriverCountry[Circuit_country[i]]=i+1\n",
    "\n",
    "print(dictDriverCountry)\n",
    "\n",
    "dicCircuitCountry={'Argentine':1,'Australian':2,'Austrian':3,'Belgian':6,'Brazilian':7,'Canadian':8,'Chinese':9,\n",
    "'French':10,'German':11,'Hungarian':12,'Indian':13,'Italian':14,'Japanese':15,'Malaysian':17,\n",
    "'Mexican':18,'Monegasque':19,'Portuguese':22,'Russian':24,'South African':27,'Spanish':28,\n",
    "'Swedish':29,'Swiss':30,'British':33,'American':34,'American-Italian':14,'Argentine-Italian':1,\n",
    "'Chilean':35,'Colombian':36,'Czech':37,'Danish':38,'Dutch':39,'East German':11,'Finnish':40,'Indonesian':41,'Irish':42,\n",
    "'Liechtensteiner':43,'New Zealander':44,'Polish':45,'Rhodesian':46,'Thai':47,'Uruguayan':48,'Venezuelan':49\n",
    "}\n",
    "\n",
    "driver_country=['British', 'Brazilian', 'Italian', 'German', 'Spanish', 'Swiss',\n",
    "'French', 'Finnish', 'Canadian', 'American', 'Australian',\n",
    "'Colombian', 'Austrian', 'Japanese', 'Polish', 'Russian',\n",
    "'Mexican', 'Danish', 'Dutch', 'Belgian', 'Monegasque', 'Thai',\n",
    "'Chinese', 'Swedish', 'New Zealander', 'Venezuelan', 'Irish',\n",
    "'Argentine', 'Indian', 'Portuguese', 'Malaysian', 'Hungarian',\n",
    "'Indonesian', 'South African', 'Chilean', 'Liechtensteiner',\n",
    "'Uruguayan', 'East German', 'Czech', 'American-Italian',\n",
    "'Rhodesian', 'Argentine-Italian']\n",
    "driver_country.sort()\n"
   ]
  },
  {
   "cell_type": "code",
   "execution_count": 12,
   "metadata": {},
   "outputs": [
    {
     "name": "stdout",
     "output_type": "stream",
     "text": [
      "['American', 'American-Italian', 'Argentine', 'Argentine-Italian', 'Australian', 'Austrian', 'Belgian', 'Brazilian', 'British', 'Canadian', 'Chilean', 'Chinese', 'Colombian', 'Czech', 'Danish', 'Dutch', 'East German', 'Finnish', 'French', 'German', 'Hungarian', 'Indian', 'Indonesian', 'Irish', 'Italian', 'Japanese', 'Liechtensteiner', 'Malaysian', 'Mexican', 'Monegasque', 'New Zealander', 'Polish', 'Portuguese', 'Rhodesian', 'Russian', 'South African', 'Spanish', 'Swedish', 'Swiss', 'Thai', 'Uruguayan', 'Venezuelan']\n"
     ]
    }
   ],
   "source": [
    "print(driver_country)"
   ]
  }
 ],
 "metadata": {
  "kernelspec": {
   "display_name": "Python 3.9.13 64-bit (microsoft store)",
   "language": "python",
   "name": "python3"
  },
  "language_info": {
   "codemirror_mode": {
    "name": "ipython",
    "version": 3
   },
   "file_extension": ".py",
   "mimetype": "text/x-python",
   "name": "python",
   "nbconvert_exporter": "python",
   "pygments_lexer": "ipython3",
   "version": "3.9.13"
  },
  "orig_nbformat": 4,
  "vscode": {
   "interpreter": {
    "hash": "59b717de222ea1ef8fada2a84e26124dfddf60d2ca3012939bf58205ff90ae61"
   }
  }
 },
 "nbformat": 4,
 "nbformat_minor": 2
}
