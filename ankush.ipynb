{
 "cells": [
  {
   "cell_type": "code",
   "execution_count": 2,
   "metadata": {},
   "outputs": [],
   "source": [
    "import pandas as pd\n",
    "import numpy as np\n",
    "import seaborn as sns\n",
    "import matplotlib.pyplot as plt\n"
   ]
  },
  {
   "cell_type": "code",
   "execution_count": 3,
   "metadata": {},
   "outputs": [],
   "source": [
    "circuit = pd.read_csv('C:\\ML-Project\\data\\circuits.csv')\n",
    "\n"
   ]
  },
  {
   "cell_type": "code",
   "execution_count": 4,
   "metadata": {},
   "outputs": [
    {
     "name": "stdout",
     "output_type": "stream",
     "text": [
      "    circuitId   circuitRef                                  name  \\\n",
      "0           1  albert_park        Albert Park Grand Prix Circuit   \n",
      "1           2       sepang          Sepang International Circuit   \n",
      "2           3      bahrain         Bahrain International Circuit   \n",
      "3           4    catalunya        Circuit de Barcelona-Catalunya   \n",
      "4           5     istanbul                         Istanbul Park   \n",
      "..        ...          ...                                   ...   \n",
      "71         75     portimao    Autódromo Internacional do Algarve   \n",
      "72         76      mugello  Autodromo Internazionale del Mugello   \n",
      "73         77       jeddah               Jeddah Corniche Circuit   \n",
      "74         78       losail          Losail International Circuit   \n",
      "75         79        miami         Miami International Autodrome   \n",
      "\n",
      "        location       country       lat        lng  alt  \\\n",
      "0      Melbourne     Australia -37.84970  144.96800   10   \n",
      "1   Kuala Lumpur      Malaysia   2.76083  101.73800   18   \n",
      "2         Sakhir       Bahrain  26.03250   50.51060    7   \n",
      "3       Montmeló         Spain  41.57000    2.26111  109   \n",
      "4       Istanbul        Turkey  40.95170   29.40500  130   \n",
      "..           ...           ...       ...        ...  ...   \n",
      "71      Portimão      Portugal  37.22700   -8.62670  108   \n",
      "72       Mugello         Italy  43.99750   11.37190  255   \n",
      "73        Jeddah  Saudi Arabia  21.63190   39.10440   15   \n",
      "74     Al Daayen         Qatar  25.49000   51.45420   \\N   \n",
      "75         Miami           USA  25.95810  -80.23890   \\N   \n",
      "\n",
      "                                                  url  \n",
      "0   http://en.wikipedia.org/wiki/Melbourne_Grand_P...  \n",
      "1   http://en.wikipedia.org/wiki/Sepang_Internatio...  \n",
      "2   http://en.wikipedia.org/wiki/Bahrain_Internati...  \n",
      "3   http://en.wikipedia.org/wiki/Circuit_de_Barcel...  \n",
      "4          http://en.wikipedia.org/wiki/Istanbul_Park  \n",
      "..                                                ...  \n",
      "71  http://en.wikipedia.org/wiki/Algarve_Internati...  \n",
      "72       http://en.wikipedia.org/wiki/Mugello_Circuit  \n",
      "73  http://en.wikipedia.org/wiki/Jeddah_Street_Cir...  \n",
      "74  http://en.wikipedia.org/wiki/Losail_Internatio...  \n",
      "75  http://en.wikipedia.org/wiki/Miami_Internation...  \n",
      "\n",
      "[76 rows x 9 columns]\n"
     ]
    }
   ],
   "source": [
    "print( circuit)\n",
    "\n"
   ]
  },
  {
   "cell_type": "code",
   "execution_count": 5,
   "metadata": {},
   "outputs": [
    {
     "name": "stdout",
     "output_type": "stream",
     "text": [
      "circuitId\n",
      "circuitRef\n",
      "name\n",
      "location\n",
      "country\n",
      "lat\n",
      "lng\n",
      "alt\n",
      "url\n"
     ]
    }
   ],
   "source": [
    "for col in circuit.columns:\n",
    "    print(col)\n"
   ]
  },
  {
   "cell_type": "code",
   "execution_count": 9,
   "metadata": {},
   "outputs": [
    {
     "ename": "KeyError",
     "evalue": "'lat'",
     "output_type": "error",
     "traceback": [
      "\u001b[1;31m---------------------------------------------------------------------------\u001b[0m",
      "\u001b[1;31mKeyError\u001b[0m                                  Traceback (most recent call last)",
      "\u001b[1;32mc:\\MicDrop\\lib\\site-packages\\pandas\\core\\indexes\\base.py\u001b[0m in \u001b[0;36mget_loc\u001b[1;34m(self, key, method, tolerance)\u001b[0m\n\u001b[0;32m   3628\u001b[0m             \u001b[1;32mtry\u001b[0m\u001b[1;33m:\u001b[0m\u001b[1;33m\u001b[0m\u001b[1;33m\u001b[0m\u001b[0m\n\u001b[1;32m-> 3629\u001b[1;33m                 \u001b[1;32mreturn\u001b[0m \u001b[0mself\u001b[0m\u001b[1;33m.\u001b[0m\u001b[0m_engine\u001b[0m\u001b[1;33m.\u001b[0m\u001b[0mget_loc\u001b[0m\u001b[1;33m(\u001b[0m\u001b[0mcasted_key\u001b[0m\u001b[1;33m)\u001b[0m\u001b[1;33m\u001b[0m\u001b[1;33m\u001b[0m\u001b[0m\n\u001b[0m\u001b[0;32m   3630\u001b[0m             \u001b[1;32mexcept\u001b[0m \u001b[0mKeyError\u001b[0m \u001b[1;32mas\u001b[0m \u001b[0merr\u001b[0m\u001b[1;33m:\u001b[0m\u001b[1;33m\u001b[0m\u001b[1;33m\u001b[0m\u001b[0m\n",
      "\u001b[1;32mc:\\MicDrop\\lib\\site-packages\\pandas\\_libs\\index.pyx\u001b[0m in \u001b[0;36mpandas._libs.index.IndexEngine.get_loc\u001b[1;34m()\u001b[0m\n",
      "\u001b[1;32mc:\\MicDrop\\lib\\site-packages\\pandas\\_libs\\index.pyx\u001b[0m in \u001b[0;36mpandas._libs.index.IndexEngine.get_loc\u001b[1;34m()\u001b[0m\n",
      "\u001b[1;32mpandas\\_libs\\hashtable_class_helper.pxi\u001b[0m in \u001b[0;36mpandas._libs.hashtable.PyObjectHashTable.get_item\u001b[1;34m()\u001b[0m\n",
      "\u001b[1;32mpandas\\_libs\\hashtable_class_helper.pxi\u001b[0m in \u001b[0;36mpandas._libs.hashtable.PyObjectHashTable.get_item\u001b[1;34m()\u001b[0m\n",
      "\u001b[1;31mKeyError\u001b[0m: 'lat'",
      "\nThe above exception was the direct cause of the following exception:\n",
      "\u001b[1;31mKeyError\u001b[0m                                  Traceback (most recent call last)",
      "\u001b[1;32m~\\AppData\\Local\\Temp\\ipykernel_11496\\4019593216.py\u001b[0m in \u001b[0;36m<module>\u001b[1;34m\u001b[0m\n\u001b[1;32m----> 1\u001b[1;33m \u001b[1;32mdel\u001b[0m \u001b[0mcircuit\u001b[0m\u001b[1;33m[\u001b[0m\u001b[1;34m\"lat\"\u001b[0m\u001b[1;33m]\u001b[0m\u001b[1;33m\u001b[0m\u001b[1;33m\u001b[0m\u001b[0m\n\u001b[0m\u001b[0;32m      2\u001b[0m \u001b[1;32mdel\u001b[0m \u001b[0mcircuit\u001b[0m\u001b[1;33m[\u001b[0m\u001b[1;34m\"lng\"\u001b[0m\u001b[1;33m]\u001b[0m\u001b[1;33m\u001b[0m\u001b[1;33m\u001b[0m\u001b[0m\n",
      "\u001b[1;32mc:\\MicDrop\\lib\\site-packages\\pandas\\core\\generic.py\u001b[0m in \u001b[0;36m__delitem__\u001b[1;34m(self, key)\u001b[0m\n\u001b[0;32m   4046\u001b[0m             \u001b[1;31m# there was no match, this call should raise the appropriate\u001b[0m\u001b[1;33m\u001b[0m\u001b[1;33m\u001b[0m\u001b[0m\n\u001b[0;32m   4047\u001b[0m             \u001b[1;31m# exception:\u001b[0m\u001b[1;33m\u001b[0m\u001b[1;33m\u001b[0m\u001b[0m\n\u001b[1;32m-> 4048\u001b[1;33m             \u001b[0mloc\u001b[0m \u001b[1;33m=\u001b[0m \u001b[0mself\u001b[0m\u001b[1;33m.\u001b[0m\u001b[0maxes\u001b[0m\u001b[1;33m[\u001b[0m\u001b[1;33m-\u001b[0m\u001b[1;36m1\u001b[0m\u001b[1;33m]\u001b[0m\u001b[1;33m.\u001b[0m\u001b[0mget_loc\u001b[0m\u001b[1;33m(\u001b[0m\u001b[0mkey\u001b[0m\u001b[1;33m)\u001b[0m\u001b[1;33m\u001b[0m\u001b[1;33m\u001b[0m\u001b[0m\n\u001b[0m\u001b[0;32m   4049\u001b[0m             \u001b[0mself\u001b[0m\u001b[1;33m.\u001b[0m\u001b[0m_mgr\u001b[0m \u001b[1;33m=\u001b[0m \u001b[0mself\u001b[0m\u001b[1;33m.\u001b[0m\u001b[0m_mgr\u001b[0m\u001b[1;33m.\u001b[0m\u001b[0midelete\u001b[0m\u001b[1;33m(\u001b[0m\u001b[0mloc\u001b[0m\u001b[1;33m)\u001b[0m\u001b[1;33m\u001b[0m\u001b[1;33m\u001b[0m\u001b[0m\n\u001b[0;32m   4050\u001b[0m \u001b[1;33m\u001b[0m\u001b[0m\n",
      "\u001b[1;32mc:\\MicDrop\\lib\\site-packages\\pandas\\core\\indexes\\base.py\u001b[0m in \u001b[0;36mget_loc\u001b[1;34m(self, key, method, tolerance)\u001b[0m\n\u001b[0;32m   3629\u001b[0m                 \u001b[1;32mreturn\u001b[0m \u001b[0mself\u001b[0m\u001b[1;33m.\u001b[0m\u001b[0m_engine\u001b[0m\u001b[1;33m.\u001b[0m\u001b[0mget_loc\u001b[0m\u001b[1;33m(\u001b[0m\u001b[0mcasted_key\u001b[0m\u001b[1;33m)\u001b[0m\u001b[1;33m\u001b[0m\u001b[1;33m\u001b[0m\u001b[0m\n\u001b[0;32m   3630\u001b[0m             \u001b[1;32mexcept\u001b[0m \u001b[0mKeyError\u001b[0m \u001b[1;32mas\u001b[0m \u001b[0merr\u001b[0m\u001b[1;33m:\u001b[0m\u001b[1;33m\u001b[0m\u001b[1;33m\u001b[0m\u001b[0m\n\u001b[1;32m-> 3631\u001b[1;33m                 \u001b[1;32mraise\u001b[0m \u001b[0mKeyError\u001b[0m\u001b[1;33m(\u001b[0m\u001b[0mkey\u001b[0m\u001b[1;33m)\u001b[0m \u001b[1;32mfrom\u001b[0m \u001b[0merr\u001b[0m\u001b[1;33m\u001b[0m\u001b[1;33m\u001b[0m\u001b[0m\n\u001b[0m\u001b[0;32m   3632\u001b[0m             \u001b[1;32mexcept\u001b[0m \u001b[0mTypeError\u001b[0m\u001b[1;33m:\u001b[0m\u001b[1;33m\u001b[0m\u001b[1;33m\u001b[0m\u001b[0m\n\u001b[0;32m   3633\u001b[0m                 \u001b[1;31m# If we have a listlike key, _check_indexing_error will raise\u001b[0m\u001b[1;33m\u001b[0m\u001b[1;33m\u001b[0m\u001b[0m\n",
      "\u001b[1;31mKeyError\u001b[0m: 'lat'"
     ]
    }
   ],
   "source": [
    "\n",
    "del circuit[\"lat\"]\n",
    "del circuit[\"lng\"]"
   ]
  },
  {
   "cell_type": "code",
   "execution_count": 10,
   "metadata": {},
   "outputs": [
    {
     "name": "stdout",
     "output_type": "stream",
     "text": [
      "circuitId\n",
      "circuitRef\n",
      "name\n",
      "location\n",
      "country\n",
      "alt\n",
      "url\n"
     ]
    }
   ],
   "source": [
    "for col in circuit.columns:\n",
    "    print(col)"
   ]
  },
  {
   "cell_type": "code",
   "execution_count": 11,
   "metadata": {},
   "outputs": [],
   "source": [
    "del circuit[\"alt\"]\n",
    "del circuit[\"url\"]\n"
   ]
  },
  {
   "cell_type": "code",
   "execution_count": 12,
   "metadata": {},
   "outputs": [],
   "source": [
    "del circuit[\"name\"]\n"
   ]
  },
  {
   "cell_type": "code",
   "execution_count": 17,
   "metadata": {},
   "outputs": [
    {
     "name": "stdout",
     "output_type": "stream",
     "text": [
      "   constructorResultsId  raceId  constructorId  points status\n",
      "0                     1      18              1    14.0     \\N\n",
      "1                     2      18              2     8.0     \\N\n",
      "2                     3      18              3     9.0     \\N\n",
      "3                     4      18              4     5.0     \\N\n",
      "4                     5      18              5     2.0     \\N\n"
     ]
    }
   ],
   "source": [
    "constructor_result=pd.read_csv('C:\\ML-Project\\data\\constructor_results.csv')\n",
    "print(constructor_result.head())"
   ]
  },
  {
   "cell_type": "code",
   "execution_count": 18,
   "metadata": {},
   "outputs": [
    {
     "name": "stdout",
     "output_type": "stream",
     "text": [
      "constructorResultsId\n",
      "raceId\n",
      "constructorId\n",
      "points\n",
      "status\n"
     ]
    }
   ],
   "source": [
    "for col in constructor_result.columns:\n",
    "    print(col)"
   ]
  },
  {
   "cell_type": "code",
   "execution_count": 21,
   "metadata": {},
   "outputs": [
    {
     "data": {
      "text/plain": [
       "\\N    12063\n",
       "D        17\n",
       "Name: status, dtype: int64"
      ]
     },
     "execution_count": 21,
     "metadata": {},
     "output_type": "execute_result"
    }
   ],
   "source": [
    "constructor_result['status'].value_counts()\n",
    "\n"
   ]
  },
  {
   "cell_type": "code",
   "execution_count": 32,
   "metadata": {
    "tags": [
     "ext"
    ]
   },
   "outputs": [
    {
     "name": "stdout",
     "output_type": "stream",
     "text": [
      "   constructorStandingsId  raceId  constructorId  points  position  \\\n",
      "0                       1      18              1    14.0         1   \n",
      "1                       2      18              2     8.0         3   \n",
      "2                       3      18              3     9.0         2   \n",
      "3                       4      18              4     5.0         4   \n",
      "4                       5      18              5     2.0         5   \n",
      "\n",
      "  positionText  wins  \n",
      "0            1     1  \n",
      "1            3     0  \n",
      "2            2     0  \n",
      "3            4     0  \n",
      "4            5     0  \n"
     ]
    }
   ],
   "source": [
    "constructor_standing=pd.read_csv('C:\\ML-Project\\data\\constructor_standings.csv')\n",
    "print(constructor_standing.head())\n",
    "del constructor_standing[\"position\"]"
   ]
  },
  {
   "cell_type": "code",
   "execution_count": 59,
   "metadata": {},
   "outputs": [
    {
     "name": "stdout",
     "output_type": "stream",
     "text": [
      "   constructorId constructorRef        name nationality  \\\n",
      "0              1        mclaren     McLaren     British   \n",
      "1              2     bmw_sauber  BMW Sauber      German   \n",
      "2              3       williams    Williams     British   \n",
      "3              4        renault     Renault      French   \n",
      "4              5     toro_rosso  Toro Rosso     Italian   \n",
      "\n",
      "                                                 url  \n",
      "0               http://en.wikipedia.org/wiki/McLaren  \n",
      "1            http://en.wikipedia.org/wiki/BMW_Sauber  \n",
      "2  http://en.wikipedia.org/wiki/Williams_Grand_Pr...  \n",
      "3  http://en.wikipedia.org/wiki/Renault_in_Formul...  \n",
      "4   http://en.wikipedia.org/wiki/Scuderia_Toro_Rosso  \n"
     ]
    }
   ],
   "source": [
    "constructors=pd.read_csv('C:\\ML-Project\\data\\constructors.csv')\n",
    "print(constructors.head())\n",
    "del constructors[\"name\"]\n",
    "del constructors[\"url\"]"
   ]
  },
  {
   "cell_type": "code",
   "execution_count": 60,
   "metadata": {},
   "outputs": [
    {
     "name": "stdout",
     "output_type": "stream",
     "text": [
      "   constructorId constructorRef nationality\n",
      "0              1        mclaren     British\n",
      "1              2     bmw_sauber      German\n",
      "2              3       williams     British\n",
      "3              4        renault      French\n",
      "4              5     toro_rosso     Italian\n"
     ]
    }
   ],
   "source": [
    "print(constructors.head())"
   ]
  }
 ],
 "metadata": {
  "kernelspec": {
   "display_name": "Python 3.8.7 64-bit",
   "language": "python",
   "name": "python3"
  },
  "language_info": {
   "codemirror_mode": {
    "name": "ipython",
    "version": 3
   },
   "file_extension": ".py",
   "mimetype": "text/x-python",
   "name": "python",
   "nbconvert_exporter": "python",
   "pygments_lexer": "ipython3",
   "version": "3.8.7"
  },
  "orig_nbformat": 4,
  "vscode": {
   "interpreter": {
    "hash": "affa1e01f2d63dc644a5d836267b8cc21782c0351696aa19b5d442d7e4c7d376"
   }
  }
 },
 "nbformat": 4,
 "nbformat_minor": 2
}
