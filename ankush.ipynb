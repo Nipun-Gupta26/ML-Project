{
 "cells": [
  {
   "cell_type": "code",
   "execution_count": 18,
   "metadata": {},
   "outputs": [],
   "source": [
    "import pandas as pd\n",
    "import numpy as np\n",
    "import seaborn as sns\n",
    "import matplotlib.pyplot as plt\n"
   ]
  },
  {
   "cell_type": "code",
   "execution_count": 41,
   "metadata": {},
   "outputs": [],
   "source": [
    "circuit = pd.read_csv('C:\\ML-Project\\data\\circuits.csv')\n",
    "\n"
   ]
  },
  {
   "cell_type": "code",
   "execution_count": 42,
   "metadata": {},
   "outputs": [
    {
     "name": "stdout",
     "output_type": "stream",
     "text": [
      "    circuitId   circuitRef                                  name  \\\n",
      "0           1  albert_park        Albert Park Grand Prix Circuit   \n",
      "1           2       sepang          Sepang International Circuit   \n",
      "2           3      bahrain         Bahrain International Circuit   \n",
      "3           4    catalunya        Circuit de Barcelona-Catalunya   \n",
      "4           5     istanbul                         Istanbul Park   \n",
      "..        ...          ...                                   ...   \n",
      "71         75     portimao    Autódromo Internacional do Algarve   \n",
      "72         76      mugello  Autodromo Internazionale del Mugello   \n",
      "73         77       jeddah               Jeddah Corniche Circuit   \n",
      "74         78       losail          Losail International Circuit   \n",
      "75         79        miami         Miami International Autodrome   \n",
      "\n",
      "        location       country       lat        lng  alt  \\\n",
      "0      Melbourne     Australia -37.84970  144.96800   10   \n",
      "1   Kuala Lumpur      Malaysia   2.76083  101.73800   18   \n",
      "2         Sakhir       Bahrain  26.03250   50.51060    7   \n",
      "3       Montmeló         Spain  41.57000    2.26111  109   \n",
      "4       Istanbul        Turkey  40.95170   29.40500  130   \n",
      "..           ...           ...       ...        ...  ...   \n",
      "71      Portimão      Portugal  37.22700   -8.62670  108   \n",
      "72       Mugello         Italy  43.99750   11.37190  255   \n",
      "73        Jeddah  Saudi Arabia  21.63190   39.10440   15   \n",
      "74     Al Daayen         Qatar  25.49000   51.45420   \\N   \n",
      "75         Miami           USA  25.95810  -80.23890   \\N   \n",
      "\n",
      "                                                  url  \n",
      "0   http://en.wikipedia.org/wiki/Melbourne_Grand_P...  \n",
      "1   http://en.wikipedia.org/wiki/Sepang_Internatio...  \n",
      "2   http://en.wikipedia.org/wiki/Bahrain_Internati...  \n",
      "3   http://en.wikipedia.org/wiki/Circuit_de_Barcel...  \n",
      "4          http://en.wikipedia.org/wiki/Istanbul_Park  \n",
      "..                                                ...  \n",
      "71  http://en.wikipedia.org/wiki/Algarve_Internati...  \n",
      "72       http://en.wikipedia.org/wiki/Mugello_Circuit  \n",
      "73  http://en.wikipedia.org/wiki/Jeddah_Street_Cir...  \n",
      "74  http://en.wikipedia.org/wiki/Losail_Internatio...  \n",
      "75  http://en.wikipedia.org/wiki/Miami_Internation...  \n",
      "\n",
      "[76 rows x 9 columns]\n"
     ]
    }
   ],
   "source": [
    "print( circuit)\n",
    "\n"
   ]
  },
  {
   "cell_type": "code",
   "execution_count": 43,
   "metadata": {},
   "outputs": [
    {
     "name": "stdout",
     "output_type": "stream",
     "text": [
      "circuitId\n",
      "circuitRef\n",
      "name\n",
      "location\n",
      "country\n",
      "lat\n",
      "lng\n",
      "alt\n",
      "url\n"
     ]
    }
   ],
   "source": [
    "for col in circuit.columns:\n",
    "    print(col)"
   ]
  },
  {
   "cell_type": "code",
   "execution_count": 44,
   "metadata": {},
   "outputs": [],
   "source": [
    "\n",
    "del circuit[\"lat\"]\n",
    "del circuit[\"lng\"]"
   ]
  },
  {
   "cell_type": "code",
   "execution_count": 45,
   "metadata": {},
   "outputs": [
    {
     "name": "stdout",
     "output_type": "stream",
     "text": [
      "circuitId\n",
      "circuitRef\n",
      "name\n",
      "location\n",
      "country\n",
      "alt\n",
      "url\n"
     ]
    }
   ],
   "source": [
    "for col in circuit.columns:\n",
    "    print(col)"
   ]
  },
  {
   "cell_type": "code",
   "execution_count": 46,
   "metadata": {},
   "outputs": [],
   "source": [
    "del circuit[\"alt\"]\n",
    "del circuit[\"url\"]\n"
   ]
  },
  {
   "cell_type": "code",
   "execution_count": 48,
   "metadata": {},
   "outputs": [],
   "source": [
    "del circuit[\"name\"]"
   ]
  },
  {
   "cell_type": "code",
   "execution_count": 49,
   "metadata": {},
   "outputs": [
    {
     "name": "stdout",
     "output_type": "stream",
     "text": [
      "   constructorResultsId  raceId  constructorId  points status\n",
      "0                     1      18              1    14.0     \\N\n",
      "1                     2      18              2     8.0     \\N\n",
      "2                     3      18              3     9.0     \\N\n",
      "3                     4      18              4     5.0     \\N\n",
      "4                     5      18              5     2.0     \\N\n"
     ]
    }
   ],
   "source": [
    "constructor_result=pd.read_csv('C:\\ML-Project\\data\\constructor_results.csv')\n",
    "print(constructor_result.head())"
   ]
  },
  {
   "cell_type": "code",
   "execution_count": 21,
   "metadata": {},
   "outputs": [
    {
     "name": "stdout",
     "output_type": "stream",
     "text": [
      "constructorResultsId\n",
      "raceId\n",
      "constructorId\n",
      "points\n",
      "status\n"
     ]
    }
   ],
   "source": [
    "for col in constructor_result.columns:\n",
    "    print(col)"
   ]
  },
  {
   "cell_type": "code",
   "execution_count": 23,
   "metadata": {},
   "outputs": [],
   "source": [
    "del constructor_result[\"status\"]"
   ]
  },
  {
   "cell_type": "code",
   "execution_count": 32,
   "metadata": {
    "tags": [
     "ext"
    ]
   },
   "outputs": [
    {
     "name": "stdout",
     "output_type": "stream",
     "text": [
      "   constructorStandingsId  raceId  constructorId  points  position  \\\n",
      "0                       1      18              1    14.0         1   \n",
      "1                       2      18              2     8.0         3   \n",
      "2                       3      18              3     9.0         2   \n",
      "3                       4      18              4     5.0         4   \n",
      "4                       5      18              5     2.0         5   \n",
      "\n",
      "  positionText  wins  \n",
      "0            1     1  \n",
      "1            3     0  \n",
      "2            2     0  \n",
      "3            4     0  \n",
      "4            5     0  \n"
     ]
    }
   ],
   "source": [
    "constructor_standing=pd.read_csv('C:\\ML-Project\\data\\constructor_standings.csv')\n",
    "print(constructor_standing.head())\n",
    "del constructor_standing[\"position\"]"
   ]
  },
  {
   "cell_type": "code",
   "execution_count": 59,
   "metadata": {},
   "outputs": [
    {
     "name": "stdout",
     "output_type": "stream",
     "text": [
      "   constructorId constructorRef        name nationality  \\\n",
      "0              1        mclaren     McLaren     British   \n",
      "1              2     bmw_sauber  BMW Sauber      German   \n",
      "2              3       williams    Williams     British   \n",
      "3              4        renault     Renault      French   \n",
      "4              5     toro_rosso  Toro Rosso     Italian   \n",
      "\n",
      "                                                 url  \n",
      "0               http://en.wikipedia.org/wiki/McLaren  \n",
      "1            http://en.wikipedia.org/wiki/BMW_Sauber  \n",
      "2  http://en.wikipedia.org/wiki/Williams_Grand_Pr...  \n",
      "3  http://en.wikipedia.org/wiki/Renault_in_Formul...  \n",
      "4   http://en.wikipedia.org/wiki/Scuderia_Toro_Rosso  \n"
     ]
    }
   ],
   "source": [
    "constructors=pd.read_csv('C:\\ML-Project\\data\\constructors.csv')\n",
    "print(constructors.head())\n",
    "del constructors[\"name\"]\n",
    "del constructors[\"url\"]"
   ]
  },
  {
   "cell_type": "code",
   "execution_count": 60,
   "metadata": {},
   "outputs": [
    {
     "name": "stdout",
     "output_type": "stream",
     "text": [
      "   constructorId constructorRef nationality\n",
      "0              1        mclaren     British\n",
      "1              2     bmw_sauber      German\n",
      "2              3       williams     British\n",
      "3              4        renault      French\n",
      "4              5     toro_rosso     Italian\n"
     ]
    }
   ],
   "source": [
    "print(constructors.head())"
   ]
  }
 ],
 "metadata": {
  "kernelspec": {
   "display_name": "Python 3.8.7 64-bit",
   "language": "python",
   "name": "python3"
  },
  "language_info": {
   "codemirror_mode": {
    "name": "ipython",
    "version": 3
   },
   "file_extension": ".py",
   "mimetype": "text/x-python",
   "name": "python",
   "nbconvert_exporter": "python",
   "pygments_lexer": "ipython3",
   "version": "3.8.7"
  },
  "orig_nbformat": 4,
  "vscode": {
   "interpreter": {
    "hash": "affa1e01f2d63dc644a5d836267b8cc21782c0351696aa19b5d442d7e4c7d376"
   }
  }
 },
 "nbformat": 4,
 "nbformat_minor": 2
}
