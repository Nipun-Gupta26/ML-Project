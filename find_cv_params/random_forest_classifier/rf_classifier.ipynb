{
 "cells": [
  {
   "cell_type": "code",
   "execution_count": 200,
   "metadata": {},
   "outputs": [],
   "source": [
    "import pandas as pd\n",
    "import numpy as np\n",
    "import matplotlib.pyplot as plt\n",
    "from sklearn.metrics import precision_score, recall_score, f1_score, accuracy_score\n",
    "from sklearn.ensemble import RandomForestClassifier\n",
    "from sklearn.model_selection import GridSearchCV"
   ]
  },
  {
   "cell_type": "code",
   "execution_count": 201,
   "metadata": {},
   "outputs": [],
   "source": [
    "df_train = pd.read_csv('../../data_new/train_pre.csv').drop_duplicates()\n",
    "df_test = pd.read_csv('../../data_new/test_pre.csv').drop_duplicates()"
   ]
  },
  {
   "cell_type": "code",
   "execution_count": 202,
   "metadata": {},
   "outputs": [],
   "source": [
    "def pooled_var(stds):\n",
    "    n = 3 # size of each group\n",
    "    return np.sqrt(sum((n-1)*(stds**2))/ len(stds)*(n-1))"
   ]
  },
  {
   "cell_type": "code",
   "execution_count": 203,
   "metadata": {},
   "outputs": [],
   "source": [
    "def plot_cv_results(gs_model, gs_params):\n",
    "    df = pd.DataFrame(gs_model.cv_results_)\n",
    "    results = ['mean_test_score',\n",
    "            'mean_train_score',\n",
    "            'std_test_score', \n",
    "            'std_train_score']\n",
    "\n",
    "\n",
    "    fig, axes = plt.subplots(1, len(gs_params), \n",
    "                            figsize = (5*len(gs_params), 7),\n",
    "                            sharey='row')\n",
    "    axes[0].set_ylabel(\"Score\", fontsize=25)\n",
    "    lw = 2\n",
    "\n",
    "    for idx, (param_name, param_range) in enumerate(gs_params.items()):\n",
    "        grouped_df = df.groupby(f'param_{param_name}')[results]\\\n",
    "            .agg({'mean_train_score': 'mean',\n",
    "                'mean_test_score': 'mean',\n",
    "                'std_train_score': pooled_var,\n",
    "                'std_test_score': pooled_var})\n",
    "\n",
    "        previous_group = df.groupby(f'param_{param_name}')[results]\n",
    "        axes[idx].set_xlabel(param_name, fontsize=30)\n",
    "        axes[idx].set_ylim(0.0, 1.1)\n",
    "        axes[idx].plot(param_range, grouped_df['mean_train_score'], label=\"Training score\",\n",
    "                    color=\"darkorange\", lw=lw)\n",
    "        axes[idx].fill_between(param_range, grouped_df['mean_train_score'] - grouped_df['std_train_score'],\n",
    "                        grouped_df['mean_train_score'] + grouped_df['std_train_score'], alpha=0.2,\n",
    "                        color=\"darkorange\", lw=lw)\n",
    "        axes[idx].plot(param_range, grouped_df['mean_test_score'], label=\"Cross-validation score\",\n",
    "                    color=\"navy\", lw=lw)\n",
    "        axes[idx].fill_between(param_range, grouped_df['mean_test_score'] - grouped_df['std_test_score'],\n",
    "                        grouped_df['mean_test_score'] + grouped_df['std_test_score'], alpha=0.2,\n",
    "                        color=\"navy\", lw=lw)\n",
    "\n",
    "    handles, labels = axes[0].get_legend_handles_labels()\n",
    "    fig.suptitle('Validation curves', fontsize=40)\n",
    "    fig.legend(handles, labels, loc=8, ncol=2, fontsize=20)\n",
    "\n",
    "    fig.subplots_adjust(bottom=0.25, top=0.85)  \n",
    "    plt.show()"
   ]
  },
  {
   "cell_type": "code",
   "execution_count": 204,
   "metadata": {},
   "outputs": [],
   "source": [
    "def get_score(pred, actual):\n",
    "    if np.argmin(pred) == np.argmin(actual):\n",
    "        return 1\n",
    "    return 0"
   ]
  },
  {
   "cell_type": "code",
   "execution_count": 205,
   "metadata": {},
   "outputs": [],
   "source": [
    "def get_metrics(model, x, y):\n",
    "    precision = 0\n",
    "    accuracy = 0\n",
    "    recall = 0\n",
    "    f1 = 0\n",
    "    score = 0\n",
    "    for i in x['raceId'].unique():\n",
    "        X_test = x[x['raceId'] == i]\n",
    "        Y_test = y[x[x['raceId'] == i].index]\n",
    "\n",
    "        predicted_scores = model.predict(X_test.drop(columns = ['results_positionOrder']))\n",
    "        predicted_podium = np.argsort(predicted_scores)\n",
    "        # print(self.position[x[x['raceId'] == i].index])\n",
    "        actual_podium = X_test['results_positionOrder'].to_numpy()\n",
    "        actual_podium = np.argsort(actual_podium)\n",
    "        # print(predicted_scores)\n",
    "\n",
    "        predictions = np.zeros(len(Y_test))\n",
    "        # predictions[predicted_podium] = 1\n",
    "        actual = np.zeros(len(Y_test))\n",
    "        # actual[actual_podium] = 1\n",
    "\n",
    "        for i in range(1):\n",
    "            predictions[predicted_podium[i]] = 1\n",
    "            # print(actual_podium)\n",
    "            actual[actual_podium[i]] = 1\n",
    "\n",
    "        precision += precision_score(actual, predictions)\n",
    "        accuracy += accuracy_score(actual, predictions)\n",
    "        recall += recall_score(actual, predictions)\n",
    "        f1 += f1_score(actual, predictions) \n",
    "        score += get_score(predicted_podium, actual_podium)\n",
    "    return precision/len(x['raceId'].unique()), accuracy/len(x['raceId'].unique()), recall/len(x['raceId'].unique()), f1/len(x['raceId'].unique()), score/len(x['raceId'].unique())\n",
    "        "
   ]
  },
  {
   "cell_type": "code",
   "execution_count": 206,
   "metadata": {},
   "outputs": [],
   "source": [
    "class customCrossValidation():\n",
    "\n",
    "    def split(self, x):\n",
    "        indices = []\n",
    "        for i in range(3):\n",
    "            years = x['year'].unique()\n",
    "            np.random.shuffle(years)\n",
    "            val_years = years[:6]\n",
    "            train_years = years[6:]\n",
    "\n",
    "            indices.append((x[x['year'].isin(train_years)].index, x[x['year'].isin(val_years)].index))\n",
    "        return indices"
   ]
  },
  {
   "cell_type": "markdown",
   "metadata": {},
   "source": [
    "##### Ridge Regression"
   ]
  },
  {
   "cell_type": "code",
   "execution_count": 207,
   "metadata": {},
   "outputs": [],
   "source": [
    "class RFClassification() :\n",
    "\n",
    "    def scoring(self, model, x, y):\n",
    "\n",
    "        precision = 0\n",
    "        accuracy = 0\n",
    "        recall = 0\n",
    "        f1 = 0\n",
    "        score = 0\n",
    "        for i in x['raceId'].unique():\n",
    "            X_test = x[x['raceId'] == i]\n",
    "            Y_test = y[x[x['raceId'] == i].index]\n",
    "\n",
    "            predicted_scores = model.predict(X_test)\n",
    "            predicted_podium = np.argsort(predicted_scores)\n",
    "            # print(self.position[x[x['raceId'] == i].index])\n",
    "            actual_podium = self.position[x[x['raceId'] == i].index].to_numpy()\n",
    "            actual_podium = np.argsort(actual_podium)\n",
    "            # print(predicted_scores)\n",
    "\n",
    "            predictions = np.zeros(len(Y_test))\n",
    "            # predictions[predicted_podium] = 1\n",
    "            actual = np.zeros(len(Y_test))\n",
    "            # actual[actual_podium] = 1\n",
    "\n",
    "            for i in range(1):\n",
    "                predictions[predicted_podium[i]] = 1\n",
    "                # print(actual_podium)\n",
    "                actual[actual_podium[i]] = 1\n",
    "\n",
    "            precision += precision_score(actual, predictions)\n",
    "            accuracy += accuracy_score(actual, predictions)\n",
    "            recall += recall_score(actual, predictions)\n",
    "            f1 += f1_score(actual, predictions) \n",
    "            score += get_score(predicted_podium, actual_podium)\n",
    "        \n",
    "        # self.ridge_metrics = {'precision': precision/len(x['raceId'].unique()), 'accuracy': accuracy/len(x['raceId'].unique()), 'recall': recall/len(x['raceId'].unique()), 'f1': f1/len(x['raceId'].unique())}\n",
    "        return precision/len(x['raceId'].unique())\n",
    "\n",
    "    def find_best_param_rf(self, x, y):\n",
    "\n",
    "        self.x = x\n",
    "        self.y = y\n",
    "        self.position = x['results_positionOrder']\n",
    "\n",
    "        splitter = customCrossValidation().split(x)\n",
    "        self.hyper_params = [{'n_estimators': [100, 200, 300], 'max_depth': [5, 10, 15, 20], 'min_samples_split': [2, 5, 10, 15]}]\n",
    "\n",
    "        model_rf = RandomForestClassifier()\n",
    "        self.model_cv = GridSearchCV(estimator=model_rf, param_grid=self.hyper_params, scoring=self.scoring, cv = splitter, return_train_score=True, verbose = 3)\n",
    "        self.model_cv.fit(x.drop(columns = ['results_positionOrder']), y)\n",
    "        self.rf_params = self.model_cv.best_params_\n",
    "\n",
    "    def fit_rf(self, x, y):\n",
    "        model = RandomForestClassifier(**self.rf_params)\n",
    "        model.fit(x.drop(columns = ['results_positionOrder']), y)\n",
    "        self.model = model\n",
    "        return\n",
    "        \n"
   ]
  },
  {
   "cell_type": "code",
   "execution_count": 208,
   "metadata": {},
   "outputs": [],
   "source": [
    "rfClassifier = RFClassification()"
   ]
  },
  {
   "cell_type": "code",
   "execution_count": 209,
   "metadata": {},
   "outputs": [
    {
     "name": "stdout",
     "output_type": "stream",
     "text": [
      "Fitting 3 folds for each of 15 candidates, totalling 45 fits\n",
      "[CV 1/3] END alpha=0.1, solver=svd;, score=(train=0.494, test=0.481) total time=   0.5s\n",
      "[CV 2/3] END alpha=0.1, solver=svd;, score=(train=0.499, test=0.438) total time=   0.4s\n",
      "[CV 3/3] END alpha=0.1, solver=svd;, score=(train=0.494, test=0.464) total time=   0.5s\n",
      "[CV 1/3] END alpha=0.1, solver=cholesky;, score=(train=0.494, test=0.481) total time=   0.4s\n",
      "[CV 2/3] END alpha=0.1, solver=cholesky;, score=(train=0.499, test=0.438) total time=   0.4s\n",
      "[CV 3/3] END alpha=0.1, solver=cholesky;, score=(train=0.494, test=0.464) total time=   0.6s\n",
      "[CV 1/3] END alpha=0.1, solver=saga;, score=(train=0.494, test=0.481) total time=   1.5s\n",
      "[CV 2/3] END alpha=0.1, solver=saga;, score=(train=0.495, test=0.438) total time=   1.3s\n",
      "[CV 3/3] END alpha=0.1, solver=saga;, score=(train=0.494, test=0.474) total time=   1.5s\n",
      "[CV 1/3] END alpha=1, solver=svd;, score=(train=0.494, test=0.481) total time=   0.4s\n",
      "[CV 2/3] END alpha=1, solver=svd;, score=(train=0.499, test=0.438) total time=   0.3s\n",
      "[CV 3/3] END alpha=1, solver=svd;, score=(train=0.494, test=0.464) total time=   0.5s\n",
      "[CV 1/3] END alpha=1, solver=cholesky;, score=(train=0.494, test=0.481) total time=   0.4s\n",
      "[CV 2/3] END alpha=1, solver=cholesky;, score=(train=0.499, test=0.438) total time=   0.3s\n",
      "[CV 3/3] END alpha=1, solver=cholesky;, score=(train=0.494, test=0.464) total time=   0.5s\n",
      "[CV 1/3] END alpha=1, solver=saga;, score=(train=0.494, test=0.481) total time=   1.3s\n",
      "[CV 2/3] END alpha=1, solver=saga;, score=(train=0.495, test=0.438) total time=   1.2s\n",
      "[CV 3/3] END alpha=1, solver=saga;, score=(train=0.494, test=0.474) total time=   1.4s\n",
      "[CV 1/3] END alpha=10, solver=svd;, score=(train=0.494, test=0.481) total time=   0.4s\n",
      "[CV 2/3] END alpha=10, solver=svd;, score=(train=0.499, test=0.438) total time=   0.3s\n",
      "[CV 3/3] END alpha=10, solver=svd;, score=(train=0.494, test=0.464) total time=   0.5s\n",
      "[CV 1/3] END alpha=10, solver=cholesky;, score=(train=0.494, test=0.481) total time=   0.4s\n",
      "[CV 2/3] END alpha=10, solver=cholesky;, score=(train=0.499, test=0.438) total time=   0.3s\n",
      "[CV 3/3] END alpha=10, solver=cholesky;, score=(train=0.494, test=0.464) total time=   0.5s\n",
      "[CV 1/3] END alpha=10, solver=saga;, score=(train=0.494, test=0.481) total time=   1.3s\n",
      "[CV 2/3] END alpha=10, solver=saga;, score=(train=0.495, test=0.438) total time=   1.2s\n",
      "[CV 3/3] END alpha=10, solver=saga;, score=(train=0.494, test=0.474) total time=   1.3s\n",
      "[CV 1/3] END alpha=100, solver=svd;, score=(train=0.495, test=0.481) total time=   0.4s\n",
      "[CV 2/3] END alpha=100, solver=svd;, score=(train=0.499, test=0.438) total time=   0.3s\n",
      "[CV 3/3] END alpha=100, solver=svd;, score=(train=0.495, test=0.464) total time=   0.5s\n",
      "[CV 1/3] END alpha=100, solver=cholesky;, score=(train=0.495, test=0.481) total time=   0.4s\n",
      "[CV 2/3] END alpha=100, solver=cholesky;, score=(train=0.499, test=0.438) total time=   0.3s\n",
      "[CV 3/3] END alpha=100, solver=cholesky;, score=(train=0.495, test=0.464) total time=   0.5s\n",
      "[CV 1/3] END alpha=100, solver=saga;, score=(train=0.493, test=0.481) total time=   1.3s\n",
      "[CV 2/3] END alpha=100, solver=saga;, score=(train=0.494, test=0.438) total time=   1.2s\n",
      "[CV 3/3] END alpha=100, solver=saga;, score=(train=0.494, test=0.474) total time=   1.5s\n",
      "[CV 1/3] END alpha=1000, solver=svd;, score=(train=0.497, test=0.481) total time=   0.4s\n",
      "[CV 2/3] END alpha=1000, solver=svd;, score=(train=0.498, test=0.438) total time=   0.4s\n",
      "[CV 3/3] END alpha=1000, solver=svd;, score=(train=0.495, test=0.485) total time=   0.5s\n",
      "[CV 1/3] END alpha=1000, solver=cholesky;, score=(train=0.497, test=0.481) total time=   0.4s\n",
      "[CV 2/3] END alpha=1000, solver=cholesky;, score=(train=0.498, test=0.438) total time=   0.4s\n",
      "[CV 3/3] END alpha=1000, solver=cholesky;, score=(train=0.495, test=0.485) total time=   0.4s\n",
      "[CV 1/3] END alpha=1000, solver=saga;, score=(train=0.494, test=0.481) total time=   1.3s\n",
      "[CV 2/3] END alpha=1000, solver=saga;, score=(train=0.496, test=0.438) total time=   1.3s\n",
      "[CV 3/3] END alpha=1000, solver=saga;, score=(train=0.491, test=0.474) total time=   1.2s\n"
     ]
    }
   ],
   "source": [
    "rfClassifier.find_best_param_rf(df_train.drop(columns = ['results_points']), df_train['results_positionOrder'])"
   ]
  },
  {
   "cell_type": "code",
   "execution_count": 210,
   "metadata": {},
   "outputs": [
    {
     "data": {
      "text/plain": [
       "{'alpha': 1000, 'solver': 'svd'}"
      ]
     },
     "execution_count": 210,
     "metadata": {},
     "output_type": "execute_result"
    }
   ],
   "source": [
    "ridge.ridge_params"
   ]
  },
  {
   "cell_type": "code",
   "execution_count": 211,
   "metadata": {},
   "outputs": [],
   "source": [
    "ridge.fit_ridge(df_train.drop(columns = ['results_points']), df_train['results_points'])"
   ]
  },
  {
   "cell_type": "code",
   "execution_count": 212,
   "metadata": {},
   "outputs": [
    {
     "data": {
      "text/plain": [
       "(0.46, 0.9532560276685181, 0.46, 0.46, 0.18)"
      ]
     },
     "execution_count": 212,
     "metadata": {},
     "output_type": "execute_result"
    }
   ],
   "source": [
    "get_metrics(ridge.model, df_test.drop(columns = ['results_points']), df_test['results_points'])"
   ]
  },
  {
   "cell_type": "code",
   "execution_count": 213,
   "metadata": {},
   "outputs": [
    {
     "data": {
      "image/png": "[encoded data removed]",
      "text/plain": [
       "<Figure size 1000x700 with 2 Axes>"
      ]
     },
     "metadata": {},
     "output_type": "display_data"
    }
   ],
   "source": [
    "plot_cv_results(ridge.model_cv, ridge.hyper_params[0])"
   ]
  }
 ],
 "metadata": {
  "kernelspec": {
   "display_name": "Python 3.8.7 64-bit",
   "language": "python",
   "name": "python3"
  },
  "language_info": {
   "codemirror_mode": {
    "name": "ipython",
    "version": 3
   },
   "file_extension": ".py",
   "mimetype": "text/x-python",
   "name": "python",
   "nbconvert_exporter": "python",
   "pygments_lexer": "ipython3",
   "version": "3.8.7"
  },
  "orig_nbformat": 4,
  "vscode": {
   "interpreter": {
    "hash": "affa1e01f2d63dc644a5d836267b8cc21782c0351696aa19b5d442d7e4c7d376"
   }
  }
 },
 "nbformat": 4,
 "nbformat_minor": 2
}
