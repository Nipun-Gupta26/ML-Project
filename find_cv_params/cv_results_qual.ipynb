{
 "cells": [
  {
   "cell_type": "code",
   "execution_count": 1,
   "metadata": {},
   "outputs": [],
   "source": [
    "import pandas as pd\n",
    "import numpy as np\n",
    "from sklearn.metrics import accuracy_score, precision_score, recall_score, f1_score\n",
    "from sklearn.linear_model import LogisticRegression, Ridge, Lasso\n",
    "from sklearn.tree import DecisionTreeRegressor, DecisionTreeClassifier\n",
    "from sklearn.ensemble import RandomForestRegressor, RandomForestClassifier\n",
    "from sklearn.naive_bayes import GaussianNB\n",
    "from sklearn.svm import SVC, SVR\n",
    "from sklearn.neural_network import MLPRegressor, MLPClassifier\n",
    "from sklearn.ensemble import BaggingRegressor, BaggingClassifier, AdaBoostRegressor, AdaBoostClassifier"
   ]
  },
  {
   "cell_type": "code",
   "execution_count": 2,
   "metadata": {},
   "outputs": [],
   "source": [
    "df_train = pd.read_csv('../data_new/qualifying_train_pre.csv').drop_duplicates()\n",
    "df_test = pd.read_csv('../data_new/qualifying_test_pre.csv').drop_duplicates()"
   ]
  },
  {
   "cell_type": "code",
   "execution_count": 3,
   "metadata": {},
   "outputs": [
    {
     "data": {
      "text/plain": [
       "Index(['raceId', 'year', 'circuitId', 'weather_warm', 'weather_cold',\n",
       "       'weather_dry', 'weather_wet', 'weather_cloudy', 'driverId',\n",
       "       'constructorId', 'grid', 'results_positionOrder', 'circuit_country',\n",
       "       'constructor_wins', 'constructor_nationality', 'driver_nationality',\n",
       "       'driver_wins', 'driver_age', 'Unnamed: 0', 'qualifying_position',\n",
       "       'q1_time_ms', 'q2_time_ms', 'q3_time_ms', 'results_points'],\n",
       "      dtype='object')"
      ]
     },
     "execution_count": 3,
     "metadata": {},
     "output_type": "execute_result"
    }
   ],
   "source": [
    "df_train.columns"
   ]
  },
  {
   "cell_type": "markdown",
   "metadata": {},
   "source": [
    "## Regression"
   ]
  },
  {
   "cell_type": "code",
   "execution_count": 4,
   "metadata": {},
   "outputs": [],
   "source": [
    "def get_score(actual, pred, margin):\n",
    "    index = np.argmin(pred)\n",
    "    if actual[index] <= margin:\n",
    "        return 1\n",
    "    return 0"
   ]
  },
  {
   "cell_type": "code",
   "execution_count": 5,
   "metadata": {},
   "outputs": [],
   "source": [
    "def get_arrays(prediction, actual):\n",
    "    temp_actual, temp_predicton = [], []\n",
    "\n",
    "    for i in prediction:\n",
    "        if i<=3:\n",
    "            temp_predicton.append(1)\n",
    "        else:\n",
    "            temp_predicton.append(0)\n",
    "    \n",
    "    for i in actual:\n",
    "        if(i<=3):\n",
    "            temp_actual.append(1)\n",
    "        else:\n",
    "            temp_actual.append(0)\n",
    "    \n",
    "\n",
    "    return temp_actual, temp_predicton"
   ]
  },
  {
   "cell_type": "code",
   "execution_count": 6,
   "metadata": {},
   "outputs": [],
   "source": [
    "def get_podium(prediced_scores):\n",
    "    d = {}\n",
    "    for i in range(len(prediced_scores)):\n",
    "        d[prediced_scores[i]] = i\n",
    "\n",
    "    prediced_scores[::-1].sort()\n",
    "\n",
    "    podium = np.zeros(len(prediced_scores))\n",
    "\n",
    "    for i in range(len(prediced_scores)):\n",
    "        podium[d[prediced_scores[i]]] = i + 1\n",
    "    \n",
    "    return podium"
   ]
  },
  {
   "cell_type": "markdown",
   "metadata": {},
   "source": [
    "### Ridge Regression"
   ]
  },
  {
   "cell_type": "code",
   "execution_count": 7,
   "metadata": {},
   "outputs": [],
   "source": [
    "def ridgeRegression(X_train, Y_train):\n",
    "    model = Ridge(alpha = 1000, solver = 'svd')\n",
    "    model.fit(X_train, Y_train)        \n",
    "\n",
    "    return model"
   ]
  },
  {
   "cell_type": "code",
   "execution_count": 8,
   "metadata": {},
   "outputs": [],
   "source": [
    "def get_Ridge_Regression_Score():\n",
    "    X_train = df_train.drop(columns = ['results_points'])\n",
    "    Y_train = df_train['results_points']\n",
    "    model = ridgeRegression(X_train.drop(columns = ['results_positionOrder']), Y_train)\n",
    "\n",
    "    precision = 0\n",
    "    accuracy = 0\n",
    "    recall = 0\n",
    "    f1 = 0\n",
    "    score1 = 0\n",
    "    score2 = 0\n",
    "    for i in df_test['raceId'].unique():\n",
    "        X_test = df_test[df_test['raceId'] == i].drop(columns = ['results_points'])\n",
    "        Y_test = df_test[df_test['raceId'] == i]['results_points'].to_numpy()\n",
    "\n",
    "        prediction = model.predict(X_test.drop(columns = ['results_positionOrder']))\n",
    "        prediction = get_podium(prediction)\n",
    "        actual = X_test['results_positionOrder'].to_numpy()\n",
    "        temp_actual, temp_prediction = get_arrays(prediction, actual)\n",
    "        score1 += get_score(prediction, actual, 1)\n",
    "        score2 += get_score(prediction, actual, 3)\n",
    "        \n",
    "        \n",
    "        accuracy += accuracy_score(temp_actual, temp_prediction)\n",
    "        precision += precision_score(temp_actual, temp_prediction)\n",
    "        recall += recall_score(temp_actual, temp_prediction)\n",
    "        f1 += f1_score(temp_actual, temp_prediction)\n",
    "\n",
    "    return precision/len(df_test['raceId'].unique()), accuracy/len(df_test['raceId'].unique()), recall/len(df_test['raceId'].unique()), f1/len(df_test['raceId'].unique()), score1/len(df_test['raceId'].unique()), score2/len(df_test['raceId'].unique())"
   ]
  },
  {
   "cell_type": "markdown",
   "metadata": {},
   "source": [
    "### Lasso Regression"
   ]
  },
  {
   "cell_type": "code",
   "execution_count": 9,
   "metadata": {},
   "outputs": [],
   "source": [
    "def lassoRegression(X_train, Y_train):\n",
    "    model = Lasso(alpha = 0.1, selection = 'cyclic')\n",
    "    model.fit(X_train, Y_train)        \n",
    "\n",
    "    return model"
   ]
  },
  {
   "cell_type": "code",
   "execution_count": 10,
   "metadata": {},
   "outputs": [],
   "source": [
    "def get_Lasso_Regression_Score():\n",
    "    X_train = df_train.drop(columns = ['results_points'])\n",
    "    Y_train = df_train['results_points']\n",
    "    model = lassoRegression(X_train.drop(columns = ['results_positionOrder']), Y_train)\n",
    "\n",
    "    precision = 0\n",
    "    accuracy = 0\n",
    "    recall = 0\n",
    "    f1 = 0\n",
    "    score1 = 0\n",
    "    score2 = 0\n",
    "    for i in df_test['raceId'].unique():\n",
    "        X_test = df_test[df_test['raceId'] == i].drop(columns = ['results_points'])\n",
    "        Y_test = df_test[df_test['raceId'] == i]['results_points'].to_numpy()\n",
    "\n",
    "        prediction = model.predict(X_test.drop(columns = ['results_positionOrder']))\n",
    "        prediction = get_podium(prediction)\n",
    "        actual = X_test['results_positionOrder'].to_numpy()\n",
    "        temp_actual, temp_prediction = get_arrays(prediction, actual)\n",
    "        score1 += get_score(prediction, actual, 1)\n",
    "        score2 += get_score(prediction, actual, 3)\n",
    "        \n",
    "        \n",
    "        accuracy += accuracy_score(temp_actual, temp_prediction)\n",
    "        precision += precision_score(temp_actual, temp_prediction)\n",
    "        recall += recall_score(temp_actual, temp_prediction)\n",
    "        f1 += f1_score(temp_actual, temp_prediction)\n",
    "\n",
    "    return precision/len(df_test['raceId'].unique()), accuracy/len(df_test['raceId'].unique()), recall/len(df_test['raceId'].unique()), f1/len(df_test['raceId'].unique()), score1/len(df_test['raceId'].unique()), score2/len(df_test['raceId'].unique())"
   ]
  },
  {
   "cell_type": "markdown",
   "metadata": {},
   "source": [
    "### Decision Tree regressor"
   ]
  },
  {
   "cell_type": "code",
   "execution_count": 11,
   "metadata": {},
   "outputs": [],
   "source": [
    "def DTregressor(X_train, Y_train):\n",
    "    model = DecisionTreeRegressor()\n",
    "    model.fit(X_train, Y_train)\n",
    "\n",
    "    return model"
   ]
  },
  {
   "cell_type": "code",
   "execution_count": 12,
   "metadata": {},
   "outputs": [],
   "source": [
    "def get_DT_Regression_Score():\n",
    "    X_train = df_train.drop(columns = ['results_points'])\n",
    "    Y_train = df_train['results_points']\n",
    "    model = DTregressor(X_train.drop(columns = ['results_positionOrder']), Y_train)\n",
    "\n",
    "    precision = 0\n",
    "    accuracy = 0\n",
    "    recall = 0\n",
    "    f1 = 0\n",
    "    score1 = 0\n",
    "    score2 = 0\n",
    "    for i in df_test['raceId'].unique():\n",
    "        X_test = df_test[df_test['raceId'] == i].drop(columns = ['results_points'])\n",
    "        Y_test = df_test[df_test['raceId'] == i]['results_points'].to_numpy()\n",
    "\n",
    "        prediction = model.predict(X_test.drop(columns = ['results_positionOrder']))\n",
    "        prediction = get_podium(prediction)\n",
    "        actual = X_test['results_positionOrder'].to_numpy()\n",
    "        temp_actual, temp_prediction = get_arrays(prediction, actual)\n",
    "        score1 += get_score(prediction, actual, 1)\n",
    "        score2 += get_score(prediction, actual, 3)\n",
    "        \n",
    "        \n",
    "        accuracy += accuracy_score(temp_actual, temp_prediction)\n",
    "        precision += precision_score(temp_actual, temp_prediction)\n",
    "        recall += recall_score(temp_actual, temp_prediction)\n",
    "        f1 += f1_score(temp_actual, temp_prediction)\n",
    "\n",
    "    return precision/len(df_test['raceId'].unique()), accuracy/len(df_test['raceId'].unique()), recall/len(df_test['raceId'].unique()), f1/len(df_test['raceId'].unique()), score1/len(df_test['raceId'].unique()), score2/len(df_test['raceId'].unique())"
   ]
  },
  {
   "cell_type": "markdown",
   "metadata": {},
   "source": [
    "### Random Forest regressor"
   ]
  },
  {
   "cell_type": "code",
   "execution_count": 13,
   "metadata": {},
   "outputs": [],
   "source": [
    "def RFregressor(X_train, Y_train):\n",
    "    model = RandomForestRegressor(max_depth = 10, min_samples_split = 10, n_estimators = 100)\n",
    "    model.fit(X_train, Y_train)\n",
    "\n",
    "    return model"
   ]
  },
  {
   "cell_type": "code",
   "execution_count": 14,
   "metadata": {},
   "outputs": [],
   "source": [
    "def get_RF_Regression_Score():\n",
    "    X_train = df_train.drop(columns = ['results_points'])\n",
    "    Y_train = df_train['results_points']\n",
    "    model = RFregressor(X_train.drop(columns = ['results_positionOrder']), Y_train)\n",
    "\n",
    "    precision = 0\n",
    "    accuracy = 0\n",
    "    recall = 0\n",
    "    f1 = 0\n",
    "    score1 = 0\n",
    "    score2 = 0\n",
    "    for i in df_test['raceId'].unique():\n",
    "        X_test = df_test[df_test['raceId'] == i].drop(columns = ['results_points'])\n",
    "        Y_test = df_test[df_test['raceId'] == i]['results_points'].to_numpy()\n",
    "\n",
    "        prediction = model.predict(X_test.drop(columns = ['results_positionOrder']))\n",
    "        prediction = get_podium(prediction)\n",
    "        actual = X_test['results_positionOrder'].to_numpy()\n",
    "        temp_actual, temp_prediction = get_arrays(prediction, actual)\n",
    "        score1 += get_score(prediction, actual, 1)\n",
    "        score2 += get_score(prediction, actual, 3)\n",
    "        \n",
    "        \n",
    "        accuracy += accuracy_score(temp_actual, temp_prediction)\n",
    "        precision += precision_score(temp_actual, temp_prediction)\n",
    "        recall += recall_score(temp_actual, temp_prediction)\n",
    "        f1 += f1_score(temp_actual, temp_prediction)\n",
    "\n",
    "    return precision/len(df_test['raceId'].unique()), accuracy/len(df_test['raceId'].unique()), recall/len(df_test['raceId'].unique()), f1/len(df_test['raceId'].unique()), score1/len(df_test['raceId'].unique()), score2/len(df_test['raceId'].unique())"
   ]
  },
  {
   "cell_type": "markdown",
   "metadata": {},
   "source": [
    "### Support Vector regressor"
   ]
  },
  {
   "cell_type": "code",
   "execution_count": 15,
   "metadata": {},
   "outputs": [],
   "source": [
    "def SVregressor(X_train, Y_train):\n",
    "    model = SVR()\n",
    "    model.fit(X_train, Y_train)\n",
    "\n",
    "    return model"
   ]
  },
  {
   "cell_type": "code",
   "execution_count": 16,
   "metadata": {},
   "outputs": [],
   "source": [
    "def get_SV_Regression_Score():\n",
    "    X_train = df_train.drop(columns = ['results_points'])\n",
    "    Y_train = df_train['results_points']\n",
    "    model = SVregressor(X_train.drop(columns = ['results_positionOrder']), Y_train)\n",
    "\n",
    "    precision = 0\n",
    "    accuracy = 0\n",
    "    recall = 0\n",
    "    f1 = 0\n",
    "    score1 = 0\n",
    "    score2 = 0\n",
    "    for i in df_test['raceId'].unique():\n",
    "        X_test = df_test[df_test['raceId'] == i].drop(columns = ['results_points'])\n",
    "        Y_test = df_test[df_test['raceId'] == i]['results_points'].to_numpy()\n",
    "\n",
    "        prediction = model.predict(X_test.drop(columns = ['results_positionOrder']))\n",
    "        prediction = get_podium(prediction)\n",
    "        actual = X_test['results_positionOrder'].to_numpy()\n",
    "        temp_actual, temp_prediction = get_arrays(prediction, actual)\n",
    "        score1 += get_score(prediction, actual, 1)\n",
    "        score2 += get_score(prediction, actual, 3)\n",
    "        \n",
    "        \n",
    "        accuracy += accuracy_score(temp_actual, temp_prediction)\n",
    "        precision += precision_score(temp_actual, temp_prediction)\n",
    "        recall += recall_score(temp_actual, temp_prediction)\n",
    "        f1 += f1_score(temp_actual, temp_prediction)\n",
    "\n",
    "    return precision/len(df_test['raceId'].unique()), accuracy/len(df_test['raceId'].unique()), recall/len(df_test['raceId'].unique()), f1/len(df_test['raceId'].unique()), score1/len(df_test['raceId'].unique()), score2/len(df_test['raceId'].unique())"
   ]
  },
  {
   "cell_type": "markdown",
   "metadata": {},
   "source": [
    "### Multilayer Perceptron regressor"
   ]
  },
  {
   "cell_type": "code",
   "execution_count": 17,
   "metadata": {},
   "outputs": [],
   "source": [
    "def MLPregressor(X_train, Y_train):\n",
    "    model = MLPRegressor(activation = 'logistic', batch_size = 64, hidden_layer_sizes = (256, 32), learning_rate_init = 0.001)\n",
    "    model.fit(X_train, Y_train)\n",
    "\n",
    "    return model"
   ]
  },
  {
   "cell_type": "code",
   "execution_count": 18,
   "metadata": {},
   "outputs": [],
   "source": [
    "def get_MLP_Regression_Score():\n",
    "    X_train = df_train.drop(columns = ['results_points'])\n",
    "    Y_train = df_train['results_points']\n",
    "    model = MLPregressor(X_train.drop(columns = ['results_positionOrder']), Y_train)\n",
    "\n",
    "    precision = 0\n",
    "    accuracy = 0\n",
    "    recall = 0\n",
    "    f1 = 0\n",
    "    score1 = 0\n",
    "    score2 = 0\n",
    "    for i in df_test['raceId'].unique():\n",
    "        X_test = df_test[df_test['raceId'] == i].drop(columns = ['results_points'])\n",
    "        Y_test = df_test[df_test['raceId'] == i]['results_points'].to_numpy()\n",
    "\n",
    "        prediction = model.predict(X_test.drop(columns = ['results_positionOrder']))\n",
    "        prediction = get_podium(prediction)\n",
    "        actual = X_test['results_positionOrder'].to_numpy()\n",
    "        temp_actual, temp_prediction = get_arrays(prediction, actual)\n",
    "        score1 += get_score(prediction, actual, 1)\n",
    "        score2 += get_score(prediction, actual, 3)\n",
    "        \n",
    "        \n",
    "        accuracy += accuracy_score(temp_actual, temp_prediction)\n",
    "        precision += precision_score(temp_actual, temp_prediction)\n",
    "        recall += recall_score(temp_actual, temp_prediction)\n",
    "        f1 += f1_score(temp_actual, temp_prediction)\n",
    "\n",
    "    return precision/len(df_test['raceId'].unique()), accuracy/len(df_test['raceId'].unique()), recall/len(df_test['raceId'].unique()), f1/len(df_test['raceId'].unique()), score1/len(df_test['raceId'].unique()), score2/len(df_test['raceId'].unique())"
   ]
  },
  {
   "cell_type": "markdown",
   "metadata": {},
   "source": [
    "### Bagging regressor"
   ]
  },
  {
   "cell_type": "code",
   "execution_count": 19,
   "metadata": {},
   "outputs": [],
   "source": [
    "def Baggingregressor(X_train, Y_train):\n",
    "    model = BaggingRegressor(base_estimator = RandomForestRegressor(max_depth = 10, min_samples_split = 10, n_estimators = 100))\n",
    "    model.fit(X_train, Y_train)\n",
    "\n",
    "    return model"
   ]
  },
  {
   "cell_type": "code",
   "execution_count": 20,
   "metadata": {},
   "outputs": [],
   "source": [
    "def get_Bagging_Regression_Score():\n",
    "    X_train = df_train.drop(columns = ['results_points'])\n",
    "    Y_train = df_train['results_points']\n",
    "    model = Baggingregressor(X_train.drop(columns = ['results_positionOrder']), Y_train)\n",
    "\n",
    "    precision = 0\n",
    "    accuracy = 0\n",
    "    recall = 0\n",
    "    f1 = 0\n",
    "    score1 = 0\n",
    "    score2 = 0\n",
    "    for i in df_test['raceId'].unique():\n",
    "        X_test = df_test[df_test['raceId'] == i].drop(columns = ['results_points'])\n",
    "        Y_test = df_test[df_test['raceId'] == i]['results_points'].to_numpy()\n",
    "\n",
    "        prediction = model.predict(X_test.drop(columns = ['results_positionOrder']))\n",
    "        prediction = get_podium(prediction)\n",
    "        actual = X_test['results_positionOrder'].to_numpy()\n",
    "        temp_actual, temp_prediction = get_arrays(prediction, actual)\n",
    "        score1 += get_score(prediction, actual, 1)\n",
    "        score2 += get_score(prediction, actual, 3)\n",
    "        \n",
    "        \n",
    "        accuracy += accuracy_score(temp_actual, temp_prediction)\n",
    "        precision += precision_score(temp_actual, temp_prediction)\n",
    "        recall += recall_score(temp_actual, temp_prediction)\n",
    "        f1 += f1_score(temp_actual, temp_prediction)\n",
    "\n",
    "    return precision/len(df_test['raceId'].unique()), accuracy/len(df_test['raceId'].unique()), recall/len(df_test['raceId'].unique()), f1/len(df_test['raceId'].unique()), score1/len(df_test['raceId'].unique()), score2/len(df_test['raceId'].unique())"
   ]
  },
  {
   "cell_type": "markdown",
   "metadata": {},
   "source": [
    "### AdaBoost regressor"
   ]
  },
  {
   "cell_type": "code",
   "execution_count": 21,
   "metadata": {},
   "outputs": [],
   "source": [
    "def AdaBoostingregressor(X_train, Y_train):\n",
    "    model = AdaBoostRegressor(base_estimator = RandomForestRegressor(max_depth = 10, min_samples_split = 10, n_estimators = 100))\n",
    "    model.fit(X_train, Y_train)\n",
    "\n",
    "    return model"
   ]
  },
  {
   "cell_type": "code",
   "execution_count": 22,
   "metadata": {},
   "outputs": [],
   "source": [
    "def get_Ada_Boosting_Regression_Score():\n",
    "    X_train = df_train.drop(columns = ['results_points'])\n",
    "    Y_train = df_train['results_points']\n",
    "    model = AdaBoostingregressor(X_train.drop(columns = ['results_positionOrder']), Y_train)\n",
    "\n",
    "    precision = 0\n",
    "    accuracy = 0\n",
    "    recall = 0\n",
    "    f1 = 0\n",
    "    score1 = 0\n",
    "    score2 = 0\n",
    "    for i in df_test['raceId'].unique():\n",
    "        X_test = df_test[df_test['raceId'] == i].drop(columns = ['results_points'])\n",
    "        Y_test = df_test[df_test['raceId'] == i]['results_points'].to_numpy()\n",
    "\n",
    "        prediction = model.predict(X_test.drop(columns = ['results_positionOrder']))\n",
    "        prediction = get_podium(prediction)\n",
    "        actual = X_test['results_positionOrder'].to_numpy()\n",
    "        temp_actual, temp_prediction = get_arrays(prediction, actual)\n",
    "        score1 += get_score(prediction, actual, 1)\n",
    "        score2 += get_score(prediction, actual, 3)\n",
    "        \n",
    "        \n",
    "        accuracy += accuracy_score(temp_actual, temp_prediction)\n",
    "        precision += precision_score(temp_actual, temp_prediction)\n",
    "        recall += recall_score(temp_actual, temp_prediction)\n",
    "        f1 += f1_score(temp_actual, temp_prediction)\n",
    "\n",
    "    return precision/len(df_test['raceId'].unique()), accuracy/len(df_test['raceId'].unique()), recall/len(df_test['raceId'].unique()), f1/len(df_test['raceId'].unique()), score1/len(df_test['raceId'].unique()), score2/len(df_test['raceId'].unique())"
   ]
  },
  {
   "cell_type": "markdown",
   "metadata": {},
   "source": [
    "## Compiling all regressions"
   ]
  },
  {
   "cell_type": "code",
   "execution_count": 23,
   "metadata": {},
   "outputs": [],
   "source": [
    "regression_scores = {}\n",
    "regression_scores['Ridge Regression'] = get_Ridge_Regression_Score()\n",
    "regression_scores['Lasso Regression'] = get_Lasso_Regression_Score()\n",
    "regression_scores['DT Regression'] = get_DT_Regression_Score()\n",
    "regression_scores['RF Regression'] = get_RF_Regression_Score()\n",
    "regression_scores['SV Regression'] = get_SV_Regression_Score()\n",
    "regression_scores['MLP Regression'] = get_MLP_Regression_Score()\n",
    "regression_scores['Bagging Regression'] = get_Bagging_Regression_Score()\n",
    "regression_scores['Adaboost Regression'] = get_Ada_Boosting_Regression_Score()"
   ]
  },
  {
   "cell_type": "code",
   "execution_count": 24,
   "metadata": {},
   "outputs": [
    {
     "data": {
      "text/html": [
       "<div>\n",
       "<style scoped>\n",
       "    .dataframe tbody tr th:only-of-type {\n",
       "        vertical-align: middle;\n",
       "    }\n",
       "\n",
       "    .dataframe tbody tr th {\n",
       "        vertical-align: top;\n",
       "    }\n",
       "\n",
       "    .dataframe thead th {\n",
       "        text-align: right;\n",
       "    }\n",
       "</style>\n",
       "<table border=\"1\" class=\"dataframe\">\n",
       "  <thead>\n",
       "    <tr style=\"text-align: right;\">\n",
       "      <th></th>\n",
       "      <th>Ridge Regression</th>\n",
       "      <th>Lasso Regression</th>\n",
       "      <th>DT Regression</th>\n",
       "      <th>RF Regression</th>\n",
       "      <th>SV Regression</th>\n",
       "      <th>MLP Regression</th>\n",
       "      <th>Bagging Regression</th>\n",
       "      <th>Adaboost Regression</th>\n",
       "    </tr>\n",
       "  </thead>\n",
       "  <tbody>\n",
       "    <tr>\n",
       "      <th>Precision</th>\n",
       "      <td>0.579235</td>\n",
       "      <td>0.584699</td>\n",
       "      <td>0.144311</td>\n",
       "      <td>0.566081</td>\n",
       "      <td>0.393443</td>\n",
       "      <td>0.129505</td>\n",
       "      <td>0.617486</td>\n",
       "      <td>0.599727</td>\n",
       "    </tr>\n",
       "    <tr>\n",
       "      <th>Accuracy</th>\n",
       "      <td>0.885471</td>\n",
       "      <td>0.886838</td>\n",
       "      <td>0.332445</td>\n",
       "      <td>0.867723</td>\n",
       "      <td>0.832936</td>\n",
       "      <td>0.316510</td>\n",
       "      <td>0.895971</td>\n",
       "      <td>0.890675</td>\n",
       "    </tr>\n",
       "    <tr>\n",
       "      <th>Recall</th>\n",
       "      <td>0.579235</td>\n",
       "      <td>0.584699</td>\n",
       "      <td>0.770492</td>\n",
       "      <td>0.612022</td>\n",
       "      <td>0.393443</td>\n",
       "      <td>0.726776</td>\n",
       "      <td>0.617486</td>\n",
       "      <td>0.601093</td>\n",
       "    </tr>\n",
       "    <tr>\n",
       "      <th>F1</th>\n",
       "      <td>0.579235</td>\n",
       "      <td>0.584699</td>\n",
       "      <td>0.242682</td>\n",
       "      <td>0.582227</td>\n",
       "      <td>0.393443</td>\n",
       "      <td>0.219252</td>\n",
       "      <td>0.617486</td>\n",
       "      <td>0.600312</td>\n",
       "    </tr>\n",
       "    <tr>\n",
       "      <th>winner_score</th>\n",
       "      <td>0.508197</td>\n",
       "      <td>0.524590</td>\n",
       "      <td>0.655738</td>\n",
       "      <td>0.622951</td>\n",
       "      <td>0.180328</td>\n",
       "      <td>0.672131</td>\n",
       "      <td>0.639344</td>\n",
       "      <td>0.672131</td>\n",
       "    </tr>\n",
       "    <tr>\n",
       "      <th>podium_score</th>\n",
       "      <td>0.836066</td>\n",
       "      <td>0.836066</td>\n",
       "      <td>0.868852</td>\n",
       "      <td>0.918033</td>\n",
       "      <td>0.377049</td>\n",
       "      <td>0.688525</td>\n",
       "      <td>0.918033</td>\n",
       "      <td>0.934426</td>\n",
       "    </tr>\n",
       "  </tbody>\n",
       "</table>\n",
       "</div>"
      ],
      "text/plain": [
       "              Ridge Regression  Lasso Regression  DT Regression  \\\n",
       "Precision             0.579235          0.584699       0.144311   \n",
       "Accuracy              0.885471          0.886838       0.332445   \n",
       "Recall                0.579235          0.584699       0.770492   \n",
       "F1                    0.579235          0.584699       0.242682   \n",
       "winner_score          0.508197          0.524590       0.655738   \n",
       "podium_score          0.836066          0.836066       0.868852   \n",
       "\n",
       "              RF Regression  SV Regression  MLP Regression  \\\n",
       "Precision          0.566081       0.393443        0.129505   \n",
       "Accuracy           0.867723       0.832936        0.316510   \n",
       "Recall             0.612022       0.393443        0.726776   \n",
       "F1                 0.582227       0.393443        0.219252   \n",
       "winner_score       0.622951       0.180328        0.672131   \n",
       "podium_score       0.918033       0.377049        0.688525   \n",
       "\n",
       "              Bagging Regression  Adaboost Regression  \n",
       "Precision               0.617486             0.599727  \n",
       "Accuracy                0.895971             0.890675  \n",
       "Recall                  0.617486             0.601093  \n",
       "F1                      0.617486             0.600312  \n",
       "winner_score            0.639344             0.672131  \n",
       "podium_score            0.918033             0.934426  "
      ]
     },
     "execution_count": 24,
     "metadata": {},
     "output_type": "execute_result"
    }
   ],
   "source": [
    "pd.DataFrame(regression_scores, index = ['Precision', 'Accuracy', 'Recall', 'F1', 'winner_score', 'podium_score'])"
   ]
  },
  {
   "cell_type": "markdown",
   "metadata": {},
   "source": [
    "## Classification"
   ]
  },
  {
   "cell_type": "markdown",
   "metadata": {},
   "source": [
    "### Logistic Regression"
   ]
  },
  {
   "cell_type": "code",
   "execution_count": 25,
   "metadata": {},
   "outputs": [],
   "source": [
    "def logisticRegression(X_train, Y_train):\n",
    "    model = LogisticRegression(max_iter=2500, multi_class = 'ovr')\n",
    "    model.fit(X_train, Y_train)\n",
    "\n",
    "    return model"
   ]
  },
  {
   "cell_type": "code",
   "execution_count": 26,
   "metadata": {},
   "outputs": [],
   "source": [
    "def get_Logistic_Regression_Score():\n",
    "    X_train = df_train\n",
    "    Y_train = df_train['results_positionOrder']\n",
    "    model = logisticRegression(X_train.drop(columns = ['results_positionOrder', 'results_points']), Y_train)\n",
    "\n",
    "    score1 = 0\n",
    "    score2 = 0\n",
    "    accuracy = 0\n",
    "    precision = 0\n",
    "    recall = 0\n",
    "    f1 = 0\n",
    "    for i in df_test['raceId'].unique():\n",
    "        X_test = df_test[df_test['raceId'] == i]\n",
    "        Y_test = df_test[df_test['raceId'] == i]['results_positionOrder']\n",
    "\n",
    "        prediction = model.predict(X_test.drop(columns = ['results_positionOrder', 'results_points']))\n",
    "        actual = Y_test.to_numpy()\n",
    "        temp_actual, temp_prediction = get_arrays(prediction, actual)\n",
    "        score1 += get_score(prediction, actual, 1)\n",
    "        score2 += get_score(prediction, actual, 3)\n",
    "        \n",
    "        \n",
    "        accuracy += accuracy_score(temp_actual, temp_prediction)\n",
    "        precision += precision_score(temp_actual, temp_prediction)\n",
    "        recall += recall_score(temp_actual, temp_prediction)\n",
    "        f1 += f1_score(temp_actual, temp_prediction)\n",
    "\n",
    "    return precision/len(df_test['raceId'].unique()), accuracy/len(df_test['raceId'].unique()), recall/len(df_test['raceId'].unique()), f1/len(df_test['raceId'].unique()), score1/len(df_test['raceId'].unique()), score2/len(df_test['raceId'].unique())"
   ]
  },
  {
   "cell_type": "markdown",
   "metadata": {},
   "source": [
    "### Naive Bayes Classifier"
   ]
  },
  {
   "cell_type": "code",
   "execution_count": 27,
   "metadata": {},
   "outputs": [],
   "source": [
    "def gaussianNB(X_train, Y_train):\n",
    "    model = GaussianNB()\n",
    "    model.fit(X_train, Y_train)\n",
    "\n",
    "    return model"
   ]
  },
  {
   "cell_type": "code",
   "execution_count": 28,
   "metadata": {},
   "outputs": [],
   "source": [
    "def get_Gaussian_NB_Score():\n",
    "    X_train = df_train\n",
    "    Y_train = df_train['results_positionOrder']\n",
    "    model = gaussianNB(X_train.drop(columns = ['results_positionOrder', 'results_points']), Y_train)\n",
    "\n",
    "    score1 = 0\n",
    "    score2 = 0\n",
    "    accuracy = 0\n",
    "    precision = 0\n",
    "    recall = 0\n",
    "    f1 = 0\n",
    "    for i in df_test['raceId'].unique():\n",
    "        X_test = df_test[df_test['raceId'] == i]\n",
    "        Y_test = df_test[df_test['raceId'] == i]['results_positionOrder']\n",
    "\n",
    "        prediction = model.predict(X_test.drop(columns = ['results_positionOrder', 'results_points']))\n",
    "        actual = Y_test.to_numpy()\n",
    "        temp_actual, temp_prediction = get_arrays(prediction, actual)\n",
    "        score1 += get_score(prediction, actual, 1)\n",
    "        score2 += get_score(prediction, actual, 3)\n",
    "        \n",
    "        \n",
    "        accuracy += accuracy_score(temp_actual, temp_prediction)\n",
    "        precision += precision_score(temp_actual, temp_prediction)\n",
    "        recall += recall_score(temp_actual, temp_prediction)\n",
    "        f1 += f1_score(temp_actual, temp_prediction)\n",
    "\n",
    "    return precision/len(df_test['raceId'].unique()), accuracy/len(df_test['raceId'].unique()), recall/len(df_test['raceId'].unique()), f1/len(df_test['raceId'].unique()), score1/len(df_test['raceId'].unique()), score2/len(df_test['raceId'].unique())"
   ]
  },
  {
   "cell_type": "markdown",
   "metadata": {},
   "source": [
    "### Decision Tree Classifier"
   ]
  },
  {
   "cell_type": "code",
   "execution_count": 29,
   "metadata": {},
   "outputs": [],
   "source": [
    "def DT_classifier(X_train, Y_train):\n",
    "    model = DecisionTreeClassifier()\n",
    "    model.fit(X_train, Y_train)\n",
    "\n",
    "    return model"
   ]
  },
  {
   "cell_type": "code",
   "execution_count": 30,
   "metadata": {},
   "outputs": [],
   "source": [
    "def get_DT_classifier_Score():\n",
    "    X_train = df_train\n",
    "    Y_train = df_train['results_positionOrder']\n",
    "    model = DT_classifier(X_train.drop(columns = ['results_positionOrder', 'results_points']), Y_train)\n",
    "\n",
    "    score1 = 0\n",
    "    score2 = 0\n",
    "    accuracy = 0\n",
    "    precision = 0\n",
    "    recall = 0\n",
    "    f1 = 0\n",
    "    for i in df_test['raceId'].unique():\n",
    "        X_test = df_test[df_test['raceId'] == i]\n",
    "        Y_test = df_test[df_test['raceId'] == i]['results_positionOrder']\n",
    "\n",
    "        prediction = model.predict(X_test.drop(columns = ['results_positionOrder', 'results_points']))\n",
    "        actual = Y_test.to_numpy()\n",
    "        temp_actual, temp_prediction = get_arrays(prediction, actual)\n",
    "        score1 += get_score(prediction, actual, 1)\n",
    "        score2 += get_score(prediction, actual, 3)\n",
    "        \n",
    "        \n",
    "        accuracy += accuracy_score(temp_actual, temp_prediction)\n",
    "        precision += precision_score(temp_actual, temp_prediction)\n",
    "        recall += recall_score(temp_actual, temp_prediction)\n",
    "        f1 += f1_score(temp_actual, temp_prediction)\n",
    "\n",
    "    return precision/len(df_test['raceId'].unique()), accuracy/len(df_test['raceId'].unique()), recall/len(df_test['raceId'].unique()), f1/len(df_test['raceId'].unique()), score1/len(df_test['raceId'].unique()), score2/len(df_test['raceId'].unique())"
   ]
  },
  {
   "cell_type": "markdown",
   "metadata": {},
   "source": [
    "### Random Forest Classifier"
   ]
  },
  {
   "cell_type": "code",
   "execution_count": 31,
   "metadata": {},
   "outputs": [],
   "source": [
    "def RF_classifier(X_train, Y_train):\n",
    "    model = RandomForestClassifier(max_depth=20, min_samples_split=10, n_estimators=100)\n",
    "    model.fit(X_train, Y_train)\n",
    "\n",
    "    return model"
   ]
  },
  {
   "cell_type": "code",
   "execution_count": 32,
   "metadata": {},
   "outputs": [],
   "source": [
    "def get_RF_classifier_Score():\n",
    "    X_train = df_train\n",
    "    Y_train = df_train['results_positionOrder']\n",
    "    model = RF_classifier(X_train.drop(columns = ['results_positionOrder', 'results_points']), Y_train)\n",
    "\n",
    "    score1 = 0\n",
    "    score2 = 0\n",
    "    accuracy = 0\n",
    "    precision = 0\n",
    "    recall = 0\n",
    "    f1 = 0\n",
    "    for i in df_test['raceId'].unique():\n",
    "        X_test = df_test[df_test['raceId'] == i]\n",
    "        Y_test = df_test[df_test['raceId'] == i]['results_positionOrder']\n",
    "\n",
    "        prediction = model.predict(X_test.drop(columns = ['results_positionOrder', 'results_points']))\n",
    "        actual = Y_test.to_numpy()\n",
    "        temp_actual, temp_prediction = get_arrays(prediction, actual)\n",
    "        score1 += get_score(prediction, actual, 1)\n",
    "        score2 += get_score(prediction, actual, 3)\n",
    "        \n",
    "        \n",
    "        accuracy += accuracy_score(temp_actual, temp_prediction)\n",
    "        precision += precision_score(temp_actual, temp_prediction)\n",
    "        recall += recall_score(temp_actual, temp_prediction)\n",
    "        f1 += f1_score(temp_actual, temp_prediction)\n",
    "\n",
    "    return precision/len(df_test['raceId'].unique()), accuracy/len(df_test['raceId'].unique()), recall/len(df_test['raceId'].unique()), f1/len(df_test['raceId'].unique()), score1/len(df_test['raceId'].unique()), score2/len(df_test['raceId'].unique())"
   ]
  },
  {
   "cell_type": "markdown",
   "metadata": {},
   "source": [
    "### Support Vector Classifier"
   ]
  },
  {
   "cell_type": "code",
   "execution_count": 33,
   "metadata": {},
   "outputs": [],
   "source": [
    "def SV_classifier(X_train, Y_train):\n",
    "    model = SVC()\n",
    "    model.fit(X_train, Y_train)\n",
    "\n",
    "    return model"
   ]
  },
  {
   "cell_type": "code",
   "execution_count": 34,
   "metadata": {},
   "outputs": [],
   "source": [
    "def get_SV_classifier_Score():\n",
    "    X_train = df_train\n",
    "    Y_train = df_train['results_positionOrder']\n",
    "    model = SV_classifier(X_train.drop(columns = ['results_positionOrder', 'results_points']), Y_train)\n",
    "\n",
    "    score1 = 0\n",
    "    score2 = 0\n",
    "    accuracy = 0\n",
    "    precision = 0\n",
    "    recall = 0\n",
    "    f1 = 0\n",
    "    for i in df_test['raceId'].unique():\n",
    "        X_test = df_test[df_test['raceId'] == i]\n",
    "        Y_test = df_test[df_test['raceId'] == i]['results_positionOrder']\n",
    "\n",
    "        prediction = model.predict(X_test.drop(columns = ['results_positionOrder', 'results_points']))\n",
    "        actual = Y_test.to_numpy()\n",
    "        temp_actual, temp_prediction = get_arrays(prediction, actual)\n",
    "        score1 += get_score(prediction, actual, 1)\n",
    "        score2 += get_score(prediction, actual, 3)\n",
    "        \n",
    "        \n",
    "        accuracy += accuracy_score(temp_actual, temp_prediction)\n",
    "        precision += precision_score(temp_actual, temp_prediction)\n",
    "        recall += recall_score(temp_actual, temp_prediction)\n",
    "        f1 += f1_score(temp_actual, temp_prediction)\n",
    "\n",
    "    return precision/len(df_test['raceId'].unique()), accuracy/len(df_test['raceId'].unique()), recall/len(df_test['raceId'].unique()), f1/len(df_test['raceId'].unique()), score1/len(df_test['raceId'].unique()), score2/len(df_test['raceId'].unique())"
   ]
  },
  {
   "cell_type": "markdown",
   "metadata": {},
   "source": [
    "### Multilayer Perceptron Classifier"
   ]
  },
  {
   "cell_type": "code",
   "execution_count": 35,
   "metadata": {},
   "outputs": [],
   "source": [
    "def MLP_classifier(X_train, Y_train):\n",
    "    model = MLPClassifier(activation = 'identity', alpha = 0.001, hidden_layer_sizes = (256, 32), solver = 'adam')\n",
    "    model.fit(X_train, Y_train)\n",
    "\n",
    "    return model"
   ]
  },
  {
   "cell_type": "code",
   "execution_count": 36,
   "metadata": {},
   "outputs": [],
   "source": [
    "def get_MLP_classifier_Score():\n",
    "    X_train = df_train\n",
    "    Y_train = df_train['results_positionOrder']\n",
    "    model = MLP_classifier(X_train.drop(columns = ['results_positionOrder', 'results_points']), Y_train)\n",
    "\n",
    "    score1 = 0\n",
    "    score2 = 0\n",
    "    accuracy = 0\n",
    "    precision = 0\n",
    "    recall = 0\n",
    "    f1 = 0\n",
    "    for i in df_test['raceId'].unique():\n",
    "        X_test = df_test[df_test['raceId'] == i]\n",
    "        Y_test = df_test[df_test['raceId'] == i]['results_positionOrder']\n",
    "\n",
    "        prediction = model.predict(X_test.drop(columns = ['results_positionOrder', 'results_points']))\n",
    "        actual = Y_test.to_numpy()\n",
    "        temp_actual, temp_prediction = get_arrays(prediction, actual)\n",
    "        score1 += get_score(prediction, actual, 1)\n",
    "        score2 += get_score(prediction, actual, 3)\n",
    "        \n",
    "        \n",
    "        accuracy += accuracy_score(temp_actual, temp_prediction)\n",
    "        precision += precision_score(temp_actual, temp_prediction)\n",
    "        recall += recall_score(temp_actual, temp_prediction)\n",
    "        f1 += f1_score(temp_actual, temp_prediction)\n",
    "\n",
    "    return precision/len(df_test['raceId'].unique()), accuracy/len(df_test['raceId'].unique()), recall/len(df_test['raceId'].unique()), f1/len(df_test['raceId'].unique()), score1/len(df_test['raceId'].unique()), score2/len(df_test['raceId'].unique())"
   ]
  },
  {
   "cell_type": "markdown",
   "metadata": {},
   "source": [
    "### Bagging Classifier"
   ]
  },
  {
   "cell_type": "code",
   "execution_count": 37,
   "metadata": {},
   "outputs": [],
   "source": [
    "def Bagging_classifier(X_train, Y_train):\n",
    "    model = BaggingClassifier(base_estimator = RandomForestClassifier(max_depth=20, min_samples_split=10, n_estimators=100))\n",
    "    model.fit(X_train, Y_train)\n",
    "\n",
    "    return model"
   ]
  },
  {
   "cell_type": "code",
   "execution_count": 38,
   "metadata": {},
   "outputs": [],
   "source": [
    "def get_Bagging_classifier_Score():\n",
    "    X_train = df_train\n",
    "    Y_train = df_train['results_positionOrder']\n",
    "    model = Bagging_classifier(X_train.drop(columns = ['results_positionOrder', 'results_points']), Y_train)\n",
    "\n",
    "    score1 = 0\n",
    "    score2 = 0\n",
    "    accuracy = 0\n",
    "    precision = 0\n",
    "    recall = 0\n",
    "    f1 = 0\n",
    "    for i in df_test['raceId'].unique():\n",
    "        X_test = df_test[df_test['raceId'] == i]\n",
    "        Y_test = df_test[df_test['raceId'] == i]['results_positionOrder']\n",
    "\n",
    "        prediction = model.predict(X_test.drop(columns = ['results_positionOrder', 'results_points']))\n",
    "        actual = Y_test.to_numpy()\n",
    "        temp_actual, temp_prediction = get_arrays(prediction, actual)\n",
    "        score1 += get_score(prediction, actual, 1)\n",
    "        score2 += get_score(prediction, actual, 3)\n",
    "        \n",
    "        \n",
    "        accuracy += accuracy_score(temp_actual, temp_prediction)\n",
    "        precision += precision_score(temp_actual, temp_prediction)\n",
    "        recall += recall_score(temp_actual, temp_prediction)\n",
    "        f1 += f1_score(temp_actual, temp_prediction)\n",
    "\n",
    "    return precision/len(df_test['raceId'].unique()), accuracy/len(df_test['raceId'].unique()), recall/len(df_test['raceId'].unique()), f1/len(df_test['raceId'].unique()), score1/len(df_test['raceId'].unique()), score2/len(df_test['raceId'].unique())"
   ]
  },
  {
   "cell_type": "markdown",
   "metadata": {},
   "source": [
    "### Ada Boosting Classifier"
   ]
  },
  {
   "cell_type": "code",
   "execution_count": 39,
   "metadata": {},
   "outputs": [],
   "source": [
    "def Ada_Boosting_classifier(X_train, Y_train):\n",
    "    model = AdaBoostClassifier(base_estimator = RandomForestClassifier(max_depth=20, min_samples_split=10, n_estimators=100))\n",
    "    model.fit(X_train, Y_train)\n",
    "\n",
    "    return model"
   ]
  },
  {
   "cell_type": "code",
   "execution_count": 40,
   "metadata": {},
   "outputs": [],
   "source": [
    "def get_Ada_Boosting_classifier_Score():\n",
    "    X_train = df_train\n",
    "    Y_train = df_train['results_positionOrder']\n",
    "    model = Ada_Boosting_classifier(X_train.drop(columns = ['results_positionOrder', 'results_points']), Y_train)\n",
    "\n",
    "    score1 = 0\n",
    "    score2 = 0\n",
    "    accuracy = 0\n",
    "    precision = 0\n",
    "    recall = 0\n",
    "    f1 = 0\n",
    "    for i in df_test['raceId'].unique():\n",
    "        X_test = df_test[df_test['raceId'] == i]\n",
    "        Y_test = df_test[df_test['raceId'] == i]['results_positionOrder']\n",
    "\n",
    "        prediction = model.predict(X_test.drop(columns = ['results_positionOrder', 'results_points']))\n",
    "        actual = Y_test.to_numpy()\n",
    "        temp_actual, temp_prediction = get_arrays(prediction, actual)\n",
    "        score1 += get_score(prediction, actual, 1)\n",
    "        score2 += get_score(prediction, actual, 3)\n",
    "        \n",
    "        \n",
    "        accuracy += accuracy_score(temp_actual, temp_prediction)\n",
    "        precision += precision_score(temp_actual, temp_prediction)\n",
    "        recall += recall_score(temp_actual, temp_prediction)\n",
    "        f1 += f1_score(temp_actual, temp_prediction)\n",
    "\n",
    "    return precision/len(df_test['raceId'].unique()), accuracy/len(df_test['raceId'].unique()), recall/len(df_test['raceId'].unique()), f1/len(df_test['raceId'].unique()), score1/len(df_test['raceId'].unique()), score2/len(df_test['raceId'].unique())"
   ]
  },
  {
   "cell_type": "markdown",
   "metadata": {},
   "source": [
    "## Compiling all classifications"
   ]
  },
  {
   "cell_type": "code",
   "execution_count": 41,
   "metadata": {},
   "outputs": [
    {
     "name": "stderr",
     "output_type": "stream",
     "text": [
      "c:\\Users\\nipun\\AppData\\Local\\Programs\\Python\\Python38\\lib\\site-packages\\sklearn\\neural_network\\_multilayer_perceptron.py:702: ConvergenceWarning: Stochastic Optimizer: Maximum iterations (200) reached and the optimization hasn't converged yet.\n",
      "  warnings.warn(\n"
     ]
    }
   ],
   "source": [
    "classification_scores = {}\n",
    "classification_scores['Logistic Regression'] = get_Logistic_Regression_Score()\n",
    "classification_scores['NB classification'] = get_Gaussian_NB_Score()\n",
    "classification_scores['DT classification'] = get_DT_classifier_Score()\n",
    "classification_scores['RF classification'] = get_RF_classifier_Score()\n",
    "classification_scores['SV classification'] = get_SV_classifier_Score()\n",
    "classification_scores['MLP classification'] = get_MLP_classifier_Score()\n",
    "classification_scores['Bagging classification'] = get_Bagging_classifier_Score()\n",
    "classification_scores['Ada Boosting classification'] = get_Ada_Boosting_classifier_Score()"
   ]
  },
  {
   "cell_type": "code",
   "execution_count": 42,
   "metadata": {},
   "outputs": [
    {
     "data": {
      "text/html": [
       "<div>\n",
       "<style scoped>\n",
       "    .dataframe tbody tr th:only-of-type {\n",
       "        vertical-align: middle;\n",
       "    }\n",
       "\n",
       "    .dataframe tbody tr th {\n",
       "        vertical-align: top;\n",
       "    }\n",
       "\n",
       "    .dataframe thead th {\n",
       "        text-align: right;\n",
       "    }\n",
       "</style>\n",
       "<table border=\"1\" class=\"dataframe\">\n",
       "  <thead>\n",
       "    <tr style=\"text-align: right;\">\n",
       "      <th></th>\n",
       "      <th>Logistic Regression</th>\n",
       "      <th>NB classification</th>\n",
       "      <th>DT classification</th>\n",
       "      <th>RF classification</th>\n",
       "      <th>SV classification</th>\n",
       "      <th>MLP classification</th>\n",
       "      <th>Bagging classification</th>\n",
       "      <th>Ada Boosting classification</th>\n",
       "    </tr>\n",
       "  </thead>\n",
       "  <tbody>\n",
       "    <tr>\n",
       "      <th>precision</th>\n",
       "      <td>0.470570</td>\n",
       "      <td>0.626503</td>\n",
       "      <td>0.600976</td>\n",
       "      <td>0.564754</td>\n",
       "      <td>0.295869</td>\n",
       "      <td>0.544575</td>\n",
       "      <td>0.554372</td>\n",
       "      <td>0.601366</td>\n",
       "    </tr>\n",
       "    <tr>\n",
       "      <th>accuracy</th>\n",
       "      <td>0.846893</td>\n",
       "      <td>0.893347</td>\n",
       "      <td>0.871394</td>\n",
       "      <td>0.880611</td>\n",
       "      <td>0.678810</td>\n",
       "      <td>0.873894</td>\n",
       "      <td>0.879153</td>\n",
       "      <td>0.891117</td>\n",
       "    </tr>\n",
       "    <tr>\n",
       "      <th>recall</th>\n",
       "      <td>0.781421</td>\n",
       "      <td>0.639344</td>\n",
       "      <td>0.568306</td>\n",
       "      <td>0.726776</td>\n",
       "      <td>0.945355</td>\n",
       "      <td>0.765027</td>\n",
       "      <td>0.721311</td>\n",
       "      <td>0.732240</td>\n",
       "    </tr>\n",
       "    <tr>\n",
       "      <th>f1</th>\n",
       "      <td>0.583893</td>\n",
       "      <td>0.615379</td>\n",
       "      <td>0.555438</td>\n",
       "      <td>0.625332</td>\n",
       "      <td>0.450147</td>\n",
       "      <td>0.625020</td>\n",
       "      <td>0.620336</td>\n",
       "      <td>0.645498</td>\n",
       "    </tr>\n",
       "    <tr>\n",
       "      <th>winner_score</th>\n",
       "      <td>0.819672</td>\n",
       "      <td>0.901639</td>\n",
       "      <td>0.442623</td>\n",
       "      <td>0.770492</td>\n",
       "      <td>0.983607</td>\n",
       "      <td>0.131148</td>\n",
       "      <td>0.803279</td>\n",
       "      <td>0.344262</td>\n",
       "    </tr>\n",
       "    <tr>\n",
       "      <th>podium_score</th>\n",
       "      <td>0.934426</td>\n",
       "      <td>0.918033</td>\n",
       "      <td>0.754098</td>\n",
       "      <td>0.950820</td>\n",
       "      <td>0.983607</td>\n",
       "      <td>0.934426</td>\n",
       "      <td>0.950820</td>\n",
       "      <td>0.950820</td>\n",
       "    </tr>\n",
       "  </tbody>\n",
       "</table>\n",
       "</div>"
      ],
      "text/plain": [
       "              Logistic Regression  NB classification  DT classification  \\\n",
       "precision                0.470570           0.626503           0.600976   \n",
       "accuracy                 0.846893           0.893347           0.871394   \n",
       "recall                   0.781421           0.639344           0.568306   \n",
       "f1                       0.583893           0.615379           0.555438   \n",
       "winner_score             0.819672           0.901639           0.442623   \n",
       "podium_score             0.934426           0.918033           0.754098   \n",
       "\n",
       "              RF classification  SV classification  MLP classification  \\\n",
       "precision              0.564754           0.295869            0.544575   \n",
       "accuracy               0.880611           0.678810            0.873894   \n",
       "recall                 0.726776           0.945355            0.765027   \n",
       "f1                     0.625332           0.450147            0.625020   \n",
       "winner_score           0.770492           0.983607            0.131148   \n",
       "podium_score           0.950820           0.983607            0.934426   \n",
       "\n",
       "              Bagging classification  Ada Boosting classification  \n",
       "precision                   0.554372                     0.601366  \n",
       "accuracy                    0.879153                     0.891117  \n",
       "recall                      0.721311                     0.732240  \n",
       "f1                          0.620336                     0.645498  \n",
       "winner_score                0.803279                     0.344262  \n",
       "podium_score                0.950820                     0.950820  "
      ]
     },
     "execution_count": 42,
     "metadata": {},
     "output_type": "execute_result"
    }
   ],
   "source": [
    "pd.DataFrame(classification_scores, index = ['precision', 'accuracy', 'recall', 'f1', 'winner_score', 'podium_score'])"
   ]
  },
  {
   "cell_type": "code",
   "execution_count": null,
   "metadata": {},
   "outputs": [],
   "source": []
  }
 ],
 "metadata": {
  "kernelspec": {
   "display_name": "Python 3.8.7 64-bit",
   "language": "python",
   "name": "python3"
  },
  "language_info": {
   "codemirror_mode": {
    "name": "ipython",
    "version": 3
   },
   "file_extension": ".py",
   "mimetype": "text/x-python",
   "name": "python",
   "nbconvert_exporter": "python",
   "pygments_lexer": "ipython3",
   "version": "3.8.7"
  },
  "orig_nbformat": 4,
  "vscode": {
   "interpreter": {
    "hash": "affa1e01f2d63dc644a5d836267b8cc21782c0351696aa19b5d442d7e4c7d376"
   }
  }
 },
 "nbformat": 4,
 "nbformat_minor": 2
}
