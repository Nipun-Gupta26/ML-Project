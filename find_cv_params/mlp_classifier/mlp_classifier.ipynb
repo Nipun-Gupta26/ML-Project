{
 "cells": [
  {
   "cell_type": "code",
   "execution_count": 1,
   "metadata": {},
   "outputs": [],
   "source": [
    "import pandas as pd\n",
    "import numpy as np\n",
    "import matplotlib.pyplot as plt\n",
    "from sklearn.metrics import precision_score, recall_score, f1_score, accuracy_score\n",
    "from sklearn.model_selection import GridSearchCV\n",
    "from sklearn.neural_network import MLPClassifier"
   ]
  },
  {
   "cell_type": "code",
   "execution_count": 2,
   "metadata": {},
   "outputs": [],
   "source": [
    "df_train = pd.read_csv('../../data_new/train_pre.csv').drop_duplicates()\n",
    "df_test = pd.read_csv('../../data_new/test_pre.csv').drop_duplicates()"
   ]
  },
  {
   "cell_type": "code",
   "execution_count": 3,
   "metadata": {},
   "outputs": [],
   "source": [
    "def pooled_var(stds):\n",
    "    n = 3 # size of each group\n",
    "    return np.sqrt(sum((n-1)*(stds**2))/ len(stds)*(n-1))"
   ]
  },
  {
   "cell_type": "code",
   "execution_count": 4,
   "metadata": {},
   "outputs": [],
   "source": [
    "def plot_cv_results(gs_model, gs_params):\n",
    "    df = pd.DataFrame(gs_model.cv_results_)\n",
    "    results = ['mean_test_score',\n",
    "            'mean_train_score',\n",
    "            'std_test_score', \n",
    "            'std_train_score']\n",
    "\n",
    "\n",
    "    fig, axes = plt.subplots(1, len(gs_params), \n",
    "                            figsize = (5*len(gs_params), 7),\n",
    "                            sharey='row')\n",
    "    axes[0].set_ylabel(\"Score\", fontsize=25)\n",
    "    lw = 2\n",
    "\n",
    "    for idx, (param_name, param_range) in enumerate(gs_params.items()):\n",
    "        grouped_df = df.groupby(f'param_{param_name}')[results]\\\n",
    "            .agg({'mean_train_score': 'mean',\n",
    "                'mean_test_score': 'mean',\n",
    "                'std_train_score': pooled_var,\n",
    "                'std_test_score': pooled_var})\n",
    "\n",
    "        previous_group = df.groupby(f'param_{param_name}')[results]\n",
    "        axes[idx].set_xlabel(param_name, fontsize=30)\n",
    "        axes[idx].set_ylim(0.0, 1.1)\n",
    "        axes[idx].plot(param_range, grouped_df['mean_train_score'], label=\"Training score\",\n",
    "                    color=\"darkorange\", lw=lw)\n",
    "        axes[idx].fill_between(param_range, grouped_df['mean_train_score'] - grouped_df['std_train_score'],\n",
    "                        grouped_df['mean_train_score'] + grouped_df['std_train_score'], alpha=0.2,\n",
    "                        color=\"darkorange\", lw=lw)\n",
    "        axes[idx].plot(param_range, grouped_df['mean_test_score'], label=\"Cross-validation score\",\n",
    "                    color=\"navy\", lw=lw)\n",
    "        axes[idx].fill_between(param_range, grouped_df['mean_test_score'] - grouped_df['std_test_score'],\n",
    "                        grouped_df['mean_test_score'] + grouped_df['std_test_score'], alpha=0.2,\n",
    "                        color=\"navy\", lw=lw)\n",
    "\n",
    "    handles, labels = axes[0].get_legend_handles_labels()\n",
    "    fig.suptitle('Validation curves', fontsize=40)\n",
    "    fig.legend(handles, labels, loc=8, ncol=2, fontsize=20)\n",
    "\n",
    "    fig.subplots_adjust(bottom=0.25, top=0.85)  \n",
    "    plt.show()"
   ]
  },
  {
   "cell_type": "code",
   "execution_count": 5,
   "metadata": {},
   "outputs": [],
   "source": [
    "def get_score(pred, actual):\n",
    "    if np.argmin(pred) == np.argmin(actual):\n",
    "        return 1\n",
    "    return 0"
   ]
  },
  {
   "cell_type": "code",
   "execution_count": 18,
   "metadata": {},
   "outputs": [],
   "source": [
    "def get_metrics(model, x, y):\n",
    "    precision = 0\n",
    "    accuracy = 0\n",
    "    recall = 0\n",
    "    f1 = 0\n",
    "    score = 0\n",
    "    for i in x['raceId'].unique():\n",
    "        X_test = x[x['raceId'] == i]\n",
    "        Y_test = y[x[x['raceId'] == i].index]\n",
    "\n",
    "        predicted_scores = model.predict(X_test.drop(columns = ['results_positionOrder']))\n",
    "        predicted_podium = np.argsort(predicted_scores)\n",
    "        # print(self.position[x[x['raceId'] == i].index])\n",
    "        actual_podium = Y_test.to_numpy()\n",
    "        actual_podium = np.argsort(actual_podium)\n",
    "        # print(predicted_scores)\n",
    "\n",
    "        predictions = np.zeros(len(Y_test))\n",
    "        # predictions[predicted_podium] = 1\n",
    "        actual = np.zeros(len(Y_test))\n",
    "        # actual[actual_podium] = 1\n",
    "\n",
    "        for i in range(1):\n",
    "            predictions[predicted_podium[i]] = 1\n",
    "            # print(actual_podium)\n",
    "            actual[actual_podium[i]] = 1\n",
    "\n",
    "        precision += precision_score(actual, predictions)\n",
    "        accuracy += accuracy_score(actual, predictions)\n",
    "        recall += recall_score(actual, predictions)\n",
    "        f1 += f1_score(actual, predictions) \n",
    "        score += get_score(predicted_podium, actual_podium)\n",
    "    return precision/len(x['raceId'].unique()), accuracy/len(x['raceId'].unique()), recall/len(x['raceId'].unique()), f1/len(x['raceId'].unique()), score/len(x['raceId'].unique())\n",
    "        "
   ]
  },
  {
   "cell_type": "code",
   "execution_count": 7,
   "metadata": {},
   "outputs": [],
   "source": [
    "class customCrossValidation():\n",
    "\n",
    "    def split(self, x):\n",
    "        indices = []\n",
    "        for i in range(3):\n",
    "            years = x['year'].unique()\n",
    "            np.random.shuffle(years)\n",
    "            val_years = years[:6]\n",
    "            train_years = years[6:]\n",
    "\n",
    "            indices.append((x[x['year'].isin(train_years)].index, x[x['year'].isin(val_years)].index))\n",
    "        return indices"
   ]
  },
  {
   "cell_type": "markdown",
   "metadata": {},
   "source": [
    "##### Ridge Regression"
   ]
  },
  {
   "cell_type": "code",
   "execution_count": 8,
   "metadata": {},
   "outputs": [],
   "source": [
    "class MLPClassification() :\n",
    "\n",
    "    def scoring(self, model, x, y):\n",
    "\n",
    "        precision = 0\n",
    "        accuracy = 0\n",
    "        recall = 0\n",
    "        f1 = 0\n",
    "        score = 0\n",
    "        for i in x['raceId'].unique():\n",
    "            X_test = x[x['raceId'] == i]\n",
    "            Y_test = y[x[x['raceId'] == i].index]\n",
    "\n",
    "            predicted_scores = model.predict(X_test)\n",
    "            predicted_podium = np.argsort(predicted_scores)\n",
    "            # print(self.position[x[x['raceId'] == i].index])\n",
    "            actual_podium = self.position[x[x['raceId'] == i].index].to_numpy()\n",
    "            actual_podium = np.argsort(actual_podium)\n",
    "            # print(predicted_scores)\n",
    "\n",
    "            predictions = np.zeros(len(Y_test))\n",
    "            # predictions[predicted_podium] = 1\n",
    "            actual = np.zeros(len(Y_test))\n",
    "            # actual[actual_podium] = 1\n",
    "\n",
    "            for i in range(1):\n",
    "                predictions[predicted_podium[i]] = 1\n",
    "                # print(actual_podium)\n",
    "                actual[actual_podium[i]] = 1\n",
    "\n",
    "            precision += precision_score(actual, predictions)\n",
    "            accuracy += accuracy_score(actual, predictions)\n",
    "            recall += recall_score(actual, predictions)\n",
    "            f1 += f1_score(actual, predictions) \n",
    "            score += get_score(predicted_podium, actual_podium)\n",
    "        \n",
    "        # self.ridge_metrics = {'precision': precision/len(x['raceId'].unique()), 'accuracy': accuracy/len(x['raceId'].unique()), 'recall': recall/len(x['raceId'].unique()), 'f1': f1/len(x['raceId'].unique())}\n",
    "        return precision/len(x['raceId'].unique())\n",
    "\n",
    "    def find_best_param_mlp(self, x, y):\n",
    "\n",
    "        self.x = x\n",
    "        self.y = y\n",
    "        self.position = x['results_positionOrder']\n",
    "\n",
    "        splitter = customCrossValidation().split(x)\n",
    "        self.hyper_params = [{'activation': ['relu', 'logistic', 'identity', 'tanh'], 'solver': ['adam', 'sgd'], 'alpha': [0.001, 0.01, 0.1, 1], 'hidden_layer_sizes': [(256,32), (128,16),(64,8)]}]\n",
    "\n",
    "        model_mlp = MLPClassifier()\n",
    "        self.model_cv = GridSearchCV(estimator=model_mlp, param_grid=self.hyper_params, scoring=self.scoring, cv = splitter, return_train_score=True, verbose = 3)\n",
    "        self.model_cv.fit(x.drop(columns = ['results_positionOrder']), y)\n",
    "        self.mlp_params = self.model_cv.best_params_\n",
    "\n",
    "    def fit_mlp(self, x, y):\n",
    "        model = MLPClassifier(**self.mlp_params)\n",
    "        model.fit(x.drop(columns = ['results_positionOrder']), y)\n",
    "        self.model = model\n",
    "        return\n",
    "        \n"
   ]
  },
  {
   "cell_type": "code",
   "execution_count": 9,
   "metadata": {},
   "outputs": [],
   "source": [
    "mlpClassifier = MLPClassification()"
   ]
  },
  {
   "cell_type": "code",
   "execution_count": 10,
   "metadata": {},
   "outputs": [
    {
     "name": "stdout",
     "output_type": "stream",
     "text": [
      "Fitting 3 folds for each of 96 candidates, totalling 288 fits\n",
      "[CV 1/3] END activation=relu, alpha=0.001, hidden_layer_sizes=(256, 32), solver=adam;, score=(train=0.065, test=0.037) total time=   7.8s\n",
      "[CV 2/3] END activation=relu, alpha=0.001, hidden_layer_sizes=(256, 32), solver=adam;, score=(train=0.068, test=0.020) total time=   7.3s\n",
      "[CV 3/3] END activation=relu, alpha=0.001, hidden_layer_sizes=(256, 32), solver=adam;, score=(train=0.057, test=0.126) total time=   8.2s\n",
      "[CV 1/3] END activation=relu, alpha=0.001, hidden_layer_sizes=(256, 32), solver=sgd;, score=(train=0.065, test=0.037) total time=  10.3s\n",
      "[CV 2/3] END activation=relu, alpha=0.001, hidden_layer_sizes=(256, 32), solver=sgd;, score=(train=0.068, test=0.020) total time=   8.7s\n",
      "[CV 3/3] END activation=relu, alpha=0.001, hidden_layer_sizes=(256, 32), solver=sgd;, score=(train=0.057, test=0.126) total time=   7.8s\n",
      "[CV 1/3] END activation=relu, alpha=0.001, hidden_layer_sizes=(128, 16), solver=adam;, score=(train=0.065, test=0.037) total time=   4.6s\n",
      "[CV 2/3] END activation=relu, alpha=0.001, hidden_layer_sizes=(128, 16), solver=adam;, score=(train=0.068, test=0.020) total time=   4.1s\n",
      "[CV 3/3] END activation=relu, alpha=0.001, hidden_layer_sizes=(128, 16), solver=adam;, score=(train=0.057, test=0.126) total time=   4.3s\n",
      "[CV 1/3] END activation=relu, alpha=0.001, hidden_layer_sizes=(128, 16), solver=sgd;, score=(train=0.065, test=0.037) total time=   5.6s\n",
      "[CV 2/3] END activation=relu, alpha=0.001, hidden_layer_sizes=(128, 16), solver=sgd;, score=(train=0.068, test=0.020) total time=   5.2s\n",
      "[CV 3/3] END activation=relu, alpha=0.001, hidden_layer_sizes=(128, 16), solver=sgd;, score=(train=0.057, test=0.126) total time=   5.0s\n",
      "[CV 1/3] END activation=relu, alpha=0.001, hidden_layer_sizes=(64, 8), solver=adam;, score=(train=0.065, test=0.037) total time=   2.0s\n",
      "[CV 2/3] END activation=relu, alpha=0.001, hidden_layer_sizes=(64, 8), solver=adam;, score=(train=0.068, test=0.020) total time=   2.5s\n",
      "[CV 3/3] END activation=relu, alpha=0.001, hidden_layer_sizes=(64, 8), solver=adam;, score=(train=0.057, test=0.126) total time=   2.3s\n",
      "[CV 1/3] END activation=relu, alpha=0.001, hidden_layer_sizes=(64, 8), solver=sgd;, score=(train=0.065, test=0.037) total time=   2.8s\n",
      "[CV 2/3] END activation=relu, alpha=0.001, hidden_layer_sizes=(64, 8), solver=sgd;, score=(train=0.068, test=0.020) total time=   2.6s\n",
      "[CV 3/3] END activation=relu, alpha=0.001, hidden_layer_sizes=(64, 8), solver=sgd;, score=(train=0.057, test=0.126) total time=   2.8s\n",
      "[CV 1/3] END activation=relu, alpha=0.01, hidden_layer_sizes=(256, 32), solver=adam;, score=(train=0.065, test=0.037) total time=   7.7s\n",
      "[CV 2/3] END activation=relu, alpha=0.01, hidden_layer_sizes=(256, 32), solver=adam;, score=(train=0.068, test=0.020) total time=  10.3s\n",
      "[CV 3/3] END activation=relu, alpha=0.01, hidden_layer_sizes=(256, 32), solver=adam;, score=(train=0.057, test=0.126) total time=   7.5s\n",
      "[CV 1/3] END activation=relu, alpha=0.01, hidden_layer_sizes=(256, 32), solver=sgd;, score=(train=0.065, test=0.037) total time=   9.0s\n",
      "[CV 2/3] END activation=relu, alpha=0.01, hidden_layer_sizes=(256, 32), solver=sgd;, score=(train=0.068, test=0.020) total time=   9.7s\n",
      "[CV 3/3] END activation=relu, alpha=0.01, hidden_layer_sizes=(256, 32), solver=sgd;, score=(train=0.057, test=0.126) total time=   7.7s\n",
      "[CV 1/3] END activation=relu, alpha=0.01, hidden_layer_sizes=(128, 16), solver=adam;, score=(train=0.065, test=0.037) total time=   4.4s\n",
      "[CV 2/3] END activation=relu, alpha=0.01, hidden_layer_sizes=(128, 16), solver=adam;, score=(train=0.068, test=0.020) total time=   4.1s\n",
      "[CV 3/3] END activation=relu, alpha=0.01, hidden_layer_sizes=(128, 16), solver=adam;, score=(train=0.057, test=0.126) total time=   4.3s\n",
      "[CV 1/3] END activation=relu, alpha=0.01, hidden_layer_sizes=(128, 16), solver=sgd;, score=(train=0.065, test=0.037) total time=   5.7s\n",
      "[CV 2/3] END activation=relu, alpha=0.01, hidden_layer_sizes=(128, 16), solver=sgd;, score=(train=0.068, test=0.020) total time=   5.1s\n",
      "[CV 3/3] END activation=relu, alpha=0.01, hidden_layer_sizes=(128, 16), solver=sgd;, score=(train=0.057, test=0.126) total time=   5.3s\n",
      "[CV 1/3] END activation=relu, alpha=0.01, hidden_layer_sizes=(64, 8), solver=adam;, score=(train=0.065, test=0.037) total time=   2.1s\n",
      "[CV 2/3] END activation=relu, alpha=0.01, hidden_layer_sizes=(64, 8), solver=adam;, score=(train=0.068, test=0.020) total time=   1.9s\n",
      "[CV 3/3] END activation=relu, alpha=0.01, hidden_layer_sizes=(64, 8), solver=adam;, score=(train=0.057, test=0.126) total time=   2.7s\n",
      "[CV 1/3] END activation=relu, alpha=0.01, hidden_layer_sizes=(64, 8), solver=sgd;, score=(train=0.065, test=0.037) total time=   2.7s\n",
      "[CV 2/3] END activation=relu, alpha=0.01, hidden_layer_sizes=(64, 8), solver=sgd;, score=(train=0.068, test=0.020) total time=   3.1s\n",
      "[CV 3/3] END activation=relu, alpha=0.01, hidden_layer_sizes=(64, 8), solver=sgd;, score=(train=0.057, test=0.126) total time=   2.9s\n",
      "[CV 1/3] END activation=relu, alpha=0.1, hidden_layer_sizes=(256, 32), solver=adam;, score=(train=0.065, test=0.037) total time=   8.5s\n",
      "[CV 2/3] END activation=relu, alpha=0.1, hidden_layer_sizes=(256, 32), solver=adam;, score=(train=0.387, test=0.333) total time=  30.0s\n",
      "[CV 3/3] END activation=relu, alpha=0.1, hidden_layer_sizes=(256, 32), solver=adam;, score=(train=0.057, test=0.126) total time=   8.4s\n"
     ]
    },
    {
     "name": "stderr",
     "output_type": "stream",
     "text": [
      "C:\\Users\\asus'\\AppData\\Roaming\\Python\\Python39\\site-packages\\sklearn\\neural_network\\_multilayer_perceptron.py:702: ConvergenceWarning: Stochastic Optimizer: Maximum iterations (200) reached and the optimization hasn't converged yet.\n",
      "  warnings.warn(\n"
     ]
    },
    {
     "name": "stdout",
     "output_type": "stream",
     "text": [
      "[CV 1/3] END activation=relu, alpha=0.1, hidden_layer_sizes=(256, 32), solver=sgd;, score=(train=0.065, test=0.037) total time=  40.5s\n",
      "[CV 2/3] END activation=relu, alpha=0.1, hidden_layer_sizes=(256, 32), solver=sgd;, score=(train=0.068, test=0.020) total time=   2.8s\n"
     ]
    },
    {
     "name": "stderr",
     "output_type": "stream",
     "text": [
      "C:\\Users\\asus'\\AppData\\Roaming\\Python\\Python39\\site-packages\\sklearn\\neural_network\\_multilayer_perceptron.py:702: ConvergenceWarning: Stochastic Optimizer: Maximum iterations (200) reached and the optimization hasn't converged yet.\n",
      "  warnings.warn(\n"
     ]
    },
    {
     "name": "stdout",
     "output_type": "stream",
     "text": [
      "[CV 3/3] END activation=relu, alpha=0.1, hidden_layer_sizes=(256, 32), solver=sgd;, score=(train=0.057, test=0.126) total time=  40.2s\n",
      "[CV 1/3] END activation=relu, alpha=0.1, hidden_layer_sizes=(128, 16), solver=adam;, score=(train=0.065, test=0.037) total time=   4.2s\n",
      "[CV 2/3] END activation=relu, alpha=0.1, hidden_layer_sizes=(128, 16), solver=adam;, score=(train=0.068, test=0.020) total time=   4.4s\n",
      "[CV 3/3] END activation=relu, alpha=0.1, hidden_layer_sizes=(128, 16), solver=adam;, score=(train=0.057, test=0.126) total time=   4.8s\n"
     ]
    },
    {
     "name": "stderr",
     "output_type": "stream",
     "text": [
      "C:\\Users\\asus'\\AppData\\Roaming\\Python\\Python39\\site-packages\\sklearn\\neural_network\\_multilayer_perceptron.py:702: ConvergenceWarning: Stochastic Optimizer: Maximum iterations (200) reached and the optimization hasn't converged yet.\n",
      "  warnings.warn(\n"
     ]
    },
    {
     "name": "stdout",
     "output_type": "stream",
     "text": [
      "[CV 1/3] END activation=relu, alpha=0.1, hidden_layer_sizes=(128, 16), solver=sgd;, score=(train=0.065, test=0.037) total time=  22.9s\n"
     ]
    },
    {
     "name": "stderr",
     "output_type": "stream",
     "text": [
      "C:\\Users\\asus'\\AppData\\Roaming\\Python\\Python39\\site-packages\\sklearn\\neural_network\\_multilayer_perceptron.py:702: ConvergenceWarning: Stochastic Optimizer: Maximum iterations (200) reached and the optimization hasn't converged yet.\n",
      "  warnings.warn(\n"
     ]
    },
    {
     "name": "stdout",
     "output_type": "stream",
     "text": [
      "[CV 2/3] END activation=relu, alpha=0.1, hidden_layer_sizes=(128, 16), solver=sgd;, score=(train=0.068, test=0.020) total time=  23.3s\n"
     ]
    },
    {
     "name": "stderr",
     "output_type": "stream",
     "text": [
      "C:\\Users\\asus'\\AppData\\Roaming\\Python\\Python39\\site-packages\\sklearn\\neural_network\\_multilayer_perceptron.py:702: ConvergenceWarning: Stochastic Optimizer: Maximum iterations (200) reached and the optimization hasn't converged yet.\n",
      "  warnings.warn(\n"
     ]
    },
    {
     "name": "stdout",
     "output_type": "stream",
     "text": [
      "[CV 3/3] END activation=relu, alpha=0.1, hidden_layer_sizes=(128, 16), solver=sgd;, score=(train=0.057, test=0.126) total time=  23.0s\n",
      "[CV 1/3] END activation=relu, alpha=0.1, hidden_layer_sizes=(64, 8), solver=adam;, score=(train=0.065, test=0.037) total time=   2.3s\n",
      "[CV 2/3] END activation=relu, alpha=0.1, hidden_layer_sizes=(64, 8), solver=adam;, score=(train=0.068, test=0.020) total time=   2.4s\n",
      "[CV 3/3] END activation=relu, alpha=0.1, hidden_layer_sizes=(64, 8), solver=adam;, score=(train=0.057, test=0.126) total time=   2.8s\n"
     ]
    },
    {
     "name": "stderr",
     "output_type": "stream",
     "text": [
      "C:\\Users\\asus'\\AppData\\Roaming\\Python\\Python39\\site-packages\\sklearn\\neural_network\\_multilayer_perceptron.py:702: ConvergenceWarning: Stochastic Optimizer: Maximum iterations (200) reached and the optimization hasn't converged yet.\n",
      "  warnings.warn(\n"
     ]
    },
    {
     "name": "stdout",
     "output_type": "stream",
     "text": [
      "[CV 1/3] END activation=relu, alpha=0.1, hidden_layer_sizes=(64, 8), solver=sgd;, score=(train=0.065, test=0.037) total time=  11.6s\n",
      "[CV 2/3] END activation=relu, alpha=0.1, hidden_layer_sizes=(64, 8), solver=sgd;, score=(train=0.068, test=0.020) total time=   3.6s\n"
     ]
    },
    {
     "name": "stderr",
     "output_type": "stream",
     "text": [
      "C:\\Users\\asus'\\AppData\\Roaming\\Python\\Python39\\site-packages\\sklearn\\neural_network\\_multilayer_perceptron.py:702: ConvergenceWarning: Stochastic Optimizer: Maximum iterations (200) reached and the optimization hasn't converged yet.\n",
      "  warnings.warn(\n"
     ]
    },
    {
     "name": "stdout",
     "output_type": "stream",
     "text": [
      "[CV 3/3] END activation=relu, alpha=0.1, hidden_layer_sizes=(64, 8), solver=sgd;, score=(train=0.057, test=0.126) total time=  10.8s\n",
      "[CV 1/3] END activation=relu, alpha=1, hidden_layer_sizes=(256, 32), solver=adam;, score=(train=0.065, test=0.037) total time=  37.1s\n",
      "[CV 2/3] END activation=relu, alpha=1, hidden_layer_sizes=(256, 32), solver=adam;, score=(train=0.068, test=0.020) total time=  33.8s\n",
      "[CV 3/3] END activation=relu, alpha=1, hidden_layer_sizes=(256, 32), solver=adam;, score=(train=0.057, test=0.126) total time=  42.5s\n"
     ]
    },
    {
     "name": "stderr",
     "output_type": "stream",
     "text": [
      "C:\\Users\\asus'\\AppData\\Roaming\\Python\\Python39\\site-packages\\sklearn\\neural_network\\_multilayer_perceptron.py:702: ConvergenceWarning: Stochastic Optimizer: Maximum iterations (200) reached and the optimization hasn't converged yet.\n",
      "  warnings.warn(\n"
     ]
    },
    {
     "name": "stdout",
     "output_type": "stream",
     "text": [
      "[CV 1/3] END activation=relu, alpha=1, hidden_layer_sizes=(256, 32), solver=sgd;, score=(train=0.065, test=0.037) total time=  44.7s\n",
      "[CV 2/3] END activation=relu, alpha=1, hidden_layer_sizes=(256, 32), solver=sgd;, score=(train=0.068, test=0.020) total time=   3.0s\n",
      "[CV 3/3] END activation=relu, alpha=1, hidden_layer_sizes=(256, 32), solver=sgd;, score=(train=0.057, test=0.126) total time=   3.1s\n",
      "[CV 1/3] END activation=relu, alpha=1, hidden_layer_sizes=(128, 16), solver=adam;, score=(train=0.065, test=0.037) total time=  19.0s\n",
      "[CV 2/3] END activation=relu, alpha=1, hidden_layer_sizes=(128, 16), solver=adam;, score=(train=0.068, test=0.020) total time=  19.2s\n",
      "[CV 3/3] END activation=relu, alpha=1, hidden_layer_sizes=(128, 16), solver=adam;, score=(train=0.057, test=0.126) total time=  18.0s\n"
     ]
    },
    {
     "name": "stderr",
     "output_type": "stream",
     "text": [
      "C:\\Users\\asus'\\AppData\\Roaming\\Python\\Python39\\site-packages\\sklearn\\neural_network\\_multilayer_perceptron.py:702: ConvergenceWarning: Stochastic Optimizer: Maximum iterations (200) reached and the optimization hasn't converged yet.\n",
      "  warnings.warn(\n"
     ]
    },
    {
     "name": "stdout",
     "output_type": "stream",
     "text": [
      "[CV 1/3] END activation=relu, alpha=1, hidden_layer_sizes=(128, 16), solver=sgd;, score=(train=0.065, test=0.037) total time=  22.3s\n"
     ]
    },
    {
     "name": "stderr",
     "output_type": "stream",
     "text": [
      "C:\\Users\\asus'\\AppData\\Roaming\\Python\\Python39\\site-packages\\sklearn\\neural_network\\_multilayer_perceptron.py:702: ConvergenceWarning: Stochastic Optimizer: Maximum iterations (200) reached and the optimization hasn't converged yet.\n",
      "  warnings.warn(\n"
     ]
    },
    {
     "name": "stdout",
     "output_type": "stream",
     "text": [
      "[CV 2/3] END activation=relu, alpha=1, hidden_layer_sizes=(128, 16), solver=sgd;, score=(train=0.068, test=0.020) total time=  22.7s\n"
     ]
    },
    {
     "name": "stderr",
     "output_type": "stream",
     "text": [
      "C:\\Users\\asus'\\AppData\\Roaming\\Python\\Python39\\site-packages\\sklearn\\neural_network\\_multilayer_perceptron.py:702: ConvergenceWarning: Stochastic Optimizer: Maximum iterations (200) reached and the optimization hasn't converged yet.\n",
      "  warnings.warn(\n"
     ]
    },
    {
     "name": "stdout",
     "output_type": "stream",
     "text": [
      "[CV 3/3] END activation=relu, alpha=1, hidden_layer_sizes=(128, 16), solver=sgd;, score=(train=0.057, test=0.126) total time=  22.5s\n",
      "[CV 1/3] END activation=relu, alpha=1, hidden_layer_sizes=(64, 8), solver=adam;, score=(train=0.065, test=0.037) total time=   9.3s\n",
      "[CV 2/3] END activation=relu, alpha=1, hidden_layer_sizes=(64, 8), solver=adam;, score=(train=0.068, test=0.020) total time=  10.8s\n",
      "[CV 3/3] END activation=relu, alpha=1, hidden_layer_sizes=(64, 8), solver=adam;, score=(train=0.057, test=0.126) total time=   9.2s\n"
     ]
    },
    {
     "name": "stderr",
     "output_type": "stream",
     "text": [
      "C:\\Users\\asus'\\AppData\\Roaming\\Python\\Python39\\site-packages\\sklearn\\neural_network\\_multilayer_perceptron.py:702: ConvergenceWarning: Stochastic Optimizer: Maximum iterations (200) reached and the optimization hasn't converged yet.\n",
      "  warnings.warn(\n"
     ]
    },
    {
     "name": "stdout",
     "output_type": "stream",
     "text": [
      "[CV 1/3] END activation=relu, alpha=1, hidden_layer_sizes=(64, 8), solver=sgd;, score=(train=0.065, test=0.037) total time=  11.2s\n"
     ]
    },
    {
     "name": "stderr",
     "output_type": "stream",
     "text": [
      "C:\\Users\\asus'\\AppData\\Roaming\\Python\\Python39\\site-packages\\sklearn\\neural_network\\_multilayer_perceptron.py:702: ConvergenceWarning: Stochastic Optimizer: Maximum iterations (200) reached and the optimization hasn't converged yet.\n",
      "  warnings.warn(\n"
     ]
    },
    {
     "name": "stdout",
     "output_type": "stream",
     "text": [
      "[CV 2/3] END activation=relu, alpha=1, hidden_layer_sizes=(64, 8), solver=sgd;, score=(train=0.068, test=0.020) total time=  11.7s\n"
     ]
    },
    {
     "name": "stderr",
     "output_type": "stream",
     "text": [
      "C:\\Users\\asus'\\AppData\\Roaming\\Python\\Python39\\site-packages\\sklearn\\neural_network\\_multilayer_perceptron.py:702: ConvergenceWarning: Stochastic Optimizer: Maximum iterations (200) reached and the optimization hasn't converged yet.\n",
      "  warnings.warn(\n"
     ]
    },
    {
     "name": "stdout",
     "output_type": "stream",
     "text": [
      "[CV 3/3] END activation=relu, alpha=1, hidden_layer_sizes=(64, 8), solver=sgd;, score=(train=0.057, test=0.126) total time=  11.1s\n",
      "[CV 1/3] END activation=logistic, alpha=0.001, hidden_layer_sizes=(256, 32), solver=adam;, score=(train=0.425, test=0.346) total time=  20.1s\n",
      "[CV 2/3] END activation=logistic, alpha=0.001, hidden_layer_sizes=(256, 32), solver=adam;, score=(train=0.438, test=0.333) total time=  33.8s\n",
      "[CV 3/3] END activation=logistic, alpha=0.001, hidden_layer_sizes=(256, 32), solver=adam;, score=(train=0.418, test=0.425) total time=  16.9s\n",
      "[CV 1/3] END activation=logistic, alpha=0.001, hidden_layer_sizes=(256, 32), solver=sgd;, score=(train=0.065, test=0.037) total time=  18.9s\n",
      "[CV 2/3] END activation=logistic, alpha=0.001, hidden_layer_sizes=(256, 32), solver=sgd;, score=(train=0.068, test=0.020) total time=  24.7s\n",
      "[CV 3/3] END activation=logistic, alpha=0.001, hidden_layer_sizes=(256, 32), solver=sgd;, score=(train=0.057, test=0.126) total time=  21.8s\n",
      "[CV 1/3] END activation=logistic, alpha=0.001, hidden_layer_sizes=(128, 16), solver=adam;, score=(train=0.406, test=0.358) total time=  11.0s\n",
      "[CV 2/3] END activation=logistic, alpha=0.001, hidden_layer_sizes=(128, 16), solver=adam;, score=(train=0.460, test=0.451) total time=  12.8s\n",
      "[CV 3/3] END activation=logistic, alpha=0.001, hidden_layer_sizes=(128, 16), solver=adam;, score=(train=0.492, test=0.414) total time=  19.6s\n",
      "[CV 1/3] END activation=logistic, alpha=0.001, hidden_layer_sizes=(128, 16), solver=sgd;, score=(train=0.065, test=0.037) total time=  15.5s\n",
      "[CV 2/3] END activation=logistic, alpha=0.001, hidden_layer_sizes=(128, 16), solver=sgd;, score=(train=0.068, test=0.020) total time=  16.3s\n",
      "[CV 3/3] END activation=logistic, alpha=0.001, hidden_layer_sizes=(128, 16), solver=sgd;, score=(train=0.057, test=0.126) total time=  22.4s\n",
      "[CV 1/3] END activation=logistic, alpha=0.001, hidden_layer_sizes=(64, 8), solver=adam;, score=(train=0.418, test=0.370) total time=  10.2s\n",
      "[CV 2/3] END activation=logistic, alpha=0.001, hidden_layer_sizes=(64, 8), solver=adam;, score=(train=0.417, test=0.294) total time=  10.5s\n",
      "[CV 3/3] END activation=logistic, alpha=0.001, hidden_layer_sizes=(64, 8), solver=adam;, score=(train=0.395, test=0.391) total time=   6.8s\n",
      "[CV 1/3] END activation=logistic, alpha=0.001, hidden_layer_sizes=(64, 8), solver=sgd;, score=(train=0.065, test=0.037) total time=  11.0s\n",
      "[CV 2/3] END activation=logistic, alpha=0.001, hidden_layer_sizes=(64, 8), solver=sgd;, score=(train=0.068, test=0.020) total time=   8.8s\n",
      "[CV 3/3] END activation=logistic, alpha=0.001, hidden_layer_sizes=(64, 8), solver=sgd;, score=(train=0.057, test=0.126) total time=   8.7s\n",
      "[CV 1/3] END activation=logistic, alpha=0.01, hidden_layer_sizes=(256, 32), solver=adam;, score=(train=0.490, test=0.444) total time=  18.9s\n",
      "[CV 2/3] END activation=logistic, alpha=0.01, hidden_layer_sizes=(256, 32), solver=adam;, score=(train=0.493, test=0.480) total time=  24.8s\n",
      "[CV 3/3] END activation=logistic, alpha=0.01, hidden_layer_sizes=(256, 32), solver=adam;, score=(train=0.446, test=0.379) total time=  17.3s\n",
      "[CV 1/3] END activation=logistic, alpha=0.01, hidden_layer_sizes=(256, 32), solver=sgd;, score=(train=0.065, test=0.037) total time=  18.0s\n",
      "[CV 2/3] END activation=logistic, alpha=0.01, hidden_layer_sizes=(256, 32), solver=sgd;, score=(train=0.068, test=0.020) total time=  18.2s\n",
      "[CV 3/3] END activation=logistic, alpha=0.01, hidden_layer_sizes=(256, 32), solver=sgd;, score=(train=0.057, test=0.126) total time=  23.4s\n",
      "[CV 1/3] END activation=logistic, alpha=0.01, hidden_layer_sizes=(128, 16), solver=adam;, score=(train=0.432, test=0.407) total time=  24.1s\n",
      "[CV 2/3] END activation=logistic, alpha=0.01, hidden_layer_sizes=(128, 16), solver=adam;, score=(train=0.433, test=0.353) total time=   9.4s\n",
      "[CV 3/3] END activation=logistic, alpha=0.01, hidden_layer_sizes=(128, 16), solver=adam;, score=(train=0.333, test=0.310) total time=  17.1s\n",
      "[CV 1/3] END activation=logistic, alpha=0.01, hidden_layer_sizes=(128, 16), solver=sgd;, score=(train=0.065, test=0.037) total time=  11.8s\n",
      "[CV 2/3] END activation=logistic, alpha=0.01, hidden_layer_sizes=(128, 16), solver=sgd;, score=(train=0.068, test=0.020) total time=  13.6s\n",
      "[CV 3/3] END activation=logistic, alpha=0.01, hidden_layer_sizes=(128, 16), solver=sgd;, score=(train=0.057, test=0.126) total time=  16.4s\n"
     ]
    },
    {
     "name": "stderr",
     "output_type": "stream",
     "text": [
      "C:\\Users\\asus'\\AppData\\Roaming\\Python\\Python39\\site-packages\\sklearn\\neural_network\\_multilayer_perceptron.py:702: ConvergenceWarning: Stochastic Optimizer: Maximum iterations (200) reached and the optimization hasn't converged yet.\n",
      "  warnings.warn(\n"
     ]
    },
    {
     "name": "stdout",
     "output_type": "stream",
     "text": [
      "[CV 1/3] END activation=logistic, alpha=0.01, hidden_layer_sizes=(64, 8), solver=adam;, score=(train=0.440, test=0.395) total time=  12.3s\n",
      "[CV 2/3] END activation=logistic, alpha=0.01, hidden_layer_sizes=(64, 8), solver=adam;, score=(train=0.455, test=0.412) total time=   7.5s\n",
      "[CV 3/3] END activation=logistic, alpha=0.01, hidden_layer_sizes=(64, 8), solver=adam;, score=(train=0.442, test=0.379) total time=  10.4s\n",
      "[CV 1/3] END activation=logistic, alpha=0.01, hidden_layer_sizes=(64, 8), solver=sgd;, score=(train=0.065, test=0.037) total time=   9.4s\n",
      "[CV 2/3] END activation=logistic, alpha=0.01, hidden_layer_sizes=(64, 8), solver=sgd;, score=(train=0.068, test=0.020) total time=  10.8s\n",
      "[CV 3/3] END activation=logistic, alpha=0.01, hidden_layer_sizes=(64, 8), solver=sgd;, score=(train=0.057, test=0.126) total time=   6.7s\n",
      "[CV 1/3] END activation=logistic, alpha=0.1, hidden_layer_sizes=(256, 32), solver=adam;, score=(train=0.438, test=0.444) total time=  26.9s\n",
      "[CV 2/3] END activation=logistic, alpha=0.1, hidden_layer_sizes=(256, 32), solver=adam;, score=(train=0.424, test=0.324) total time=  21.9s\n",
      "[CV 3/3] END activation=logistic, alpha=0.1, hidden_layer_sizes=(256, 32), solver=adam;, score=(train=0.350, test=0.391) total time=  27.7s\n",
      "[CV 1/3] END activation=logistic, alpha=0.1, hidden_layer_sizes=(256, 32), solver=sgd;, score=(train=0.065, test=0.037) total time=  20.4s\n",
      "[CV 2/3] END activation=logistic, alpha=0.1, hidden_layer_sizes=(256, 32), solver=sgd;, score=(train=0.068, test=0.020) total time= 1.4min\n",
      "[CV 3/3] END activation=logistic, alpha=0.1, hidden_layer_sizes=(256, 32), solver=sgd;, score=(train=0.057, test=0.126) total time=  21.8s\n",
      "[CV 1/3] END activation=logistic, alpha=0.1, hidden_layer_sizes=(128, 16), solver=adam;, score=(train=0.420, test=0.370) total time=  20.9s\n",
      "[CV 2/3] END activation=logistic, alpha=0.1, hidden_layer_sizes=(128, 16), solver=adam;, score=(train=0.431, test=0.402) total time=  15.6s\n",
      "[CV 3/3] END activation=logistic, alpha=0.1, hidden_layer_sizes=(128, 16), solver=adam;, score=(train=0.399, test=0.391) total time=  20.6s\n",
      "[CV 1/3] END activation=logistic, alpha=0.1, hidden_layer_sizes=(128, 16), solver=sgd;, score=(train=0.065, test=0.037) total time=  17.2s\n",
      "[CV 2/3] END activation=logistic, alpha=0.1, hidden_layer_sizes=(128, 16), solver=sgd;, score=(train=0.068, test=0.020) total time=  15.8s\n",
      "[CV 3/3] END activation=logistic, alpha=0.1, hidden_layer_sizes=(128, 16), solver=sgd;, score=(train=0.057, test=0.126) total time=  14.1s\n"
     ]
    },
    {
     "name": "stderr",
     "output_type": "stream",
     "text": [
      "C:\\Users\\asus'\\AppData\\Roaming\\Python\\Python39\\site-packages\\sklearn\\neural_network\\_multilayer_perceptron.py:702: ConvergenceWarning: Stochastic Optimizer: Maximum iterations (200) reached and the optimization hasn't converged yet.\n",
      "  warnings.warn(\n"
     ]
    },
    {
     "name": "stdout",
     "output_type": "stream",
     "text": [
      "[CV 1/3] END activation=logistic, alpha=0.1, hidden_layer_sizes=(64, 8), solver=adam;, score=(train=0.432, test=0.444) total time=  12.7s\n",
      "[CV 2/3] END activation=logistic, alpha=0.1, hidden_layer_sizes=(64, 8), solver=adam;, score=(train=0.068, test=0.020) total time=   6.3s\n"
     ]
    },
    {
     "name": "stderr",
     "output_type": "stream",
     "text": [
      "C:\\Users\\asus'\\AppData\\Roaming\\Python\\Python39\\site-packages\\sklearn\\neural_network\\_multilayer_perceptron.py:702: ConvergenceWarning: Stochastic Optimizer: Maximum iterations (200) reached and the optimization hasn't converged yet.\n",
      "  warnings.warn(\n"
     ]
    },
    {
     "name": "stdout",
     "output_type": "stream",
     "text": [
      "[CV 3/3] END activation=logistic, alpha=0.1, hidden_layer_sizes=(64, 8), solver=adam;, score=(train=0.245, test=0.299) total time=  12.6s\n",
      "[CV 1/3] END activation=logistic, alpha=0.1, hidden_layer_sizes=(64, 8), solver=sgd;, score=(train=0.065, test=0.037) total time=  10.2s\n",
      "[CV 2/3] END activation=logistic, alpha=0.1, hidden_layer_sizes=(64, 8), solver=sgd;, score=(train=0.068, test=0.020) total time=   1.8s\n",
      "[CV 3/3] END activation=logistic, alpha=0.1, hidden_layer_sizes=(64, 8), solver=sgd;, score=(train=0.057, test=0.126) total time=   8.9s\n",
      "[CV 1/3] END activation=logistic, alpha=1, hidden_layer_sizes=(256, 32), solver=adam;, score=(train=0.065, test=0.037) total time=   8.8s\n",
      "[CV 2/3] END activation=logistic, alpha=1, hidden_layer_sizes=(256, 32), solver=adam;, score=(train=0.068, test=0.020) total time=   9.7s\n",
      "[CV 3/3] END activation=logistic, alpha=1, hidden_layer_sizes=(256, 32), solver=adam;, score=(train=0.057, test=0.126) total time=   9.9s\n",
      "[CV 1/3] END activation=logistic, alpha=1, hidden_layer_sizes=(256, 32), solver=sgd;, score=(train=0.065, test=0.037) total time=  36.7s\n"
     ]
    },
    {
     "name": "stderr",
     "output_type": "stream",
     "text": [
      "C:\\Users\\asus'\\AppData\\Roaming\\Python\\Python39\\site-packages\\sklearn\\neural_network\\_multilayer_perceptron.py:702: ConvergenceWarning: Stochastic Optimizer: Maximum iterations (200) reached and the optimization hasn't converged yet.\n",
      "  warnings.warn(\n"
     ]
    },
    {
     "name": "stdout",
     "output_type": "stream",
     "text": [
      "[CV 2/3] END activation=logistic, alpha=1, hidden_layer_sizes=(256, 32), solver=sgd;, score=(train=0.068, test=0.020) total time=  44.1s\n"
     ]
    },
    {
     "name": "stderr",
     "output_type": "stream",
     "text": [
      "C:\\Users\\asus'\\AppData\\Roaming\\Python\\Python39\\site-packages\\sklearn\\neural_network\\_multilayer_perceptron.py:702: ConvergenceWarning: Stochastic Optimizer: Maximum iterations (200) reached and the optimization hasn't converged yet.\n",
      "  warnings.warn(\n"
     ]
    },
    {
     "name": "stdout",
     "output_type": "stream",
     "text": [
      "[CV 3/3] END activation=logistic, alpha=1, hidden_layer_sizes=(256, 32), solver=sgd;, score=(train=0.057, test=0.126) total time=  44.6s\n",
      "[CV 1/3] END activation=logistic, alpha=1, hidden_layer_sizes=(128, 16), solver=adam;, score=(train=0.065, test=0.037) total time=   6.0s\n",
      "[CV 2/3] END activation=logistic, alpha=1, hidden_layer_sizes=(128, 16), solver=adam;, score=(train=0.068, test=0.020) total time=   4.3s\n",
      "[CV 3/3] END activation=logistic, alpha=1, hidden_layer_sizes=(128, 16), solver=adam;, score=(train=0.057, test=0.126) total time=   4.4s\n",
      "[CV 1/3] END activation=logistic, alpha=1, hidden_layer_sizes=(128, 16), solver=sgd;, score=(train=0.065, test=0.037) total time=  19.7s\n",
      "[CV 2/3] END activation=logistic, alpha=1, hidden_layer_sizes=(128, 16), solver=sgd;, score=(train=0.068, test=0.020) total time=  19.8s\n"
     ]
    },
    {
     "name": "stderr",
     "output_type": "stream",
     "text": [
      "C:\\Users\\asus'\\AppData\\Roaming\\Python\\Python39\\site-packages\\sklearn\\neural_network\\_multilayer_perceptron.py:702: ConvergenceWarning: Stochastic Optimizer: Maximum iterations (200) reached and the optimization hasn't converged yet.\n",
      "  warnings.warn(\n"
     ]
    },
    {
     "name": "stdout",
     "output_type": "stream",
     "text": [
      "[CV 3/3] END activation=logistic, alpha=1, hidden_layer_sizes=(128, 16), solver=sgd;, score=(train=0.057, test=0.126) total time=  24.1s\n",
      "[CV 1/3] END activation=logistic, alpha=1, hidden_layer_sizes=(64, 8), solver=adam;, score=(train=0.065, test=0.037) total time=   4.0s\n",
      "[CV 2/3] END activation=logistic, alpha=1, hidden_layer_sizes=(64, 8), solver=adam;, score=(train=0.068, test=0.020) total time=   3.0s\n",
      "[CV 3/3] END activation=logistic, alpha=1, hidden_layer_sizes=(64, 8), solver=adam;, score=(train=0.057, test=0.126) total time=   3.6s\n"
     ]
    },
    {
     "name": "stderr",
     "output_type": "stream",
     "text": [
      "C:\\Users\\asus'\\AppData\\Roaming\\Python\\Python39\\site-packages\\sklearn\\neural_network\\_multilayer_perceptron.py:702: ConvergenceWarning: Stochastic Optimizer: Maximum iterations (200) reached and the optimization hasn't converged yet.\n",
      "  warnings.warn(\n"
     ]
    },
    {
     "name": "stdout",
     "output_type": "stream",
     "text": [
      "[CV 1/3] END activation=logistic, alpha=1, hidden_layer_sizes=(64, 8), solver=sgd;, score=(train=0.065, test=0.037) total time=  11.7s\n",
      "[CV 2/3] END activation=logistic, alpha=1, hidden_layer_sizes=(64, 8), solver=sgd;, score=(train=0.068, test=0.020) total time=  11.2s\n",
      "[CV 3/3] END activation=logistic, alpha=1, hidden_layer_sizes=(64, 8), solver=sgd;, score=(train=0.057, test=0.126) total time=  11.0s\n",
      "[CV 1/3] END activation=identity, alpha=0.001, hidden_layer_sizes=(256, 32), solver=adam;, score=(train=0.378, test=0.358) total time=  20.0s\n",
      "[CV 2/3] END activation=identity, alpha=0.001, hidden_layer_sizes=(256, 32), solver=adam;, score=(train=0.419, test=0.510) total time=  23.2s\n",
      "[CV 3/3] END activation=identity, alpha=0.001, hidden_layer_sizes=(256, 32), solver=adam;, score=(train=0.443, test=0.448) total time=  18.7s\n"
     ]
    },
    {
     "name": "stderr",
     "output_type": "stream",
     "text": [
      "C:\\Users\\asus'\\AppData\\Roaming\\Python\\Python39\\site-packages\\sklearn\\utils\\extmath.py:152: RuntimeWarning: overflow encountered in matmul\n",
      "  ret = a @ b\n",
      "C:\\Users\\asus'\\AppData\\Roaming\\Python\\Python39\\site-packages\\sklearn\\utils\\extmath.py:152: RuntimeWarning: invalid value encountered in matmul\n",
      "  ret = a @ b\n",
      "C:\\Users\\asus'\\AppData\\Roaming\\Python\\Python39\\site-packages\\sklearn\\neural_network\\_multilayer_perceptron.py:702: ConvergenceWarning: Stochastic Optimizer: Maximum iterations (200) reached and the optimization hasn't converged yet.\n",
      "  warnings.warn(\n",
      "C:\\Users\\asus'\\AppData\\Roaming\\Python\\Python39\\site-packages\\sklearn\\utils\\extmath.py:152: RuntimeWarning: overflow encountered in matmul\n",
      "  ret = a @ b\n",
      "C:\\Users\\asus'\\AppData\\Roaming\\Python\\Python39\\site-packages\\sklearn\\utils\\extmath.py:152: RuntimeWarning: invalid value encountered in matmul\n",
      "  ret = a @ b\n"
     ]
    },
    {
     "name": "stdout",
     "output_type": "stream",
     "text": [
      "[CV 1/3] END activation=identity, alpha=0.001, hidden_layer_sizes=(256, 32), solver=sgd;, score=(train=nan, test=nan) total time=  36.2s\n"
     ]
    },
    {
     "name": "stderr",
     "output_type": "stream",
     "text": [
      "C:\\Users\\asus'\\AppData\\Roaming\\Python\\Python39\\site-packages\\sklearn\\neural_network\\_multilayer_perceptron.py:702: ConvergenceWarning: Stochastic Optimizer: Maximum iterations (200) reached and the optimization hasn't converged yet.\n",
      "  warnings.warn(\n",
      "C:\\Users\\asus'\\AppData\\Roaming\\Python\\Python39\\site-packages\\sklearn\\utils\\extmath.py:152: RuntimeWarning: overflow encountered in matmul\n",
      "  ret = a @ b\n",
      "C:\\Users\\asus'\\AppData\\Roaming\\Python\\Python39\\site-packages\\sklearn\\utils\\extmath.py:152: RuntimeWarning: invalid value encountered in matmul\n",
      "  ret = a @ b\n"
     ]
    },
    {
     "name": "stdout",
     "output_type": "stream",
     "text": [
      "[CV 2/3] END activation=identity, alpha=0.001, hidden_layer_sizes=(256, 32), solver=sgd;, score=(train=nan, test=nan) total time=  35.3s\n"
     ]
    },
    {
     "name": "stderr",
     "output_type": "stream",
     "text": [
      "C:\\Users\\asus'\\AppData\\Roaming\\Python\\Python39\\site-packages\\sklearn\\neural_network\\_multilayer_perceptron.py:702: ConvergenceWarning: Stochastic Optimizer: Maximum iterations (200) reached and the optimization hasn't converged yet.\n",
      "  warnings.warn(\n"
     ]
    },
    {
     "name": "stdout",
     "output_type": "stream",
     "text": [
      "[CV 3/3] END activation=identity, alpha=0.001, hidden_layer_sizes=(256, 32), solver=sgd;, score=(train=nan, test=nan) total time=  36.6s\n",
      "[CV 1/3] END activation=identity, alpha=0.001, hidden_layer_sizes=(128, 16), solver=adam;, score=(train=0.430, test=0.358) total time=   9.9s\n",
      "[CV 2/3] END activation=identity, alpha=0.001, hidden_layer_sizes=(128, 16), solver=adam;, score=(train=0.403, test=0.480) total time=   9.0s\n",
      "[CV 3/3] END activation=identity, alpha=0.001, hidden_layer_sizes=(128, 16), solver=adam;, score=(train=0.375, test=0.414) total time=   4.0s\n"
     ]
    },
    {
     "name": "stderr",
     "output_type": "stream",
     "text": [
      "C:\\Users\\asus'\\AppData\\Roaming\\Python\\Python39\\site-packages\\sklearn\\utils\\extmath.py:152: RuntimeWarning: overflow encountered in matmul\n",
      "  ret = a @ b\n",
      "C:\\Users\\asus'\\AppData\\Roaming\\Python\\Python39\\site-packages\\sklearn\\utils\\extmath.py:152: RuntimeWarning: invalid value encountered in matmul\n",
      "  ret = a @ b\n",
      "C:\\Users\\asus'\\AppData\\Roaming\\Python\\Python39\\site-packages\\sklearn\\neural_network\\_multilayer_perceptron.py:702: ConvergenceWarning: Stochastic Optimizer: Maximum iterations (200) reached and the optimization hasn't converged yet.\n",
      "  warnings.warn(\n",
      "C:\\Users\\asus'\\AppData\\Roaming\\Python\\Python39\\site-packages\\sklearn\\utils\\extmath.py:152: RuntimeWarning: overflow encountered in matmul\n",
      "  ret = a @ b\n",
      "C:\\Users\\asus'\\AppData\\Roaming\\Python\\Python39\\site-packages\\sklearn\\utils\\extmath.py:152: RuntimeWarning: invalid value encountered in matmul\n",
      "  ret = a @ b\n"
     ]
    },
    {
     "name": "stdout",
     "output_type": "stream",
     "text": [
      "[CV 1/3] END activation=identity, alpha=0.001, hidden_layer_sizes=(128, 16), solver=sgd;, score=(train=nan, test=nan) total time=  20.1s\n"
     ]
    },
    {
     "name": "stderr",
     "output_type": "stream",
     "text": [
      "C:\\Users\\asus'\\AppData\\Roaming\\Python\\Python39\\site-packages\\sklearn\\neural_network\\_multilayer_perceptron.py:702: ConvergenceWarning: Stochastic Optimizer: Maximum iterations (200) reached and the optimization hasn't converged yet.\n",
      "  warnings.warn(\n",
      "C:\\Users\\asus'\\AppData\\Roaming\\Python\\Python39\\site-packages\\sklearn\\utils\\extmath.py:152: RuntimeWarning: overflow encountered in matmul\n",
      "  ret = a @ b\n",
      "C:\\Users\\asus'\\AppData\\Roaming\\Python\\Python39\\site-packages\\sklearn\\utils\\extmath.py:152: RuntimeWarning: invalid value encountered in matmul\n",
      "  ret = a @ b\n"
     ]
    },
    {
     "name": "stdout",
     "output_type": "stream",
     "text": [
      "[CV 2/3] END activation=identity, alpha=0.001, hidden_layer_sizes=(128, 16), solver=sgd;, score=(train=nan, test=nan) total time=  19.7s\n"
     ]
    },
    {
     "name": "stderr",
     "output_type": "stream",
     "text": [
      "C:\\Users\\asus'\\AppData\\Roaming\\Python\\Python39\\site-packages\\sklearn\\neural_network\\_multilayer_perceptron.py:702: ConvergenceWarning: Stochastic Optimizer: Maximum iterations (200) reached and the optimization hasn't converged yet.\n",
      "  warnings.warn(\n"
     ]
    },
    {
     "name": "stdout",
     "output_type": "stream",
     "text": [
      "[CV 3/3] END activation=identity, alpha=0.001, hidden_layer_sizes=(128, 16), solver=sgd;, score=(train=nan, test=nan) total time=  19.9s\n",
      "[CV 1/3] END activation=identity, alpha=0.001, hidden_layer_sizes=(64, 8), solver=adam;, score=(train=0.436, test=0.370) total time=   5.8s\n",
      "[CV 2/3] END activation=identity, alpha=0.001, hidden_layer_sizes=(64, 8), solver=adam;, score=(train=0.421, test=0.471) total time=   5.4s\n",
      "[CV 3/3] END activation=identity, alpha=0.001, hidden_layer_sizes=(64, 8), solver=adam;, score=(train=0.369, test=0.391) total time=   5.0s\n"
     ]
    },
    {
     "name": "stderr",
     "output_type": "stream",
     "text": [
      "C:\\Users\\asus'\\AppData\\Roaming\\Python\\Python39\\site-packages\\sklearn\\utils\\extmath.py:152: RuntimeWarning: overflow encountered in matmul\n",
      "  ret = a @ b\n",
      "C:\\Users\\asus'\\AppData\\Roaming\\Python\\Python39\\site-packages\\sklearn\\utils\\extmath.py:152: RuntimeWarning: invalid value encountered in matmul\n",
      "  ret = a @ b\n",
      "C:\\Users\\asus'\\AppData\\Roaming\\Python\\Python39\\site-packages\\sklearn\\neural_network\\_multilayer_perceptron.py:702: ConvergenceWarning: Stochastic Optimizer: Maximum iterations (200) reached and the optimization hasn't converged yet.\n",
      "  warnings.warn(\n",
      "C:\\Users\\asus'\\AppData\\Roaming\\Python\\Python39\\site-packages\\sklearn\\utils\\extmath.py:152: RuntimeWarning: overflow encountered in matmul\n",
      "  ret = a @ b\n",
      "C:\\Users\\asus'\\AppData\\Roaming\\Python\\Python39\\site-packages\\sklearn\\utils\\extmath.py:152: RuntimeWarning: invalid value encountered in matmul\n",
      "  ret = a @ b\n"
     ]
    },
    {
     "name": "stdout",
     "output_type": "stream",
     "text": [
      "[CV 1/3] END activation=identity, alpha=0.001, hidden_layer_sizes=(64, 8), solver=sgd;, score=(train=nan, test=nan) total time=  11.5s\n"
     ]
    },
    {
     "name": "stderr",
     "output_type": "stream",
     "text": [
      "C:\\Users\\asus'\\AppData\\Roaming\\Python\\Python39\\site-packages\\sklearn\\neural_network\\_multilayer_perceptron.py:702: ConvergenceWarning: Stochastic Optimizer: Maximum iterations (200) reached and the optimization hasn't converged yet.\n",
      "  warnings.warn(\n",
      "C:\\Users\\asus'\\AppData\\Roaming\\Python\\Python39\\site-packages\\sklearn\\utils\\extmath.py:152: RuntimeWarning: overflow encountered in matmul\n",
      "  ret = a @ b\n",
      "C:\\Users\\asus'\\AppData\\Roaming\\Python\\Python39\\site-packages\\sklearn\\utils\\extmath.py:152: RuntimeWarning: invalid value encountered in matmul\n",
      "  ret = a @ b\n"
     ]
    },
    {
     "name": "stdout",
     "output_type": "stream",
     "text": [
      "[CV 2/3] END activation=identity, alpha=0.001, hidden_layer_sizes=(64, 8), solver=sgd;, score=(train=nan, test=nan) total time=  10.9s\n"
     ]
    },
    {
     "name": "stderr",
     "output_type": "stream",
     "text": [
      "C:\\Users\\asus'\\AppData\\Roaming\\Python\\Python39\\site-packages\\sklearn\\neural_network\\_multilayer_perceptron.py:702: ConvergenceWarning: Stochastic Optimizer: Maximum iterations (200) reached and the optimization hasn't converged yet.\n",
      "  warnings.warn(\n"
     ]
    },
    {
     "name": "stdout",
     "output_type": "stream",
     "text": [
      "[CV 3/3] END activation=identity, alpha=0.001, hidden_layer_sizes=(64, 8), solver=sgd;, score=(train=nan, test=nan) total time=  11.7s\n",
      "[CV 1/3] END activation=identity, alpha=0.01, hidden_layer_sizes=(256, 32), solver=adam;, score=(train=0.444, test=0.444) total time=  11.8s\n",
      "[CV 2/3] END activation=identity, alpha=0.01, hidden_layer_sizes=(256, 32), solver=adam;, score=(train=0.376, test=0.353) total time=  22.0s\n",
      "[CV 3/3] END activation=identity, alpha=0.01, hidden_layer_sizes=(256, 32), solver=adam;, score=(train=0.437, test=0.414) total time=  19.2s\n"
     ]
    },
    {
     "name": "stderr",
     "output_type": "stream",
     "text": [
      "C:\\Users\\asus'\\AppData\\Roaming\\Python\\Python39\\site-packages\\sklearn\\utils\\extmath.py:152: RuntimeWarning: overflow encountered in matmul\n",
      "  ret = a @ b\n",
      "C:\\Users\\asus'\\AppData\\Roaming\\Python\\Python39\\site-packages\\sklearn\\utils\\extmath.py:152: RuntimeWarning: invalid value encountered in matmul\n",
      "  ret = a @ b\n",
      "C:\\Users\\asus'\\AppData\\Roaming\\Python\\Python39\\site-packages\\sklearn\\neural_network\\_multilayer_perceptron.py:702: ConvergenceWarning: Stochastic Optimizer: Maximum iterations (200) reached and the optimization hasn't converged yet.\n",
      "  warnings.warn(\n",
      "C:\\Users\\asus'\\AppData\\Roaming\\Python\\Python39\\site-packages\\sklearn\\utils\\extmath.py:152: RuntimeWarning: overflow encountered in matmul\n",
      "  ret = a @ b\n",
      "C:\\Users\\asus'\\AppData\\Roaming\\Python\\Python39\\site-packages\\sklearn\\utils\\extmath.py:152: RuntimeWarning: invalid value encountered in matmul\n",
      "  ret = a @ b\n"
     ]
    },
    {
     "name": "stdout",
     "output_type": "stream",
     "text": [
      "[CV 1/3] END activation=identity, alpha=0.01, hidden_layer_sizes=(256, 32), solver=sgd;, score=(train=nan, test=nan) total time=  36.2s\n"
     ]
    },
    {
     "name": "stderr",
     "output_type": "stream",
     "text": [
      "C:\\Users\\asus'\\AppData\\Roaming\\Python\\Python39\\site-packages\\sklearn\\neural_network\\_multilayer_perceptron.py:702: ConvergenceWarning: Stochastic Optimizer: Maximum iterations (200) reached and the optimization hasn't converged yet.\n",
      "  warnings.warn(\n",
      "C:\\Users\\asus'\\AppData\\Roaming\\Python\\Python39\\site-packages\\sklearn\\utils\\extmath.py:152: RuntimeWarning: overflow encountered in matmul\n",
      "  ret = a @ b\n",
      "C:\\Users\\asus'\\AppData\\Roaming\\Python\\Python39\\site-packages\\sklearn\\utils\\extmath.py:152: RuntimeWarning: invalid value encountered in matmul\n",
      "  ret = a @ b\n"
     ]
    },
    {
     "name": "stdout",
     "output_type": "stream",
     "text": [
      "[CV 2/3] END activation=identity, alpha=0.01, hidden_layer_sizes=(256, 32), solver=sgd;, score=(train=nan, test=nan) total time=  34.5s\n"
     ]
    },
    {
     "name": "stderr",
     "output_type": "stream",
     "text": [
      "C:\\Users\\asus'\\AppData\\Roaming\\Python\\Python39\\site-packages\\sklearn\\neural_network\\_multilayer_perceptron.py:702: ConvergenceWarning: Stochastic Optimizer: Maximum iterations (200) reached and the optimization hasn't converged yet.\n",
      "  warnings.warn(\n"
     ]
    },
    {
     "name": "stdout",
     "output_type": "stream",
     "text": [
      "[CV 3/3] END activation=identity, alpha=0.01, hidden_layer_sizes=(256, 32), solver=sgd;, score=(train=nan, test=nan) total time=  34.7s\n",
      "[CV 1/3] END activation=identity, alpha=0.01, hidden_layer_sizes=(128, 16), solver=adam;, score=(train=0.422, test=0.407) total time=  11.4s\n",
      "[CV 2/3] END activation=identity, alpha=0.01, hidden_layer_sizes=(128, 16), solver=adam;, score=(train=0.259, test=0.284) total time=   6.3s\n",
      "[CV 3/3] END activation=identity, alpha=0.01, hidden_layer_sizes=(128, 16), solver=adam;, score=(train=0.357, test=0.391) total time=  11.0s\n"
     ]
    },
    {
     "name": "stderr",
     "output_type": "stream",
     "text": [
      "C:\\Users\\asus'\\AppData\\Roaming\\Python\\Python39\\site-packages\\sklearn\\utils\\extmath.py:152: RuntimeWarning: overflow encountered in matmul\n",
      "  ret = a @ b\n",
      "C:\\Users\\asus'\\AppData\\Roaming\\Python\\Python39\\site-packages\\sklearn\\utils\\extmath.py:152: RuntimeWarning: invalid value encountered in matmul\n",
      "  ret = a @ b\n",
      "C:\\Users\\asus'\\AppData\\Roaming\\Python\\Python39\\site-packages\\sklearn\\neural_network\\_multilayer_perceptron.py:702: ConvergenceWarning: Stochastic Optimizer: Maximum iterations (200) reached and the optimization hasn't converged yet.\n",
      "  warnings.warn(\n",
      "C:\\Users\\asus'\\AppData\\Roaming\\Python\\Python39\\site-packages\\sklearn\\utils\\extmath.py:152: RuntimeWarning: overflow encountered in matmul\n",
      "  ret = a @ b\n",
      "C:\\Users\\asus'\\AppData\\Roaming\\Python\\Python39\\site-packages\\sklearn\\utils\\extmath.py:152: RuntimeWarning: invalid value encountered in matmul\n",
      "  ret = a @ b\n"
     ]
    },
    {
     "name": "stdout",
     "output_type": "stream",
     "text": [
      "[CV 1/3] END activation=identity, alpha=0.01, hidden_layer_sizes=(128, 16), solver=sgd;, score=(train=nan, test=nan) total time=  21.1s\n"
     ]
    },
    {
     "name": "stderr",
     "output_type": "stream",
     "text": [
      "C:\\Users\\asus'\\AppData\\Roaming\\Python\\Python39\\site-packages\\sklearn\\neural_network\\_multilayer_perceptron.py:702: ConvergenceWarning: Stochastic Optimizer: Maximum iterations (200) reached and the optimization hasn't converged yet.\n",
      "  warnings.warn(\n",
      "C:\\Users\\asus'\\AppData\\Roaming\\Python\\Python39\\site-packages\\sklearn\\utils\\extmath.py:152: RuntimeWarning: overflow encountered in matmul\n",
      "  ret = a @ b\n",
      "C:\\Users\\asus'\\AppData\\Roaming\\Python\\Python39\\site-packages\\sklearn\\utils\\extmath.py:152: RuntimeWarning: invalid value encountered in matmul\n",
      "  ret = a @ b\n"
     ]
    },
    {
     "name": "stdout",
     "output_type": "stream",
     "text": [
      "[CV 2/3] END activation=identity, alpha=0.01, hidden_layer_sizes=(128, 16), solver=sgd;, score=(train=nan, test=nan) total time=  19.3s\n"
     ]
    },
    {
     "name": "stderr",
     "output_type": "stream",
     "text": [
      "C:\\Users\\asus'\\AppData\\Roaming\\Python\\Python39\\site-packages\\sklearn\\neural_network\\_multilayer_perceptron.py:702: ConvergenceWarning: Stochastic Optimizer: Maximum iterations (200) reached and the optimization hasn't converged yet.\n",
      "  warnings.warn(\n"
     ]
    },
    {
     "name": "stdout",
     "output_type": "stream",
     "text": [
      "[CV 3/3] END activation=identity, alpha=0.01, hidden_layer_sizes=(128, 16), solver=sgd;, score=(train=nan, test=nan) total time=  22.0s\n",
      "[CV 1/3] END activation=identity, alpha=0.01, hidden_layer_sizes=(64, 8), solver=adam;, score=(train=0.438, test=0.370) total time=   6.7s\n",
      "[CV 2/3] END activation=identity, alpha=0.01, hidden_layer_sizes=(64, 8), solver=adam;, score=(train=0.302, test=0.294) total time=   1.4s\n",
      "[CV 3/3] END activation=identity, alpha=0.01, hidden_layer_sizes=(64, 8), solver=adam;, score=(train=0.424, test=0.379) total time=   7.0s\n"
     ]
    },
    {
     "name": "stderr",
     "output_type": "stream",
     "text": [
      "C:\\Users\\asus'\\AppData\\Roaming\\Python\\Python39\\site-packages\\sklearn\\utils\\extmath.py:152: RuntimeWarning: overflow encountered in matmul\n",
      "  ret = a @ b\n",
      "C:\\Users\\asus'\\AppData\\Roaming\\Python\\Python39\\site-packages\\sklearn\\utils\\extmath.py:152: RuntimeWarning: invalid value encountered in matmul\n",
      "  ret = a @ b\n",
      "C:\\Users\\asus'\\AppData\\Roaming\\Python\\Python39\\site-packages\\sklearn\\neural_network\\_multilayer_perceptron.py:702: ConvergenceWarning: Stochastic Optimizer: Maximum iterations (200) reached and the optimization hasn't converged yet.\n",
      "  warnings.warn(\n",
      "C:\\Users\\asus'\\AppData\\Roaming\\Python\\Python39\\site-packages\\sklearn\\utils\\extmath.py:152: RuntimeWarning: overflow encountered in matmul\n",
      "  ret = a @ b\n",
      "C:\\Users\\asus'\\AppData\\Roaming\\Python\\Python39\\site-packages\\sklearn\\utils\\extmath.py:152: RuntimeWarning: invalid value encountered in matmul\n",
      "  ret = a @ b\n"
     ]
    },
    {
     "name": "stdout",
     "output_type": "stream",
     "text": [
      "[CV 1/3] END activation=identity, alpha=0.01, hidden_layer_sizes=(64, 8), solver=sgd;, score=(train=nan, test=nan) total time=  11.4s\n"
     ]
    },
    {
     "name": "stderr",
     "output_type": "stream",
     "text": [
      "C:\\Users\\asus'\\AppData\\Roaming\\Python\\Python39\\site-packages\\sklearn\\neural_network\\_multilayer_perceptron.py:702: ConvergenceWarning: Stochastic Optimizer: Maximum iterations (200) reached and the optimization hasn't converged yet.\n",
      "  warnings.warn(\n",
      "C:\\Users\\asus'\\AppData\\Roaming\\Python\\Python39\\site-packages\\sklearn\\utils\\extmath.py:152: RuntimeWarning: overflow encountered in matmul\n",
      "  ret = a @ b\n",
      "C:\\Users\\asus'\\AppData\\Roaming\\Python\\Python39\\site-packages\\sklearn\\utils\\extmath.py:152: RuntimeWarning: invalid value encountered in matmul\n",
      "  ret = a @ b\n"
     ]
    },
    {
     "name": "stdout",
     "output_type": "stream",
     "text": [
      "[CV 2/3] END activation=identity, alpha=0.01, hidden_layer_sizes=(64, 8), solver=sgd;, score=(train=nan, test=nan) total time=  12.3s\n"
     ]
    },
    {
     "name": "stderr",
     "output_type": "stream",
     "text": [
      "C:\\Users\\asus'\\AppData\\Roaming\\Python\\Python39\\site-packages\\sklearn\\neural_network\\_multilayer_perceptron.py:702: ConvergenceWarning: Stochastic Optimizer: Maximum iterations (200) reached and the optimization hasn't converged yet.\n",
      "  warnings.warn(\n"
     ]
    },
    {
     "name": "stdout",
     "output_type": "stream",
     "text": [
      "[CV 3/3] END activation=identity, alpha=0.01, hidden_layer_sizes=(64, 8), solver=sgd;, score=(train=nan, test=nan) total time=  11.1s\n",
      "[CV 1/3] END activation=identity, alpha=0.1, hidden_layer_sizes=(256, 32), solver=adam;, score=(train=0.372, test=0.321) total time=  22.3s\n",
      "[CV 2/3] END activation=identity, alpha=0.1, hidden_layer_sizes=(256, 32), solver=adam;, score=(train=0.364, test=0.353) total time=  19.1s\n",
      "[CV 3/3] END activation=identity, alpha=0.1, hidden_layer_sizes=(256, 32), solver=adam;, score=(train=0.358, test=0.402) total time=   9.9s\n"
     ]
    },
    {
     "name": "stderr",
     "output_type": "stream",
     "text": [
      "C:\\Users\\asus'\\AppData\\Roaming\\Python\\Python39\\site-packages\\sklearn\\utils\\extmath.py:152: RuntimeWarning: overflow encountered in matmul\n",
      "  ret = a @ b\n",
      "C:\\Users\\asus'\\AppData\\Roaming\\Python\\Python39\\site-packages\\sklearn\\utils\\extmath.py:152: RuntimeWarning: invalid value encountered in matmul\n",
      "  ret = a @ b\n",
      "C:\\Users\\asus'\\AppData\\Roaming\\Python\\Python39\\site-packages\\sklearn\\neural_network\\_multilayer_perceptron.py:702: ConvergenceWarning: Stochastic Optimizer: Maximum iterations (200) reached and the optimization hasn't converged yet.\n",
      "  warnings.warn(\n",
      "C:\\Users\\asus'\\AppData\\Roaming\\Python\\Python39\\site-packages\\sklearn\\utils\\extmath.py:152: RuntimeWarning: overflow encountered in matmul\n",
      "  ret = a @ b\n",
      "C:\\Users\\asus'\\AppData\\Roaming\\Python\\Python39\\site-packages\\sklearn\\utils\\extmath.py:152: RuntimeWarning: invalid value encountered in matmul\n",
      "  ret = a @ b\n"
     ]
    },
    {
     "name": "stdout",
     "output_type": "stream",
     "text": [
      "[CV 1/3] END activation=identity, alpha=0.1, hidden_layer_sizes=(256, 32), solver=sgd;, score=(train=nan, test=nan) total time=  34.9s\n"
     ]
    },
    {
     "name": "stderr",
     "output_type": "stream",
     "text": [
      "C:\\Users\\asus'\\AppData\\Roaming\\Python\\Python39\\site-packages\\sklearn\\neural_network\\_multilayer_perceptron.py:702: ConvergenceWarning: Stochastic Optimizer: Maximum iterations (200) reached and the optimization hasn't converged yet.\n",
      "  warnings.warn(\n",
      "C:\\Users\\asus'\\AppData\\Roaming\\Python\\Python39\\site-packages\\sklearn\\utils\\extmath.py:152: RuntimeWarning: overflow encountered in matmul\n",
      "  ret = a @ b\n",
      "C:\\Users\\asus'\\AppData\\Roaming\\Python\\Python39\\site-packages\\sklearn\\utils\\extmath.py:152: RuntimeWarning: invalid value encountered in matmul\n",
      "  ret = a @ b\n"
     ]
    },
    {
     "name": "stdout",
     "output_type": "stream",
     "text": [
      "[CV 2/3] END activation=identity, alpha=0.1, hidden_layer_sizes=(256, 32), solver=sgd;, score=(train=nan, test=nan) total time=  33.2s\n"
     ]
    },
    {
     "name": "stderr",
     "output_type": "stream",
     "text": [
      "C:\\Users\\asus'\\AppData\\Roaming\\Python\\Python39\\site-packages\\sklearn\\neural_network\\_multilayer_perceptron.py:702: ConvergenceWarning: Stochastic Optimizer: Maximum iterations (200) reached and the optimization hasn't converged yet.\n",
      "  warnings.warn(\n"
     ]
    },
    {
     "name": "stdout",
     "output_type": "stream",
     "text": [
      "[CV 3/3] END activation=identity, alpha=0.1, hidden_layer_sizes=(256, 32), solver=sgd;, score=(train=nan, test=nan) total time=  35.2s\n",
      "[CV 1/3] END activation=identity, alpha=0.1, hidden_layer_sizes=(128, 16), solver=adam;, score=(train=0.271, test=0.222) total time=   6.2s\n",
      "[CV 2/3] END activation=identity, alpha=0.1, hidden_layer_sizes=(128, 16), solver=adam;, score=(train=0.418, test=0.471) total time=   3.0s\n",
      "[CV 3/3] END activation=identity, alpha=0.1, hidden_layer_sizes=(128, 16), solver=adam;, score=(train=0.368, test=0.402) total time=   3.5s\n"
     ]
    },
    {
     "name": "stderr",
     "output_type": "stream",
     "text": [
      "C:\\Users\\asus'\\AppData\\Roaming\\Python\\Python39\\site-packages\\sklearn\\utils\\extmath.py:152: RuntimeWarning: overflow encountered in matmul\n",
      "  ret = a @ b\n",
      "C:\\Users\\asus'\\AppData\\Roaming\\Python\\Python39\\site-packages\\sklearn\\utils\\extmath.py:152: RuntimeWarning: invalid value encountered in matmul\n",
      "  ret = a @ b\n",
      "C:\\Users\\asus'\\AppData\\Roaming\\Python\\Python39\\site-packages\\sklearn\\neural_network\\_multilayer_perceptron.py:702: ConvergenceWarning: Stochastic Optimizer: Maximum iterations (200) reached and the optimization hasn't converged yet.\n",
      "  warnings.warn(\n",
      "C:\\Users\\asus'\\AppData\\Roaming\\Python\\Python39\\site-packages\\sklearn\\utils\\extmath.py:152: RuntimeWarning: overflow encountered in matmul\n",
      "  ret = a @ b\n",
      "C:\\Users\\asus'\\AppData\\Roaming\\Python\\Python39\\site-packages\\sklearn\\utils\\extmath.py:152: RuntimeWarning: invalid value encountered in matmul\n",
      "  ret = a @ b\n"
     ]
    },
    {
     "name": "stdout",
     "output_type": "stream",
     "text": [
      "[CV 1/3] END activation=identity, alpha=0.1, hidden_layer_sizes=(128, 16), solver=sgd;, score=(train=nan, test=nan) total time=  22.4s\n"
     ]
    },
    {
     "name": "stderr",
     "output_type": "stream",
     "text": [
      "C:\\Users\\asus'\\AppData\\Roaming\\Python\\Python39\\site-packages\\sklearn\\neural_network\\_multilayer_perceptron.py:702: ConvergenceWarning: Stochastic Optimizer: Maximum iterations (200) reached and the optimization hasn't converged yet.\n",
      "  warnings.warn(\n",
      "C:\\Users\\asus'\\AppData\\Roaming\\Python\\Python39\\site-packages\\sklearn\\utils\\extmath.py:152: RuntimeWarning: overflow encountered in matmul\n",
      "  ret = a @ b\n",
      "C:\\Users\\asus'\\AppData\\Roaming\\Python\\Python39\\site-packages\\sklearn\\utils\\extmath.py:152: RuntimeWarning: invalid value encountered in matmul\n",
      "  ret = a @ b\n"
     ]
    },
    {
     "name": "stdout",
     "output_type": "stream",
     "text": [
      "[CV 2/3] END activation=identity, alpha=0.1, hidden_layer_sizes=(128, 16), solver=sgd;, score=(train=nan, test=nan) total time=  21.8s\n"
     ]
    },
    {
     "name": "stderr",
     "output_type": "stream",
     "text": [
      "C:\\Users\\asus'\\AppData\\Roaming\\Python\\Python39\\site-packages\\sklearn\\neural_network\\_multilayer_perceptron.py:702: ConvergenceWarning: Stochastic Optimizer: Maximum iterations (200) reached and the optimization hasn't converged yet.\n",
      "  warnings.warn(\n"
     ]
    },
    {
     "name": "stdout",
     "output_type": "stream",
     "text": [
      "[CV 3/3] END activation=identity, alpha=0.1, hidden_layer_sizes=(128, 16), solver=sgd;, score=(train=nan, test=nan) total time=  20.1s\n",
      "[CV 1/3] END activation=identity, alpha=0.1, hidden_layer_sizes=(64, 8), solver=adam;, score=(train=0.420, test=0.333) total time=   5.7s\n",
      "[CV 2/3] END activation=identity, alpha=0.1, hidden_layer_sizes=(64, 8), solver=adam;, score=(train=0.255, test=0.284) total time=   2.0s\n",
      "[CV 3/3] END activation=identity, alpha=0.1, hidden_layer_sizes=(64, 8), solver=adam;, score=(train=0.398, test=0.414) total time=   7.0s\n"
     ]
    },
    {
     "name": "stderr",
     "output_type": "stream",
     "text": [
      "C:\\Users\\asus'\\AppData\\Roaming\\Python\\Python39\\site-packages\\sklearn\\utils\\extmath.py:152: RuntimeWarning: overflow encountered in matmul\n",
      "  ret = a @ b\n",
      "C:\\Users\\asus'\\AppData\\Roaming\\Python\\Python39\\site-packages\\sklearn\\utils\\extmath.py:152: RuntimeWarning: invalid value encountered in matmul\n",
      "  ret = a @ b\n",
      "C:\\Users\\asus'\\AppData\\Roaming\\Python\\Python39\\site-packages\\sklearn\\neural_network\\_multilayer_perceptron.py:702: ConvergenceWarning: Stochastic Optimizer: Maximum iterations (200) reached and the optimization hasn't converged yet.\n",
      "  warnings.warn(\n",
      "C:\\Users\\asus'\\AppData\\Roaming\\Python\\Python39\\site-packages\\sklearn\\utils\\extmath.py:152: RuntimeWarning: overflow encountered in matmul\n",
      "  ret = a @ b\n",
      "C:\\Users\\asus'\\AppData\\Roaming\\Python\\Python39\\site-packages\\sklearn\\utils\\extmath.py:152: RuntimeWarning: invalid value encountered in matmul\n",
      "  ret = a @ b\n"
     ]
    },
    {
     "name": "stdout",
     "output_type": "stream",
     "text": [
      "[CV 1/3] END activation=identity, alpha=0.1, hidden_layer_sizes=(64, 8), solver=sgd;, score=(train=nan, test=nan) total time=  12.4s\n"
     ]
    },
    {
     "name": "stderr",
     "output_type": "stream",
     "text": [
      "C:\\Users\\asus'\\AppData\\Roaming\\Python\\Python39\\site-packages\\sklearn\\neural_network\\_multilayer_perceptron.py:702: ConvergenceWarning: Stochastic Optimizer: Maximum iterations (200) reached and the optimization hasn't converged yet.\n",
      "  warnings.warn(\n",
      "C:\\Users\\asus'\\AppData\\Roaming\\Python\\Python39\\site-packages\\sklearn\\utils\\extmath.py:152: RuntimeWarning: overflow encountered in matmul\n",
      "  ret = a @ b\n",
      "C:\\Users\\asus'\\AppData\\Roaming\\Python\\Python39\\site-packages\\sklearn\\neural_network\\_base.py:66: RuntimeWarning: invalid value encountered in subtract\n",
      "  tmp = X - X.max(axis=1)[:, np.newaxis]\n"
     ]
    },
    {
     "name": "stdout",
     "output_type": "stream",
     "text": [
      "[CV 2/3] END activation=identity, alpha=0.1, hidden_layer_sizes=(64, 8), solver=sgd;, score=(train=nan, test=nan) total time=  10.7s\n"
     ]
    },
    {
     "name": "stderr",
     "output_type": "stream",
     "text": [
      "C:\\Users\\asus'\\AppData\\Roaming\\Python\\Python39\\site-packages\\sklearn\\neural_network\\_multilayer_perceptron.py:702: ConvergenceWarning: Stochastic Optimizer: Maximum iterations (200) reached and the optimization hasn't converged yet.\n",
      "  warnings.warn(\n"
     ]
    },
    {
     "name": "stdout",
     "output_type": "stream",
     "text": [
      "[CV 3/3] END activation=identity, alpha=0.1, hidden_layer_sizes=(64, 8), solver=sgd;, score=(train=nan, test=nan) total time=  10.4s\n",
      "[CV 1/3] END activation=identity, alpha=1, hidden_layer_sizes=(256, 32), solver=adam;, score=(train=0.246, test=0.148) total time=  11.1s\n",
      "[CV 2/3] END activation=identity, alpha=1, hidden_layer_sizes=(256, 32), solver=adam;, score=(train=0.391, test=0.382) total time=  20.6s\n",
      "[CV 3/3] END activation=identity, alpha=1, hidden_layer_sizes=(256, 32), solver=adam;, score=(train=0.072, test=0.138) total time=   9.1s\n"
     ]
    },
    {
     "name": "stderr",
     "output_type": "stream",
     "text": [
      "C:\\Users\\asus'\\AppData\\Roaming\\Python\\Python39\\site-packages\\sklearn\\utils\\extmath.py:152: RuntimeWarning: overflow encountered in matmul\n",
      "  ret = a @ b\n",
      "C:\\Users\\asus'\\AppData\\Roaming\\Python\\Python39\\site-packages\\sklearn\\utils\\extmath.py:152: RuntimeWarning: invalid value encountered in matmul\n",
      "  ret = a @ b\n",
      "C:\\Users\\asus'\\AppData\\Roaming\\Python\\Python39\\site-packages\\sklearn\\neural_network\\_multilayer_perceptron.py:702: ConvergenceWarning: Stochastic Optimizer: Maximum iterations (200) reached and the optimization hasn't converged yet.\n",
      "  warnings.warn(\n",
      "C:\\Users\\asus'\\AppData\\Roaming\\Python\\Python39\\site-packages\\sklearn\\utils\\extmath.py:152: RuntimeWarning: overflow encountered in matmul\n",
      "  ret = a @ b\n",
      "C:\\Users\\asus'\\AppData\\Roaming\\Python\\Python39\\site-packages\\sklearn\\utils\\extmath.py:152: RuntimeWarning: invalid value encountered in matmul\n",
      "  ret = a @ b\n"
     ]
    },
    {
     "name": "stdout",
     "output_type": "stream",
     "text": [
      "[CV 1/3] END activation=identity, alpha=1, hidden_layer_sizes=(256, 32), solver=sgd;, score=(train=nan, test=nan) total time=  36.0s\n"
     ]
    },
    {
     "name": "stderr",
     "output_type": "stream",
     "text": [
      "C:\\Users\\asus'\\AppData\\Roaming\\Python\\Python39\\site-packages\\sklearn\\neural_network\\_multilayer_perceptron.py:702: ConvergenceWarning: Stochastic Optimizer: Maximum iterations (200) reached and the optimization hasn't converged yet.\n",
      "  warnings.warn(\n",
      "C:\\Users\\asus'\\AppData\\Roaming\\Python\\Python39\\site-packages\\sklearn\\utils\\extmath.py:152: RuntimeWarning: overflow encountered in matmul\n",
      "  ret = a @ b\n",
      "C:\\Users\\asus'\\AppData\\Roaming\\Python\\Python39\\site-packages\\sklearn\\utils\\extmath.py:152: RuntimeWarning: invalid value encountered in matmul\n",
      "  ret = a @ b\n"
     ]
    },
    {
     "name": "stdout",
     "output_type": "stream",
     "text": [
      "[CV 2/3] END activation=identity, alpha=1, hidden_layer_sizes=(256, 32), solver=sgd;, score=(train=nan, test=nan) total time=  35.1s\n"
     ]
    },
    {
     "name": "stderr",
     "output_type": "stream",
     "text": [
      "C:\\Users\\asus'\\AppData\\Roaming\\Python\\Python39\\site-packages\\sklearn\\neural_network\\_multilayer_perceptron.py:702: ConvergenceWarning: Stochastic Optimizer: Maximum iterations (200) reached and the optimization hasn't converged yet.\n",
      "  warnings.warn(\n"
     ]
    },
    {
     "name": "stdout",
     "output_type": "stream",
     "text": [
      "[CV 3/3] END activation=identity, alpha=1, hidden_layer_sizes=(256, 32), solver=sgd;, score=(train=nan, test=nan) total time=  35.3s\n",
      "[CV 1/3] END activation=identity, alpha=1, hidden_layer_sizes=(128, 16), solver=adam;, score=(train=0.353, test=0.259) total time=  11.3s\n",
      "[CV 2/3] END activation=identity, alpha=1, hidden_layer_sizes=(128, 16), solver=adam;, score=(train=0.385, test=0.343) total time=   9.3s\n",
      "[CV 3/3] END activation=identity, alpha=1, hidden_layer_sizes=(128, 16), solver=adam;, score=(train=0.402, test=0.448) total time=  10.3s\n"
     ]
    },
    {
     "name": "stderr",
     "output_type": "stream",
     "text": [
      "C:\\Users\\asus'\\AppData\\Roaming\\Python\\Python39\\site-packages\\sklearn\\utils\\extmath.py:152: RuntimeWarning: overflow encountered in matmul\n",
      "  ret = a @ b\n",
      "C:\\Users\\asus'\\AppData\\Roaming\\Python\\Python39\\site-packages\\sklearn\\utils\\extmath.py:152: RuntimeWarning: invalid value encountered in matmul\n",
      "  ret = a @ b\n",
      "C:\\Users\\asus'\\AppData\\Roaming\\Python\\Python39\\site-packages\\sklearn\\neural_network\\_multilayer_perceptron.py:702: ConvergenceWarning: Stochastic Optimizer: Maximum iterations (200) reached and the optimization hasn't converged yet.\n",
      "  warnings.warn(\n",
      "C:\\Users\\asus'\\AppData\\Roaming\\Python\\Python39\\site-packages\\sklearn\\utils\\extmath.py:152: RuntimeWarning: overflow encountered in matmul\n",
      "  ret = a @ b\n",
      "C:\\Users\\asus'\\AppData\\Roaming\\Python\\Python39\\site-packages\\sklearn\\utils\\extmath.py:152: RuntimeWarning: invalid value encountered in matmul\n",
      "  ret = a @ b\n"
     ]
    },
    {
     "name": "stdout",
     "output_type": "stream",
     "text": [
      "[CV 1/3] END activation=identity, alpha=1, hidden_layer_sizes=(128, 16), solver=sgd;, score=(train=nan, test=nan) total time=  20.2s\n"
     ]
    },
    {
     "name": "stderr",
     "output_type": "stream",
     "text": [
      "C:\\Users\\asus'\\AppData\\Roaming\\Python\\Python39\\site-packages\\sklearn\\neural_network\\_multilayer_perceptron.py:702: ConvergenceWarning: Stochastic Optimizer: Maximum iterations (200) reached and the optimization hasn't converged yet.\n",
      "  warnings.warn(\n",
      "C:\\Users\\asus'\\AppData\\Roaming\\Python\\Python39\\site-packages\\sklearn\\utils\\extmath.py:152: RuntimeWarning: overflow encountered in matmul\n",
      "  ret = a @ b\n",
      "C:\\Users\\asus'\\AppData\\Roaming\\Python\\Python39\\site-packages\\sklearn\\utils\\extmath.py:152: RuntimeWarning: invalid value encountered in matmul\n",
      "  ret = a @ b\n"
     ]
    },
    {
     "name": "stdout",
     "output_type": "stream",
     "text": [
      "[CV 2/3] END activation=identity, alpha=1, hidden_layer_sizes=(128, 16), solver=sgd;, score=(train=nan, test=nan) total time=  20.0s\n"
     ]
    },
    {
     "name": "stderr",
     "output_type": "stream",
     "text": [
      "C:\\Users\\asus'\\AppData\\Roaming\\Python\\Python39\\site-packages\\sklearn\\neural_network\\_multilayer_perceptron.py:702: ConvergenceWarning: Stochastic Optimizer: Maximum iterations (200) reached and the optimization hasn't converged yet.\n",
      "  warnings.warn(\n"
     ]
    },
    {
     "name": "stdout",
     "output_type": "stream",
     "text": [
      "[CV 3/3] END activation=identity, alpha=1, hidden_layer_sizes=(128, 16), solver=sgd;, score=(train=nan, test=nan) total time=  20.1s\n",
      "[CV 1/3] END activation=identity, alpha=1, hidden_layer_sizes=(64, 8), solver=adam;, score=(train=0.399, test=0.407) total time=   7.0s\n",
      "[CV 2/3] END activation=identity, alpha=1, hidden_layer_sizes=(64, 8), solver=adam;, score=(train=0.309, test=0.186) total time=   5.6s\n",
      "[CV 3/3] END activation=identity, alpha=1, hidden_layer_sizes=(64, 8), solver=adam;, score=(train=0.399, test=0.414) total time=   5.1s\n"
     ]
    },
    {
     "name": "stderr",
     "output_type": "stream",
     "text": [
      "C:\\Users\\asus'\\AppData\\Roaming\\Python\\Python39\\site-packages\\sklearn\\utils\\extmath.py:152: RuntimeWarning: overflow encountered in matmul\n",
      "  ret = a @ b\n",
      "C:\\Users\\asus'\\AppData\\Roaming\\Python\\Python39\\site-packages\\sklearn\\utils\\extmath.py:152: RuntimeWarning: invalid value encountered in matmul\n",
      "  ret = a @ b\n",
      "C:\\Users\\asus'\\AppData\\Roaming\\Python\\Python39\\site-packages\\sklearn\\neural_network\\_multilayer_perceptron.py:702: ConvergenceWarning: Stochastic Optimizer: Maximum iterations (200) reached and the optimization hasn't converged yet.\n",
      "  warnings.warn(\n",
      "C:\\Users\\asus'\\AppData\\Roaming\\Python\\Python39\\site-packages\\sklearn\\utils\\extmath.py:152: RuntimeWarning: overflow encountered in matmul\n",
      "  ret = a @ b\n",
      "C:\\Users\\asus'\\AppData\\Roaming\\Python\\Python39\\site-packages\\sklearn\\neural_network\\_base.py:66: RuntimeWarning: invalid value encountered in subtract\n",
      "  tmp = X - X.max(axis=1)[:, np.newaxis]\n"
     ]
    },
    {
     "name": "stdout",
     "output_type": "stream",
     "text": [
      "[CV 1/3] END activation=identity, alpha=1, hidden_layer_sizes=(64, 8), solver=sgd;, score=(train=nan, test=nan) total time=  10.0s\n"
     ]
    },
    {
     "name": "stderr",
     "output_type": "stream",
     "text": [
      "C:\\Users\\asus'\\AppData\\Roaming\\Python\\Python39\\site-packages\\sklearn\\neural_network\\_multilayer_perceptron.py:702: ConvergenceWarning: Stochastic Optimizer: Maximum iterations (200) reached and the optimization hasn't converged yet.\n",
      "  warnings.warn(\n",
      "C:\\Users\\asus'\\AppData\\Roaming\\Python\\Python39\\site-packages\\sklearn\\utils\\extmath.py:152: RuntimeWarning: overflow encountered in matmul\n",
      "  ret = a @ b\n",
      "C:\\Users\\asus'\\AppData\\Roaming\\Python\\Python39\\site-packages\\sklearn\\utils\\extmath.py:152: RuntimeWarning: invalid value encountered in matmul\n",
      "  ret = a @ b\n"
     ]
    },
    {
     "name": "stdout",
     "output_type": "stream",
     "text": [
      "[CV 2/3] END activation=identity, alpha=1, hidden_layer_sizes=(64, 8), solver=sgd;, score=(train=nan, test=nan) total time=  10.9s\n"
     ]
    },
    {
     "name": "stderr",
     "output_type": "stream",
     "text": [
      "C:\\Users\\asus'\\AppData\\Roaming\\Python\\Python39\\site-packages\\sklearn\\neural_network\\_multilayer_perceptron.py:702: ConvergenceWarning: Stochastic Optimizer: Maximum iterations (200) reached and the optimization hasn't converged yet.\n",
      "  warnings.warn(\n"
     ]
    },
    {
     "name": "stdout",
     "output_type": "stream",
     "text": [
      "[CV 3/3] END activation=identity, alpha=1, hidden_layer_sizes=(64, 8), solver=sgd;, score=(train=nan, test=nan) total time=  10.5s\n",
      "[CV 1/3] END activation=tanh, alpha=0.001, hidden_layer_sizes=(256, 32), solver=adam;, score=(train=0.345, test=0.395) total time=  18.0s\n",
      "[CV 2/3] END activation=tanh, alpha=0.001, hidden_layer_sizes=(256, 32), solver=adam;, score=(train=0.406, test=0.353) total time=  24.1s\n",
      "[CV 3/3] END activation=tanh, alpha=0.001, hidden_layer_sizes=(256, 32), solver=adam;, score=(train=0.464, test=0.402) total time=  20.9s\n",
      "[CV 1/3] END activation=tanh, alpha=0.001, hidden_layer_sizes=(256, 32), solver=sgd;, score=(train=0.065, test=0.037) total time=  12.2s\n",
      "[CV 2/3] END activation=tanh, alpha=0.001, hidden_layer_sizes=(256, 32), solver=sgd;, score=(train=0.068, test=0.020) total time=  18.5s\n",
      "[CV 3/3] END activation=tanh, alpha=0.001, hidden_layer_sizes=(256, 32), solver=sgd;, score=(train=0.057, test=0.126) total time=  16.1s\n",
      "[CV 1/3] END activation=tanh, alpha=0.001, hidden_layer_sizes=(128, 16), solver=adam;, score=(train=0.425, test=0.444) total time= 1.1min\n",
      "[CV 2/3] END activation=tanh, alpha=0.001, hidden_layer_sizes=(128, 16), solver=adam;, score=(train=0.455, test=0.451) total time=  51.2s\n",
      "[CV 3/3] END activation=tanh, alpha=0.001, hidden_layer_sizes=(128, 16), solver=adam;, score=(train=0.379, test=0.402) total time=  55.1s\n",
      "[CV 1/3] END activation=tanh, alpha=0.001, hidden_layer_sizes=(128, 16), solver=sgd;, score=(train=0.065, test=0.037) total time=  10.4s\n",
      "[CV 2/3] END activation=tanh, alpha=0.001, hidden_layer_sizes=(128, 16), solver=sgd;, score=(train=0.068, test=0.020) total time=  10.5s\n",
      "[CV 3/3] END activation=tanh, alpha=0.001, hidden_layer_sizes=(128, 16), solver=sgd;, score=(train=0.057, test=0.126) total time=  12.4s\n",
      "[CV 1/3] END activation=tanh, alpha=0.001, hidden_layer_sizes=(64, 8), solver=adam;, score=(train=0.291, test=0.259) total time=  49.4s\n",
      "[CV 2/3] END activation=tanh, alpha=0.001, hidden_layer_sizes=(64, 8), solver=adam;, score=(train=0.068, test=0.020) total time=   4.0s\n",
      "[CV 3/3] END activation=tanh, alpha=0.001, hidden_layer_sizes=(64, 8), solver=adam;, score=(train=0.337, test=0.379) total time=  19.1s\n",
      "[CV 1/3] END activation=tanh, alpha=0.001, hidden_layer_sizes=(64, 8), solver=sgd;, score=(train=0.065, test=0.037) total time=   1.9s\n",
      "[CV 2/3] END activation=tanh, alpha=0.001, hidden_layer_sizes=(64, 8), solver=sgd;, score=(train=0.068, test=0.020) total time=   1.9s\n",
      "[CV 3/3] END activation=tanh, alpha=0.001, hidden_layer_sizes=(64, 8), solver=sgd;, score=(train=0.057, test=0.126) total time=   2.5s\n",
      "[CV 1/3] END activation=tanh, alpha=0.01, hidden_layer_sizes=(256, 32), solver=adam;, score=(train=0.406, test=0.370) total time=  31.9s\n",
      "[CV 2/3] END activation=tanh, alpha=0.01, hidden_layer_sizes=(256, 32), solver=adam;, score=(train=0.301, test=0.216) total time=  19.8s\n",
      "[CV 3/3] END activation=tanh, alpha=0.01, hidden_layer_sizes=(256, 32), solver=adam;, score=(train=0.379, test=0.437) total time= 1.1min\n",
      "[CV 1/3] END activation=tanh, alpha=0.01, hidden_layer_sizes=(256, 32), solver=sgd;, score=(train=0.065, test=0.037) total time=   6.2s\n",
      "[CV 2/3] END activation=tanh, alpha=0.01, hidden_layer_sizes=(256, 32), solver=sgd;, score=(train=0.068, test=0.020) total time=   9.3s\n",
      "[CV 3/3] END activation=tanh, alpha=0.01, hidden_layer_sizes=(256, 32), solver=sgd;, score=(train=0.057, test=0.126) total time=   7.2s\n",
      "[CV 1/3] END activation=tanh, alpha=0.01, hidden_layer_sizes=(128, 16), solver=adam;, score=(train=0.350, test=0.210) total time=  23.1s\n",
      "[CV 2/3] END activation=tanh, alpha=0.01, hidden_layer_sizes=(128, 16), solver=adam;, score=(train=0.402, test=0.392) total time=  20.4s\n",
      "[CV 3/3] END activation=tanh, alpha=0.01, hidden_layer_sizes=(128, 16), solver=adam;, score=(train=0.347, test=0.322) total time=  20.2s\n",
      "[CV 1/3] END activation=tanh, alpha=0.01, hidden_layer_sizes=(128, 16), solver=sgd;, score=(train=0.065, test=0.037) total time=   2.3s\n",
      "[CV 2/3] END activation=tanh, alpha=0.01, hidden_layer_sizes=(128, 16), solver=sgd;, score=(train=0.068, test=0.020) total time=   2.6s\n",
      "[CV 3/3] END activation=tanh, alpha=0.01, hidden_layer_sizes=(128, 16), solver=sgd;, score=(train=0.057, test=0.126) total time=   2.8s\n",
      "[CV 1/3] END activation=tanh, alpha=0.01, hidden_layer_sizes=(64, 8), solver=adam;, score=(train=0.065, test=0.037) total time=   1.9s\n",
      "[CV 2/3] END activation=tanh, alpha=0.01, hidden_layer_sizes=(64, 8), solver=adam;, score=(train=0.393, test=0.294) total time=   9.8s\n",
      "[CV 3/3] END activation=tanh, alpha=0.01, hidden_layer_sizes=(64, 8), solver=adam;, score=(train=0.057, test=0.126) total time=   3.5s\n",
      "[CV 1/3] END activation=tanh, alpha=0.01, hidden_layer_sizes=(64, 8), solver=sgd;, score=(train=0.065, test=0.037) total time=   1.7s\n",
      "[CV 2/3] END activation=tanh, alpha=0.01, hidden_layer_sizes=(64, 8), solver=sgd;, score=(train=0.068, test=0.020) total time=   3.0s\n",
      "[CV 3/3] END activation=tanh, alpha=0.01, hidden_layer_sizes=(64, 8), solver=sgd;, score=(train=0.057, test=0.126) total time=   1.7s\n",
      "[CV 1/3] END activation=tanh, alpha=0.1, hidden_layer_sizes=(256, 32), solver=adam;, score=(train=0.065, test=0.037) total time=  13.3s\n",
      "[CV 2/3] END activation=tanh, alpha=0.1, hidden_layer_sizes=(256, 32), solver=adam;, score=(train=0.197, test=0.118) total time=  26.1s\n",
      "[CV 3/3] END activation=tanh, alpha=0.1, hidden_layer_sizes=(256, 32), solver=adam;, score=(train=0.438, test=0.379) total time=  32.9s\n",
      "[CV 1/3] END activation=tanh, alpha=0.1, hidden_layer_sizes=(256, 32), solver=sgd;, score=(train=0.065, test=0.037) total time=   2.9s\n",
      "[CV 2/3] END activation=tanh, alpha=0.1, hidden_layer_sizes=(256, 32), solver=sgd;, score=(train=0.068, test=0.020) total time=   3.8s\n",
      "[CV 3/3] END activation=tanh, alpha=0.1, hidden_layer_sizes=(256, 32), solver=sgd;, score=(train=0.057, test=0.126) total time=   3.4s\n",
      "[CV 1/3] END activation=tanh, alpha=0.1, hidden_layer_sizes=(128, 16), solver=adam;, score=(train=0.361, test=0.358) total time=  10.7s\n",
      "[CV 2/3] END activation=tanh, alpha=0.1, hidden_layer_sizes=(128, 16), solver=adam;, score=(train=0.347, test=0.255) total time=  19.0s\n",
      "[CV 3/3] END activation=tanh, alpha=0.1, hidden_layer_sizes=(128, 16), solver=adam;, score=(train=0.408, test=0.414) total time=  16.9s\n",
      "[CV 1/3] END activation=tanh, alpha=0.1, hidden_layer_sizes=(128, 16), solver=sgd;, score=(train=0.065, test=0.037) total time=   3.5s\n",
      "[CV 2/3] END activation=tanh, alpha=0.1, hidden_layer_sizes=(128, 16), solver=sgd;, score=(train=0.068, test=0.020) total time=   4.4s\n",
      "[CV 3/3] END activation=tanh, alpha=0.1, hidden_layer_sizes=(128, 16), solver=sgd;, score=(train=0.057, test=0.126) total time=   2.4s\n",
      "[CV 1/3] END activation=tanh, alpha=0.1, hidden_layer_sizes=(64, 8), solver=adam;, score=(train=0.115, test=0.099) total time=   6.2s\n",
      "[CV 2/3] END activation=tanh, alpha=0.1, hidden_layer_sizes=(64, 8), solver=adam;, score=(train=0.173, test=0.176) total time=   9.1s\n",
      "[CV 3/3] END activation=tanh, alpha=0.1, hidden_layer_sizes=(64, 8), solver=adam;, score=(train=0.057, test=0.126) total time=   2.6s\n",
      "[CV 1/3] END activation=tanh, alpha=0.1, hidden_layer_sizes=(64, 8), solver=sgd;, score=(train=0.065, test=0.037) total time=   1.9s\n",
      "[CV 2/3] END activation=tanh, alpha=0.1, hidden_layer_sizes=(64, 8), solver=sgd;, score=(train=0.068, test=0.020) total time=   2.4s\n",
      "[CV 3/3] END activation=tanh, alpha=0.1, hidden_layer_sizes=(64, 8), solver=sgd;, score=(train=0.057, test=0.126) total time=   2.6s\n",
      "[CV 1/3] END activation=tanh, alpha=1, hidden_layer_sizes=(256, 32), solver=adam;, score=(train=0.065, test=0.037) total time=  20.3s\n",
      "[CV 2/3] END activation=tanh, alpha=1, hidden_layer_sizes=(256, 32), solver=adam;, score=(train=0.068, test=0.020) total time=  15.8s\n",
      "[CV 3/3] END activation=tanh, alpha=1, hidden_layer_sizes=(256, 32), solver=adam;, score=(train=0.199, test=0.264) total time=  27.2s\n"
     ]
    },
    {
     "name": "stderr",
     "output_type": "stream",
     "text": [
      "C:\\Users\\asus'\\AppData\\Roaming\\Python\\Python39\\site-packages\\sklearn\\neural_network\\_multilayer_perceptron.py:702: ConvergenceWarning: Stochastic Optimizer: Maximum iterations (200) reached and the optimization hasn't converged yet.\n",
      "  warnings.warn(\n"
     ]
    },
    {
     "name": "stdout",
     "output_type": "stream",
     "text": [
      "[CV 1/3] END activation=tanh, alpha=1, hidden_layer_sizes=(256, 32), solver=sgd;, score=(train=0.065, test=0.037) total time=  42.4s\n"
     ]
    },
    {
     "name": "stderr",
     "output_type": "stream",
     "text": [
      "C:\\Users\\asus'\\AppData\\Roaming\\Python\\Python39\\site-packages\\sklearn\\neural_network\\_multilayer_perceptron.py:702: ConvergenceWarning: Stochastic Optimizer: Maximum iterations (200) reached and the optimization hasn't converged yet.\n",
      "  warnings.warn(\n"
     ]
    },
    {
     "name": "stdout",
     "output_type": "stream",
     "text": [
      "[CV 2/3] END activation=tanh, alpha=1, hidden_layer_sizes=(256, 32), solver=sgd;, score=(train=0.068, test=0.020) total time=  41.8s\n"
     ]
    },
    {
     "name": "stderr",
     "output_type": "stream",
     "text": [
      "C:\\Users\\asus'\\AppData\\Roaming\\Python\\Python39\\site-packages\\sklearn\\neural_network\\_multilayer_perceptron.py:702: ConvergenceWarning: Stochastic Optimizer: Maximum iterations (200) reached and the optimization hasn't converged yet.\n",
      "  warnings.warn(\n"
     ]
    },
    {
     "name": "stdout",
     "output_type": "stream",
     "text": [
      "[CV 3/3] END activation=tanh, alpha=1, hidden_layer_sizes=(256, 32), solver=sgd;, score=(train=0.057, test=0.126) total time=  42.0s\n",
      "[CV 1/3] END activation=tanh, alpha=1, hidden_layer_sizes=(128, 16), solver=adam;, score=(train=0.065, test=0.037) total time=   9.8s\n",
      "[CV 2/3] END activation=tanh, alpha=1, hidden_layer_sizes=(128, 16), solver=adam;, score=(train=0.068, test=0.020) total time=  11.1s\n",
      "[CV 3/3] END activation=tanh, alpha=1, hidden_layer_sizes=(128, 16), solver=adam;, score=(train=0.057, test=0.126) total time=   7.8s\n"
     ]
    },
    {
     "name": "stderr",
     "output_type": "stream",
     "text": [
      "C:\\Users\\asus'\\AppData\\Roaming\\Python\\Python39\\site-packages\\sklearn\\neural_network\\_multilayer_perceptron.py:702: ConvergenceWarning: Stochastic Optimizer: Maximum iterations (200) reached and the optimization hasn't converged yet.\n",
      "  warnings.warn(\n"
     ]
    },
    {
     "name": "stdout",
     "output_type": "stream",
     "text": [
      "[CV 1/3] END activation=tanh, alpha=1, hidden_layer_sizes=(128, 16), solver=sgd;, score=(train=0.065, test=0.037) total time=  23.9s\n",
      "[CV 2/3] END activation=tanh, alpha=1, hidden_layer_sizes=(128, 16), solver=sgd;, score=(train=0.068, test=0.020) total time=  19.0s\n",
      "[CV 3/3] END activation=tanh, alpha=1, hidden_layer_sizes=(128, 16), solver=sgd;, score=(train=0.057, test=0.126) total time=42.3min\n",
      "[CV 1/3] END activation=tanh, alpha=1, hidden_layer_sizes=(64, 8), solver=adam;, score=(train=0.065, test=0.037) total time=   7.9s\n",
      "[CV 2/3] END activation=tanh, alpha=1, hidden_layer_sizes=(64, 8), solver=adam;, score=(train=0.068, test=0.020) total time=   6.2s\n",
      "[CV 3/3] END activation=tanh, alpha=1, hidden_layer_sizes=(64, 8), solver=adam;, score=(train=0.057, test=0.126) total time=   4.1s\n"
     ]
    },
    {
     "name": "stderr",
     "output_type": "stream",
     "text": [
      "C:\\Users\\asus'\\AppData\\Roaming\\Python\\Python39\\site-packages\\sklearn\\neural_network\\_multilayer_perceptron.py:702: ConvergenceWarning: Stochastic Optimizer: Maximum iterations (200) reached and the optimization hasn't converged yet.\n",
      "  warnings.warn(\n"
     ]
    },
    {
     "name": "stdout",
     "output_type": "stream",
     "text": [
      "[CV 1/3] END activation=tanh, alpha=1, hidden_layer_sizes=(64, 8), solver=sgd;, score=(train=0.065, test=0.037) total time=  16.6s\n",
      "[CV 2/3] END activation=tanh, alpha=1, hidden_layer_sizes=(64, 8), solver=sgd;, score=(train=0.068, test=0.020) total time=  12.8s\n"
     ]
    },
    {
     "name": "stderr",
     "output_type": "stream",
     "text": [
      "C:\\Users\\asus'\\AppData\\Roaming\\Python\\Python39\\site-packages\\sklearn\\neural_network\\_multilayer_perceptron.py:702: ConvergenceWarning: Stochastic Optimizer: Maximum iterations (200) reached and the optimization hasn't converged yet.\n",
      "  warnings.warn(\n"
     ]
    },
    {
     "name": "stdout",
     "output_type": "stream",
     "text": [
      "[CV 3/3] END activation=tanh, alpha=1, hidden_layer_sizes=(64, 8), solver=sgd;, score=(train=0.057, test=0.126) total time=  12.3s\n"
     ]
    },
    {
     "name": "stderr",
     "output_type": "stream",
     "text": [
      "C:\\Users\\asus'\\AppData\\Roaming\\Python\\Python39\\site-packages\\sklearn\\model_selection\\_validation.py:378: FitFailedWarning: \n",
      "36 fits failed out of a total of 288.\n",
      "The score on these train-test partitions for these parameters will be set to nan.\n",
      "If these failures are not expected, you can try to debug them by setting error_score='raise'.\n",
      "\n",
      "Below are more details about the failures:\n",
      "--------------------------------------------------------------------------------\n",
      "36 fits failed with the following error:\n",
      "Traceback (most recent call last):\n",
      "  File \"C:\\Users\\asus'\\AppData\\Roaming\\Python\\Python39\\site-packages\\sklearn\\model_selection\\_validation.py\", line 686, in _fit_and_score\n",
      "    estimator.fit(X_train, y_train, **fit_params)\n",
      "  File \"C:\\Users\\asus'\\AppData\\Roaming\\Python\\Python39\\site-packages\\sklearn\\neural_network\\_multilayer_perceptron.py\", line 762, in fit\n",
      "    return self._fit(X, y, incremental=False)\n",
      "  File \"C:\\Users\\asus'\\AppData\\Roaming\\Python\\Python39\\site-packages\\sklearn\\neural_network\\_multilayer_perceptron.py\", line 448, in _fit\n",
      "    raise ValueError(\n",
      "ValueError: Solver produced non-finite parameter weights. The input data may contain large values and need to be preprocessed.\n",
      "\n",
      "  warnings.warn(some_fits_failed_message, FitFailedWarning)\n",
      "C:\\Users\\asus'\\AppData\\Roaming\\Python\\Python39\\site-packages\\sklearn\\model_selection\\_search.py:953: UserWarning: One or more of the test scores are non-finite: [0.06102722 0.06102722 0.06102722 0.06102722 0.06102722 0.06102722\n",
      " 0.06102722 0.06102722 0.06102722 0.06102722 0.06102722 0.06102722\n",
      " 0.16560238 0.06102722 0.06102722 0.06102722 0.06102722 0.06102722\n",
      " 0.06102722 0.06102722 0.06102722 0.06102722 0.06102722 0.06102722\n",
      " 0.3680999  0.06102722 0.4075994  0.06102722 0.35176421 0.06102722\n",
      " 0.43471565 0.06102722 0.3568978  0.06102722 0.39537893 0.06102722\n",
      " 0.38625948 0.06102722 0.38771192 0.06102722 0.25430095 0.06102722\n",
      " 0.06102722 0.06102722 0.06102722 0.06102722 0.06102722 0.06102722\n",
      " 0.43870149        nan 0.41740332        nan 0.41058773        nan\n",
      " 0.40372624        nan 0.36084191        nan 0.34793279        nan\n",
      " 0.35874256        nan 0.36503644        nan 0.34381339        nan\n",
      " 0.22281071        nan 0.35022413        nan 0.33582501        nan\n",
      " 0.38343392 0.06102722 0.43257456 0.06102722 0.21939248 0.06102722\n",
      " 0.34094608 0.06102722 0.3079575  0.06102722 0.15253049 0.06102722\n",
      " 0.17799815 0.06102722 0.34223992 0.06102722 0.13389093 0.06102722\n",
      " 0.10700423 0.06102722 0.06102722 0.06102722 0.06102722 0.06102722]\n",
      "  warnings.warn(\n",
      "C:\\Users\\asus'\\AppData\\Roaming\\Python\\Python39\\site-packages\\sklearn\\model_selection\\_search.py:953: UserWarning: One or more of the train scores are non-finite: [0.06327978 0.06327978 0.06327978 0.06327978 0.06327978 0.06327978\n",
      " 0.06327978 0.06327978 0.06327978 0.06327978 0.06327978 0.06327978\n",
      " 0.16965459 0.06327978 0.06327978 0.06327978 0.06327978 0.06327978\n",
      " 0.06327978 0.06327978 0.06327978 0.06327978 0.06327978 0.06327978\n",
      " 0.42695947 0.06327978 0.4524193  0.06327978 0.41024729 0.06327978\n",
      " 0.47657746 0.06327978 0.39936052 0.06327978 0.44552175 0.06327978\n",
      " 0.4038256  0.06327978 0.41636304 0.06327978 0.24817966 0.06327978\n",
      " 0.06327978 0.06327978 0.06327978 0.06327978 0.06327978 0.06327978\n",
      " 0.41337207        nan 0.40259351        nan 0.40871609        nan\n",
      " 0.41901386        nan 0.34592575        nan 0.38765656        nan\n",
      " 0.36475155        nan 0.35245243        nan 0.35722978        nan\n",
      " 0.23645913        nan 0.38001233        nan 0.36890728        nan\n",
      " 0.40506265 0.06327978 0.41988481 0.06327978 0.23226559 0.06327978\n",
      " 0.36205131 0.06327978 0.36615029 0.06327978 0.17157471 0.06327978\n",
      " 0.23350835 0.06327978 0.37185169 0.06327978 0.11472395 0.06327978\n",
      " 0.1108449  0.06327978 0.06327978 0.06327978 0.06327978 0.06327978]\n",
      "  warnings.warn(\n"
     ]
    }
   ],
   "source": [
    "mlpClassifier.find_best_param_mlp(df_train.drop(columns = ['results_points']), df_train['results_positionOrder'])"
   ]
  },
  {
   "cell_type": "code",
   "execution_count": 14,
   "metadata": {},
   "outputs": [
    {
     "data": {
      "text/plain": [
       "{'activation': 'identity',\n",
       " 'alpha': 0.001,\n",
       " 'hidden_layer_sizes': (256, 32),\n",
       " 'solver': 'adam'}"
      ]
     },
     "execution_count": 14,
     "metadata": {},
     "output_type": "execute_result"
    }
   ],
   "source": [
    "mlpClassifier.mlp_params"
   ]
  },
  {
   "cell_type": "code",
   "execution_count": 15,
   "metadata": {},
   "outputs": [],
   "source": [
    "mlpClassifier.fit_mlp(df_train.drop(columns = ['results_points']), df_train['results_positionOrder'])"
   ]
  },
  {
   "cell_type": "code",
   "execution_count": 19,
   "metadata": {},
   "outputs": [
    {
     "data": {
      "text/plain": [
       "(0.46, 0.9535312148432995, 0.46, 0.46, 0.21)"
      ]
     },
     "execution_count": 19,
     "metadata": {},
     "output_type": "execute_result"
    }
   ],
   "source": [
    "get_metrics(mlpClassifier.model, df_test.drop(columns = ['results_points']), df_test['results_positionOrder'])"
   ]
  },
  {
   "cell_type": "code",
   "execution_count": 17,
   "metadata": {},
   "outputs": [
    {
     "ename": "ValueError",
     "evalue": "'x' is not 1-dimensional",
     "output_type": "error",
     "traceback": [
      "\u001b[1;31m---------------------------------------------------------------------------\u001b[0m",
      "\u001b[1;31mValueError\u001b[0m                                Traceback (most recent call last)",
      "Cell \u001b[1;32mIn [17], line 1\u001b[0m\n\u001b[1;32m----> 1\u001b[0m plot_cv_results(mlpClassifier\u001b[39m.\u001b[39;49mmodel_cv, mlpClassifier\u001b[39m.\u001b[39;49mhyper_params[\u001b[39m0\u001b[39;49m])\n",
      "Cell \u001b[1;32mIn [4], line 27\u001b[0m, in \u001b[0;36mplot_cv_results\u001b[1;34m(gs_model, gs_params)\u001b[0m\n\u001b[0;32m     24\u001b[0m axes[idx]\u001b[39m.\u001b[39mset_ylim(\u001b[39m0.0\u001b[39m, \u001b[39m1.1\u001b[39m)\n\u001b[0;32m     25\u001b[0m axes[idx]\u001b[39m.\u001b[39mplot(param_range, grouped_df[\u001b[39m'\u001b[39m\u001b[39mmean_train_score\u001b[39m\u001b[39m'\u001b[39m], label\u001b[39m=\u001b[39m\u001b[39m\"\u001b[39m\u001b[39mTraining score\u001b[39m\u001b[39m\"\u001b[39m,\n\u001b[0;32m     26\u001b[0m             color\u001b[39m=\u001b[39m\u001b[39m\"\u001b[39m\u001b[39mdarkorange\u001b[39m\u001b[39m\"\u001b[39m, lw\u001b[39m=\u001b[39mlw)\n\u001b[1;32m---> 27\u001b[0m axes[idx]\u001b[39m.\u001b[39;49mfill_between(param_range, grouped_df[\u001b[39m'\u001b[39;49m\u001b[39mmean_train_score\u001b[39;49m\u001b[39m'\u001b[39;49m] \u001b[39m-\u001b[39;49m grouped_df[\u001b[39m'\u001b[39;49m\u001b[39mstd_train_score\u001b[39;49m\u001b[39m'\u001b[39;49m],\n\u001b[0;32m     28\u001b[0m                 grouped_df[\u001b[39m'\u001b[39;49m\u001b[39mmean_train_score\u001b[39;49m\u001b[39m'\u001b[39;49m] \u001b[39m+\u001b[39;49m grouped_df[\u001b[39m'\u001b[39;49m\u001b[39mstd_train_score\u001b[39;49m\u001b[39m'\u001b[39;49m], alpha\u001b[39m=\u001b[39;49m\u001b[39m0.2\u001b[39;49m,\n\u001b[0;32m     29\u001b[0m                 color\u001b[39m=\u001b[39;49m\u001b[39m\"\u001b[39;49m\u001b[39mdarkorange\u001b[39;49m\u001b[39m\"\u001b[39;49m, lw\u001b[39m=\u001b[39;49mlw)\n\u001b[0;32m     30\u001b[0m axes[idx]\u001b[39m.\u001b[39mplot(param_range, grouped_df[\u001b[39m'\u001b[39m\u001b[39mmean_test_score\u001b[39m\u001b[39m'\u001b[39m], label\u001b[39m=\u001b[39m\u001b[39m\"\u001b[39m\u001b[39mCross-validation score\u001b[39m\u001b[39m\"\u001b[39m,\n\u001b[0;32m     31\u001b[0m             color\u001b[39m=\u001b[39m\u001b[39m\"\u001b[39m\u001b[39mnavy\u001b[39m\u001b[39m\"\u001b[39m, lw\u001b[39m=\u001b[39mlw)\n\u001b[0;32m     32\u001b[0m axes[idx]\u001b[39m.\u001b[39mfill_between(param_range, grouped_df[\u001b[39m'\u001b[39m\u001b[39mmean_test_score\u001b[39m\u001b[39m'\u001b[39m] \u001b[39m-\u001b[39m grouped_df[\u001b[39m'\u001b[39m\u001b[39mstd_test_score\u001b[39m\u001b[39m'\u001b[39m],\n\u001b[0;32m     33\u001b[0m                 grouped_df[\u001b[39m'\u001b[39m\u001b[39mmean_test_score\u001b[39m\u001b[39m'\u001b[39m] \u001b[39m+\u001b[39m grouped_df[\u001b[39m'\u001b[39m\u001b[39mstd_test_score\u001b[39m\u001b[39m'\u001b[39m], alpha\u001b[39m=\u001b[39m\u001b[39m0.2\u001b[39m,\n\u001b[0;32m     34\u001b[0m                 color\u001b[39m=\u001b[39m\u001b[39m\"\u001b[39m\u001b[39mnavy\u001b[39m\u001b[39m\"\u001b[39m, lw\u001b[39m=\u001b[39mlw)\n",
      "File \u001b[1;32mc:\\MicDrop\\lib\\site-packages\\matplotlib\\__init__.py:1412\u001b[0m, in \u001b[0;36m_preprocess_data.<locals>.inner\u001b[1;34m(ax, data, *args, **kwargs)\u001b[0m\n\u001b[0;32m   1409\u001b[0m \u001b[39m@functools\u001b[39m\u001b[39m.\u001b[39mwraps(func)\n\u001b[0;32m   1410\u001b[0m \u001b[39mdef\u001b[39;00m \u001b[39minner\u001b[39m(ax, \u001b[39m*\u001b[39margs, data\u001b[39m=\u001b[39m\u001b[39mNone\u001b[39;00m, \u001b[39m*\u001b[39m\u001b[39m*\u001b[39mkwargs):\n\u001b[0;32m   1411\u001b[0m     \u001b[39mif\u001b[39;00m data \u001b[39mis\u001b[39;00m \u001b[39mNone\u001b[39;00m:\n\u001b[1;32m-> 1412\u001b[0m         \u001b[39mreturn\u001b[39;00m func(ax, \u001b[39m*\u001b[39m\u001b[39mmap\u001b[39m(sanitize_sequence, args), \u001b[39m*\u001b[39m\u001b[39m*\u001b[39mkwargs)\n\u001b[0;32m   1414\u001b[0m     bound \u001b[39m=\u001b[39m new_sig\u001b[39m.\u001b[39mbind(ax, \u001b[39m*\u001b[39margs, \u001b[39m*\u001b[39m\u001b[39m*\u001b[39mkwargs)\n\u001b[0;32m   1415\u001b[0m     auto_label \u001b[39m=\u001b[39m (bound\u001b[39m.\u001b[39marguments\u001b[39m.\u001b[39mget(label_namer)\n\u001b[0;32m   1416\u001b[0m                   \u001b[39mor\u001b[39;00m bound\u001b[39m.\u001b[39mkwargs\u001b[39m.\u001b[39mget(label_namer))\n",
      "File \u001b[1;32mc:\\MicDrop\\lib\\site-packages\\matplotlib\\axes\\_axes.py:5245\u001b[0m, in \u001b[0;36mAxes.fill_between\u001b[1;34m(self, x, y1, y2, where, interpolate, step, **kwargs)\u001b[0m\n\u001b[0;32m   5243\u001b[0m \u001b[39mdef\u001b[39;00m \u001b[39mfill_between\u001b[39m(\u001b[39mself\u001b[39m, x, y1, y2\u001b[39m=\u001b[39m\u001b[39m0\u001b[39m, where\u001b[39m=\u001b[39m\u001b[39mNone\u001b[39;00m, interpolate\u001b[39m=\u001b[39m\u001b[39mFalse\u001b[39;00m,\n\u001b[0;32m   5244\u001b[0m                  step\u001b[39m=\u001b[39m\u001b[39mNone\u001b[39;00m, \u001b[39m*\u001b[39m\u001b[39m*\u001b[39mkwargs):\n\u001b[1;32m-> 5245\u001b[0m     \u001b[39mreturn\u001b[39;00m \u001b[39mself\u001b[39m\u001b[39m.\u001b[39m_fill_between_x_or_y(\n\u001b[0;32m   5246\u001b[0m         \u001b[39m\"\u001b[39m\u001b[39mx\u001b[39m\u001b[39m\"\u001b[39m, x, y1, y2,\n\u001b[0;32m   5247\u001b[0m         where\u001b[39m=\u001b[39mwhere, interpolate\u001b[39m=\u001b[39minterpolate, step\u001b[39m=\u001b[39mstep, \u001b[39m*\u001b[39m\u001b[39m*\u001b[39mkwargs)\n",
      "File \u001b[1;32mc:\\MicDrop\\lib\\site-packages\\matplotlib\\axes\\_axes.py:5157\u001b[0m, in \u001b[0;36mAxes._fill_between_x_or_y\u001b[1;34m(self, ind_dir, ind, dep1, dep2, where, interpolate, step, **kwargs)\u001b[0m\n\u001b[0;32m   5154\u001b[0m \u001b[39mfor\u001b[39;00m name, array \u001b[39min\u001b[39;00m [\n\u001b[0;32m   5155\u001b[0m         (ind_dir, ind), (\u001b[39mf\u001b[39m\u001b[39m\"\u001b[39m\u001b[39m{\u001b[39;00mdep_dir\u001b[39m}\u001b[39;00m\u001b[39m1\u001b[39m\u001b[39m\"\u001b[39m, dep1), (\u001b[39mf\u001b[39m\u001b[39m\"\u001b[39m\u001b[39m{\u001b[39;00mdep_dir\u001b[39m}\u001b[39;00m\u001b[39m2\u001b[39m\u001b[39m\"\u001b[39m, dep2)]:\n\u001b[0;32m   5156\u001b[0m     \u001b[39mif\u001b[39;00m array\u001b[39m.\u001b[39mndim \u001b[39m>\u001b[39m \u001b[39m1\u001b[39m:\n\u001b[1;32m-> 5157\u001b[0m         \u001b[39mraise\u001b[39;00m \u001b[39mValueError\u001b[39;00m(\u001b[39mf\u001b[39m\u001b[39m\"\u001b[39m\u001b[39m{\u001b[39;00mname\u001b[39m!r}\u001b[39;00m\u001b[39m is not 1-dimensional\u001b[39m\u001b[39m\"\u001b[39m)\n\u001b[0;32m   5159\u001b[0m \u001b[39mif\u001b[39;00m where \u001b[39mis\u001b[39;00m \u001b[39mNone\u001b[39;00m:\n\u001b[0;32m   5160\u001b[0m     where \u001b[39m=\u001b[39m \u001b[39mTrue\u001b[39;00m\n",
      "\u001b[1;31mValueError\u001b[0m: 'x' is not 1-dimensional"
     ]
    },
    {
     "data": {
      "image/png": "[encoded data removed]",
      "text/plain": [
       "<Figure size 2000x700 with 4 Axes>"
      ]
     },
     "metadata": {},
     "output_type": "display_data"
    }
   ],
   "source": [
    "plot_cv_results(mlpClassifier.model_cv, mlpClassifier.hyper_params[0])"
   ]
  },
  {
   "cell_type": "code",
   "execution_count": null,
   "metadata": {},
   "outputs": [],
   "source": []
  }
 ],
 "metadata": {
  "kernelspec": {
   "display_name": "Python 3.9.13",
   "language": "python",
   "name": "python3"
  },
  "language_info": {
   "codemirror_mode": {
    "name": "ipython",
    "version": 3
   },
   "file_extension": ".py",
   "mimetype": "text/x-python",
   "name": "python",
   "nbconvert_exporter": "python",
   "pygments_lexer": "ipython3",
   "version": "3.9.13"
  },
  "orig_nbformat": 4,
  "vscode": {
   "interpreter": {
    "hash": "3b922597e2054cfa14dd8877f548ff69eb507afc0eeca1bbf1d7dff443dd395e"
   }
  }
 },
 "nbformat": 4,
 "nbformat_minor": 2
}
