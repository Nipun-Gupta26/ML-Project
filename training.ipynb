{
 "cells": [
  {
   "cell_type": "code",
   "execution_count": null,
   "metadata": {},
   "outputs": [],
   "source": [
    "import pandas as pd\n",
    "import numpy as np\n",
    "import matplotlib.pyplot as plt\n",
    "import seaborn as sns\n",
    "import plotly.graph_objects as go\n",
    "import plotly.express as px"
   ]
  },
  {
   "cell_type": "code",
   "execution_count": null,
   "metadata": {},
   "outputs": [],
   "source": [
    "df_train = pd.read_csv('./data/train.csv').drop_duplicates()\n",
    "df_test = pd.read_csv('./data/test.csv').drop_duplicates()\n",
    "df_test"
   ]
  },
  {
   "cell_type": "code",
   "execution_count": null,
   "metadata": {},
   "outputs": [],
   "source": [
    "from sklearn.linear_model import LinearRegression\n",
    "from sklearn.model_selection import KFold, cross_val_score, cross_val_predict, GridSearchCV\n",
    "from sklearn.feature_selection import RFE\n",
    "def linearRegression(X_train, Y_train, X_test, Y_test, i):\n",
    "    folds = KFold(n_splits = 5, shuffle = True, random_state = 100)\n",
    "    hyper_params = [{'n_features_to_select': list(range(1, 20))}]\n",
    "\n",
    "    model = LinearRegression()\n",
    "    # model.fit(X_train, Y_train)\n",
    "    print(i)\n",
    "    rfe = RFE(model)\n",
    "\n",
    "    \n",
    "    model_cv = GridSearchCV(estimator=rfe, param_grid=hyper_params, scoring='r2', cv = 5, return_train_score=True, verbose = 1)    \n",
    "    predicted = model_cv.fit(X_train, Y_train).predict(X_test)\n",
    "    # predicted = cross_val_predict(model, X_test, Y_test, cv = folds)\n",
    "\n",
    "    return predicted"
   ]
  },
  {
   "cell_type": "code",
   "execution_count": null,
   "metadata": {},
   "outputs": [],
   "source": [
    "from sklearn.metrics import precision_score\n",
    "X_train = df_train.drop(columns = ['results_positionOrder'])\n",
    "Y_train = df_train['results_positionOrder']\n",
    "\n",
    "score = 0\n",
    "for i in df_test['raceId'].unique():\n",
    "    X_test = df_test[df_test['raceId'] == i].drop(columns = ['results_positionOrder'])\n",
    "    Y_test = df_test[df_test['raceId'] == i]['results_positionOrder']\n",
    "\n",
    "    prediction_df = pd.DataFrame(linearRegression(X_train, Y_train, X_test, Y_test, i), columns = ['results'])\n",
    "    prediction_df['podium'] = Y_test.reset_index(drop = True)\n",
    "    prediction_df['actual'] = prediction_df.podium.map(lambda x: 1 if x == 1 else 0)\n",
    "    prediction_df.sort_values('results', ascending = True, inplace = True)\n",
    "    prediction_df.reset_index(inplace = True, drop = True)\n",
    "    prediction_df['predicted'] = prediction_df.index\n",
    "    prediction_df['predicted'] = prediction_df.predicted.map(lambda x: 1 if x == 0 else 0)\n",
    "\n",
    "    score += precision_score(prediction_df.actual, prediction_df.predicted)\n",
    "modelScore = score / df_test['raceId'].nunique()\n",
    "modelScore\n"
   ]
  }
 ],
 "metadata": {
  "kernelspec": {
   "display_name": "Python 3.9.0 64-bit",
   "language": "python",
   "name": "python3"
  },
  "language_info": {
   "codemirror_mode": {
    "name": "ipython",
    "version": 3
   },
   "file_extension": ".py",
   "mimetype": "text/x-python",
   "name": "python",
   "nbconvert_exporter": "python",
   "pygments_lexer": "ipython3",
   "version": "3.9.0"
  },
  "orig_nbformat": 4,
  "vscode": {
   "interpreter": {
    "hash": "aee8b7b246df8f9039afb4144a1f6fd8d2ca17a180786b69acc140d282b71a49"
   }
  }
 },
 "nbformat": 4,
 "nbformat_minor": 2
}
