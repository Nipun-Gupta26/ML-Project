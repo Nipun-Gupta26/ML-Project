{
 "cells": [
  {
   "cell_type": "code",
   "execution_count": 1,
   "metadata": {},
   "outputs": [],
   "source": [
    "import pandas as pd\n",
    "import numpy as np\n",
    "from sklearn.metrics import accuracy_score, precision_score, recall_score, f1_score\n",
    "from sklearn.linear_model import LinearRegression, LogisticRegression\n",
    "from sklearn.tree import DecisionTreeRegressor, DecisionTreeClassifier\n",
    "from sklearn.ensemble import RandomForestRegressor, RandomForestClassifier\n",
    "from sklearn.naive_bayes import GaussianNB\n",
    "from sklearn.svm import SVC, SVR\n",
    "from sklearn.neural_network import MLPRegressor, MLPClassifier\n",
    "from sklearn.ensemble import BaggingRegressor, BaggingClassifier, GradientBoostingClassifier, GradientBoostingRegressor"
   ]
  },
  {
   "cell_type": "code",
   "execution_count": 2,
   "metadata": {},
   "outputs": [],
   "source": [
    "df_train = pd.read_csv('./data_new/train_pre.csv').drop_duplicates()\n",
    "df_test = pd.read_csv('./data_new/test_pre.csv').drop_duplicates()"
   ]
  },
  {
   "cell_type": "code",
   "execution_count": 3,
   "metadata": {},
   "outputs": [
    {
     "data": {
      "text/plain": [
       "Index(['raceId', 'year', 'circuitId', 'weather_warm', 'weather_cold',\n",
       "       'weather_dry', 'weather_wet', 'weather_cloudy', 'driverId',\n",
       "       'constructorId', 'grid', 'results_positionOrder', 'circuit_country',\n",
       "       'constructor_wins', 'constructor_nationality', 'driver_nationality',\n",
       "       'driver_wins', 'driver_age', 'results_points'],\n",
       "      dtype='object')"
      ]
     },
     "execution_count": 3,
     "metadata": {},
     "output_type": "execute_result"
    }
   ],
   "source": [
    "df_train.columns"
   ]
  },
  {
   "cell_type": "code",
   "execution_count": 4,
   "metadata": {},
   "outputs": [
    {
     "data": {
      "text/plain": [
       "20    4976\n",
       "4      980\n",
       "3      978\n",
       "11     978\n",
       "8      977\n",
       "5      977\n",
       "7      977\n",
       "6      977\n",
       "9      976\n",
       "2      976\n",
       "12     975\n",
       "10     975\n",
       "1      972\n",
       "13     971\n",
       "14     967\n",
       "15     965\n",
       "16     953\n",
       "17     946\n",
       "18     932\n",
       "19     910\n",
       "Name: results_positionOrder, dtype: int64"
      ]
     },
     "execution_count": 4,
     "metadata": {},
     "output_type": "execute_result"
    }
   ],
   "source": [
    "df_train['results_positionOrder'].value_counts()"
   ]
  },
  {
   "cell_type": "markdown",
   "metadata": {},
   "source": [
    "## Regression"
   ]
  },
  {
   "cell_type": "markdown",
   "metadata": {},
   "source": [
    "### Linear Regression"
   ]
  },
  {
   "cell_type": "code",
   "execution_count": 5,
   "metadata": {},
   "outputs": [],
   "source": [
    "def linearRegression(X_train, Y_train):\n",
    "    model = LinearRegression()\n",
    "    model.fit(X_train, Y_train)        \n",
    "\n",
    "    return model"
   ]
  },
  {
   "cell_type": "code",
   "execution_count": 6,
   "metadata": {},
   "outputs": [],
   "source": [
    "def get_Linear_Regression_Score():\n",
    "    X_train = df_train.drop(columns = ['results_points'])\n",
    "    Y_train = df_train['results_points']\n",
    "    model = linearRegression(X_train.drop(columns = ['results_positionOrder']), Y_train)\n",
    "\n",
    "    precision = 0\n",
    "    accuracy = 0\n",
    "    recall = 0\n",
    "    f1 = 0\n",
    "    for i in df_test['raceId'].unique():\n",
    "        X_test = df_test[df_test['raceId'] == i].drop(columns = ['results_points'])\n",
    "        Y_test = df_test[df_test['raceId'] == i]['results_points'].to_numpy()\n",
    "\n",
    "        predicted_scores = model.predict(X_test.drop(columns = ['results_positionOrder']))\n",
    "        predicted_podium = np.argsort(predicted_scores)[::-1]\n",
    "        actual_podium = X_test['results_positionOrder'].to_numpy()\n",
    "        actual_podium = np.argsort(actual_podium)\n",
    "        # print(predicted_scores)\n",
    "\n",
    "        predictions = np.zeros(len(Y_test))\n",
    "        # predictions[predicted_podium] = 1\n",
    "        actual = np.zeros(len(Y_test))\n",
    "        # actual[actual_podium] = 1\n",
    "\n",
    "        for i in range(3):\n",
    "            predictions[predicted_podium[i]] = 1\n",
    "            actual[actual_podium[i]] = 1\n",
    "\n",
    "        precision += precision_score(actual, predictions)\n",
    "        accuracy += accuracy_score(actual, predictions)\n",
    "        recall += recall_score(actual, predictions)\n",
    "        f1 += f1_score(actual, predictions)   \n",
    "\n",
    "\n",
    "    return precision/len(df_test['raceId'].unique()), accuracy/len(df_test['raceId'].unique()), recall/len(df_test['raceId'].unique()), f1/len(df_test['raceId'].unique())\n"
   ]
  },
  {
   "cell_type": "markdown",
   "metadata": {},
   "source": [
    "### Decision Tree regressor"
   ]
  },
  {
   "cell_type": "code",
   "execution_count": 7,
   "metadata": {},
   "outputs": [],
   "source": [
    "def DTregressor(X_train, Y_train):\n",
    "    model = DecisionTreeRegressor()\n",
    "    model.fit(X_train, Y_train)\n",
    "\n",
    "    return model"
   ]
  },
  {
   "cell_type": "code",
   "execution_count": 8,
   "metadata": {},
   "outputs": [],
   "source": [
    "def get_DT_Regression_Score():\n",
    "    X_train = df_train.drop(columns = ['results_points'])\n",
    "    Y_train = df_train['results_points']\n",
    "    model = DTregressor(X_train.drop(columns = ['results_positionOrder']), Y_train)\n",
    "\n",
    "    precision = 0\n",
    "    accuracy = 0\n",
    "    recall = 0\n",
    "    f1 = 0\n",
    "    for i in df_test['raceId'].unique():\n",
    "        X_test = df_test[df_test['raceId'] == i].drop(columns = ['results_points'])\n",
    "        Y_test = df_test[df_test['raceId'] == i]['results_points'].to_numpy()\n",
    "\n",
    "        predicted_scores = model.predict(X_test.drop(columns = ['results_positionOrder']))\n",
    "        predicted_podium = np.argsort(predicted_scores)[::-1]\n",
    "        actual_podium = X_test['results_positionOrder'].to_numpy()\n",
    "        actual_podium = np.argsort(actual_podium)\n",
    "        # print(predicted_scores)\n",
    "\n",
    "        predictions = np.zeros(len(Y_test))\n",
    "        # predictions[predicted_podium] = 1\n",
    "        actual = np.zeros(len(Y_test))\n",
    "        # actual[actual_podium] = 1\n",
    "\n",
    "        for i in range(3):\n",
    "            predictions[predicted_podium[i]] = 1\n",
    "            actual[actual_podium[i]] = 1\n",
    "\n",
    "        precision += precision_score(actual, predictions)\n",
    "        accuracy += accuracy_score(actual, predictions)\n",
    "        recall += recall_score(actual, predictions)\n",
    "        f1 += f1_score(actual, predictions)   \n",
    "        # print(confusion_matrix(actual, predictions))\n",
    "\n",
    "    return precision/len(df_test['raceId'].unique()), accuracy/len(df_test['raceId'].unique()), recall/len(df_test['raceId'].unique()), f1/len(df_test['raceId'].unique())"
   ]
  },
  {
   "cell_type": "markdown",
   "metadata": {},
   "source": [
    "### Random Forest regressor"
   ]
  },
  {
   "cell_type": "code",
   "execution_count": 9,
   "metadata": {},
   "outputs": [],
   "source": [
    "def RFregressor(X_train, Y_train):\n",
    "    model = RandomForestRegressor()\n",
    "    model.fit(X_train, Y_train)\n",
    "\n",
    "    return model"
   ]
  },
  {
   "cell_type": "code",
   "execution_count": 10,
   "metadata": {},
   "outputs": [],
   "source": [
    "def get_RF_Regression_Score():\n",
    "    X_train = df_train.drop(columns = ['results_points'])\n",
    "    Y_train = df_train['results_points']\n",
    "    model = RFregressor(X_train.drop(columns = ['results_positionOrder']), Y_train)\n",
    "\n",
    "    precision = 0\n",
    "    accuracy = 0\n",
    "    recall = 0\n",
    "    f1 = 0\n",
    "    for i in df_test['raceId'].unique():\n",
    "        X_test = df_test[df_test['raceId'] == i].drop(columns = ['results_points'])\n",
    "        Y_test = df_test[df_test['raceId'] == i]['results_points'].to_numpy()\n",
    "\n",
    "        predicted_scores = model.predict(X_test.drop(columns = ['results_positionOrder']))\n",
    "        predicted_podium = np.argsort(predicted_scores)[::-1]\n",
    "        actual_podium = X_test['results_positionOrder'].to_numpy()\n",
    "        actual_podium = np.argsort(actual_podium)\n",
    "        # print(predicted_scores)\n",
    "\n",
    "        predictions = np.zeros(len(Y_test))\n",
    "        # predictions[predicted_podium] = 1\n",
    "        actual = np.zeros(len(Y_test))\n",
    "        # actual[actual_podium] = 1\n",
    "\n",
    "        for i in range(3):\n",
    "            predictions[predicted_podium[i]] = 1\n",
    "            actual[actual_podium[i]] = 1\n",
    "\n",
    "        precision += precision_score(actual, predictions)\n",
    "        accuracy += accuracy_score(actual, predictions)\n",
    "        recall += recall_score(actual, predictions)\n",
    "        f1 += f1_score(actual, predictions)   \n",
    "\n",
    "    return precision/len(df_test['raceId'].unique()), accuracy/len(df_test['raceId'].unique()), recall/len(df_test['raceId'].unique()), f1/len(df_test['raceId'].unique())"
   ]
  },
  {
   "cell_type": "markdown",
   "metadata": {},
   "source": [
    "### Support Vector regressor"
   ]
  },
  {
   "cell_type": "code",
   "execution_count": 11,
   "metadata": {},
   "outputs": [],
   "source": [
    "def SVregressor(X_train, Y_train):\n",
    "    model = SVR()\n",
    "    model.fit(X_train, Y_train)\n",
    "\n",
    "    return model"
   ]
  },
  {
   "cell_type": "code",
   "execution_count": 12,
   "metadata": {},
   "outputs": [],
   "source": [
    "def get_SV_Regression_Score():\n",
    "    X_train = df_train.drop(columns = ['results_points'])\n",
    "    Y_train = df_train['results_points']\n",
    "    model = SVregressor(X_train.drop(columns = ['results_positionOrder']), Y_train)\n",
    "\n",
    "    precision = 0\n",
    "    accuracy = 0\n",
    "    recall = 0\n",
    "    f1 = 0\n",
    "    for i in df_test['raceId'].unique():\n",
    "        X_test = df_test[df_test['raceId'] == i].drop(columns = ['results_points'])\n",
    "        Y_test = df_test[df_test['raceId'] == i]['results_points'].to_numpy()\n",
    "\n",
    "        predicted_scores = model.predict(X_test.drop(columns = ['results_positionOrder']))\n",
    "        predicted_podium = np.argsort(predicted_scores)[::-1]\n",
    "        actual_podium = X_test['results_positionOrder'].to_numpy()\n",
    "        actual_podium = np.argsort(actual_podium)\n",
    "        # print(predicted_scores)\n",
    "\n",
    "        predictions = np.zeros(len(Y_test))\n",
    "        # predictions[predicted_podium] = 1\n",
    "        actual = np.zeros(len(Y_test))\n",
    "        # actual[actual_podium] = 1\n",
    "\n",
    "        for i in range(3):\n",
    "            predictions[predicted_podium[i]] = 1\n",
    "            actual[actual_podium[i]] = 1\n",
    "\n",
    "        precision += precision_score(actual, predictions)\n",
    "        accuracy += accuracy_score(actual, predictions)\n",
    "        recall += recall_score(actual, predictions)\n",
    "        f1 += f1_score(actual, predictions)   \n",
    "\n",
    "    return precision/len(df_test['raceId'].unique()), accuracy/len(df_test['raceId'].unique()), recall/len(df_test['raceId'].unique()), f1/len(df_test['raceId'].unique())"
   ]
  },
  {
   "cell_type": "markdown",
   "metadata": {},
   "source": [
    "### Multilayer Perceptron regressor"
   ]
  },
  {
   "cell_type": "code",
   "execution_count": 13,
   "metadata": {},
   "outputs": [],
   "source": [
    "def MLPregressor(X_train, Y_train):\n",
    "    model = MLPRegressor()\n",
    "    model.fit(X_train, Y_train)\n",
    "\n",
    "    return model"
   ]
  },
  {
   "cell_type": "code",
   "execution_count": 14,
   "metadata": {},
   "outputs": [],
   "source": [
    "def get_MLP_Regression_Score():\n",
    "    X_train = df_train.drop(columns = ['results_points'])\n",
    "    Y_train = df_train['results_points']\n",
    "    model = MLPregressor(X_train.drop(columns = ['results_positionOrder']), Y_train)\n",
    "\n",
    "    precision = 0\n",
    "    accuracy = 0\n",
    "    recall = 0\n",
    "    f1 = 0\n",
    "    for i in df_test['raceId'].unique():\n",
    "        X_test = df_test[df_test['raceId'] == i].drop(columns = ['results_points'])\n",
    "        Y_test = df_test[df_test['raceId'] == i]['results_points'].to_numpy()\n",
    "\n",
    "        predicted_scores = model.predict(X_test.drop(columns = ['results_positionOrder']))\n",
    "        predicted_podium = np.argsort(predicted_scores)[::-1]\n",
    "        actual_podium = X_test['results_positionOrder'].to_numpy()\n",
    "        actual_podium = np.argsort(actual_podium)\n",
    "        # print(predicted_scores)\n",
    "\n",
    "        predictions = np.zeros(len(Y_test))\n",
    "        # predictions[predicted_podium] = 1\n",
    "        actual = np.zeros(len(Y_test))\n",
    "        # actual[actual_podium] = 1\n",
    "\n",
    "        for i in range(3):\n",
    "            predictions[predicted_podium[i]] = 1\n",
    "            actual[actual_podium[i]] = 1\n",
    "\n",
    "        precision += precision_score(actual, predictions)\n",
    "        accuracy += accuracy_score(actual, predictions)\n",
    "        recall += recall_score(actual, predictions)\n",
    "        f1 += f1_score(actual, predictions)   \n",
    "\n",
    "    return precision/len(df_test['raceId'].unique()), accuracy/len(df_test['raceId'].unique()), recall/len(df_test['raceId'].unique()), f1/len(df_test['raceId'].unique())"
   ]
  },
  {
   "cell_type": "markdown",
   "metadata": {},
   "source": [
    "### Bagging regressor"
   ]
  },
  {
   "cell_type": "code",
   "execution_count": 15,
   "metadata": {},
   "outputs": [],
   "source": [
    "def Baggingregressor(X_train, Y_train):\n",
    "    model = BaggingRegressor()\n",
    "    model.fit(X_train, Y_train)\n",
    "\n",
    "    return model"
   ]
  },
  {
   "cell_type": "code",
   "execution_count": 16,
   "metadata": {},
   "outputs": [],
   "source": [
    "def get_Bagging_Regression_Score():\n",
    "    X_train = df_train.drop(columns = ['results_points'])\n",
    "    Y_train = df_train['results_points']\n",
    "    model = Baggingregressor(X_train.drop(columns = ['results_positionOrder']), Y_train)\n",
    "\n",
    "    precision = 0\n",
    "    accuracy = 0\n",
    "    recall = 0\n",
    "    f1 = 0\n",
    "    for i in df_test['raceId'].unique():\n",
    "        X_test = df_test[df_test['raceId'] == i].drop(columns = ['results_points'])\n",
    "        Y_test = df_test[df_test['raceId'] == i]['results_points'].to_numpy()\n",
    "\n",
    "        predicted_scores = model.predict(X_test.drop(columns = ['results_positionOrder']))\n",
    "        predicted_podium = np.argsort(predicted_scores)[::-1]\n",
    "        actual_podium = X_test['results_positionOrder'].to_numpy()\n",
    "        actual_podium = np.argsort(actual_podium)\n",
    "        # print(predicted_scores)\n",
    "\n",
    "        predictions = np.zeros(len(Y_test))\n",
    "        # predictions[predicted_podium] = 1\n",
    "        actual = np.zeros(len(Y_test))\n",
    "        # actual[actual_podium] = 1\n",
    "\n",
    "        for i in range(3):\n",
    "            predictions[predicted_podium[i]] = 1\n",
    "            actual[actual_podium[i]] = 1\n",
    "\n",
    "        precision += precision_score(actual, predictions)\n",
    "        accuracy += accuracy_score(actual, predictions)\n",
    "        recall += recall_score(actual, predictions)\n",
    "        f1 += f1_score(actual, predictions)   \n",
    "\n",
    "    return precision/len(df_test['raceId'].unique()), accuracy/len(df_test['raceId'].unique()), recall/len(df_test['raceId'].unique()), f1/len(df_test['raceId'].unique())"
   ]
  },
  {
   "cell_type": "markdown",
   "metadata": {},
   "source": [
    "### Gradient Boosting regressor"
   ]
  },
  {
   "cell_type": "code",
   "execution_count": 17,
   "metadata": {},
   "outputs": [],
   "source": [
    "def GradientBoostingregressor(X_train, Y_train):\n",
    "    model = GradientBoostingRegressor()\n",
    "    model.fit(X_train, Y_train)\n",
    "\n",
    "    return model"
   ]
  },
  {
   "cell_type": "code",
   "execution_count": 18,
   "metadata": {},
   "outputs": [],
   "source": [
    "def get_Gradient_Boosting_Regression_Score():\n",
    "    X_train = df_train.drop(columns = ['results_points'])\n",
    "    Y_train = df_train['results_points']\n",
    "    model = GradientBoostingregressor(X_train.drop(columns = ['results_positionOrder']), Y_train)\n",
    "\n",
    "    precision = 0\n",
    "    accuracy = 0\n",
    "    recall = 0\n",
    "    f1 = 0\n",
    "    for i in df_test['raceId'].unique():\n",
    "        X_test = df_test[df_test['raceId'] == i].drop(columns = ['results_points'])\n",
    "        Y_test = df_test[df_test['raceId'] == i]['results_points'].to_numpy()\n",
    "\n",
    "        predicted_scores = model.predict(X_test.drop(columns = ['results_positionOrder']))\n",
    "        predicted_podium = np.argsort(predicted_scores)[::-1]\n",
    "        actual_podium = X_test['results_positionOrder'].to_numpy()\n",
    "        actual_podium = np.argsort(actual_podium)\n",
    "        # print(predicted_scores)\n",
    "\n",
    "        predictions = np.zeros(len(Y_test))\n",
    "        # predictions[predicted_podium] = 1\n",
    "        actual = np.zeros(len(Y_test))\n",
    "        # actual[actual_podium] = 1\n",
    "\n",
    "        for i in range(3):\n",
    "            predictions[predicted_podium[i]] = 1\n",
    "            actual[actual_podium[i]] = 1\n",
    "\n",
    "        precision += precision_score(actual, predictions)\n",
    "        accuracy += accuracy_score(actual, predictions)\n",
    "        recall += recall_score(actual, predictions)\n",
    "        f1 += f1_score(actual, predictions)   \n",
    "\n",
    "    return precision/len(df_test['raceId'].unique()), accuracy/len(df_test['raceId'].unique()), recall/len(df_test['raceId'].unique()), f1/len(df_test['raceId'].unique())"
   ]
  },
  {
   "cell_type": "markdown",
   "metadata": {},
   "source": [
    "## Compiling all regressions"
   ]
  },
  {
   "cell_type": "code",
   "execution_count": 19,
   "metadata": {},
   "outputs": [],
   "source": [
    "regression_scores = {}\n",
    "regression_scores['Linear Regression'] = get_Linear_Regression_Score()\n",
    "regression_scores['DT Regression'] = get_DT_Regression_Score()\n",
    "regression_scores['RF Regression'] = get_RF_Regression_Score()\n",
    "regression_scores['SV Regression'] = get_SV_Regression_Score()\n",
    "regression_scores['MLP Regression'] = get_MLP_Regression_Score()\n",
    "regression_scores['Bagging Regression'] = get_Bagging_Regression_Score()\n",
    "regression_scores['Gradient Boosting Regression'] = get_Gradient_Boosting_Regression_Score()"
   ]
  },
  {
   "cell_type": "code",
   "execution_count": 20,
   "metadata": {},
   "outputs": [
    {
     "data": {
      "text/html": [
       "<div>\n",
       "<style scoped>\n",
       "    .dataframe tbody tr th:only-of-type {\n",
       "        vertical-align: middle;\n",
       "    }\n",
       "\n",
       "    .dataframe tbody tr th {\n",
       "        vertical-align: top;\n",
       "    }\n",
       "\n",
       "    .dataframe thead th {\n",
       "        text-align: right;\n",
       "    }\n",
       "</style>\n",
       "<table border=\"1\" class=\"dataframe\">\n",
       "  <thead>\n",
       "    <tr style=\"text-align: right;\">\n",
       "      <th></th>\n",
       "      <th>Linear Regression</th>\n",
       "      <th>DT Regression</th>\n",
       "      <th>RF Regression</th>\n",
       "      <th>SV Regression</th>\n",
       "      <th>MLP Regression</th>\n",
       "      <th>Bagging Regression</th>\n",
       "      <th>Gradient Boosting Regression</th>\n",
       "    </tr>\n",
       "  </thead>\n",
       "  <tbody>\n",
       "    <tr>\n",
       "      <th>Precision</th>\n",
       "      <td>0.563333</td>\n",
       "      <td>0.466667</td>\n",
       "      <td>0.590000</td>\n",
       "      <td>0.553333</td>\n",
       "      <td>0.58000</td>\n",
       "      <td>0.560000</td>\n",
       "      <td>0.640000</td>\n",
       "    </tr>\n",
       "    <tr>\n",
       "      <th>Accuracy</th>\n",
       "      <td>0.887122</td>\n",
       "      <td>0.862655</td>\n",
       "      <td>0.894624</td>\n",
       "      <td>0.884472</td>\n",
       "      <td>0.89223</td>\n",
       "      <td>0.886713</td>\n",
       "      <td>0.909106</td>\n",
       "    </tr>\n",
       "    <tr>\n",
       "      <th>Recall</th>\n",
       "      <td>0.563333</td>\n",
       "      <td>0.466667</td>\n",
       "      <td>0.590000</td>\n",
       "      <td>0.553333</td>\n",
       "      <td>0.58000</td>\n",
       "      <td>0.560000</td>\n",
       "      <td>0.640000</td>\n",
       "    </tr>\n",
       "    <tr>\n",
       "      <th>F1</th>\n",
       "      <td>0.563333</td>\n",
       "      <td>0.466667</td>\n",
       "      <td>0.590000</td>\n",
       "      <td>0.553333</td>\n",
       "      <td>0.58000</td>\n",
       "      <td>0.560000</td>\n",
       "      <td>0.640000</td>\n",
       "    </tr>\n",
       "  </tbody>\n",
       "</table>\n",
       "</div>"
      ],
      "text/plain": [
       "           Linear Regression  DT Regression  RF Regression  SV Regression  \\\n",
       "Precision           0.563333       0.466667       0.590000       0.553333   \n",
       "Accuracy            0.887122       0.862655       0.894624       0.884472   \n",
       "Recall              0.563333       0.466667       0.590000       0.553333   \n",
       "F1                  0.563333       0.466667       0.590000       0.553333   \n",
       "\n",
       "           MLP Regression  Bagging Regression  Gradient Boosting Regression  \n",
       "Precision         0.58000            0.560000                      0.640000  \n",
       "Accuracy          0.89223            0.886713                      0.909106  \n",
       "Recall            0.58000            0.560000                      0.640000  \n",
       "F1                0.58000            0.560000                      0.640000  "
      ]
     },
     "execution_count": 20,
     "metadata": {},
     "output_type": "execute_result"
    }
   ],
   "source": [
    "pd.DataFrame(regression_scores, index = ['Precision', 'Accuracy', 'Recall', 'F1'])"
   ]
  },
  {
   "cell_type": "markdown",
   "metadata": {},
   "source": [
    "## Classification"
   ]
  },
  {
   "cell_type": "code",
   "execution_count": 21,
   "metadata": {},
   "outputs": [],
   "source": [
    "def get_score(pred, actual, margin):\n",
    "    score = 0\n",
    "    for i in range(len(pred)):\n",
    "        if pred[i] == actual[i]:\n",
    "            score += 1\n",
    "        elif abs(pred[i] - actual[i]) <= margin:\n",
    "            score += 1\n",
    "    return score/len(pred)"
   ]
  },
  {
   "cell_type": "markdown",
   "metadata": {},
   "source": [
    "### Logistic Regression"
   ]
  },
  {
   "cell_type": "code",
   "execution_count": 22,
   "metadata": {},
   "outputs": [],
   "source": [
    "def logisticRegression(X_train, Y_train):\n",
    "    model = LogisticRegression(max_iter=2500, multi_class = 'ovr')\n",
    "    model.fit(X_train, Y_train)\n",
    "\n",
    "    return model"
   ]
  },
  {
   "cell_type": "code",
   "execution_count": 23,
   "metadata": {},
   "outputs": [],
   "source": [
    "def get_Logistic_Regression_Score():\n",
    "    X_train = df_train\n",
    "    Y_train = df_train['results_positionOrder']\n",
    "    model = logisticRegression(X_train.drop(columns = ['results_positionOrder']), Y_train)\n",
    "\n",
    "    score = 0\n",
    "    for i in df_test['raceId'].unique():\n",
    "        X_test = df_test[df_test['raceId'] == i]\n",
    "        Y_test = df_test[df_test['raceId'] == i]['results_positionOrder']\n",
    "\n",
    "        prediction = model.predict(X_test.drop(columns = ['results_positionOrder']))\n",
    "        actual = Y_test.to_numpy()\n",
    "        score += get_score(prediction, actual, 3)\n",
    "\n",
    "    # return precision/len(df_test['raceId'].unique()), accuracy/len(df_test['raceId'].unique()), recall/len(df_test['raceId'].unique()), f1/len(df_test['raceId'].unique())\n",
    "    return score/len(df_test['raceId'].unique())"
   ]
  },
  {
   "cell_type": "markdown",
   "metadata": {},
   "source": [
    "### Naive Bayes Classifier"
   ]
  },
  {
   "cell_type": "code",
   "execution_count": 24,
   "metadata": {},
   "outputs": [],
   "source": [
    "def gaussianNB(X_train, Y_train):\n",
    "    model = GaussianNB()\n",
    "    model.fit(X_train, Y_train)\n",
    "\n",
    "    return model"
   ]
  },
  {
   "cell_type": "code",
   "execution_count": 25,
   "metadata": {},
   "outputs": [],
   "source": [
    "def get_Gaussian_NB_Score():\n",
    "    X_train = df_train\n",
    "    Y_train = df_train['results_positionOrder']\n",
    "    model = gaussianNB(X_train.drop(columns = ['results_positionOrder']), Y_train)\n",
    "\n",
    "    score = 0\n",
    "    for i in df_test['raceId'].unique():\n",
    "        X_test = df_test[df_test['raceId'] == i]\n",
    "        Y_test = df_test[df_test['raceId'] == i]['results_positionOrder']\n",
    "\n",
    "        prediction = model.predict(X_test.drop(columns = ['results_positionOrder']))\n",
    "        actual = Y_test.to_numpy()\n",
    "        score += get_score(prediction, actual, 3)\n",
    "\n",
    "    # return precision/len(df_test['raceId'].unique()), accuracy/len(df_test['raceId'].unique()), recall/len(df_test['raceId'].unique()), f1/len(df_test['raceId'].unique())\n",
    "    return score/len(df_test['raceId'].unique())"
   ]
  },
  {
   "cell_type": "markdown",
   "metadata": {},
   "source": [
    "### Decision Tree Classifier"
   ]
  },
  {
   "cell_type": "code",
   "execution_count": 26,
   "metadata": {},
   "outputs": [],
   "source": [
    "def DT_classifier(X_train, Y_train):\n",
    "    model = DecisionTreeClassifier()\n",
    "    model.fit(X_train, Y_train)\n",
    "\n",
    "    return model"
   ]
  },
  {
   "cell_type": "code",
   "execution_count": 27,
   "metadata": {},
   "outputs": [],
   "source": [
    "def get_DT_classifier_Score():\n",
    "    X_train = df_train\n",
    "    Y_train = df_train['results_positionOrder']\n",
    "    model = DT_classifier(X_train.drop(columns = ['results_positionOrder']), Y_train)\n",
    "\n",
    "    score = 0\n",
    "    for i in df_test['raceId'].unique():\n",
    "        X_test = df_test[df_test['raceId'] == i]\n",
    "        Y_test = df_test[df_test['raceId'] == i]['results_positionOrder']\n",
    "\n",
    "        prediction = model.predict(X_test.drop(columns = ['results_positionOrder']))\n",
    "        actual = Y_test.to_numpy()\n",
    "        score += get_score(prediction, actual, 3)\n",
    "\n",
    "    # return precision/len(df_test['raceId'].unique()), accuracy/len(df_test['raceId'].unique()), recall/len(df_test['raceId'].unique()), f1/len(df_test['raceId'].unique())\n",
    "    return score/len(df_test['raceId'].unique())"
   ]
  },
  {
   "cell_type": "markdown",
   "metadata": {},
   "source": [
    "### Random Forest Classifier"
   ]
  },
  {
   "cell_type": "code",
   "execution_count": 28,
   "metadata": {},
   "outputs": [],
   "source": [
    "def RF_classifier(X_train, Y_train):\n",
    "    model = RandomForestClassifier()\n",
    "    model.fit(X_train, Y_train)\n",
    "\n",
    "    return model"
   ]
  },
  {
   "cell_type": "code",
   "execution_count": 29,
   "metadata": {},
   "outputs": [],
   "source": [
    "def get_RF_classifier_Score():\n",
    "    X_train = df_train\n",
    "    Y_train = df_train['results_positionOrder']\n",
    "    model = RF_classifier(X_train.drop(columns = ['results_positionOrder']), Y_train)\n",
    "\n",
    "    score = 0\n",
    "    for i in df_test['raceId'].unique():\n",
    "        X_test = df_test[df_test['raceId'] == i]\n",
    "        Y_test = df_test[df_test['raceId'] == i]['results_positionOrder']\n",
    "\n",
    "        prediction = model.predict(X_test.drop(columns = ['results_positionOrder']))\n",
    "        actual = Y_test.to_numpy()\n",
    "        score += get_score(prediction, actual, 3)\n",
    "\n",
    "    # return precision/len(df_test['raceId'].unique()), accuracy/len(df_test['raceId'].unique()), recall/len(df_test['raceId'].unique()), f1/len(df_test['raceId'].unique())\n",
    "    return score/len(df_test['raceId'].unique())"
   ]
  },
  {
   "cell_type": "markdown",
   "metadata": {},
   "source": [
    "### Support Vector Classifier"
   ]
  },
  {
   "cell_type": "code",
   "execution_count": 30,
   "metadata": {},
   "outputs": [],
   "source": [
    "def SV_classifier(X_train, Y_train):\n",
    "    model = SVC()\n",
    "    model.fit(X_train, Y_train)\n",
    "\n",
    "    return model"
   ]
  },
  {
   "cell_type": "code",
   "execution_count": 31,
   "metadata": {},
   "outputs": [],
   "source": [
    "def get_SV_classifier_Score():\n",
    "    X_train = df_train\n",
    "    Y_train = df_train['results_positionOrder']\n",
    "    model = SV_classifier(X_train.drop(columns = ['results_positionOrder']), Y_train)\n",
    "\n",
    "    score = 0\n",
    "    for i in df_test['raceId'].unique():\n",
    "        X_test = df_test[df_test['raceId'] == i]\n",
    "        Y_test = df_test[df_test['raceId'] == i]['results_positionOrder']\n",
    "\n",
    "        prediction = model.predict(X_test.drop(columns = ['results_positionOrder']))\n",
    "        actual = Y_test.to_numpy()\n",
    "        score += get_score(prediction, actual, 3)\n",
    "\n",
    "    # return precision/len(df_test['raceId'].unique()), accuracy/len(df_test['raceId'].unique()), recall/len(df_test['raceId'].unique()), f1/len(df_test['raceId'].unique())\n",
    "    return score/len(df_test['raceId'].unique())"
   ]
  },
  {
   "cell_type": "markdown",
   "metadata": {},
   "source": [
    "### Multilayer Perceptron Classifier"
   ]
  },
  {
   "cell_type": "code",
   "execution_count": 32,
   "metadata": {},
   "outputs": [],
   "source": [
    "def MLP_classifier(X_train, Y_train):\n",
    "    model = MLPClassifier()\n",
    "    model.fit(X_train, Y_train)\n",
    "\n",
    "    return model"
   ]
  },
  {
   "cell_type": "code",
   "execution_count": 33,
   "metadata": {},
   "outputs": [],
   "source": [
    "def get_MLP_classifier_Score():\n",
    "    X_train = df_train\n",
    "    Y_train = df_train['results_positionOrder']\n",
    "    model = MLP_classifier(X_train.drop(columns = ['results_positionOrder']), Y_train)\n",
    "\n",
    "    score = 0\n",
    "    for i in df_test['raceId'].unique():\n",
    "        X_test = df_test[df_test['raceId'] == i]\n",
    "        Y_test = df_test[df_test['raceId'] == i]['results_positionOrder']\n",
    "\n",
    "        prediction = model.predict(X_test.drop(columns = ['results_positionOrder']))\n",
    "        actual = Y_test.to_numpy()\n",
    "        score += get_score(prediction, actual, 3)\n",
    "\n",
    "    # return precision/len(df_test['raceId'].unique()), accuracy/len(df_test['raceId'].unique()), recall/len(df_test['raceId'].unique()), f1/len(df_test['raceId'].unique())\n",
    "    return score/len(df_test['raceId'].unique())"
   ]
  },
  {
   "cell_type": "markdown",
   "metadata": {},
   "source": [
    "### Bagging Classifier"
   ]
  },
  {
   "cell_type": "code",
   "execution_count": 38,
   "metadata": {},
   "outputs": [],
   "source": [
    "def Bagging_classifier(X_train, Y_train):\n",
    "    model = BaggingClassifier()\n",
    "    model.fit(X_train, Y_train)\n",
    "\n",
    "    return model"
   ]
  },
  {
   "cell_type": "code",
   "execution_count": 39,
   "metadata": {},
   "outputs": [],
   "source": [
    "def get_Bagging_classifier_Score():\n",
    "    X_train = df_train\n",
    "    Y_train = df_train['results_positionOrder']\n",
    "    model = Bagging_classifier(X_train.drop(columns = ['results_positionOrder']), Y_train)\n",
    "\n",
    "    score = 0\n",
    "    for i in df_test['raceId'].unique():\n",
    "        X_test = df_test[df_test['raceId'] == i]\n",
    "        Y_test = df_test[df_test['raceId'] == i]['results_positionOrder']\n",
    "\n",
    "        prediction = model.predict(X_test.drop(columns = ['results_positionOrder']))\n",
    "        actual = Y_test.to_numpy()\n",
    "        score += get_score(prediction, actual, 3)\n",
    "\n",
    "    # return precision/len(df_test['raceId'].unique()), accuracy/len(df_test['raceId'].unique()), recall/len(df_test['raceId'].unique()), f1/len(df_test['raceId'].unique())\n",
    "    return score/len(df_test['raceId'].unique())"
   ]
  },
  {
   "cell_type": "markdown",
   "metadata": {},
   "source": [
    "### Gradient Boosting Classifier"
   ]
  },
  {
   "cell_type": "code",
   "execution_count": 40,
   "metadata": {},
   "outputs": [],
   "source": [
    "def Gradient_Boosting_classifier(X_train, Y_train):\n",
    "    model = GradientBoostingClassifier()\n",
    "    model.fit(X_train, Y_train)\n",
    "\n",
    "    return model"
   ]
  },
  {
   "cell_type": "code",
   "execution_count": 41,
   "metadata": {},
   "outputs": [],
   "source": [
    "def get_Gradient_Boosting_classifier_Score():\n",
    "    X_train = df_train\n",
    "    Y_train = df_train['results_positionOrder']\n",
    "    model = Gradient_Boosting_classifier(X_train.drop(columns = ['results_positionOrder']), Y_train)\n",
    "\n",
    "    score = 0\n",
    "    for i in df_test['raceId'].unique():\n",
    "        X_test = df_test[df_test['raceId'] == i]\n",
    "        Y_test = df_test[df_test['raceId'] == i]['results_positionOrder']\n",
    "\n",
    "        prediction = model.predict(X_test.drop(columns = ['results_positionOrder']))\n",
    "        actual = Y_test.to_numpy()\n",
    "        score += get_score(prediction, actual, 3)\n",
    "\n",
    "    # return precision/len(df_test['raceId'].unique()), accuracy/len(df_test['raceId'].unique()), recall/len(df_test['raceId'].unique()), f1/len(df_test['raceId'].unique())\n",
    "    return score/len(df_test['raceId'].unique())"
   ]
  },
  {
   "cell_type": "markdown",
   "metadata": {},
   "source": [
    "## Compiling all classifications"
   ]
  },
  {
   "cell_type": "code",
   "execution_count": 42,
   "metadata": {},
   "outputs": [],
   "source": [
    "classification_scores = {}\n",
    "classification_scores['Logistic Regression'] = get_Logistic_Regression_Score()\n",
    "classification_scores['NB classification'] = get_Gaussian_NB_Score()\n",
    "classification_scores['DT classification'] = get_DT_classifier_Score()\n",
    "classification_scores['RF classification'] = get_RF_classifier_Score()\n",
    "classification_scores['SV classification'] = get_SV_classifier_Score()\n",
    "classification_scores['MLP classification'] = get_MLP_classifier_Score()\n",
    "classification_scores['Bagging classification'] = get_Bagging_classifier_Score()\n",
    "classification_scores['Gradient Boosting classification'] = get_Gradient_Boosting_classifier_Score()"
   ]
  },
  {
   "cell_type": "code",
   "execution_count": 43,
   "metadata": {},
   "outputs": [
    {
     "data": {
      "text/html": [
       "<div>\n",
       "<style scoped>\n",
       "    .dataframe tbody tr th:only-of-type {\n",
       "        vertical-align: middle;\n",
       "    }\n",
       "\n",
       "    .dataframe tbody tr th {\n",
       "        vertical-align: top;\n",
       "    }\n",
       "\n",
       "    .dataframe thead th {\n",
       "        text-align: right;\n",
       "    }\n",
       "</style>\n",
       "<table border=\"1\" class=\"dataframe\">\n",
       "  <thead>\n",
       "    <tr style=\"text-align: right;\">\n",
       "      <th></th>\n",
       "      <th>Logistic Regression</th>\n",
       "      <th>NB classification</th>\n",
       "      <th>DT classification</th>\n",
       "      <th>RF classification</th>\n",
       "      <th>SV classification</th>\n",
       "      <th>MLP classification</th>\n",
       "      <th>Bagging classification</th>\n",
       "      <th>Gradient Boosting classification</th>\n",
       "    </tr>\n",
       "  </thead>\n",
       "  <tbody>\n",
       "    <tr>\n",
       "      <th>score</th>\n",
       "      <td>0.653183</td>\n",
       "      <td>0.646984</td>\n",
       "      <td>0.671507</td>\n",
       "      <td>0.704199</td>\n",
       "      <td>0.291274</td>\n",
       "      <td>0.501531</td>\n",
       "      <td>0.678781</td>\n",
       "      <td>0.664715</td>\n",
       "    </tr>\n",
       "  </tbody>\n",
       "</table>\n",
       "</div>"
      ],
      "text/plain": [
       "       Logistic Regression  NB classification  DT classification  \\\n",
       "score             0.653183           0.646984           0.671507   \n",
       "\n",
       "       RF classification  SV classification  MLP classification  \\\n",
       "score           0.704199           0.291274            0.501531   \n",
       "\n",
       "       Bagging classification  Gradient Boosting classification  \n",
       "score                0.678781                          0.664715  "
      ]
     },
     "execution_count": 43,
     "metadata": {},
     "output_type": "execute_result"
    }
   ],
   "source": [
    "pd.DataFrame(classification_scores, index = ['score'])"
   ]
  },
  {
   "cell_type": "code",
   "execution_count": null,
   "metadata": {},
   "outputs": [],
   "source": []
  }
 ],
 "metadata": {
  "kernelspec": {
   "display_name": "Python 3.10.2 64-bit",
   "language": "python",
   "name": "python3"
  },
  "language_info": {
   "codemirror_mode": {
    "name": "ipython",
    "version": 3
   },
   "file_extension": ".py",
   "mimetype": "text/x-python",
   "name": "python",
   "nbconvert_exporter": "python",
   "pygments_lexer": "ipython3",
   "version": "3.10.2"
  },
  "orig_nbformat": 4,
  "vscode": {
   "interpreter": {
    "hash": "fbc768028c3e6ead51d9a200ddcb2ec858ae62844dcd1994729a8279be9b48f2"
   }
  }
 },
 "nbformat": 4,
 "nbformat_minor": 2
}
