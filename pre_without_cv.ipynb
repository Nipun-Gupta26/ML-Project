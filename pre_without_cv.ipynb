{
 "cells": [
  {
   "cell_type": "code",
   "execution_count": 24,
   "metadata": {},
   "outputs": [],
   "source": [
    "import pandas as pd\n",
    "import numpy as np\n",
    "import matplotlib.pyplot as plt\n",
    "import seaborn as sns\n",
    "import plotly.graph_objects as go\n",
    "import plotly.express as px\n",
    "from sklearn.metrics import accuracy_score, precision_score, recall_score, f1_score, confusion_matrix"
   ]
  },
  {
   "cell_type": "code",
   "execution_count": 25,
   "metadata": {},
   "outputs": [],
   "source": [
    "df_train = pd.read_csv('./data_new/train_pre.csv').drop_duplicates()\n",
    "df_test = pd.read_csv('./data_new/test_pre.csv').drop_duplicates()"
   ]
  },
  {
   "cell_type": "code",
   "execution_count": 26,
   "metadata": {},
   "outputs": [
    {
     "data": {
      "text/plain": [
       "Index(['raceId', 'year', 'circuitId', 'weather_warm', 'weather_cold',\n",
       "       'weather_dry', 'weather_wet', 'weather_cloudy', 'driverId',\n",
       "       'constructorId', 'grid', 'results_positionOrder', 'circuit_country',\n",
       "       'constructor_wins', 'constructor_nationality', 'driver_nationality',\n",
       "       'driver_wins', 'driver_age', 'results_points'],\n",
       "      dtype='object')"
      ]
     },
     "execution_count": 26,
     "metadata": {},
     "output_type": "execute_result"
    }
   ],
   "source": [
    "df_train.columns"
   ]
  },
  {
   "cell_type": "code",
   "execution_count": 27,
   "metadata": {},
   "outputs": [
    {
     "data": {
      "text/plain": [
       "20    4976\n",
       "4      980\n",
       "3      978\n",
       "11     978\n",
       "8      977\n",
       "5      977\n",
       "7      977\n",
       "6      977\n",
       "9      976\n",
       "2      976\n",
       "12     975\n",
       "10     975\n",
       "1      972\n",
       "13     971\n",
       "14     967\n",
       "15     965\n",
       "16     953\n",
       "17     946\n",
       "18     932\n",
       "19     910\n",
       "Name: results_positionOrder, dtype: int64"
      ]
     },
     "execution_count": 27,
     "metadata": {},
     "output_type": "execute_result"
    }
   ],
   "source": [
    "df_train['results_positionOrder'].value_counts()"
   ]
  },
  {
   "cell_type": "markdown",
   "metadata": {},
   "source": [
    "## Regression"
   ]
  },
  {
   "cell_type": "markdown",
   "metadata": {},
   "source": [
    "### Linear Regression"
   ]
  },
  {
   "cell_type": "code",
   "execution_count": 28,
   "metadata": {},
   "outputs": [],
   "source": [
    "from sklearn.linear_model import LinearRegression\n",
    "from sklearn.model_selection import KFold, cross_val_score, cross_val_predict, GridSearchCV\n",
    "from sklearn.feature_selection import RFE\n",
    "def linearRegression(X_train, Y_train):\n",
    "    model = LinearRegression()\n",
    "    model.fit(X_train, Y_train)        \n",
    "\n",
    "    return model"
   ]
  },
  {
   "cell_type": "code",
   "execution_count": 29,
   "metadata": {},
   "outputs": [],
   "source": [
    "def get_Linear_Regression_Score():\n",
    "    # X_train = df_train.drop(columns = ['results_points'])\n",
    "    # Y_train = df_train['results_points']\n",
    "    # model = linearRegression(X_train, Y_train)\n",
    "\n",
    "    # precision = 0\n",
    "    # accuracy = 0\n",
    "    # recall = 0\n",
    "    # f1 = 0\n",
    "    # for i in df_test['raceId'].unique():\n",
    "    #     X_test = df_test[df_test['raceId'] == i].drop(columns = ['results_points'])\n",
    "    #     Y_test = df_test[df_test['raceId'] == i]['results_points'].to_numpy()\n",
    "\n",
    "    #     predicted_scores = model.predict(X_test)\n",
    "    #     predicted_podium = np.argsort(predicted_scores)[::-1]\n",
    "    #     actual_podium = np.argsort(Y_test)[::-1]\n",
    "    #     # print(predicted_scores)\n",
    "\n",
    "    #     predictions = np.zeros(len(Y_test))\n",
    "    #     # predictions[predicted_podium] = 1\n",
    "    #     actual = np.zeros(len(Y_test))\n",
    "    #     # actual[actual_podium] = 1\n",
    "\n",
    "    #     for i in range(len(Y_test)):\n",
    "    #         predictions[predicted_podium[i]] = i + 1\n",
    "    #         actual[actual_podium[i]] = i + 1\n",
    "\n",
    "    #     precision += precision_score(actual, predictions, average = 'micro')\n",
    "    #     accuracy += accuracy_score(actual, predictions)\n",
    "    #     recall += recall_score(actual, predictions, average = 'micro')\n",
    "    #     f1 += f1_score(actual, predictions, average = 'micro')  \n",
    "\n",
    "    X_train = df_train.drop(columns = ['results_points'])\n",
    "    Y_train = df_train['results_points']\n",
    "    model = linearRegression(X_train.drop(columns = ['results_positionOrder']), Y_train)\n",
    "\n",
    "    precision = 0\n",
    "    accuracy = 0\n",
    "    recall = 0\n",
    "    f1 = 0\n",
    "    for i in df_test['raceId'].unique():\n",
    "        X_test = df_test[df_test['raceId'] == i].drop(columns = ['results_points'])\n",
    "        Y_test = df_test[df_test['raceId'] == i]['results_points'].to_numpy()\n",
    "\n",
    "        predicted_scores = model.predict(X_test.drop(columns = ['results_positionOrder']))\n",
    "        predicted_podium = np.argsort(predicted_scores)[::-1]\n",
    "        actual_podium = X_test['results_positionOrder'].to_numpy()\n",
    "        actual_podium = np.argsort(actual_podium)\n",
    "        # print(predicted_scores)\n",
    "\n",
    "        predictions = np.zeros(len(Y_test))\n",
    "        # predictions[predicted_podium] = 1\n",
    "        actual = np.zeros(len(Y_test))\n",
    "        # actual[actual_podium] = 1\n",
    "\n",
    "        for i in range(3):\n",
    "            predictions[predicted_podium[i]] = 1\n",
    "            actual[actual_podium[i]] = 1\n",
    "\n",
    "        precision += precision_score(actual, predictions)\n",
    "        accuracy += accuracy_score(actual, predictions)\n",
    "        recall += recall_score(actual, predictions)\n",
    "        f1 += f1_score(actual, predictions)   \n",
    "\n",
    "\n",
    "    return precision/len(df_test['raceId'].unique()), accuracy/len(df_test['raceId'].unique()), recall/len(df_test['raceId'].unique()), f1/len(df_test['raceId'].unique())\n"
   ]
  },
  {
   "cell_type": "markdown",
   "metadata": {},
   "source": [
    "### Decision Tree regressor"
   ]
  },
  {
   "cell_type": "code",
   "execution_count": 30,
   "metadata": {},
   "outputs": [],
   "source": [
    "from sklearn.tree import DecisionTreeRegressor\n",
    "def DTregressor(X_train, Y_train):\n",
    "    model = DecisionTreeRegressor()\n",
    "    model.fit(X_train, Y_train)\n",
    "\n",
    "    return model"
   ]
  },
  {
   "cell_type": "code",
   "execution_count": 31,
   "metadata": {},
   "outputs": [],
   "source": [
    "from sklearn.metrics import precision_score\n",
    "\n",
    "def get_DT_Regression_Score():\n",
    "    X_train = df_train.drop(columns = ['results_points'])\n",
    "    Y_train = df_train['results_points']\n",
    "    model = DTregressor(X_train.drop(columns = ['results_positionOrder']), Y_train)\n",
    "\n",
    "    precision = 0\n",
    "    accuracy = 0\n",
    "    recall = 0\n",
    "    f1 = 0\n",
    "    for i in df_test['raceId'].unique():\n",
    "        X_test = df_test[df_test['raceId'] == i].drop(columns = ['results_points'])\n",
    "        Y_test = df_test[df_test['raceId'] == i]['results_points'].to_numpy()\n",
    "\n",
    "        predicted_scores = model.predict(X_test.drop(columns = ['results_positionOrder']))\n",
    "        predicted_podium = np.argsort(predicted_scores)[::-1]\n",
    "        actual_podium = X_test['results_positionOrder'].to_numpy()\n",
    "        actual_podium = np.argsort(actual_podium)\n",
    "        # print(predicted_scores)\n",
    "\n",
    "        predictions = np.zeros(len(Y_test))\n",
    "        # predictions[predicted_podium] = 1\n",
    "        actual = np.zeros(len(Y_test))\n",
    "        # actual[actual_podium] = 1\n",
    "\n",
    "        for i in range(3):\n",
    "            predictions[predicted_podium[i]] = 1\n",
    "            actual[actual_podium[i]] = 1\n",
    "\n",
    "        precision += precision_score(actual, predictions)\n",
    "        accuracy += accuracy_score(actual, predictions)\n",
    "        recall += recall_score(actual, predictions)\n",
    "        f1 += f1_score(actual, predictions)   \n",
    "        # print(confusion_matrix(actual, predictions))\n",
    "\n",
    "    return precision/len(df_test['raceId'].unique()), accuracy/len(df_test['raceId'].unique()), recall/len(df_test['raceId'].unique()), f1/len(df_test['raceId'].unique())"
   ]
  },
  {
   "cell_type": "markdown",
   "metadata": {},
   "source": [
    "### Random Forest regressor"
   ]
  },
  {
   "cell_type": "code",
   "execution_count": 32,
   "metadata": {},
   "outputs": [],
   "source": [
    "from sklearn.ensemble import RandomForestRegressor\n",
    "def RFregressor(X_train, Y_train):\n",
    "    model = RandomForestRegressor()\n",
    "    model.fit(X_train, Y_train)\n",
    "\n",
    "    return model"
   ]
  },
  {
   "cell_type": "code",
   "execution_count": 33,
   "metadata": {},
   "outputs": [],
   "source": [
    "from sklearn.metrics import precision_score\n",
    "\n",
    "def get_RF_Regression_Score():\n",
    "    # X_train = df_train.drop(columns = ['results_points'])\n",
    "    # Y_train = df_train['results_points']\n",
    "    # model = RFregressor(X_train, Y_train)\n",
    "\n",
    "    # precision = 0\n",
    "    # accuracy = 0\n",
    "    # recall = 0\n",
    "    # f1 = 0\n",
    "    # for i in df_test['raceId'].unique():\n",
    "    #     X_test = df_test[df_test['raceId'] == i].drop(columns = ['results_points'])\n",
    "    #     Y_test = df_test[df_test['raceId'] == i]['results_points'].to_numpy()\n",
    "\n",
    "    #     predicted_scores = model.predict(X_test)\n",
    "    #     predicted_podium = np.argsort(predicted_scores)[::-1]\n",
    "    #     actual_podium = np.argsort(Y_test)[::-1]\n",
    "    #     # print(predicted_scores)\n",
    "\n",
    "    #     predictions = np.zeros(len(Y_test))\n",
    "    #     # predictions[predicted_podium] = 1\n",
    "    #     actual = np.zeros(len(Y_test))\n",
    "    #     # actual[actual_podium] = 1\n",
    "\n",
    "    #     for i in range(len(Y_test)):\n",
    "    #         predictions[predicted_podium[i]] = i + 1\n",
    "    #         actual[actual_podium[i]] = i + 1\n",
    "\n",
    "    #     precision += precision_score(actual, predictions, average = 'micro')\n",
    "    #     accuracy += accuracy_score(actual, predictions)\n",
    "    #     recall += recall_score(actual, predictions, average = 'micro')\n",
    "    #     f1 += f1_score(actual, predictions, average = 'micro')   \n",
    "    X_train = df_train.drop(columns = ['results_points'])\n",
    "    Y_train = df_train['results_points']\n",
    "    model = RFregressor(X_train.drop(columns = ['results_positionOrder']), Y_train)\n",
    "\n",
    "    precision = 0\n",
    "    accuracy = 0\n",
    "    recall = 0\n",
    "    f1 = 0\n",
    "    for i in df_test['raceId'].unique():\n",
    "        X_test = df_test[df_test['raceId'] == i].drop(columns = ['results_points'])\n",
    "        Y_test = df_test[df_test['raceId'] == i]['results_points'].to_numpy()\n",
    "\n",
    "        predicted_scores = model.predict(X_test.drop(columns = ['results_positionOrder']))\n",
    "        predicted_podium = np.argsort(predicted_scores)[::-1]\n",
    "        actual_podium = X_test['results_positionOrder'].to_numpy()\n",
    "        actual_podium = np.argsort(actual_podium)\n",
    "        # print(predicted_scores)\n",
    "\n",
    "        predictions = np.zeros(len(Y_test))\n",
    "        # predictions[predicted_podium] = 1\n",
    "        actual = np.zeros(len(Y_test))\n",
    "        # actual[actual_podium] = 1\n",
    "\n",
    "        for i in range(3):\n",
    "            predictions[predicted_podium[i]] = 1\n",
    "            actual[actual_podium[i]] = 1\n",
    "\n",
    "        precision += precision_score(actual, predictions)\n",
    "        accuracy += accuracy_score(actual, predictions)\n",
    "        recall += recall_score(actual, predictions)\n",
    "        f1 += f1_score(actual, predictions)   \n",
    "\n",
    "    return precision/len(df_test['raceId'].unique()), accuracy/len(df_test['raceId'].unique()), recall/len(df_test['raceId'].unique()), f1/len(df_test['raceId'].unique())"
   ]
  },
  {
   "cell_type": "markdown",
   "metadata": {},
   "source": [
    "## Compiling all regressions"
   ]
  },
  {
   "cell_type": "code",
   "execution_count": 34,
   "metadata": {},
   "outputs": [],
   "source": [
    "regression_scores = {}\n",
    "regression_scores['Linear Regression'] = get_Linear_Regression_Score()\n",
    "regression_scores['DT Regression'] = get_DT_Regression_Score()\n",
    "regression_scores['RF Regression'] = get_RF_Regression_Score()"
   ]
  },
  {
   "cell_type": "code",
   "execution_count": 35,
   "metadata": {},
   "outputs": [
    {
     "data": {
      "text/html": [
       "<div>\n",
       "<style scoped>\n",
       "    .dataframe tbody tr th:only-of-type {\n",
       "        vertical-align: middle;\n",
       "    }\n",
       "\n",
       "    .dataframe tbody tr th {\n",
       "        vertical-align: top;\n",
       "    }\n",
       "\n",
       "    .dataframe thead th {\n",
       "        text-align: right;\n",
       "    }\n",
       "</style>\n",
       "<table border=\"1\" class=\"dataframe\">\n",
       "  <thead>\n",
       "    <tr style=\"text-align: right;\">\n",
       "      <th></th>\n",
       "      <th>Linear Regression</th>\n",
       "      <th>DT Regression</th>\n",
       "      <th>RF Regression</th>\n",
       "    </tr>\n",
       "  </thead>\n",
       "  <tbody>\n",
       "    <tr>\n",
       "      <th>Precision</th>\n",
       "      <td>0.563333</td>\n",
       "      <td>0.466667</td>\n",
       "      <td>0.613333</td>\n",
       "    </tr>\n",
       "    <tr>\n",
       "      <th>Accuracy</th>\n",
       "      <td>0.887122</td>\n",
       "      <td>0.862207</td>\n",
       "      <td>0.900881</td>\n",
       "    </tr>\n",
       "    <tr>\n",
       "      <th>Recall</th>\n",
       "      <td>0.563333</td>\n",
       "      <td>0.466667</td>\n",
       "      <td>0.613333</td>\n",
       "    </tr>\n",
       "    <tr>\n",
       "      <th>F1</th>\n",
       "      <td>0.563333</td>\n",
       "      <td>0.466667</td>\n",
       "      <td>0.613333</td>\n",
       "    </tr>\n",
       "  </tbody>\n",
       "</table>\n",
       "</div>"
      ],
      "text/plain": [
       "           Linear Regression  DT Regression  RF Regression\n",
       "Precision           0.563333       0.466667       0.613333\n",
       "Accuracy            0.887122       0.862207       0.900881\n",
       "Recall              0.563333       0.466667       0.613333\n",
       "F1                  0.563333       0.466667       0.613333"
      ]
     },
     "execution_count": 35,
     "metadata": {},
     "output_type": "execute_result"
    }
   ],
   "source": [
    "pd.DataFrame(regression_scores, index = ['Precision', 'Accuracy', 'Recall', 'F1'])"
   ]
  },
  {
   "cell_type": "markdown",
   "metadata": {},
   "source": [
    "## Classification"
   ]
  },
  {
   "cell_type": "code",
   "execution_count": 58,
   "metadata": {},
   "outputs": [],
   "source": [
    "def get_score(pred, actual, margin):\n",
    "    score = 0\n",
    "    for i in range(len(pred)):\n",
    "        if pred[i] == actual[i]:\n",
    "            score += 1\n",
    "        elif abs(pred[i] - actual[i]) <= margin:\n",
    "            score += 1\n",
    "    return score/len(pred)"
   ]
  },
  {
   "cell_type": "markdown",
   "metadata": {},
   "source": [
    "### Logistic Regression"
   ]
  },
  {
   "cell_type": "code",
   "execution_count": 59,
   "metadata": {},
   "outputs": [],
   "source": [
    "from sklearn.linear_model import LogisticRegression\n",
    "\n",
    "def logisticRegression(X_train, Y_train):\n",
    "    model = LogisticRegression(max_iter=2500, multi_class = 'ovr')\n",
    "    model.fit(X_train, Y_train)\n",
    "\n",
    "    return model"
   ]
  },
  {
   "cell_type": "code",
   "execution_count": 60,
   "metadata": {},
   "outputs": [],
   "source": [
    "from sklearn.metrics import precision_score\n",
    "\n",
    "def get_Logistic_Regression_Score():\n",
    "    X_train = df_train\n",
    "    Y_train = df_train['results_positionOrder']\n",
    "    model = logisticRegression(X_train.drop(columns = ['results_positionOrder']), Y_train)\n",
    "\n",
    "    score = 0\n",
    "    for i in df_test['raceId'].unique():\n",
    "        X_test = df_test[df_test['raceId'] == i]\n",
    "        Y_test = df_test[df_test['raceId'] == i]['results_positionOrder']\n",
    "\n",
    "        # prediction_df = pd.DataFrame(model.predict_proba(X_test), columns = ['results0', 'results1'])        \n",
    "        # prediction_df['actual_position'] = Y_test.reset_index(drop = True)\n",
    "        # prediction_df['actual_podium'] = prediction_df.actual_position.map(lambda x: 1 if x in [1,2,3] else 0)\n",
    "        # prediction_df.sort_values('results1', ascending = False, inplace = True)\n",
    "        # prediction_df.reset_index(inplace = True, drop = True)                \n",
    "        # prediction_df['predicted_podium'] = prediction_df.index.map(lambda x: 1 if x == 0 else 0)            \n",
    "        # # print(prediction_df)            \n",
    "        # precision += precision_score(prediction_df.actual_podium, prediction_df.predicted_podium)\n",
    "        # accuracy += accuracy_score(prediction_df.actual_podium, prediction_df.predicted_podium)\n",
    "        # recall += recall_score(prediction_df.actual_podium, prediction_df.predicted_podium)\n",
    "        # f1 += f1_score(prediction_df.actual_podium, prediction_df.predicted_podium)\n",
    "\n",
    "        prediction = model.predict(X_test.drop(columns = ['results_positionOrder']))\n",
    "        actual = Y_test.to_numpy()\n",
    "        score += get_score(prediction, actual, 3)\n",
    "\n",
    "    # return precision/len(df_test['raceId'].unique()), accuracy/len(df_test['raceId'].unique()), recall/len(df_test['raceId'].unique()), f1/len(df_test['raceId'].unique())\n",
    "    return score/len(df_test['raceId'].unique())"
   ]
  },
  {
   "cell_type": "markdown",
   "metadata": {},
   "source": [
    "### Naive Bayes Classifier"
   ]
  },
  {
   "cell_type": "code",
   "execution_count": 61,
   "metadata": {},
   "outputs": [],
   "source": [
    "from sklearn.naive_bayes import GaussianNB\n",
    "\n",
    "def gaussianNB(X_train, Y_train):\n",
    "    model = GaussianNB()\n",
    "    model.fit(X_train, Y_train)\n",
    "\n",
    "    return model"
   ]
  },
  {
   "cell_type": "code",
   "execution_count": 62,
   "metadata": {},
   "outputs": [],
   "source": [
    "from sklearn.metrics import precision_score\n",
    "\n",
    "def get_Gaussian_NB_Score():\n",
    "    # X_train = df_train.drop(columns = ['results_positionOrder'])\n",
    "    # Y_train = df_train['results_positionOrder'].to_frame()    \n",
    "    # Y_train['results_positionOrder'] = Y_train['results_positionOrder'].map(lambda x: 1 if x in [1,2,3] else 0)    \n",
    "    # model = gaussianNB(X_train, Y_train.values.ravel())\n",
    "\n",
    "    # precision = 0\n",
    "    # accuracy = 0\n",
    "    # recall = 0\n",
    "    # f1 = 0\n",
    "    # for i in df_test['raceId'].unique():\n",
    "    #     X_test = df_test[df_test['raceId'] == i].drop(columns = ['results_positionOrder'])\n",
    "    #     Y_test = df_test[df_test['raceId'] == i]['results_positionOrder']\n",
    "\n",
    "    #     prediction_df = pd.DataFrame(model.predict_proba(X_test), columns = ['results0', 'results1'])        \n",
    "    #     prediction_df['actual_position'] = Y_test.reset_index(drop = True)\n",
    "    #     prediction_df['actual_podium'] = prediction_df.actual_position.map(lambda x: 1 if x in [1,2,3] else 0)\n",
    "    #     prediction_df.sort_values('results1', ascending = False, inplace = True)\n",
    "    #     prediction_df.reset_index(inplace = True, drop = True)                \n",
    "    #     prediction_df['predicted_podium'] = prediction_df.index.map(lambda x: 1 if x == 0 else 0)            \n",
    "    #     # print(prediction_df)            \n",
    "    #     precision += precision_score(prediction_df.actual_podium, prediction_df.predicted_podium)\n",
    "    #     accuracy += accuracy_score(prediction_df.actual_podium, prediction_df.predicted_podium)\n",
    "    #     recall += recall_score(prediction_df.actual_podium, prediction_df.predicted_podium)\n",
    "    #     f1 += f1_score(prediction_df.actual_podium, prediction_df.predicted_podium)\n",
    "\n",
    "    # return precision/len(df_test['raceId'].unique()), accuracy/len(df_test['raceId'].unique()), recall/len(df_test['raceId'].unique()), f1/len(df_test['raceId'].unique())\n",
    "    X_train = df_train\n",
    "    Y_train = df_train['results_positionOrder']\n",
    "    model = gaussianNB(X_train.drop(columns = ['results_positionOrder']), Y_train)\n",
    "\n",
    "    score = 0\n",
    "    for i in df_test['raceId'].unique():\n",
    "        X_test = df_test[df_test['raceId'] == i]\n",
    "        Y_test = df_test[df_test['raceId'] == i]['results_positionOrder']\n",
    "\n",
    "        # prediction_df = pd.DataFrame(model.predict_proba(X_test), columns = ['results0', 'results1'])        \n",
    "        # prediction_df['actual_position'] = Y_test.reset_index(drop = True)\n",
    "        # prediction_df['actual_podium'] = prediction_df.actual_position.map(lambda x: 1 if x in [1,2,3] else 0)\n",
    "        # prediction_df.sort_values('results1', ascending = False, inplace = True)\n",
    "        # prediction_df.reset_index(inplace = True, drop = True)                \n",
    "        # prediction_df['predicted_podium'] = prediction_df.index.map(lambda x: 1 if x == 0 else 0)            \n",
    "        # # print(prediction_df)            \n",
    "        # precision += precision_score(prediction_df.actual_podium, prediction_df.predicted_podium)\n",
    "        # accuracy += accuracy_score(prediction_df.actual_podium, prediction_df.predicted_podium)\n",
    "        # recall += recall_score(prediction_df.actual_podium, prediction_df.predicted_podium)\n",
    "        # f1 += f1_score(prediction_df.actual_podium, prediction_df.predicted_podium)\n",
    "\n",
    "        prediction = model.predict(X_test.drop(columns = ['results_positionOrder']))\n",
    "        actual = Y_test.to_numpy()\n",
    "        score += get_score(prediction, actual, 3)\n",
    "\n",
    "    # return precision/len(df_test['raceId'].unique()), accuracy/len(df_test['raceId'].unique()), recall/len(df_test['raceId'].unique()), f1/len(df_test['raceId'].unique())\n",
    "    return score/len(df_test['raceId'].unique())"
   ]
  },
  {
   "cell_type": "markdown",
   "metadata": {},
   "source": [
    "### Decision Tree Classifier"
   ]
  },
  {
   "cell_type": "code",
   "execution_count": 63,
   "metadata": {},
   "outputs": [],
   "source": [
    "from sklearn.tree import DecisionTreeClassifier\n",
    "\n",
    "def DT_classifier(X_train, Y_train):\n",
    "    model = DecisionTreeClassifier()\n",
    "    model.fit(X_train, Y_train)\n",
    "\n",
    "    return model"
   ]
  },
  {
   "cell_type": "code",
   "execution_count": 64,
   "metadata": {},
   "outputs": [],
   "source": [
    "from sklearn.metrics import precision_score\n",
    "\n",
    "def get_DT_classifier_Score():\n",
    "    # X_train = df_train.drop(columns = ['results_positionOrder'])\n",
    "    # Y_train = df_train['results_positionOrder'].to_frame()    \n",
    "    # Y_train['results_positionOrder'] = Y_train['results_positionOrder'].map(lambda x: 1 if x in [1,2,3] else 0)    \n",
    "    # model = DT_classifier(X_train, Y_train.values.ravel())\n",
    "\n",
    "    # precision = 0\n",
    "    # accuracy = 0\n",
    "    # recall = 0\n",
    "    # f1 = 0\n",
    "    # for i in df_test['raceId'].unique():\n",
    "    #     X_test = df_test[df_test['raceId'] == i].drop(columns = ['results_positionOrder'])\n",
    "    #     Y_test = df_test[df_test['raceId'] == i]['results_positionOrder']\n",
    "\n",
    "    #     prediction_df = pd.DataFrame(model.predict_proba(X_test), columns = ['results0', 'results1'])        \n",
    "    #     prediction_df['actual_position'] = Y_test.reset_index(drop = True)\n",
    "    #     prediction_df['actual_podium'] = prediction_df.actual_position.map(lambda x: 1 if x in [1,2,3] else 0)\n",
    "    #     prediction_df.sort_values('results1', ascending = False, inplace = True)\n",
    "    #     prediction_df.reset_index(inplace = True, drop = True)                \n",
    "    #     prediction_df['predicted_podium'] = prediction_df.index.map(lambda x: 1 if x == 0 else 0)            \n",
    "    #     # print(prediction_df)            \n",
    "    #     precision += precision_score(prediction_df.actual_podium, prediction_df.predicted_podium)\n",
    "    #     accuracy += accuracy_score(prediction_df.actual_podium, prediction_df.predicted_podium)\n",
    "    #     recall += recall_score(prediction_df.actual_podium, prediction_df.predicted_podium)\n",
    "    #     f1 += f1_score(prediction_df.actual_podium, prediction_df.predicted_podium)\n",
    "\n",
    "    # return precision/len(df_test['raceId'].unique()), accuracy/len(df_test['raceId'].unique()), recall/len(df_test['raceId'].unique()), f1/len(df_test['raceId'].unique())\n",
    "    X_train = df_train\n",
    "    Y_train = df_train['results_positionOrder']\n",
    "    model = DT_classifier(X_train.drop(columns = ['results_positionOrder']), Y_train)\n",
    "\n",
    "    score = 0\n",
    "    for i in df_test['raceId'].unique():\n",
    "        X_test = df_test[df_test['raceId'] == i]\n",
    "        Y_test = df_test[df_test['raceId'] == i]['results_positionOrder']\n",
    "\n",
    "        # prediction_df = pd.DataFrame(model.predict_proba(X_test), columns = ['results0', 'results1'])        \n",
    "        # prediction_df['actual_position'] = Y_test.reset_index(drop = True)\n",
    "        # prediction_df['actual_podium'] = prediction_df.actual_position.map(lambda x: 1 if x in [1,2,3] else 0)\n",
    "        # prediction_df.sort_values('results1', ascending = False, inplace = True)\n",
    "        # prediction_df.reset_index(inplace = True, drop = True)                \n",
    "        # prediction_df['predicted_podium'] = prediction_df.index.map(lambda x: 1 if x == 0 else 0)            \n",
    "        # # print(prediction_df)            \n",
    "        # precision += precision_score(prediction_df.actual_podium, prediction_df.predicted_podium)\n",
    "        # accuracy += accuracy_score(prediction_df.actual_podium, prediction_df.predicted_podium)\n",
    "        # recall += recall_score(prediction_df.actual_podium, prediction_df.predicted_podium)\n",
    "        # f1 += f1_score(prediction_df.actual_podium, prediction_df.predicted_podium)\n",
    "\n",
    "        prediction = model.predict(X_test.drop(columns = ['results_positionOrder']))\n",
    "        actual = Y_test.to_numpy()\n",
    "        score += get_score(prediction, actual, 3)\n",
    "\n",
    "    # return precision/len(df_test['raceId'].unique()), accuracy/len(df_test['raceId'].unique()), recall/len(df_test['raceId'].unique()), f1/len(df_test['raceId'].unique())\n",
    "    return score/len(df_test['raceId'].unique())"
   ]
  },
  {
   "cell_type": "markdown",
   "metadata": {},
   "source": [
    "### Random Forest Classifier"
   ]
  },
  {
   "cell_type": "code",
   "execution_count": 65,
   "metadata": {},
   "outputs": [],
   "source": [
    "from sklearn.ensemble import RandomForestClassifier\n",
    "\n",
    "def RF_classifier(X_train, Y_train):\n",
    "    model = RandomForestClassifier()\n",
    "    model.fit(X_train, Y_train)\n",
    "\n",
    "    return model"
   ]
  },
  {
   "cell_type": "code",
   "execution_count": 66,
   "metadata": {},
   "outputs": [],
   "source": [
    "from sklearn.metrics import precision_score\n",
    "\n",
    "def get_RF_classifier_Score():\n",
    "    # X_train = df_train.drop(columns = ['results_positionOrder'])\n",
    "    # Y_train = df_train['results_positionOrder'].to_frame()    \n",
    "    # Y_train['results_positionOrder'] = Y_train['results_positionOrder'].map(lambda x: 1 if x in [1,2,3] else 0)    \n",
    "    # model = RF_classifier(X_train, Y_train.values.ravel())\n",
    "\n",
    "    # precision = 0\n",
    "    # accuracy = 0\n",
    "    # recall = 0\n",
    "    # f1 = 0\n",
    "    # for i in df_test['raceId'].unique():\n",
    "    #     X_test = df_test[df_test['raceId'] == i].drop(columns = ['results_positionOrder'])\n",
    "    #     Y_test = df_test[df_test['raceId'] == i]['results_positionOrder']\n",
    "\n",
    "    #     prediction_df = pd.DataFrame(model.predict_proba(X_test), columns = ['results0', 'results1'])        \n",
    "    #     prediction_df['actual_position'] = Y_test.reset_index(drop = True)\n",
    "    #     prediction_df['actual_podium'] = prediction_df.actual_position.map(lambda x: 1 if x in [1,2,3] else 0)\n",
    "    #     prediction_df.sort_values('results1', ascending = False, inplace = True)\n",
    "    #     prediction_df.reset_index(inplace = True, drop = True)                \n",
    "    #     prediction_df['predicted_podium'] = prediction_df.index.map(lambda x: 1 if x == 0 else 0)            \n",
    "    #     # print(prediction_df)            \n",
    "    #     precision += precision_score(prediction_df.actual_podium, prediction_df.predicted_podium)\n",
    "    #     accuracy += accuracy_score(prediction_df.actual_podium, prediction_df.predicted_podium)\n",
    "    #     recall += recall_score(prediction_df.actual_podium, prediction_df.predicted_podium)\n",
    "    #     f1 += f1_score(prediction_df.actual_podium, prediction_df.predicted_podium)\n",
    "\n",
    "    # return precision/len(df_test['raceId'].unique()), accuracy/len(df_test['raceId'].unique()), recall/len(df_test['raceId'].unique()), f1/len(df_test['raceId'].unique())\n",
    "    X_train = df_train\n",
    "    Y_train = df_train['results_positionOrder']\n",
    "    model = RF_classifier(X_train.drop(columns = ['results_positionOrder']), Y_train)\n",
    "\n",
    "    score = 0\n",
    "    for i in df_test['raceId'].unique():\n",
    "        X_test = df_test[df_test['raceId'] == i]\n",
    "        Y_test = df_test[df_test['raceId'] == i]['results_positionOrder']\n",
    "\n",
    "        # prediction_df = pd.DataFrame(model.predict_proba(X_test), columns = ['results0', 'results1'])        \n",
    "        # prediction_df['actual_position'] = Y_test.reset_index(drop = True)\n",
    "        # prediction_df['actual_podium'] = prediction_df.actual_position.map(lambda x: 1 if x in [1,2,3] else 0)\n",
    "        # prediction_df.sort_values('results1', ascending = False, inplace = True)\n",
    "        # prediction_df.reset_index(inplace = True, drop = True)                \n",
    "        # prediction_df['predicted_podium'] = prediction_df.index.map(lambda x: 1 if x == 0 else 0)            \n",
    "        # # print(prediction_df)            \n",
    "        # precision += precision_score(prediction_df.actual_podium, prediction_df.predicted_podium)\n",
    "        # accuracy += accuracy_score(prediction_df.actual_podium, prediction_df.predicted_podium)\n",
    "        # recall += recall_score(prediction_df.actual_podium, prediction_df.predicted_podium)\n",
    "        # f1 += f1_score(prediction_df.actual_podium, prediction_df.predicted_podium)\n",
    "\n",
    "        prediction = model.predict(X_test.drop(columns = ['results_positionOrder']))\n",
    "        actual = Y_test.to_numpy()\n",
    "        score += get_score(prediction, actual, 3)\n",
    "\n",
    "    # return precision/len(df_test['raceId'].unique()), accuracy/len(df_test['raceId'].unique()), recall/len(df_test['raceId'].unique()), f1/len(df_test['raceId'].unique())\n",
    "    return score/len(df_test['raceId'].unique())"
   ]
  },
  {
   "cell_type": "markdown",
   "metadata": {},
   "source": [
    "## Compiling all classifications"
   ]
  },
  {
   "cell_type": "code",
   "execution_count": 67,
   "metadata": {},
   "outputs": [],
   "source": [
    "classification_scores = {}\n",
    "classification_scores['Logistic Regression'] = get_Logistic_Regression_Score()\n",
    "classification_scores['NB classification'] = get_Gaussian_NB_Score()\n",
    "classification_scores['DT classification'] = get_DT_classifier_Score()\n",
    "classification_scores['RF classification'] = get_RF_classifier_Score()"
   ]
  },
  {
   "cell_type": "code",
   "execution_count": 68,
   "metadata": {},
   "outputs": [
    {
     "data": {
      "text/html": [
       "<div>\n",
       "<style scoped>\n",
       "    .dataframe tbody tr th:only-of-type {\n",
       "        vertical-align: middle;\n",
       "    }\n",
       "\n",
       "    .dataframe tbody tr th {\n",
       "        vertical-align: top;\n",
       "    }\n",
       "\n",
       "    .dataframe thead th {\n",
       "        text-align: right;\n",
       "    }\n",
       "</style>\n",
       "<table border=\"1\" class=\"dataframe\">\n",
       "  <thead>\n",
       "    <tr style=\"text-align: right;\">\n",
       "      <th></th>\n",
       "      <th>Logistic Regression</th>\n",
       "      <th>NB classification</th>\n",
       "      <th>DT classification</th>\n",
       "      <th>RF classification</th>\n",
       "    </tr>\n",
       "  </thead>\n",
       "  <tbody>\n",
       "    <tr>\n",
       "      <th>score</th>\n",
       "      <td>0.651798</td>\n",
       "      <td>0.646984</td>\n",
       "      <td>0.674035</td>\n",
       "      <td>0.693992</td>\n",
       "    </tr>\n",
       "  </tbody>\n",
       "</table>\n",
       "</div>"
      ],
      "text/plain": [
       "       Logistic Regression  NB classification  DT classification  \\\n",
       "score             0.651798           0.646984           0.674035   \n",
       "\n",
       "       RF classification  \n",
       "score           0.693992  "
      ]
     },
     "execution_count": 68,
     "metadata": {},
     "output_type": "execute_result"
    }
   ],
   "source": [
    "pd.DataFrame(classification_scores, index = ['score'])"
   ]
  },
  {
   "cell_type": "code",
   "execution_count": null,
   "metadata": {},
   "outputs": [],
   "source": []
  }
 ],
 "metadata": {
  "kernelspec": {
   "display_name": "Python 3.8.7 64-bit",
   "language": "python",
   "name": "python3"
  },
  "language_info": {
   "codemirror_mode": {
    "name": "ipython",
    "version": 3
   },
   "file_extension": ".py",
   "mimetype": "text/x-python",
   "name": "python",
   "nbconvert_exporter": "python",
   "pygments_lexer": "ipython3",
   "version": "3.8.7"
  },
  "orig_nbformat": 4,
  "vscode": {
   "interpreter": {
    "hash": "affa1e01f2d63dc644a5d836267b8cc21782c0351696aa19b5d442d7e4c7d376"
   }
  }
 },
 "nbformat": 4,
 "nbformat_minor": 2
}
